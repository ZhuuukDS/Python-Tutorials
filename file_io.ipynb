{
 "cells": [
  {
   "cell_type": "markdown",
   "id": "47ed267e-4067-4b16-8612-7a8b24cddac8",
   "metadata": {
    "tags": []
   },
   "source": [
    "# **File input/output**\n",
    "______________________________"
   ]
  },
  {
   "cell_type": "markdown",
   "id": "46c607a1-03c0-4c23-b3d6-a87881bcda08",
   "metadata": {},
   "source": [
    "## Contents:\n",
    "- [Open File](#Open-file)\n",
    "- [Close file](#Close-file)\n",
    "- [Read file](#Read-file)\n",
    "- [Position in the file](#Position-in-the-file)\n",
    "- [Context Manager](#Context-manager)\n",
    "- [Write in the file](#Write-in-the-file)\n",
    "- [Useful functions](#Useful-functions)\n",
    "- [Examples](#Examples)"
   ]
  },
  {
   "cell_type": "markdown",
   "id": "ef99dd16-e3a4-48a1-847d-7dbcb4ea4b5c",
   "metadata": {
    "tags": []
   },
   "source": [
    "## **`Open file`**"
   ]
  },
  {
   "cell_type": "raw",
   "id": "bf39842b-c8dd-47fd-aeda-115f65b42a10",
   "metadata": {},
   "source": [
    "<variable> = open(<'file_name'>, <'access_mode'>)"
   ]
  },
  {
   "cell_type": "markdown",
   "id": "0b057c15-08ac-4965-ae2f-282b830b9692",
   "metadata": {},
   "source": [
    "**`<variable>`** here is a `file object` or `file descriptor` and in fact is a link to a file and it doesn't keep anything from the file content"
   ]
  },
  {
   "cell_type": "markdown",
   "id": "58c48e6c-83ce-440b-9e78-1188fc669dfe",
   "metadata": {
    "tags": []
   },
   "source": [
    "Possible **`<access_modes>`** are:"
   ]
  },
  {
   "cell_type": "markdown",
   "id": "51400925-eb94-4b18-aa24-9a04fa30be31",
   "metadata": {},
   "source": [
    "| literal | mode | description |\n",
    "| --- | --- | --- |\n",
    "| `'x'` | create | create a new file (error if file exists) |\n",
    "| `'r'` | read | open for reading only (by default) |\n",
    "| `'w'` | write | open for wrinting, new records replace the old ones. If file not exists, a new one creates |\n",
    "| `'a'` | append | open for update. New records added in the end of the file |\n",
    "| `'t'` | text | open in a text mode (by default) |\n",
    "| `'b'` | binary | working with binary files |\n",
    "| `'r+'` | read + write | open for reading and writing |\n",
    "| | | modes can be joined, default mode is `'rt'` |"
   ]
  },
  {
   "cell_type": "markdown",
   "id": "c17a7eff-862a-4797-8d91-97342453257a",
   "metadata": {
    "tags": []
   },
   "source": [
    "**`<file_name>`** should contain also a path to the file in case it is located outside the working directory/folder"
   ]
  },
  {
   "cell_type": "code",
   "execution_count": 5,
   "id": "cc731706-18ce-4208-a0cc-9c596d509499",
   "metadata": {},
   "outputs": [],
   "source": [
    "# this should create a file test.txt in C:\\Users\\temp\\ (Windows)\n",
    "#test_file = open('C:\\\\Users\\\\temp\\\\test.txt', 'w')\n",
    "\n",
    "#or:\n",
    "\n",
    "#test_file = open(r'C:\\Users\\temp\\test.txt', 'w')"
   ]
  },
  {
   "cell_type": "markdown",
   "id": "f074eed9-cb92-40d7-b59f-1c90b49a06c0",
   "metadata": {},
   "source": [
    "While working with file paths (Windows) it is convinient to use `raw` strings:"
   ]
  },
  {
   "cell_type": "code",
   "execution_count": 6,
   "id": "fd84c28e-079c-449d-a7a0-530f0f7e8b24",
   "metadata": {},
   "outputs": [
    {
     "name": "stdout",
     "output_type": "stream",
     "text": [
      "C:\n",
      "ew\test.txt\n",
      "C:\\new\\test.txt\n"
     ]
    }
   ],
   "source": [
    "# normal string\n",
    "path1 = 'C:\\new\\test.txt'\n",
    "print(path1)\n",
    "\n",
    "#raw string\n",
    "path2 = r'C:\\new\\test.txt'\n",
    "print(path2)"
   ]
  },
  {
   "cell_type": "markdown",
   "id": "b7caef56-a4e4-4328-8b10-7ff048aa8075",
   "metadata": {
    "tags": []
   },
   "source": [
    "#### **`Encoding`**"
   ]
  },
  {
   "cell_type": "markdown",
   "id": "9278292d-0ce8-4c2d-8b33-c1f0b8321377",
   "metadata": {},
   "source": [
    "We can indicate the file encoding using `encoding` parameter"
   ]
  },
  {
   "cell_type": "code",
   "execution_count": 7,
   "id": "6c69d95b-3385-45a4-8045-7d49703fd8e6",
   "metadata": {},
   "outputs": [
    {
     "data": {
      "text/plain": [
       "'utf-8'"
      ]
     },
     "execution_count": 7,
     "metadata": {},
     "output_type": "execute_result"
    }
   ],
   "source": [
    "file1 = open('test_files/test.txt', 'r', encoding='utf-8')\n",
    "\n",
    "file1.encoding"
   ]
  },
  {
   "cell_type": "markdown",
   "id": "726da58c-b390-4de5-bb2e-50608050a77d",
   "metadata": {
    "tags": []
   },
   "source": [
    "## **`Close file`**"
   ]
  },
  {
   "cell_type": "markdown",
   "id": "e6a4a669-6e54-4371-822c-d5dbc6069f43",
   "metadata": {},
   "source": [
    "After working with file it should be closed"
   ]
  },
  {
   "cell_type": "code",
   "execution_count": 8,
   "id": "30bd9a3e-6593-4543-b802-4f45aec5953d",
   "metadata": {
    "tags": []
   },
   "outputs": [],
   "source": [
    "file1.close() # closing previously opened file 'test.txt'"
   ]
  },
  {
   "cell_type": "markdown",
   "id": "da3c8451-8b0c-4a03-8b15-a27c667243e1",
   "metadata": {},
   "source": [
    "To check if file is closed or not, use atribute `closed`"
   ]
  },
  {
   "cell_type": "code",
   "execution_count": 9,
   "id": "fc0693fd-de02-427d-a50e-9d59348f6bcd",
   "metadata": {},
   "outputs": [
    {
     "data": {
      "text/plain": [
       "True"
      ]
     },
     "execution_count": 9,
     "metadata": {},
     "output_type": "execute_result"
    }
   ],
   "source": [
    "file1.closed"
   ]
  },
  {
   "cell_type": "markdown",
   "id": "91e24673-4052-4889-a855-11823ca8f1c3",
   "metadata": {
    "tags": []
   },
   "source": [
    "## **`Read file`**"
   ]
  },
  {
   "cell_type": "markdown",
   "id": "833a334e-20a0-490a-86c2-636bac4599a4",
   "metadata": {},
   "source": [
    "#### To read from the file we can use the following methods:\n",
    "* `read()`\n",
    "* `readline()`\n",
    "* `readlines()`"
   ]
  },
  {
   "cell_type": "markdown",
   "id": "a6b55b4c-2cd5-4d40-bd45-f3ab644b8d91",
   "metadata": {},
   "source": [
    "#### **`read()`**"
   ]
  },
  {
   "cell_type": "markdown",
   "id": "1f4c5fa6-ce46-40da-abad-13dc1cc7747a",
   "metadata": {},
   "source": [
    "Method `read()` reads everything from the file at once and returns a `string`, that can contain all special symbols like `'\\n'`, `'\\t'`, etc"
   ]
  },
  {
   "cell_type": "code",
   "execution_count": 10,
   "id": "2a92026a-cecc-49a6-ad5a-3e45b1e800a6",
   "metadata": {},
   "outputs": [],
   "source": [
    "file = open('test_files/test.txt', 'r')\n",
    "\n",
    "content = file.read() # read all and save all into 'content'\n",
    "\n",
    "#limited_content = file.read(6) # read 6 symbols\n",
    "\n",
    "file.close()"
   ]
  },
  {
   "cell_type": "code",
   "execution_count": 11,
   "id": "109de7da-1ec5-4701-abc5-4790914577ea",
   "metadata": {},
   "outputs": [
    {
     "data": {
      "text/plain": [
       "'Python\\nJava\\nJavascript\\nC#\\nC\\nC++\\nPHP\\nR\\nObjective-C'"
      ]
     },
     "execution_count": 11,
     "metadata": {},
     "output_type": "execute_result"
    }
   ],
   "source": [
    "content"
   ]
  },
  {
   "cell_type": "markdown",
   "id": "9ee3d119-4a11-4eca-8fc8-5920af9e58a4",
   "metadata": {},
   "source": [
    "#### **`readline()`**"
   ]
  },
  {
   "cell_type": "markdown",
   "id": "05fc6610-1319-4c7a-9b13-0fab99bdfb28",
   "metadata": {},
   "source": [
    "Method `readline()` reads 1 line from the file (up to '\\n') and returns this line plus '\\n'. If no lines in the file method `readline()` returns empty line"
   ]
  },
  {
   "cell_type": "code",
   "execution_count": 12,
   "id": "89bcc57d-39e4-47cc-a7fa-123074358522",
   "metadata": {},
   "outputs": [],
   "source": [
    "file = open('test_files/test.txt', 'r')\n",
    "\n",
    "language = file.readline()\n",
    "\n",
    "file.close()"
   ]
  },
  {
   "cell_type": "code",
   "execution_count": 13,
   "id": "81bf63bb-ab06-4f92-a5b9-81477e3849b7",
   "metadata": {},
   "outputs": [
    {
     "data": {
      "text/plain": [
       "('Python\\n', 'Python')"
      ]
     },
     "execution_count": 13,
     "metadata": {},
     "output_type": "execute_result"
    }
   ],
   "source": [
    "language, language.strip()"
   ]
  },
  {
   "cell_type": "code",
   "execution_count": 14,
   "id": "d6dbb7fd-8af3-4520-b6ed-1b1f3c86fd02",
   "metadata": {},
   "outputs": [],
   "source": [
    "# read several lines:\n",
    "file = open('test_files/test.txt', 'r') # open test.txt with 'r'-argument, meaning 'read'\n",
    "\n",
    "s1 = file.readline() # read the first line in the file\n",
    "s2 = file.readline() # read the second line in the file\n",
    "\n",
    "file.close() # close the file (obligatory)"
   ]
  },
  {
   "cell_type": "code",
   "execution_count": 15,
   "id": "9838b089-467c-4601-8952-94a60d2e6e5a",
   "metadata": {},
   "outputs": [
    {
     "data": {
      "text/plain": [
       "('Python\\n', 'Java')"
      ]
     },
     "execution_count": 15,
     "metadata": {},
     "output_type": "execute_result"
    }
   ],
   "source": [
    "s1, s2.rstrip()"
   ]
  },
  {
   "cell_type": "code",
   "execution_count": 16,
   "id": "067428b1-5ee3-4ff4-a61a-fe9bac61c0d0",
   "metadata": {},
   "outputs": [
    {
     "name": "stdout",
     "output_type": "stream",
     "text": [
      "Python\n",
      "Java\n",
      "Javascript\n",
      "C#\n",
      "C\n",
      "C++\n",
      "PHP\n",
      "R\n",
      "Objective-C\n"
     ]
    }
   ],
   "source": [
    "# read all the lines:\n",
    "file = open('test_files/test.txt')\n",
    "\n",
    "for line in file:\n",
    "    print(line.strip())\n",
    "    \n",
    "file.close()    "
   ]
  },
  {
   "cell_type": "markdown",
   "id": "1f39b445-7431-4bad-a425-da4bec95761b",
   "metadata": {},
   "source": [
    "#### **`readlines()`**"
   ]
  },
  {
   "cell_type": "markdown",
   "id": "f1e63bbf-8008-4199-bdd0-01a389ddd6de",
   "metadata": {},
   "source": [
    "Method `readlines()` reads all lines from the file and returns a `list` of all lines with '\\n' at the end of each line"
   ]
  },
  {
   "cell_type": "code",
   "execution_count": 17,
   "id": "8a305637-f71f-40f3-824a-a6d4531e2ec7",
   "metadata": {},
   "outputs": [],
   "source": [
    "file = open('test_files/test.txt', 'r')\n",
    "\n",
    "langs = file.readlines() # with all special symbols\n",
    "\n",
    "# clean version:\n",
    "langs1 = [line.strip() for line in file.readlines()]\n",
    "# or\n",
    "langs2 = list(map(str.strip, file.readlines()))\n",
    "# or\n",
    "langs3 = list(map(lambda line: line.strip(), file.readlines()))\n",
    "\n",
    "file.close()"
   ]
  },
  {
   "cell_type": "code",
   "execution_count": 18,
   "id": "e908153c-107c-45e6-bbcd-355688b191eb",
   "metadata": {},
   "outputs": [
    {
     "data": {
      "text/plain": [
       "['Python\\n',\n",
       " 'Java\\n',\n",
       " 'Javascript\\n',\n",
       " 'C#\\n',\n",
       " 'C\\n',\n",
       " 'C++\\n',\n",
       " 'PHP\\n',\n",
       " 'R\\n',\n",
       " 'Objective-C']"
      ]
     },
     "execution_count": 18,
     "metadata": {},
     "output_type": "execute_result"
    }
   ],
   "source": [
    "langs"
   ]
  },
  {
   "cell_type": "markdown",
   "id": "8a8d2afe-0358-48b0-b106-4a06b078d23b",
   "metadata": {
    "tags": []
   },
   "source": [
    "## **`Position in the file`**"
   ]
  },
  {
   "cell_type": "markdown",
   "id": "17fc9bd7-f9fd-4bb0-9b87-dc743e9df458",
   "metadata": {},
   "source": [
    "When we read text from a file using the `read()` or `readlines()` methods, the current position is moved to the end of the file. When using the `readline()` method, the current position is moved to the next line in the file."
   ]
  },
  {
   "cell_type": "markdown",
   "id": "b9dabbf7-f0cd-40d6-8b58-273e7002e52d",
   "metadata": {},
   "source": [
    "After the reading is completed, we can no longer read a single character from the file. All subsequent calls to `read()` or `readline()` will result in an empty line being read."
   ]
  },
  {
   "cell_type": "markdown",
   "id": "3958e439-3f32-424c-84c4-87300a9e07c8",
   "metadata": {},
   "source": [
    "To re-read data from a file, we can:\n",
    "* reopen the file, then the position will again go to the beginning\n",
    "* move the position using the **`seek()`** file method."
   ]
  },
  {
   "cell_type": "markdown",
   "id": "3e138839-8f54-462e-a3a1-afe3f596972d",
   "metadata": {},
   "source": [
    "#### **`Method seek()`**"
   ]
  },
  {
   "cell_type": "markdown",
   "id": "9695308b-9c12-49c1-8916-19e37082d69b",
   "metadata": {},
   "source": [
    "The `seek()` method sets the position in bytes from the beginning of the file"
   ]
  },
  {
   "cell_type": "code",
   "execution_count": 19,
   "id": "7c2dabd9-12ca-491b-8d60-5d37a66e92df",
   "metadata": {},
   "outputs": [
    {
     "name": "stdout",
     "output_type": "stream",
     "text": [
      "Kate\n",
      "Kate\n",
      "\n"
     ]
    }
   ],
   "source": [
    "file = open('test_files/file.txt', 'r', encoding='utf-8')\n",
    "line1 = file.readline().strip()\n",
    "file.seek(0)               # set the position to the beginning\n",
    "line2 = file.readline()\n",
    "\n",
    "print(line1, line2, sep='\\n')\n",
    "\n",
    "file.close()"
   ]
  },
  {
   "cell_type": "markdown",
   "id": "e947fd95-4271-4343-864a-01ef7c959746",
   "metadata": {},
   "source": [
    "#### **`Method tell()`**"
   ]
  },
  {
   "cell_type": "markdown",
   "id": "d608d82d-72ca-4945-a73a-8b000406a84c",
   "metadata": {},
   "source": [
    "The `tell()` returns the position in bytes"
   ]
  },
  {
   "cell_type": "code",
   "execution_count": 20,
   "id": "e8859eb3-0e10-48b5-a807-0cfcbc7de026",
   "metadata": {},
   "outputs": [
    {
     "name": "stdout",
     "output_type": "stream",
     "text": [
      "0\n",
      "Kate\n",
      "5\n"
     ]
    }
   ],
   "source": [
    "file = open('test_files/file.txt', 'r', encoding='utf-8')\n",
    "\n",
    "print(file.tell())\n",
    "print(file.readline().strip())\n",
    "print(file.tell())\n",
    "\n",
    "file.close()"
   ]
  },
  {
   "cell_type": "markdown",
   "id": "00d8a52f-78fc-4c4e-84f3-0cc7c3b1ab01",
   "metadata": {
    "tags": []
   },
   "source": [
    "## **`Context manager`**"
   ]
  },
  {
   "cell_type": "markdown",
   "id": "5e08e25e-a456-40c4-be53-13e93f7991a7",
   "metadata": {},
   "source": [
    "Context managers allow to allocate and release resources precisely when you want to. The most widely used example of context managers is the `with` statement."
   ]
  },
  {
   "cell_type": "code",
   "execution_count": 21,
   "id": "4119c8f2-80d4-4a53-beb9-ac3050c599e8",
   "metadata": {},
   "outputs": [],
   "source": [
    "# reading file using 'with'\n",
    "with open('test_files/file.txt') as input_file:\n",
    "    s3 = input_file.readline()\n",
    "    s4 = input_file.readline()\n",
    "# no need to close the file in this case"
   ]
  },
  {
   "cell_type": "code",
   "execution_count": 22,
   "id": "00541e2f-805c-4b5a-aeb1-bb343c5495ba",
   "metadata": {},
   "outputs": [
    {
     "name": "stdout",
     "output_type": "stream",
     "text": [
      "Kate\n",
      "Maria\n",
      "Ann\n"
     ]
    }
   ],
   "source": [
    "# reading file by iterating through its lines\n",
    "with open('test_files/file.txt') as inf:\n",
    "    for line in inf:\n",
    "        line = line.strip()\n",
    "        print(line)"
   ]
  },
  {
   "cell_type": "markdown",
   "id": "695a0620-8de3-4df4-ade2-0be230bcf66e",
   "metadata": {},
   "source": [
    "With the context manager, we can work with multiple files at once:"
   ]
  },
  {
   "cell_type": "code",
   "execution_count": 23,
   "id": "d4acdd7b-ca05-4c4c-9070-80260991ed69",
   "metadata": {},
   "outputs": [
    {
     "name": "stdout",
     "output_type": "stream",
     "text": [
      "Kate\n",
      "Maria\n",
      "Ann\n",
      "\n"
     ]
    }
   ],
   "source": [
    "with open('test_files/file.txt', 'r') as input_file, open('test_files/output.txt', 'w') as output_file:\n",
    "    print(input_file.read())"
   ]
  },
  {
   "cell_type": "markdown",
   "id": "18704e7c-40a0-484b-a3b0-29b6b5f2d5b3",
   "metadata": {
    "tags": []
   },
   "source": [
    "## **`Write in the file`**"
   ]
  },
  {
   "cell_type": "markdown",
   "id": "27f2b3c0-03bf-4ae0-8a9f-e9d9d7ec2004",
   "metadata": {},
   "source": [
    "There are 3 ways to write in the file:\n",
    "* method `write()` – writes a line (string) into the file\n",
    "* method `writelines()` – writes a list of strings into the file\n",
    "* function `print('', file='output_file')`\n"
   ]
  },
  {
   "cell_type": "markdown",
   "id": "88170a34-7ed9-4cba-b41c-435daf45c505",
   "metadata": {},
   "source": [
    "#### **`Method write()`**"
   ]
  },
  {
   "cell_type": "markdown",
   "id": "3ce14b56-f632-4bed-8d08-3718fc45877d",
   "metadata": {},
   "source": [
    "If the file is opened in `'w'` mode, then its contents are fully overwritten by the new lines. <br>\n",
    "If the file is opened in `'a'` mode, then new lines append into the end of the file <br>\n",
    "If the file is opened in `'r+'` mode, then its contents are partially overwritten"
   ]
  },
  {
   "cell_type": "code",
   "execution_count": 24,
   "id": "49b3ab27-2729-4027-b796-2e750924acbb",
   "metadata": {},
   "outputs": [],
   "source": [
    "# 1st option\n",
    "ouf = open('test_files/file.txt', 'w') # open file.txt for writing ('w')\n",
    "ouf.write('this text is written from the python program\\n')\n",
    "ouf.write(str(25)) # if we want to write a number, we need to make it string\n",
    "ouf.close()"
   ]
  },
  {
   "cell_type": "code",
   "execution_count": 25,
   "id": "afedec9b-5838-4df7-9b01-cf9b576a640f",
   "metadata": {},
   "outputs": [],
   "source": [
    "# 2nd option\n",
    "with open('test_files/file.txt', 'a') as ouf:\n",
    "    ouf.write('another text\\n')\n",
    "    ouf.write(str(34.32))\n",
    "# no need to close the file here"
   ]
  },
  {
   "cell_type": "code",
   "execution_count": 26,
   "id": "14ed43cd-f386-45c2-bd82-28b0d6abe310",
   "metadata": {},
   "outputs": [],
   "source": [
    "with open('test_files/file.txt', 'r+') as ouf: # if there are 3 lines in the file, \n",
    "    ouf.write('another text\\n')     # then, if we write a new one,\n",
    "    ouf.write(str(34.32))           # and then the second one,\n",
    "# then finally we will have 3 lines in the file - first two are newly added and the last old one"
   ]
  },
  {
   "cell_type": "markdown",
   "id": "e78bc7b1-03c7-47f4-abb1-d25add9643f1",
   "metadata": {},
   "source": [
    "#### **`Method writelines()`**"
   ]
  },
  {
   "cell_type": "code",
   "execution_count": 27,
   "id": "1f4e40d2-6b40-4afb-8c2a-7e4b5f4a4704",
   "metadata": {},
   "outputs": [],
   "source": [
    "names = ['Tom\\n', 'John\\n', 'Mark\\n'] # a list of strings each with '\\n' at the end\n",
    "\n",
    "with open('test_files/file.txt', 'a', encoding='utf-8') as file:\n",
    "    file.writelines(names) # write a list of strings into the file"
   ]
  },
  {
   "cell_type": "markdown",
   "id": "b3072bcc-36ab-48c3-9553-d7342bc8a948",
   "metadata": {},
   "source": [
    "#### **`Function print()`**"
   ]
  },
  {
   "cell_type": "code",
   "execution_count": 28,
   "id": "4c8faf58-6375-473f-9e56-690c0687caec",
   "metadata": {},
   "outputs": [],
   "source": [
    "with open('test_files/file.txt', 'w', encoding='utf-8') as output:\n",
    "    print('Kate', file=output)\n",
    "    print('Maria', file=output)\n",
    "    print('Ann', file=output)"
   ]
  },
  {
   "cell_type": "markdown",
   "id": "48d12285-74fb-4fca-bbe5-5a69fc55f8d8",
   "metadata": {
    "tags": []
   },
   "source": [
    "## **`Useful functions`**"
   ]
  },
  {
   "cell_type": "markdown",
   "id": "d14c3ac2-c004-4639-b36a-e3c07abc14b9",
   "metadata": {
    "tags": []
   },
   "source": [
    "1.`String methods` can be used to modify line output:\n",
    "* s = input_file.readline()**.rstrip()** - removes all unnecessary symbols like '\\t', '\\n', etc from the end of the line\n",
    "* s = input_file.readline()**.lstrip()** - removes all unnecessary symbols like '\\t', '\\n', etc from the beginning of the line\n",
    "* s = input_file.readline()**.strip()** - removes all unnecessary symbols like '\\t', '\\n', etc from the line\n",
    "* os.path **.join**('.', 'dirname', 'filename.txt') - creates a full path to the file ('./dirname/filename.txt')\n",
    "2. `file.closed` - returns `True` if file is closed, else `False`\n",
    "3. `file.mode` - returns access option\n",
    "4. `file.name` - returns a name of the file"
   ]
  },
  {
   "cell_type": "markdown",
   "id": "d71528dd-efc0-4eba-be08-ce90ffec920c",
   "metadata": {
    "tags": []
   },
   "source": [
    "## **`Examples`**"
   ]
  },
  {
   "cell_type": "markdown",
   "id": "54185652-093a-4d7b-9feb-c9271744ccb7",
   "metadata": {},
   "source": [
    "#### Print the penultimate line from the file"
   ]
  },
  {
   "cell_type": "code",
   "execution_count": 29,
   "id": "81e6dd07-ca89-4e71-a303-7226b0b5664d",
   "metadata": {},
   "outputs": [
    {
     "name": "stdout",
     "output_type": "stream",
     "text": [
      "Maria\n",
      "\n"
     ]
    }
   ],
   "source": [
    "with open('test_files/file.txt') as f:\n",
    "    print(f.readlines()[-2])"
   ]
  },
  {
   "cell_type": "markdown",
   "id": "99afaa55-8435-4169-b868-f4a21f039caa",
   "metadata": {},
   "source": [
    "#### Print the random line from the file"
   ]
  },
  {
   "cell_type": "code",
   "execution_count": 31,
   "id": "cdbb9adf-2782-444f-8403-e16876639866",
   "metadata": {},
   "outputs": [
    {
     "name": "stdout",
     "output_type": "stream",
     "text": [
      "Ann\n",
      "\n"
     ]
    }
   ],
   "source": [
    "import random\n",
    "with open('test_files/file.txt') as f:\n",
    "    print(random.choice(f.readlines()))"
   ]
  },
  {
   "cell_type": "markdown",
   "id": "f6531fcd-2269-462b-b8e3-03c7af2a0045",
   "metadata": {},
   "source": [
    "#### Print the line reversal from the file"
   ]
  },
  {
   "cell_type": "code",
   "execution_count": 32,
   "id": "fa03b244-09dc-44d1-a821-1fb354815a1c",
   "metadata": {},
   "outputs": [
    {
     "name": "stdout",
     "output_type": "stream",
     "text": [
      "\n",
      "etaK\n"
     ]
    }
   ],
   "source": [
    "with open('test_files/file.txt', encoding='utf-8') as file:\n",
    "    print(file.readline()[::-1])"
   ]
  },
  {
   "cell_type": "markdown",
   "id": "a2ecf5f5-76d8-4a63-bd97-d7ac953a9a06",
   "metadata": {},
   "source": [
    "#### Print all lines from the file in reverse order"
   ]
  },
  {
   "cell_type": "code",
   "execution_count": 33,
   "id": "f0f8afd1-6e04-4c45-b6f0-fc06b0f9a9d3",
   "metadata": {},
   "outputs": [
    {
     "name": "stdout",
     "output_type": "stream",
     "text": [
      "Ann\n",
      "Maria\n",
      "Kate\n",
      "\n"
     ]
    }
   ],
   "source": [
    "with open('test_files/file.txt', encoding='utf-8') as file:\n",
    "    print(*file.readlines()[::-1], sep='')"
   ]
  },
  {
   "cell_type": "markdown",
   "id": "78af3e36-5e74-4392-9710-10cebc3d9286",
   "metadata": {},
   "source": [
    "#### Print the max length line from the file"
   ]
  },
  {
   "cell_type": "code",
   "execution_count": 34,
   "id": "d772ee72-300f-4ddc-ab2b-ab64e1204b55",
   "metadata": {},
   "outputs": [
    {
     "name": "stdout",
     "output_type": "stream",
     "text": [
      "Objective-C\n"
     ]
    }
   ],
   "source": [
    "with open('test_files/test.txt', encoding='utf-8') as file:\n",
    "    lines = list(map(str.strip, file.readlines()))\n",
    "    print(*filter(lambda x: len(x)==max(map(len, lines)), lines), sep='\\n')"
   ]
  },
  {
   "cell_type": "markdown",
   "id": "8e25fb1c-e9ea-4952-a172-5f6d4fa6c071",
   "metadata": {},
   "source": [
    "#### Print the sum of numbers in each line from the file"
   ]
  },
  {
   "cell_type": "code",
   "execution_count": 35,
   "id": "19588ae0-9055-451c-b2b6-085f6fcd92a1",
   "metadata": {},
   "outputs": [
    {
     "name": "stdout",
     "output_type": "stream",
     "text": [
      "3\n",
      "7\n",
      "8\n"
     ]
    }
   ],
   "source": [
    "with open('test_files/numbers.txt', encoding='utf-8') as file:\n",
    "    for line in file:\n",
    "        print(sum(map(int, line.split())))"
   ]
  },
  {
   "cell_type": "markdown",
   "id": "d628a760-984e-4dee-8463-fc9cb3e3c790",
   "metadata": {},
   "source": [
    "#### Print the statistics of the file: number of letters, number of words, number of lines"
   ]
  },
  {
   "cell_type": "code",
   "execution_count": 36,
   "id": "2e5e94a7-9f47-46cf-914b-002b25dcacaf",
   "metadata": {},
   "outputs": [
    {
     "name": "stdout",
     "output_type": "stream",
     "text": [
      "Input file contains:\n",
      "12 letters\n",
      "3 words\n",
      "4 lines\n"
     ]
    }
   ],
   "source": [
    "with open('test_files/file.txt', encoding='utf-8') as file:\n",
    "    num_lines = len(file.read().split('\\n'))\n",
    "    file.seek(0)\n",
    "    num_words = sum([len(line.strip().split()) for line in file])\n",
    "    file.seek(0)\n",
    "    num_letters = len(list(filter(lambda x: x.isalpha(), file.read())))\n",
    "\n",
    "print('Input file contains:')\n",
    "print(f'{num_letters} letters\\n{num_words} words\\n{num_lines} lines')"
   ]
  },
  {
   "cell_type": "markdown",
   "id": "09f63bdd-0315-4f2f-b5b9-ab1aebd9ff61",
   "metadata": {},
   "source": [
    "#### Print the random pair of 'name language' with names and languages located in 2 files"
   ]
  },
  {
   "cell_type": "code",
   "execution_count": 37,
   "id": "d5a607df-9072-4bfe-b7f1-62b49df56a09",
   "metadata": {},
   "outputs": [
    {
     "name": "stdout",
     "output_type": "stream",
     "text": [
      "('Ann', 'Objective-C') ('Maria', 'R') ('Kate', 'C')\n"
     ]
    }
   ],
   "source": [
    "import random\n",
    "with open('test_files/file.txt') as names,  open('test_files/test.txt') as langs:\n",
    "    n, s = names.read().split(), langs.read().split()\n",
    "\n",
    "print(*[(random.choice(n), random.choice(s)) for i in range(3)])"
   ]
  },
  {
   "cell_type": "markdown",
   "id": "75a0e7c3-5332-4d1b-b485-862f058ab5e3",
   "metadata": {},
   "source": [
    "#### Create a function 'read_csv' that reads a data.csv file and transforms it to a list of dictionaries"
   ]
  },
  {
   "cell_type": "code",
   "execution_count": 38,
   "id": "170a2024-5938-4c60-959d-b1fc6485b8a5",
   "metadata": {},
   "outputs": [],
   "source": [
    "def read_csv(file):\n",
    "    with open(file) as file:\n",
    "        lst = []\n",
    "        keys = file.readline().strip().split(',')\n",
    "        for line in file:\n",
    "            lst.append(dict(zip(keys, line.strip().split(','))))\n",
    "    return lst"
   ]
  },
  {
   "cell_type": "code",
   "execution_count": 39,
   "id": "4b7614ce-4b59-4609-bfe7-b57517cb6ca3",
   "metadata": {},
   "outputs": [
    {
     "data": {
      "text/plain": [
       "[{'name': 'George', 'address': '4312 Abbey Road', 'age': '22'},\n",
       " {'name': 'John', 'address': '54 Love Ave', 'age': '21'}]"
      ]
     },
     "execution_count": 39,
     "metadata": {},
     "output_type": "execute_result"
    }
   ],
   "source": [
    "read_csv('test_files/data.csv')"
   ]
  },
  {
   "cell_type": "markdown",
   "id": "6a39b9e5-43a3-4553-b8a3-ba144b96c480",
   "metadata": {},
   "source": [
    "#### Create a program that writes to a text file random.txt 25 random numbers in the range from 111 to 777 (inclusive), each on a new line"
   ]
  },
  {
   "cell_type": "code",
   "execution_count": 40,
   "id": "6dec64e0-e261-4868-a2cf-991e1590ec53",
   "metadata": {},
   "outputs": [],
   "source": [
    "import random\n",
    "with open('test_files/random.txt', 'w') as file:\n",
    "    file.writelines([f'{random.randint(111, 777)}\\n' for i in range(25)])"
   ]
  },
  {
   "cell_type": "markdown",
   "id": "542ca43b-8d72-48d4-bb48-e1a88a8456de",
   "metadata": {},
   "source": [
    "#### Create a program that numerates lines from one file to another"
   ]
  },
  {
   "cell_type": "code",
   "execution_count": 41,
   "id": "723f7601-510d-4f66-917e-2f6e5b3cb822",
   "metadata": {},
   "outputs": [],
   "source": [
    "with open('test_files/file.txt') as inp, open('test_files/output.txt', 'w') as out:\n",
    "    for i, j in enumerate(inp, start=1):\n",
    "        print(f'{i}) {j}', end='', file=out)"
   ]
  },
  {
   "cell_type": "markdown",
   "id": "063ff90a-7526-4149-96af-debdc59c26e6",
   "metadata": {},
   "source": [
    "#### Given a file with student names and marks for 3 tests, write a program to count the number of students who passed all three tests. The test is considered passed if the mark is not less than 65"
   ]
  },
  {
   "cell_type": "code",
   "execution_count": 42,
   "id": "f5ac8a9d-e5b3-4485-b2a1-a114079c48d5",
   "metadata": {},
   "outputs": [
    {
     "name": "stdout",
     "output_type": "stream",
     "text": [
      "2\n"
     ]
    }
   ],
   "source": [
    "with open('test_files/grades.txt', 'r') as inp:\n",
    "    d = []\n",
    "    for line in inp:\n",
    "        name, *marks = line.strip().split()\n",
    "        if all(map(lambda x: int(x) >= 65, marks)):\n",
    "            d.append(name)\n",
    "    print(len(d))"
   ]
  }
 ],
 "metadata": {
  "kernelspec": {
   "display_name": "Python 3 (ipykernel)",
   "language": "python",
   "name": "python3"
  },
  "language_info": {
   "codemirror_mode": {
    "name": "ipython",
    "version": 3
   },
   "file_extension": ".py",
   "mimetype": "text/x-python",
   "name": "python",
   "nbconvert_exporter": "python",
   "pygments_lexer": "ipython3",
   "version": "3.9.12"
  }
 },
 "nbformat": 4,
 "nbformat_minor": 5
}
