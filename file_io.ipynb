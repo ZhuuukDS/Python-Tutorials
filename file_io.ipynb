{
 "cells": [
  {
   "cell_type": "markdown",
   "id": "47ed267e-4067-4b16-8612-7a8b24cddac8",
   "metadata": {
    "tags": []
   },
   "source": [
    "# **File input/output**\n",
    "______________________________"
   ]
  },
  {
   "cell_type": "markdown",
   "id": "91e24673-4052-4889-a855-11823ca8f1c3",
   "metadata": {
    "tags": []
   },
   "source": [
    "## **`Read from the file`**"
   ]
  },
  {
   "cell_type": "code",
   "execution_count": 1,
   "id": "d6dbb7fd-8af3-4520-b6ed-1b1f3c86fd02",
   "metadata": {},
   "outputs": [],
   "source": [
    "# 1st option\n",
    "input_file = open('file.txt', 'r') # open file.txt with 'r'-argument, meaning 'read'\n",
    "s1 = input_file.readline() # read the first line in the file\n",
    "s2 = input_file.readline() # read the second line in the file\n",
    "input_file.close() # close the file (obligatory)"
   ]
  },
  {
   "cell_type": "code",
   "execution_count": 2,
   "id": "9838b089-467c-4601-8952-94a60d2e6e5a",
   "metadata": {},
   "outputs": [
    {
     "data": {
      "text/plain": [
       "('another text\\n', '34.32')"
      ]
     },
     "execution_count": 2,
     "metadata": {},
     "output_type": "execute_result"
    }
   ],
   "source": [
    "s1, s2"
   ]
  },
  {
   "cell_type": "code",
   "execution_count": 3,
   "id": "4119c8f2-80d4-4a53-beb9-ac3050c599e8",
   "metadata": {},
   "outputs": [],
   "source": [
    "# 2nd option\n",
    "with open('file.txt') as input_file:\n",
    "    s3 = input_file.readline()\n",
    "    s4 = input_file.readline()\n",
    "# no need to close the file in this case"
   ]
  },
  {
   "cell_type": "code",
   "execution_count": 4,
   "id": "94541626-5407-4f5d-a152-15a06861d453",
   "metadata": {},
   "outputs": [
    {
     "data": {
      "text/plain": [
       "('another text\\n', '34.32')"
      ]
     },
     "execution_count": 4,
     "metadata": {},
     "output_type": "execute_result"
    }
   ],
   "source": [
    "s3, s4"
   ]
  },
  {
   "cell_type": "code",
   "execution_count": 5,
   "id": "00541e2f-805c-4b5a-aeb1-bb343c5495ba",
   "metadata": {},
   "outputs": [
    {
     "name": "stdout",
     "output_type": "stream",
     "text": [
      "another text\n",
      "34.32\n"
     ]
    }
   ],
   "source": [
    "# 3rd option\n",
    "# reading file by iterating through its lines\n",
    "with open('file.txt') as inf:\n",
    "    for line in inf:\n",
    "        line = line.strip()\n",
    "        print(line)"
   ]
  },
  {
   "cell_type": "markdown",
   "id": "18704e7c-40a0-484b-a3b0-29b6b5f2d5b3",
   "metadata": {
    "tags": []
   },
   "source": [
    "## **`Write in the file`**"
   ]
  },
  {
   "cell_type": "code",
   "execution_count": 6,
   "id": "49b3ab27-2729-4027-b796-2e750924acbb",
   "metadata": {},
   "outputs": [],
   "source": [
    "# 1st option\n",
    "ouf = open('file.txt', 'w') # open file.txt for writing ('w')\n",
    "ouf.write('this text is written from the python program\\n')\n",
    "ouf.write(str(25)) # if we want to write a number, we need to make it string\n",
    "ouf.close()"
   ]
  },
  {
   "cell_type": "code",
   "execution_count": 7,
   "id": "afedec9b-5838-4df7-9b01-cf9b576a640f",
   "metadata": {},
   "outputs": [],
   "source": [
    "# 2nd option\n",
    "with open('file.txt', 'w') as ouf:\n",
    "    ouf.write('another text\\n')\n",
    "    ouf.write(str(34.32))\n",
    "# no need to close the file here"
   ]
  },
  {
   "cell_type": "markdown",
   "id": "48d12285-74fb-4fca-bbe5-5a69fc55f8d8",
   "metadata": {
    "tags": []
   },
   "source": [
    "## **`Useful functions`**"
   ]
  },
  {
   "cell_type": "code",
   "execution_count": 8,
   "id": "91ab692f-4b19-4e09-9243-08cf28bc80a1",
   "metadata": {},
   "outputs": [],
   "source": [
    "# s = input_file.readline().strip() - removes all unnecessary symbols like '\\t', '\\n', etc\n",
    "# os.path.join('.', 'dirname', 'filename.txt') - creates a full path to the file ('./dirname/filename.txt')"
   ]
  },
  {
   "cell_type": "code",
   "execution_count": 9,
   "id": "1531694d-3b14-4a5b-9053-cbe3604989ba",
   "metadata": {},
   "outputs": [
    {
     "data": {
      "text/plain": [
       "'another text'"
      ]
     },
     "execution_count": 9,
     "metadata": {},
     "output_type": "execute_result"
    }
   ],
   "source": [
    "with open('file.txt') as inf:\n",
    "    s5 = inf.readline().strip()\n",
    "s5"
   ]
  },
  {
   "cell_type": "markdown",
   "id": "24deb60f-4671-4ab1-aa4c-7882efee1f56",
   "metadata": {
    "tags": []
   },
   "source": [
    "## **`File open options`**"
   ]
  },
  {
   "cell_type": "markdown",
   "id": "4a10e300-bbda-4bf8-af36-94d5aa5d86bc",
   "metadata": {},
   "source": [
    "| argument | description |\n",
    "|---|---|\n",
    "| `r` | open for reading only (by default) |\n",
    "| `w` | open for wrinting, new records replace the old ones. If file not exists, a new one creates |\n",
    "| `a` | open for update. New records added in the end of the file |\n",
    "| `t` | open in a text mode (by default) |\n",
    "| `+` | open for reading and writing. `r+` allows to read the file and add new records in there |\n",
    "| | modes can be joined, default mode is `rt` |"
   ]
  },
  {
   "cell_type": "code",
   "execution_count": null,
   "id": "cdbb9adf-2782-444f-8403-e16876639866",
   "metadata": {},
   "outputs": [],
   "source": []
  }
 ],
 "metadata": {
  "kernelspec": {
   "display_name": "Python 3 (ipykernel)",
   "language": "python",
   "name": "python3"
  },
  "language_info": {
   "codemirror_mode": {
    "name": "ipython",
    "version": 3
   },
   "file_extension": ".py",
   "mimetype": "text/x-python",
   "name": "python",
   "nbconvert_exporter": "python",
   "pygments_lexer": "ipython3",
   "version": "3.8.12"
  }
 },
 "nbformat": 4,
 "nbformat_minor": 5
}
