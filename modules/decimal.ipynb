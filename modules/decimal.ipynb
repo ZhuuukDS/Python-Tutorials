{
 "cells": [
  {
   "cell_type": "markdown",
   "id": "90194f25-6f32-48ea-b0b2-34bcc85ce4f4",
   "metadata": {
    "tags": []
   },
   "source": [
    "# **`decimal`** - working with decimal numbers\n",
    "______________________________"
   ]
  },
  {
   "cell_type": "markdown",
   "id": "3e47cea5-14dc-4f28-a2c8-14d12d3e61b5",
   "metadata": {},
   "source": [
    "#### with module `decimal` we can create `Decimal` type numbers to perform high-precision calculations"
   ]
  },
  {
   "cell_type": "markdown",
   "id": "971d73df-8e9c-4ab7-937d-64b02637e7de",
   "metadata": {},
   "source": [
    "#### `Decimal` type is another form of `float`, but unlike float and double, the base used is 10 (not 2)"
   ]
  },
  {
   "cell_type": "markdown",
   "id": "cba87886-3d1b-4f72-967b-bc92a3d4bbae",
   "metadata": {},
   "source": [
    "#### a `decimal` number is immutable. It has a sign, coefficient digits, and an exponent. "
   ]
  },
  {
   "cell_type": "markdown",
   "id": "974cc7f8-2004-408f-bdab-885057db390c",
   "metadata": {},
   "source": [
    "#### while `float` numbers have precision up to 15 decimal places, the `decimal` module has user-settable precision (default is 28)"
   ]
  },
  {
   "cell_type": "markdown",
   "id": "092056cd-a452-4445-87ef-8556df68b0af",
   "metadata": {},
   "source": [
    "#### Unlike hardware based binary floating point `float`, `Decimal` type implemented in software, so much slower"
   ]
  },
  {
   "cell_type": "markdown",
   "id": "31ac3cdd-b9ec-4647-82bb-f4ccec056390",
   "metadata": {
    "tags": []
   },
   "source": [
    "### **Creating `Decimals`**"
   ]
  },
  {
   "cell_type": "markdown",
   "id": "721d49fd-47e2-41b5-885e-31dfef2e8223",
   "metadata": {},
   "source": [
    "`Decimal` number can be created from `int`, `float` (not recommended) and `str`"
   ]
  },
  {
   "cell_type": "code",
   "execution_count": 1,
   "id": "2b1f2798-6142-4ba4-b8bb-5a30fe3fabf7",
   "metadata": {},
   "outputs": [],
   "source": [
    "from decimal import Decimal"
   ]
  },
  {
   "cell_type": "code",
   "execution_count": 2,
   "id": "603344a0-3ffb-409d-90c2-b054e1ce9ebd",
   "metadata": {},
   "outputs": [
    {
     "name": "stdout",
     "output_type": "stream",
     "text": [
      "17 -45 12245 43.756\n"
     ]
    }
   ],
   "source": [
    "d1 = Decimal(17)\n",
    "d2 = Decimal(-45)\n",
    "d3 = Decimal('12245')\n",
    "d4 = Decimal('43.756')\n",
    "print(d1, d2, d3, d4)             "
   ]
  },
  {
   "cell_type": "markdown",
   "id": "1dddca38-31ae-4d3a-9e28-40392de9afd8",
   "metadata": {
    "tags": []
   },
   "source": [
    "### **Operations with `Decimals`**"
   ]
  },
  {
   "cell_type": "markdown",
   "id": "7572685f-0407-420f-b8a5-e3a5e06eaeec",
   "metadata": {},
   "source": [
    "`Decimal` numbers support all arithmetic operations"
   ]
  },
  {
   "cell_type": "code",
   "execution_count": 3,
   "id": "2580d011-5d7e-488b-a804-70f74a7e666b",
   "metadata": {},
   "outputs": [
    {
     "name": "stdout",
     "output_type": "stream",
     "text": [
      "7.5 \t 2.9 \t 11.96 \t 2.260869565217391304347826087 \t 2 \t 44.34122533787992500412791298\n"
     ]
    }
   ],
   "source": [
    "num1 = Decimal('5.2')\n",
    "num2 = Decimal('2.3')\n",
    "\n",
    "print(num1 + num2,\n",
    "      '\\t', num1 - num2, \n",
    "      '\\t', num1 * num2, \n",
    "      '\\t', num1 / num2, \n",
    "      '\\t', num1 // num2, \n",
    "      '\\t', num1 ** num2)"
   ]
  },
  {
   "cell_type": "markdown",
   "id": "974bde70-79b3-47dd-84b7-c30edbbfa333",
   "metadata": {},
   "source": [
    "`Decimal` numbers can be mixed with `int` numbers in arithmetic operations (but not recommended to mix with `float`)"
   ]
  },
  {
   "cell_type": "code",
   "execution_count": 4,
   "id": "27a52b91-668c-4bb1-bad9-77e4436183e1",
   "metadata": {},
   "outputs": [
    {
     "name": "stdout",
     "output_type": "stream",
     "text": [
      "6.2 \t -4.8 \t 10.4 \t 140.608\n"
     ]
    }
   ],
   "source": [
    "print(num1 + 1, \n",
    "      '\\t', num1 - 10, \n",
    "      '\\t', num1 * 2, \n",
    "      '\\t', num1 ** 3)"
   ]
  },
  {
   "cell_type": "markdown",
   "id": "d6ab5b16-0260-446a-97db-095c76cde9f9",
   "metadata": {},
   "source": [
    "`Decimal` numbers can be used in `math` functions that take `float` numbers, but in this case functions will return result in `float` type"
   ]
  },
  {
   "cell_type": "code",
   "execution_count": 5,
   "id": "f754cf1f-ae31-467b-b36b-2e6afa031345",
   "metadata": {},
   "outputs": [
    {
     "name": "stdout",
     "output_type": "stream",
     "text": [
      "2.280350850198276 \t -0.8834546557201531 \t 2.0149030205422647\n"
     ]
    }
   ],
   "source": [
    "from math import *\n",
    "\n",
    "print(sqrt(num1),\n",
    "     '\\t', sin(num1),\n",
    "      '\\t', log(num1 + num2))"
   ]
  },
  {
   "cell_type": "markdown",
   "id": "e2aa2ff3-0d51-4d12-9e7c-2fb25c335e6f",
   "metadata": {},
   "source": [
    "Type `Decimal` itself also include some of the math methods that return result in `Decimal` type"
   ]
  },
  {
   "cell_type": "code",
   "execution_count": 6,
   "id": "7ba54ca1-3c1a-4e4b-9d7e-b613917a11ef",
   "metadata": {},
   "outputs": [
    {
     "name": "stdout",
     "output_type": "stream",
     "text": [
      "3.162277660168379331998893544 \t 22026.46579480671651695790065 \t 2.302585092994045684017991455 \t 1\n"
     ]
    }
   ],
   "source": [
    "num = Decimal('10.0')\n",
    "\n",
    "print(num.sqrt(),\n",
    "     '\\t', num.exp(),\n",
    "      '\\t', num.ln(),\n",
    "       '\\t', num.log10())"
   ]
  },
  {
   "cell_type": "markdown",
   "id": "4f2a4135-0cb6-43d0-9586-27ea8d0e82e7",
   "metadata": {
    "tags": []
   },
   "source": [
    "### **`Decimals` methods and context**"
   ]
  },
  {
   "cell_type": "markdown",
   "id": "6d9fe231-7f86-4753-a57d-1eff751277fe",
   "metadata": {},
   "source": [
    "#### Math methods (see above)"
   ]
  },
  {
   "cell_type": "markdown",
   "id": "72bf5ec5-6e5f-4631-b7e1-70952124225b",
   "metadata": {},
   "source": [
    "#### Method **`as_tuple()`** - returns a tuple of 3 elements: \n",
    "* `sign` - a sign of a number (0 - positive, 1 - negative)\n",
    "* `digits` - digits of a number (not including the first 0, if number is <1 (0.123043))\n",
    "* `exponent` - number of digits after the floating point multiplied with -1"
   ]
  },
  {
   "cell_type": "code",
   "execution_count": 7,
   "id": "58750469-3ca6-4640-9fc1-e3633e4a163c",
   "metadata": {},
   "outputs": [
    {
     "data": {
      "text/plain": [
       "(1, (1, 4, 5, 6, 6, 0, 2, 4), -7)"
      ]
     },
     "execution_count": 7,
     "metadata": {},
     "output_type": "execute_result"
    }
   ],
   "source": [
    "num = Decimal('-1.4566024')\n",
    "num_tuple = num.as_tuple()\n",
    "\n",
    "num_tuple.sign, num_tuple.digits, num_tuple.exponent"
   ]
  },
  {
   "cell_type": "markdown",
   "id": "12ddbf6d-5696-43b1-89ea-e58d3117336e",
   "metadata": {},
   "source": [
    "#### Function **`getcontext()`** returns base parameters of the `Decimal`"
   ]
  },
  {
   "cell_type": "code",
   "execution_count": 8,
   "id": "9cbf0d40-1fb5-45fa-8814-44d567ee6d2a",
   "metadata": {},
   "outputs": [
    {
     "name": "stdout",
     "output_type": "stream",
     "text": [
      "Context(prec=28, rounding=ROUND_HALF_EVEN, Emin=-999999, Emax=999999, capitals=1, clamp=0, flags=[Inexact, Rounded], traps=[InvalidOperation, DivisionByZero, Overflow])\n"
     ]
    }
   ],
   "source": [
    "from decimal import *\n",
    "\n",
    "print(getcontext())"
   ]
  },
  {
   "cell_type": "markdown",
   "id": "161f45fc-ac76-48cd-899e-f75b33a76ea7",
   "metadata": {},
   "source": [
    "**Default precision (28) can be changed:**"
   ]
  },
  {
   "cell_type": "code",
   "execution_count": 9,
   "id": "2b6127fa-24fc-4582-9ff4-1e8ea89b1943",
   "metadata": {},
   "outputs": [],
   "source": [
    "# getcontext().prec = 10"
   ]
  },
  {
   "cell_type": "markdown",
   "id": "2ed8f766-b49a-464c-8792-aa029d1b8b5f",
   "metadata": {},
   "source": [
    "#### Method **`quantize()`** rounds `Decimal` numbers"
   ]
  },
  {
   "cell_type": "code",
   "execution_count": 10,
   "id": "d9b894a2-39b0-4b08-b5eb-1211588747e0",
   "metadata": {},
   "outputs": [
    {
     "name": "stdout",
     "output_type": "stream",
     "text": [
      "3.1416 3.142 3.14\n"
     ]
    }
   ],
   "source": [
    "num = Decimal('3.1415926535')\n",
    "\n",
    "print(num.quantize(Decimal('1.0000')), num.quantize(Decimal('1.000')), num.quantize(Decimal('1.00')))"
   ]
  },
  {
   "cell_type": "markdown",
   "id": "a0169d69-9997-4f1e-8bcc-14eefaec68d4",
   "metadata": {},
   "source": [
    "Method `quantize()` can also take the following round strategies as a second parameter:"
   ]
  },
  {
   "cell_type": "markdown",
   "id": "d3a33b21-0e41-467e-abc9-fa78eebd107a",
   "metadata": {},
   "source": [
    "| parameter | description |\n",
    "|---|---|\n",
    "| `ROUND_CEILING` | round towards infinity |\n",
    "| `ROUND_FLOOR` | round towards negative infinity |\n",
    "| `ROUND_DOWN` | round towards zero |\n",
    "| `ROUND_HALF_EVEN` | round towards nearest even number |\n",
    "| `ROUND_HALF_DOWN` | round towards nearest zero |\n",
    "| `ROUND_UP` | round to zero |\n",
    "| `ROUND_05UP` | round from zero |"
   ]
  },
  {
   "cell_type": "markdown",
   "id": "a0862b0f-54c1-4f2e-b6c7-cbc23c2c8fc5",
   "metadata": {},
   "source": [
    "#### Comparison table between `Decimal` and `float`"
   ]
  },
  {
   "cell_type": "markdown",
   "id": "e4cbd9d6-01fd-48a8-bb63-3cddd23e8478",
   "metadata": {},
   "source": [
    "It's all about choosing a balance!"
   ]
  },
  {
   "cell_type": "markdown",
   "id": "fbf1984f-8f8b-42ea-9593-702fe2c1ae98",
   "metadata": {},
   "source": [
    "| Property / type | `float` | `Decimal` |\n",
    "| --- | --- | ---|\n",
    "| realisation | hardware | software |\n",
    "| size | 64 bit | unlimited |\n",
    "| base exp | 2 | 10 |\n",
    "| speed | + | - |\n",
    "| customizing | - | + |\n",
    "| finance and business | - | + |\n",
    "| games, simulations | + | - |\n",
    "| high-precise calculations | - | + |"
   ]
  },
  {
   "cell_type": "markdown",
   "id": "23e7c94f-7067-46d1-949f-06a97a5e8261",
   "metadata": {},
   "source": [
    "## Examples"
   ]
  },
  {
   "cell_type": "markdown",
   "id": "7f69f11f-eed1-4a5f-9c66-290122a669ca",
   "metadata": {},
   "source": [
    "1. Find the sum of minimum and maximum `Decimal` number from a given string"
   ]
  },
  {
   "cell_type": "code",
   "execution_count": 11,
   "id": "c475bd28-7c48-4710-8d5a-3a1ceaad6e4e",
   "metadata": {},
   "outputs": [
    {
     "name": "stdout",
     "output_type": "stream",
     "text": [
      "10.00\n"
     ]
    }
   ],
   "source": [
    "from decimal import Decimal as D\n",
    "s = '0.77 4.03 9.06 3.80 7.08 5.88 0.23 4.65 2.79 0.90 4.23 2.15 3.24 8.57 0.10 8.57 1.49 5.64 3.63 8.36 1.56 6.67 1.46 5.26 4.83 7.23 1.22 1.02 7.82 9.97 5.40 9.79 9.82 2.78 2.96 0.07 1.72 7.24 7.84 9.23 1.71 6.24 5.78 5.37 0.03 9.60 8.86 2.73 5.83 6.50'\n",
    "\n",
    "decs = [D(i) for i in s.split()]\n",
    "print(sum([max(decs), min(decs)]))"
   ]
  },
  {
   "cell_type": "markdown",
   "id": "ee4508fa-1c3d-414b-9343-9ca78be6cb50",
   "metadata": {},
   "source": [
    "2. Find the sum of max and min digit of a `Decimal` number"
   ]
  },
  {
   "cell_type": "code",
   "execution_count": 12,
   "id": "de3b9de2-1648-4526-bbb7-e24cb528a876",
   "metadata": {},
   "outputs": [
    {
     "name": "stdout",
     "output_type": "stream",
     "text": [
      "9\n"
     ]
    }
   ],
   "source": [
    "num = Decimal('1.345346478628')\n",
    "\n",
    "num_tuple = num.as_tuple()\n",
    "\n",
    "\n",
    "print(min(num_tuple.digits) + max(num_tuple.digits)) if int(num) != 0 else print(max(num_tuple.digits))"
   ]
  }
 ],
 "metadata": {
  "kernelspec": {
   "display_name": "Python 3 (ipykernel)",
   "language": "python",
   "name": "python3"
  },
  "language_info": {
   "codemirror_mode": {
    "name": "ipython",
    "version": 3
   },
   "file_extension": ".py",
   "mimetype": "text/x-python",
   "name": "python",
   "nbconvert_exporter": "python",
   "pygments_lexer": "ipython3",
   "version": "3.9.12"
  }
 },
 "nbformat": 4,
 "nbformat_minor": 5
}
