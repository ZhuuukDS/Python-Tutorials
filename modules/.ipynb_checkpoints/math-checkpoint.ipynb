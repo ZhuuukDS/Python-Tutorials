{
 "cells": [
  {
   "cell_type": "markdown",
   "id": "7b3456c3-6846-47e1-b410-98eb1259358d",
   "metadata": {
    "tags": []
   },
   "source": [
    "# **`math`** - working with math functions\n",
    "______________________________"
   ]
  },
  {
   "cell_type": "code",
   "execution_count": 1,
   "id": "c569df44-52db-4922-a188-1ca85631beb3",
   "metadata": {},
   "outputs": [],
   "source": [
    "# ways to import a module\n",
    "\n",
    "import math # importing module, then need to use math. before the function name (math.sqrt())\n",
    "\n",
    "from math import * # importing all functions from module (no need to type prefix math.)\n",
    "\n",
    "from math import sqrt, ceil # importing only certain functions from the module math (no need to type prefix math.)"
   ]
  },
  {
   "cell_type": "markdown",
   "id": "88b0805d-3faf-448f-90bc-c4d1747e3fdd",
   "metadata": {
    "tags": []
   },
   "source": [
    "### **`List of useful functions`**"
   ]
  },
  {
   "cell_type": "markdown",
   "id": "5f7e3550-1ca5-4905-b5d6-f45be868ce2a",
   "metadata": {},
   "source": [
    "| function | description |\n",
    "|---|---|\n",
    "| `int()` | rounds a number towards zero |\n",
    "| `round(x)` | rounds `x` to the nearest integer. If the fractional part of a number is 0.5, then the number is rounded to the nearest even number |\n",
    "| `round(x,n)` | rounds `x` to `n` decimal places |\n",
    "| `floor(x)` | returns the nearest integer value which is less than or equal to `x` |\n",
    "| `ceil(x)` | returns the nearest integer value which is greater than or equal to `x` |\n",
    "| `abs(x)` | returns the absolute value of the `x` |\n",
    "| `sqrt(x)` | returns a square root of `x` |\n",
    "| `pow(x,n)` | raising the number `x` to the power of `n` (= x\\*\\*n)\n",
    "| `exp(x)` | raising the number `e` to the power of `x` (= e\\*\\*n)\n",
    "| `log(x)` | natural logarithm of `x`. The base is `e` |\n",
    "| `factorial(n)` | factorial of a natural number `n` |\n",
    "| `degrees(x)` | converts an angle `x`, given in radians, to degrees |\n",
    "| `radians(x)` | converts an angle `x`, given in degrees, to radians |\n",
    "| `cos(x)` | cosine of the angle `x`, given in radians |\n",
    "| `sin(x)` | sine of angle `x`, in given radians |\n",
    "| `tan(x)` | the tangent of the angle `x`, given in radians |\n",
    "| `acos(x)` | returns the angle in radians from 0 to $\\pi$, `cos` of which is `x` |\n",
    "| `asin(x)` | returns the angle in radians from $\\frac{\\pi}{2}$ to $\\frac{\\pi}{2}$, `sin` of which is `x` |\n",
    "| `atan(x)` | returns the angle in radians from $\\frac{\\pi}{2}$ to $\\frac{\\pi}{2}$, `tan` of which is `x` |\n",
    "| `atan2(y,x)` | polar angle (in radians) of the point with coordinates `(x, y)` |\n",
    "| `hypot(x,y)` | hypotenuse of the triangle with catets x and y |"
   ]
  },
  {
   "cell_type": "markdown",
   "id": "e71adcb6-7109-4a01-98a1-271f67fe76e4",
   "metadata": {
    "tags": []
   },
   "source": [
    "### **`List of constants in module math`**"
   ]
  },
  {
   "cell_type": "markdown",
   "id": "b37cb0dc-a0f5-4a5d-b02f-85504273f33f",
   "metadata": {},
   "source": [
    "| constant | description |\n",
    "|---- |:---|\n",
    "| `pi` | number $\\pi$ |\n",
    "| `e` | Euler number *e = 2.718281828459045* |\n",
    "| `inf` | infinite |"
   ]
  }
 ],
 "metadata": {
  "kernelspec": {
   "display_name": "Python 3 (ipykernel)",
   "language": "python",
   "name": "python3"
  },
  "language_info": {
   "codemirror_mode": {
    "name": "ipython",
    "version": 3
   },
   "file_extension": ".py",
   "mimetype": "text/x-python",
   "name": "python",
   "nbconvert_exporter": "python",
   "pygments_lexer": "ipython3",
   "version": "3.9.7"
  }
 },
 "nbformat": 4,
 "nbformat_minor": 5
}
