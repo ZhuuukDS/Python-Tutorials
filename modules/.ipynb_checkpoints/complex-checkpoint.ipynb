{
 "cells": [
  {
   "cell_type": "markdown",
   "id": "57e33dac-ccd8-4293-86dd-72e893a037f2",
   "metadata": {
    "tags": []
   },
   "source": [
    "# Working with **`complex`** numbers\n",
    "______________________________"
   ]
  },
  {
   "cell_type": "markdown",
   "id": "06f6d6d1-e756-4a83-b383-361b836e6dee",
   "metadata": {},
   "source": [
    "#### it is possible to work with `complex` numbers in python"
   ]
  },
  {
   "cell_type": "markdown",
   "id": "8575c92e-7638-4ea3-8131-681d358c14bf",
   "metadata": {},
   "source": [
    "#### no need to import additional modules, however if you want to use specific math operations with `complex` numbers you can use module `cmath` (see [Documentation](https://docs.python.org/3/library/cmath.html) )"
   ]
  },
  {
   "cell_type": "markdown",
   "id": "00d6fdcd-f5bf-4d60-8d18-ec653942c83c",
   "metadata": {
    "tags": []
   },
   "source": [
    "### **Creating `complex` numbers**"
   ]
  },
  {
   "cell_type": "markdown",
   "id": "d47c504b-45b0-461f-9efe-f2a76dbbe860",
   "metadata": {},
   "source": [
    "* `real` - real part of a `complex` number\n",
    "* `imag` - imaginery part of a `complex` number (ends with `j`)"
   ]
  },
  {
   "cell_type": "code",
   "execution_count": 1,
   "id": "f0a8751c-7c73-47fe-9fe5-244afa01d037",
   "metadata": {},
   "outputs": [
    {
     "data": {
      "text/plain": [
       "(complex, (5+7j), 1j, (-3+5j), (1.5-3.2j))"
      ]
     },
     "execution_count": 1,
     "metadata": {},
     "output_type": "execute_result"
    }
   ],
   "source": [
    "# create complex numbers directly\n",
    "\n",
    "z1 = 5 + 7j\n",
    "z2 = 1j\n",
    "z3 = -3 + 5j\n",
    "z4 = 1.5 - 3.2j\n",
    "\n",
    "type(z1), z1, z2, z3, z4"
   ]
  },
  {
   "cell_type": "markdown",
   "id": "1f525b37-b650-41e5-be30-163d89039efe",
   "metadata": {},
   "source": [
    "`complex` numbers can also be created using function `complex()` with 2 arguments (real, imag)"
   ]
  },
  {
   "cell_type": "code",
   "execution_count": 2,
   "id": "b040d8c9-b1aa-459f-b798-d428d5f28ea5",
   "metadata": {},
   "outputs": [
    {
     "data": {
      "text/plain": [
       "((6-8j), 0.25j, (5+0j), (3+4j))"
      ]
     },
     "execution_count": 2,
     "metadata": {},
     "output_type": "execute_result"
    }
   ],
   "source": [
    "z5 = complex(6, -8)   # z5 = 6 - 8j\n",
    "z6 = complex(0, 0.25) # z6 = 2.5j\n",
    "z7 = complex(5, 0)    # z7 = 5 + 0j\n",
    "z8 = complex('3+4j')  # from the string\n",
    "\n",
    "z5, z6, z7, z8"
   ]
  },
  {
   "cell_type": "markdown",
   "id": "becc23ab-7b55-487f-abe2-72cac5c12b3f",
   "metadata": {
    "tags": []
   },
   "source": [
    "### **Operations with `complex` numbers**"
   ]
  },
  {
   "cell_type": "markdown",
   "id": "5170b450-2022-4685-a024-57896b68a7ca",
   "metadata": {},
   "source": [
    "Type `complex` support all arithmetic operations which can be performed between `complex` numbers and withn `int` and `float` numbers as well"
   ]
  },
  {
   "cell_type": "code",
   "execution_count": 3,
   "id": "0f390c47-e42a-41ae-b93c-e3eb19c9f00e",
   "metadata": {},
   "outputs": [
    {
     "data": {
      "text/plain": [
       "((5+8j), (5+6j), (-7+5j), (7-5j), (1900-47068j))"
      ]
     },
     "execution_count": 3,
     "metadata": {},
     "output_type": "execute_result"
    }
   ],
   "source": [
    "z1 + z2, z1 - z2, z1 * z2, z1 / z2, z1**5"
   ]
  },
  {
   "cell_type": "code",
   "execution_count": 4,
   "id": "8f235f33-248e-4d80-98fe-a4779643657f",
   "metadata": {},
   "outputs": [
    {
     "data": {
      "text/plain": [
       "((10+7j), (3+7j), (15+21j), (2.5+3.5j))"
      ]
     },
     "execution_count": 4,
     "metadata": {},
     "output_type": "execute_result"
    }
   ],
   "source": [
    "z1 + 5, z1 - 2, 3*z1, z1/2"
   ]
  },
  {
   "cell_type": "markdown",
   "id": "3e3a60c7-e3b1-4969-a6c5-9d55d353182f",
   "metadata": {
    "tags": []
   },
   "source": [
    "### **Methods and properties of `complex` numbers**"
   ]
  },
  {
   "cell_type": "markdown",
   "id": "1ca8787e-f3f1-4ffb-8d24-d7cae91f8c21",
   "metadata": {},
   "source": [
    "| method | description |\n",
    "| --- | --- |\n",
    "| `real` | show real part of a `complex` number |\n",
    "| `imag` | show imaginery part of a `complex` number |\n",
    "| `conjugate()` | find a conjugate `complex` number |\n",
    "| `abs()` | return an absolute `complex` number (length of a vector `a + bi`) |"
   ]
  },
  {
   "cell_type": "code",
   "execution_count": 5,
   "id": "e672eb33-f49b-404b-be70-6227bd33309e",
   "metadata": {},
   "outputs": [
    {
     "data": {
      "text/plain": [
       "(5.0, 7.0, (5-7j), 8.602325267042627)"
      ]
     },
     "execution_count": 5,
     "metadata": {},
     "output_type": "execute_result"
    }
   ],
   "source": [
    "z1.real, z1.imag, z1.conjugate(), abs(z1)"
   ]
  }
 ],
 "metadata": {
  "kernelspec": {
   "display_name": "Python 3 (ipykernel)",
   "language": "python",
   "name": "python3"
  },
  "language_info": {
   "codemirror_mode": {
    "name": "ipython",
    "version": 3
   },
   "file_extension": ".py",
   "mimetype": "text/x-python",
   "name": "python",
   "nbconvert_exporter": "python",
   "pygments_lexer": "ipython3",
   "version": "3.9.7"
  }
 },
 "nbformat": 4,
 "nbformat_minor": 5
}
