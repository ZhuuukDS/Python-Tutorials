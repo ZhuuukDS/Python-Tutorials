{
 "cells": [
  {
   "cell_type": "markdown",
   "id": "7b3456c3-6846-47e1-b410-98eb1259358d",
   "metadata": {
    "tags": []
   },
   "source": [
    "# **`numpy`** - working with large numbers\n",
    "______________________________"
   ]
  },
  {
   "cell_type": "code",
   "execution_count": 1,
   "id": "c569df44-52db-4922-a188-1ca85631beb3",
   "metadata": {},
   "outputs": [],
   "source": [
    "# ways to import a module\n",
    "\n",
    "import numpy as np # importing module, then need to use prefix np. before the function name (np.array())\n",
    "\n",
    "from numpy import * # importing all functions from module (no need to type prefix)\n",
    "\n",
    "from numpy import array # importing certain functions from the module (no need to type prefix)"
   ]
  },
  {
   "cell_type": "markdown",
   "id": "a378c619-482b-41fc-b1d2-064c033ceb97",
   "metadata": {
    "tags": []
   },
   "source": [
    "### **`Creating arrays`**"
   ]
  },
  {
   "cell_type": "code",
   "execution_count": 2,
   "id": "e687a624-f78d-49d1-9393-7cc79c59c281",
   "metadata": {},
   "outputs": [],
   "source": [
    "# creating a one-dimensional array\n",
    "a = np.array([2,3,4])"
   ]
  },
  {
   "cell_type": "code",
   "execution_count": 3,
   "id": "38915744-a22f-4401-a540-b150f80b2e90",
   "metadata": {},
   "outputs": [
    {
     "name": "stdout",
     "output_type": "stream",
     "text": [
      "[2 3 4]\n",
      "<class 'numpy.ndarray'>\n",
      "1\n",
      "(3,)\n",
      "3\n"
     ]
    }
   ],
   "source": [
    "print(a)\n",
    "print(type(a))\n",
    "print(a.ndim) # array dimension\n",
    "print(a.shape) # array shape (number of rows and columns)\n",
    "print(a.size) # array size (number of all elements in an array)"
   ]
  },
  {
   "cell_type": "code",
   "execution_count": 4,
   "id": "752d230c-d20c-4a3d-9cf7-acd0242665a0",
   "metadata": {},
   "outputs": [
    {
     "data": {
      "text/plain": [
       "array([-4,  2,  6])"
      ]
     },
     "execution_count": 4,
     "metadata": {},
     "output_type": "execute_result"
    }
   ],
   "source": [
    "# as an array is in fact a list of numbers,\n",
    "# if we have a list of numbers as string symbols,\n",
    "# we need to change them into integers to create an array\n",
    "a1 = np.array(['-4', '2', '6'], dtype=int)\n",
    "a1"
   ]
  },
  {
   "cell_type": "code",
   "execution_count": 5,
   "id": "b00990c3-f37d-428a-8a1a-3f7565f80b86",
   "metadata": {},
   "outputs": [],
   "source": [
    "# creating a two-dimensional array\n",
    "b = np.array([(1.5,2,3), (4,5,6)])"
   ]
  },
  {
   "cell_type": "code",
   "execution_count": 6,
   "id": "925a1438-75bc-41c1-a53a-1c044f8e7145",
   "metadata": {},
   "outputs": [
    {
     "name": "stdout",
     "output_type": "stream",
     "text": [
      "[[1.5 2.  3. ]\n",
      " [4.  5.  6. ]]\n",
      "<class 'numpy.ndarray'>\n",
      "2\n",
      "(2, 3)\n",
      "6\n"
     ]
    }
   ],
   "source": [
    "print(b)\n",
    "print(type(b))\n",
    "print(b.ndim) # array dimension\n",
    "print(b.shape) # array shape (number of rows and columns)\n",
    "print(b.size) # array size (number of all elements in an array)"
   ]
  },
  {
   "cell_type": "code",
   "execution_count": 7,
   "id": "0859b581-6159-46eb-bba9-7e4219b824df",
   "metadata": {},
   "outputs": [
    {
     "data": {
      "text/plain": [
       "array([[0., 0.],\n",
       "       [0., 0.],\n",
       "       [0., 0.]])"
      ]
     },
     "execution_count": 7,
     "metadata": {},
     "output_type": "execute_result"
    }
   ],
   "source": [
    "# array with all zeros as elements\n",
    "np.zeros((3,2))"
   ]
  },
  {
   "cell_type": "code",
   "execution_count": 8,
   "id": "0aa769a9-910f-4268-984f-e233395c5920",
   "metadata": {},
   "outputs": [],
   "source": [
    "# generation an array using arange\n",
    "c = np.arange(10, 30, 2)"
   ]
  },
  {
   "cell_type": "code",
   "execution_count": 9,
   "id": "097793a3-edef-4e27-97f4-e5067f73b941",
   "metadata": {},
   "outputs": [
    {
     "name": "stdout",
     "output_type": "stream",
     "text": [
      "[10 12 14 16 18 20 22 24 26 28]\n"
     ]
    }
   ],
   "source": [
    "print(c)"
   ]
  },
  {
   "cell_type": "code",
   "execution_count": 10,
   "id": "65e6d62e-97a6-452b-ac55-ac1ddd3a5b1c",
   "metadata": {},
   "outputs": [],
   "source": [
    "# generating an array with 9 numbers in the interval between 0 and 2 (including 2)\n",
    "d = np.linspace(0, 2, 9)"
   ]
  },
  {
   "cell_type": "code",
   "execution_count": 11,
   "id": "fff4e779-dccf-493d-8720-742f3ddd7e82",
   "metadata": {},
   "outputs": [
    {
     "name": "stdout",
     "output_type": "stream",
     "text": [
      "[0.   0.25 0.5  0.75 1.   1.25 1.5  1.75 2.  ]\n"
     ]
    }
   ],
   "source": [
    "print(d)"
   ]
  },
  {
   "cell_type": "code",
   "execution_count": 12,
   "id": "f1305795-f9f1-49b6-b77e-765e698000c6",
   "metadata": {},
   "outputs": [],
   "source": [
    "# transforming one-dimension array into a two-dimension array\n",
    "e = np.arange(12).reshape(4, 3)"
   ]
  },
  {
   "cell_type": "code",
   "execution_count": 13,
   "id": "81c2c7a4-25ce-4244-b98a-9d45cd3c57a8",
   "metadata": {},
   "outputs": [
    {
     "name": "stdout",
     "output_type": "stream",
     "text": [
      "[[ 0  1  2]\n",
      " [ 3  4  5]\n",
      " [ 6  7  8]\n",
      " [ 9 10 11]]\n"
     ]
    }
   ],
   "source": [
    "print(e)"
   ]
  },
  {
   "cell_type": "markdown",
   "id": "8884aab8-6185-4485-aca4-a19918e2ab36",
   "metadata": {
    "tags": []
   },
   "source": [
    "### **`Operations with arrays`**"
   ]
  },
  {
   "cell_type": "markdown",
   "id": "efc84735-0a82-4639-84a7-a054200fe816",
   "metadata": {},
   "source": [
    "arithmetic operations on arrays are performed element by element"
   ]
  },
  {
   "cell_type": "code",
   "execution_count": 14,
   "id": "94afb9e4-aa39-4593-86d1-74951b733376",
   "metadata": {},
   "outputs": [
    {
     "name": "stdout",
     "output_type": "stream",
     "text": [
      "[10 20 30]\n",
      "[0 1 2]\n"
     ]
    }
   ],
   "source": [
    "a = np.array([10,20,30])\n",
    "b = np.arange(3)\n",
    "print(a)\n",
    "print(b)"
   ]
  },
  {
   "cell_type": "code",
   "execution_count": 15,
   "id": "fd48c0ca-270f-4d1f-8bf1-f7c9a2e8c5b4",
   "metadata": {},
   "outputs": [
    {
     "name": "stdout",
     "output_type": "stream",
     "text": [
      "[10 21 32]\n",
      "[10 19 28]\n"
     ]
    }
   ],
   "source": [
    "print(a + b)\n",
    "print(a - b)"
   ]
  },
  {
   "cell_type": "code",
   "execution_count": 16,
   "id": "fcead337-6f22-4d0e-b480-d07c5b23431f",
   "metadata": {},
   "outputs": [
    {
     "name": "stdout",
     "output_type": "stream",
     "text": [
      "[100 400 900]\n"
     ]
    }
   ],
   "source": [
    "print(a**2)"
   ]
  },
  {
   "cell_type": "code",
   "execution_count": 17,
   "id": "0e8b9daa-46f2-4652-b95e-952d37bd5606",
   "metadata": {},
   "outputs": [
    {
     "name": "stdout",
     "output_type": "stream",
     "text": [
      "[-1.08804222  1.8258905  -1.97606325]\n"
     ]
    }
   ],
   "source": [
    "print(2 * sin(a))"
   ]
  },
  {
   "cell_type": "code",
   "execution_count": 18,
   "id": "cb82ad4b-5db5-4c8d-9bff-6cec4175d938",
   "metadata": {},
   "outputs": [
    {
     "name": "stdout",
     "output_type": "stream",
     "text": [
      "[10 20 30]\n"
     ]
    },
    {
     "data": {
      "text/plain": [
       "array([ True, False, False])"
      ]
     },
     "execution_count": 18,
     "metadata": {},
     "output_type": "execute_result"
    }
   ],
   "source": [
    "print(a)\n",
    "a < 20"
   ]
  },
  {
   "cell_type": "markdown",
   "id": "9081a272-a1d5-4024-ae94-7ced5304a005",
   "metadata": {},
   "source": [
    "Slices in numpy one-dimension arrays work in a same way as in lists"
   ]
  },
  {
   "cell_type": "markdown",
   "id": "cef0b822-02e1-4026-bfb9-5d4c37ac4061",
   "metadata": {
    "tags": []
   },
   "source": [
    "### **`Access to matrix elements`**"
   ]
  },
  {
   "cell_type": "code",
   "execution_count": 19,
   "id": "467477ad-2a06-4948-a525-1123c7099d25",
   "metadata": {},
   "outputs": [
    {
     "name": "stdout",
     "output_type": "stream",
     "text": [
      "[[1 2 3]\n",
      " [4 5 6]\n",
      " [7 8 9]]\n"
     ]
    }
   ],
   "source": [
    "m = np.array([(1,2,3),(4,5,6),(7,8,9)])\n",
    "print(m)"
   ]
  },
  {
   "cell_type": "markdown",
   "id": "39f733a3-187a-496c-871d-3ceaf266e314",
   "metadata": {},
   "source": [
    "| slice/index | result | description |\n",
    "|---|---|---|\n",
    "| `m[1,2]` | `6` | an element located at the intersection of a row 2 and a column 3 |\n",
    "| `m[2]` | `[7 8 9]` |a row 3 |\n",
    "| `m[:,1]` | `[2 5 8]` | a column 2 |\n",
    "| `m[:2]` | `[[1,2,3],` <br> ` [4,5,6]]` | first 2 rows |\n",
    "| `m[1:2]` | `[[4,5,6],` <br> ` [7,8,9]]` | rows 1 and 2 |\n",
    "| `m[:,:2]` | `[[1,2],` <br> ` [4,5],` <br> ` [7,8]]` | first 2 columns |\n",
    "| `m[:,1:3]` | `[[2,3],` <br> ` [5,6],` <br> ` [8,9]]` | columns 2 and 3 |\n",
    "| `m[0:2,1:3]` | `[[2,3],` <br> ` [5,6]]` | a block of matrix at the intersection of rows 1 and 2 and columns 2 and 3 |\n",
    "\n"
   ]
  },
  {
   "cell_type": "markdown",
   "id": "03e33db5-206c-45c7-a792-c4f161f3d1de",
   "metadata": {
    "tags": []
   },
   "source": [
    "### **`numpy functions for matrix slices`**"
   ]
  },
  {
   "cell_type": "markdown",
   "id": "dccd6985-db2d-4d4c-b21d-6ba90b58a5d9",
   "metadata": {},
   "source": [
    "| numpy function | description |\n",
    "| --- | --- |\n",
    "| `np.max(m,0)` | finds max elements in each column of a matrix `m` |\n",
    "| `np.max(m,1)` | finds max elements in each row of a matrix `m` |\n",
    "| `np.min(m,0)` | finds min elements in each column of a matrix `m` |\n",
    "| `np.min(m,1)` | finds min elements in each row of a matrix `m` |\n",
    "| `np.mean(m,0)` | finds a mean value of each column of a matrix `m` |\n",
    "| `np.mean(m,1)` | finds a mean value of each row of a matrix `m` |\n",
    "| `np.sum(m,0)` | finds a sum of each column of a matrix `m` |\n",
    "| `np.sum(m,1)` | finds a sum of each row of a matrix `m` |\n",
    "| `np.prod(m,0)` | finds a production of each column in a matrix `m` |\n",
    "| `np.prod(m,1)` | finds a production of each row in a matrix `m` |\n",
    "| `np.diag(m)` | finds a diagonal of a matrix `m` |\n",
    "| `np.triu(m,i)` | extract a triangle matrix from a matrix `m`, `i` - an integer meaning a shift from the main giagonal |"
   ]
  },
  {
   "cell_type": "markdown",
   "id": "99d5bb77-464d-4349-a27d-4c71f8698e85",
   "metadata": {
    "tags": []
   },
   "source": [
    "### **`Array functions in numpy`**"
   ]
  },
  {
   "cell_type": "markdown",
   "id": "2c736137-da56-4a37-903b-34883d6afca2",
   "metadata": {},
   "source": [
    "| function | description |\n",
    "|---|---|\n",
    "| `round(a, k)` | returns an array with all elements rounded to `k` digits |\n",
    "| `abs(a)` | returns an array with all absolute elements |\n",
    "| `min(a)` | returns a minimum element in an array `a` |\n",
    "| `max(a)` | returns a maximum element in an array `a` |\n",
    "| `sum(a)` | returns a sum of all elements in an array `a` |\n",
    "| `sqrt(a)` | returns an array with all elements square rooted |\n",
    "| `prod(a)` | returns a multiplication of all elements in an array `a` |\n",
    "| `dot(a, b)` | returns a dot product of an array `a` and `b` |\n",
    "| `exp(a)` | returns an array with the number `e` raised to the power of every element in an array `a` |\n",
    "| `log(a)` | natural logarithm of every element in an array `a`. The base is `e` |\n",
    "| `degrees(x)` | returns an array with all the elements converted to degrees |\n",
    "| `radians(x)` | returns an array with all the elements converted to radians |\n",
    "| `sin(x)` | returns an array with all the elements from an array `a` sined |\n",
    "| `cos(x)` | returns an array with all the elements from an array `a` cosined |\n",
    "| `tan(x)` | returns an array with all the elements from an array `a` tangensed |\n",
    "| `arcos(x)` | returns an array with all the elements from an array `a` arcosined |\n",
    "| `arcsin(x)` | returns an array with all the elements from an array `a` arcsined |\n",
    "| `arctan(x)` | returns an array with all the elements from an array `a` arctangensed |\n",
    "| `polyfit(x, y, deg)` | returns polynomial coefficient(s) based on the points coordinates from arrays `x` and `y` for a  linear (deg = 1) or polynomial (deg >= 2) trend |\n",
    "| `polyval(a, x)` | takes a list of polynomial coeffs (result of `polyfit()`) and `x` and returns a solution for an equation `y = a[0]*x**(N-1) + a[1]*x**(N-2) + ... + a[N-2]*x + a[N-1]`, where `N` depends on the size of list `a` |\n"
   ]
  },
  {
   "cell_type": "markdown",
   "id": "de10cb4e-6b2e-4fd2-9083-6189aafa0841",
   "metadata": {
    "tags": []
   },
   "source": [
    "### **`Array methods in numpy`**"
   ]
  },
  {
   "cell_type": "markdown",
   "id": "6a8920ba-272a-4e65-992b-dc5183451a61",
   "metadata": {},
   "source": [
    "| method | description |\n",
    "|---|---|\n",
    "| `a.sum()` | a sum of element in an array `a` |\n",
    "| `a.prod()` | a multiplication of the elements in an array `a` |\n",
    "| `a.mean()` | a mean of all elements in an array `a` |\n",
    "| `a.max()` | a maximum element in an array `a` |\n",
    "| `a.min()` | a minimum element in an array `a` |\n",
    "| `a.abs()` | a minimum element in an array `a` |\n",
    "| `a.ndim` | an array `a` dimension |\n",
    "| `a.shape` | an array `a` shape (number of rows and columns) |\n",
    "| `a.size` | an array `a` size (number of all elements in an array) |\n",
    "| `where(a == n)[0]` | finds an index of an element in an array `a` which is equal to `n` |\n",
    "| `where(a < n)[0]` | finds index(es) of the element(s) in an array `a` which is/are less than `n` |\n",
    "| `where(logical_and(a > n, a < m))[0]` | finds index(es) of the element(s) in an array `a` which both greater than `n` AND less than `m` |"
   ]
  },
  {
   "cell_type": "markdown",
   "id": "d54297a0-e15c-4722-b105-e9598d9d1e78",
   "metadata": {},
   "source": [
    "### Example of calculation a trend <br>\n",
    "#### First, let's find the polynomial coefficients"
   ]
  },
  {
   "cell_type": "code",
   "execution_count": 20,
   "id": "0e599345-5c11-4600-be14-e39d30ea59f5",
   "metadata": {},
   "outputs": [],
   "source": [
    "# we are given a data with some values y depended on x from 0 up to some point of x\n",
    "# we need to show a trend and find an expected value y at some further point of x\n",
    "# assume that we know the equation type and its polynomial degree is 2, so we can create a trend\n",
    "\n",
    "# a function that calculates an equation \n",
    "# y = a[0]*x**(N-1) + a[1]*x**(N-2) + ... + a[N-2]*x + a[N-1], \n",
    "# where 'a' is of length N\n",
    "def get_trend(x, a): # we input x and polynomial coefficients\n",
    "    y = a[0] * x**2 + a[1]*x + a[2]\n",
    "    return y\n",
    "# this function above is equal to numpy function np.polyval(a, x)\n",
    "\n",
    "# this is a given data\n",
    "x_array = np.array([18.6, 99.9, 157.2, 219.9, 303.7, 399.6, 452.5, 528.4, 613.8, 669.7, 750.6, 816.2, 906.2])\n",
    "y_array = np.array([85.7, 173.8, 196.7, 259.6, 332.5, 379.3, 414.2, 419.7, 461.3, 438.9, 447.8, 434.1, 441.4])\n",
    "\n",
    "# let's find polynomial coefficients using np.polyfit()\n",
    "a = np.polyfit(x_array, y_array, 2)"
   ]
  },
  {
   "cell_type": "markdown",
   "id": "ab061a7c-97c2-4ad6-b4f0-fd4ef46fb75b",
   "metadata": {},
   "source": [
    "#### Now, let's draw a plot showing given points, a trend line and a calculated expected value at point 13503+6985236"
   ]
  },
  {
   "cell_type": "code",
   "execution_count": 25,
   "id": "59fb5be9-2421-4adf-b993-b20b5ece143e",
   "metadata": {},
   "outputs": [
    {
     "data": {
      "image/png": "[encoded data removed]",
      "text/plain": [
       "<Figure size 432x288 with 1 Axes>"
      ]
     },
     "metadata": {
      "needs_background": "light"
     },
     "output_type": "display_data"
    }
   ],
   "source": [
    "import matplotlib.pyplot as plt\n",
    "\n",
    "x_trend = [float(i) for i in range(10, 1500, 50)] # x-values for a trend (from 0 to 1450 with step 50)\n",
    "y_trend = [get_trend(i, a) for i in x_trend] # calculating y-values for each x using our function and calculated coefficients\n",
    "\n",
    "x_target = 1350 # our target point \n",
    "y_target = get_trend(x_target, a) # calculated y-value for our target point\n",
    "\n",
    "plt.plot(x_array, y_array, 'go') # showing given points\n",
    "plt.plot(x_trend, y_trend, 'r') # showing trend line\n",
    "plt.plot(x_target, y_target, 'b+',  markersize=20); # showing target point"
   ]
  },
  {
   "cell_type": "code",
   "execution_count": 27,
   "id": "f2ab8140-2323-4c5c-813f-250a3fef9a72",
   "metadata": {},
   "outputs": [
    {
     "data": {
      "image/png": "[encoded data removed]",
      "text/plain": [
       "<Figure size 432x288 with 1 Axes>"
      ]
     },
     "metadata": {
      "needs_background": "light"
     },
     "output_type": "display_data"
    }
   ],
   "source": [
    "# the same using 'polyval()'\n",
    "x_trend_2 = [float(i) for i in range(10, 1500, 50)]\n",
    "y_trend_2 = [polyval(a, i) for i in x_trend]\n",
    "plt.plot(x_array, y_array, 'go') # showing given points\n",
    "plt.plot(x_trend_2, y_trend_2, 'r') # showing trend line\n",
    "plt.plot(1350, get_trend(1350, a), 'b+',  markersize=20); # showing target point"
   ]
  }
 ],
 "metadata": {
  "kernelspec": {
   "display_name": "Python 3 (ipykernel)",
   "language": "python",
   "name": "python3"
  },
  "language_info": {
   "codemirror_mode": {
    "name": "ipython",
    "version": 3
   },
   "file_extension": ".py",
   "mimetype": "text/x-python",
   "name": "python",
   "nbconvert_exporter": "python",
   "pygments_lexer": "ipython3",
   "version": "3.9.7"
  }
 },
 "nbformat": 4,
 "nbformat_minor": 5
}
