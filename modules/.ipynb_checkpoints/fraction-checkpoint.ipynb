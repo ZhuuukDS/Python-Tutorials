{
 "cells": [
  {
   "cell_type": "markdown",
   "id": "a07e98d4-7ec2-46ae-baae-22439a898a99",
   "metadata": {
    "tags": []
   },
   "source": [
    "# **`fractions`** - working with simple fractions\n",
    "______________________________"
   ]
  },
  {
   "cell_type": "markdown",
   "id": "7795123a-d14c-403b-ba7d-9a183c9d6722",
   "metadata": {},
   "source": [
    "#### with module `fractions` we can create simple fractions with a given numerator and denominator"
   ]
  },
  {
   "cell_type": "markdown",
   "id": "eb8ae674-d6bb-42e9-839f-045d011e7d0b",
   "metadata": {},
   "source": [
    "#### type `Fractions` implemented in software, so much slower than `int` and `float` "
   ]
  },
  {
   "cell_type": "markdown",
   "id": "008c139f-8c6b-449f-9a97-135bc783ea75",
   "metadata": {},
   "source": [
    "#### `Fractions` is immutable"
   ]
  },
  {
   "cell_type": "markdown",
   "id": "5a5e5c8a-e757-4a4c-8e7a-df325a468330",
   "metadata": {
    "tags": []
   },
   "source": [
    "### **Creating `Fractions`**"
   ]
  },
  {
   "cell_type": "markdown",
   "id": "5ff4d345-d2b0-4c53-b7b1-1b82534304e2",
   "metadata": {},
   "source": [
    "`Fractions` can be created from:\n",
    "* from integers, by setting numerator and denominator\n",
    "* from string based on decimal representation\n",
    "* from string based on simple fraction\n",
    "* from the float number (not recommended)"
   ]
  },
  {
   "cell_type": "code",
   "execution_count": 1,
   "id": "a18870aa-689d-4f87-b330-7ffdd98eaeb4",
   "metadata": {},
   "outputs": [],
   "source": [
    "from fractions import Fraction"
   ]
  },
  {
   "cell_type": "code",
   "execution_count": 2,
   "id": "acf1d9b8-023b-403f-8228-37d4d5029efb",
   "metadata": {},
   "outputs": [
    {
     "name": "stdout",
     "output_type": "stream",
     "text": [
      "3/4 \t 33/50 \t 2/5\n"
     ]
    }
   ],
   "source": [
    "f1 = Fraction(3, 4)\n",
    "f2 = Fraction('0.66')\n",
    "f3 = Fraction('2/5')\n",
    "\n",
    "print(f1, '\\t', f2, '\\t', f3)"
   ]
  },
  {
   "cell_type": "markdown",
   "id": "e5c1d204-c2ae-41f5-9d9e-4b214c769d75",
   "metadata": {},
   "source": [
    "`Fraction` automatically reduct nominator and denominator and creates a simple fraction or a whole number"
   ]
  },
  {
   "cell_type": "code",
   "execution_count": 3,
   "id": "e39ea8e7-e61f-4ceb-a002-285a3f8fe323",
   "metadata": {},
   "outputs": [
    {
     "name": "stdout",
     "output_type": "stream",
     "text": [
      "1/10 \t 1 \t 5\n"
     ]
    }
   ],
   "source": [
    "f4 = Fraction('10/100')\n",
    "f5 = Fraction('5/5')\n",
    "f6 = Fraction('10/2')\n",
    "\n",
    "print(f4, '\\t', f5, '\\t', f6)"
   ]
  },
  {
   "cell_type": "markdown",
   "id": "16f12da2-d26d-4d99-99d7-8a4e100d2460",
   "metadata": {
    "tags": []
   },
   "source": [
    "### **Operations with `Fractions`**"
   ]
  },
  {
   "cell_type": "markdown",
   "id": "20fec917-ad69-483c-8537-8a69d93503c3",
   "metadata": {},
   "source": [
    "`Fractions` support all comparing operands: `> < = <= => == !=`"
   ]
  },
  {
   "cell_type": "markdown",
   "id": "5460b6fb-e0d9-45b6-9814-ce0b6f827b1f",
   "metadata": {},
   "source": [
    "with `fraction` numbers we can perform all basic arithmetic operations: `+ - * ** / // %` and we can use them with `int` numbers as well"
   ]
  },
  {
   "cell_type": "code",
   "execution_count": 4,
   "id": "f54d1828-970e-4231-91a2-c50501883d17",
   "metadata": {},
   "outputs": [
    {
     "name": "stdout",
     "output_type": "stream",
     "text": [
      "1/2 3/10 12/5 16/625\n"
     ]
    }
   ],
   "source": [
    "print(f3 + f4, f3 - f4, f3*6, f3**4)"
   ]
  },
  {
   "cell_type": "markdown",
   "id": "c74cbfb9-618f-43b8-8fdc-74c58634ac6d",
   "metadata": {},
   "source": [
    "`Fraction` numbers can be used in `math` functions that take `float` numbers, but in this case functions will return result in `float` type"
   ]
  },
  {
   "cell_type": "code",
   "execution_count": 5,
   "id": "89ffb07f-e6fb-4985-a9c1-3e5edde94b27",
   "metadata": {},
   "outputs": [
    {
     "name": "stdout",
     "output_type": "stream",
     "text": [
      "1.2 \t 0.4994813555186418 \t -0.5625699545336956\n"
     ]
    }
   ],
   "source": [
    "from math import *\n",
    "\n",
    "num1 = Fraction('1.44')\n",
    "num2 = Fraction('0.523')\n",
    "\n",
    "print(sqrt(num1), '\\t', sin(num2), '\\t', log(num1, num2))"
   ]
  },
  {
   "cell_type": "markdown",
   "id": "1a25e0f4-bbe1-4e27-b0dc-04db5f4daf6c",
   "metadata": {
    "tags": []
   },
   "source": [
    "### **`numerator`, `denominator` and `Fractions` methods**"
   ]
  },
  {
   "cell_type": "markdown",
   "id": "2108e8f6-668b-4c6e-ab9c-f2fbcbd90846",
   "metadata": {},
   "source": [
    "#### We can have `numerator` and `denominator` from the `Fraction` separtely"
   ]
  },
  {
   "cell_type": "code",
   "execution_count": 6,
   "id": "62efb81c-e7c4-465f-86f3-8f61997501ac",
   "metadata": {},
   "outputs": [
    {
     "data": {
      "text/plain": [
       "(-5, 16)"
      ]
     },
     "execution_count": 6,
     "metadata": {},
     "output_type": "execute_result"
    }
   ],
   "source": [
    "num = Fraction('-5/16')\n",
    "\n",
    "num.numerator, num.denominator"
   ]
  },
  {
   "cell_type": "markdown",
   "id": "f9a36966-eee7-48ad-ae5f-8431ca8aede9",
   "metadata": {},
   "source": [
    "#### Method `as_integer_ratio()` returns a tuple of numerator and denominator"
   ]
  },
  {
   "cell_type": "code",
   "execution_count": 7,
   "id": "4c230dbb-ff79-4c2f-904e-dc3d8892dd7d",
   "metadata": {},
   "outputs": [
    {
     "data": {
      "text/plain": [
       "(-5, 16)"
      ]
     },
     "execution_count": 7,
     "metadata": {},
     "output_type": "execute_result"
    }
   ],
   "source": [
    "num.as_integer_ratio()"
   ]
  },
  {
   "cell_type": "markdown",
   "id": "137cbb5b-f553-48c0-b176-2e06541086a8",
   "metadata": {},
   "source": [
    "#### Method `limit_denominator()` returns the closest rational fraction, which denominator doesn't exceed the argument in this method"
   ]
  },
  {
   "cell_type": "code",
   "execution_count": 8,
   "id": "c24c3a7d-12df-41ae-810a-e2eefa9d1faa",
   "metadata": {},
   "outputs": [
    {
     "name": "stdout",
     "output_type": "stream",
     "text": [
      "3.141592653589793\n",
      "3141592653589793/1000000000000000\n",
      "3126535/995207\n",
      "3\n",
      "16/5\n",
      "267/85\n",
      "312689/99532\n"
     ]
    }
   ],
   "source": [
    "print(pi)\n",
    "num = Fraction(str(pi))\n",
    "\n",
    "print(num) # no limit\n",
    "print(num.limit_denominator())\n",
    "print(num.limit_denominator(1))\n",
    "print(num.limit_denominator(5))\n",
    "print(num.limit_denominator(90))\n",
    "print(num.limit_denominator(100000))"
   ]
  },
  {
   "cell_type": "markdown",
   "id": "12967ffa-47d6-4ca4-98d3-7ce6500f823b",
   "metadata": {},
   "source": [
    "## **! You can't perform math operations between `Fraction` and `Decimal` numbers !**"
   ]
  },
  {
   "cell_type": "code",
   "execution_count": null,
   "id": "696763c9-15f2-4a3b-b175-4657a26247f7",
   "metadata": {},
   "outputs": [],
   "source": []
  }
 ],
 "metadata": {
  "kernelspec": {
   "display_name": "Python 3 (ipykernel)",
   "language": "python",
   "name": "python3"
  },
  "language_info": {
   "codemirror_mode": {
    "name": "ipython",
    "version": 3
   },
   "file_extension": ".py",
   "mimetype": "text/x-python",
   "name": "python",
   "nbconvert_exporter": "python",
   "pygments_lexer": "ipython3",
   "version": "3.9.7"
  }
 },
 "nbformat": 4,
 "nbformat_minor": 5
}
