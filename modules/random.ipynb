{
 "cells": [
  {
   "cell_type": "markdown",
   "id": "7b3456c3-6846-47e1-b410-98eb1259358d",
   "metadata": {
    "tags": []
   },
   "source": [
    "# **`random`** - working with random numbers\n",
    "______________________________"
   ]
  },
  {
   "cell_type": "markdown",
   "id": "0d490916-cb82-4660-8e76-fd7048221151",
   "metadata": {},
   "source": [
    "### Module `random` contains functions to operate with pseudo-random numbers"
   ]
  },
  {
   "cell_type": "code",
   "execution_count": 1,
   "id": "c569df44-52db-4922-a188-1ca85631beb3",
   "metadata": {},
   "outputs": [],
   "source": [
    "# ways to import a module\n",
    "\n",
    "from random import * # importing all functions from module (no need to type prefix random.)\n",
    "\n",
    "from random import randint # importing certain functions from the module random (no need to type prefix random.)\n",
    "\n",
    "import random # importing module, then need to use random. before the function name (random.randint())"
   ]
  },
  {
   "cell_type": "markdown",
   "id": "88b0805d-3faf-448f-90bc-c4d1747e3fdd",
   "metadata": {
    "tags": []
   },
   "source": [
    "### **`List of useful methods of the class random`**"
   ]
  },
  {
   "cell_type": "markdown",
   "id": "5f7e3550-1ca5-4905-b5d6-f45be868ce2a",
   "metadata": {},
   "source": [
    "| function | description |\n",
    "|---|---|\n",
    "| __`randint()`__ | takes arguments *a, b* and returns a random integer number from $[a, b]$ |\n",
    "| __`randrange()`__ | takes 1, 2 or 3 arguments (*a* - start of the range, *b* - end of the range, *c* - step) and returns a random integer number from a sequence of numbers $[a, b)$ |\n",
    "| __`random()`__ | takes no arguments and returns a random floating point number from $[0.0,1.0)$  |\n",
    "| __`uniform()`__ | takes 2 float numbers as arguments defining a range and returns a random float number from this range |\n",
    "| __`seed()`__ | takes an argument $a$ that sets the starting point for random number generator |\n",
    "| __`shuffle()`__ | takes a list as an argument and shuffles its elements in a random way (doesn't return, only changes)|\n",
    "| __`choice()`__ | takes a list (tuple or string, but not a set) as an argument and returns one random element (symbol) from this list (string)|\n",
    "| __`sample()`__ | takes 2 arguments - a list $k$ (string, tuple, set (deprecated)) and a number $n$ - and returns a **list** of $n$ random elements from the list $k$ |\n"
   ]
  },
  {
   "cell_type": "code",
   "execution_count": 2,
   "id": "a7dcb846-9d91-4351-b326-53033c930bbb",
   "metadata": {},
   "outputs": [
    {
     "data": {
      "text/plain": [
       "-4"
      ]
     },
     "execution_count": 2,
     "metadata": {},
     "output_type": "execute_result"
    }
   ],
   "source": [
    "random.randint(-5, 4)"
   ]
  },
  {
   "cell_type": "code",
   "execution_count": 3,
   "id": "a3718978-d7d3-44f7-bc48-7874259b2b31",
   "metadata": {},
   "outputs": [
    {
     "data": {
      "text/plain": [
       "4"
      ]
     },
     "execution_count": 3,
     "metadata": {},
     "output_type": "execute_result"
    }
   ],
   "source": [
    "random.randrange(2, 11, 2) # returns 1 random integer from a sequence (2, 4, 6, 8, 10)"
   ]
  },
  {
   "cell_type": "code",
   "execution_count": 4,
   "id": "f7af4580-d0ba-4a93-a861-6edd923e6697",
   "metadata": {},
   "outputs": [
    {
     "data": {
      "text/plain": [
       "0.07675865333318377"
      ]
     },
     "execution_count": 4,
     "metadata": {},
     "output_type": "execute_result"
    }
   ],
   "source": [
    "random.random() # returns a random float number from [0.0, 1.0)"
   ]
  },
  {
   "cell_type": "code",
   "execution_count": 5,
   "id": "d3ce311e-8add-4860-a9ac-c164c389f74f",
   "metadata": {},
   "outputs": [
    {
     "data": {
      "text/plain": [
       "10.434628087828985"
      ]
     },
     "execution_count": 5,
     "metadata": {},
     "output_type": "execute_result"
    }
   ],
   "source": [
    "random.uniform(1.5, 13.2) # returns a random float number from [1.5, 13.2]"
   ]
  },
  {
   "cell_type": "code",
   "execution_count": 6,
   "id": "2444f9af-6e8d-4785-a236-21ab05f9d0a2",
   "metadata": {},
   "outputs": [
    {
     "name": "stdout",
     "output_type": "stream",
     "text": [
      "31 18 43 34 43 "
     ]
    }
   ],
   "source": [
    "random.seed(12)\n",
    "for i in range(5):\n",
    "    print(random.randint(1,50), end = ' ') # each run will return the same 'random' number"
   ]
  },
  {
   "cell_type": "code",
   "execution_count": 7,
   "id": "b5be07e8-68be-4f19-a56f-ec25a276051e",
   "metadata": {},
   "outputs": [
    {
     "data": {
      "text/plain": [
       "[4, 0, 3, 1, 2]"
      ]
     },
     "execution_count": 7,
     "metadata": {},
     "output_type": "execute_result"
    }
   ],
   "source": [
    "lst = list(range(5))\n",
    "random.shuffle(lst) # makes changes in lst, but doesn't return it\n",
    "lst"
   ]
  },
  {
   "cell_type": "code",
   "execution_count": 8,
   "id": "522a0924-b09d-4fb9-8e66-c6066e51f9ad",
   "metadata": {},
   "outputs": [
    {
     "data": {
      "text/plain": [
       "'p'"
      ]
     },
     "execution_count": 8,
     "metadata": {},
     "output_type": "execute_result"
    }
   ],
   "source": [
    "random.choice('Apple') # takes a string, returns 1 random letter"
   ]
  },
  {
   "cell_type": "code",
   "execution_count": 9,
   "id": "bb21a6df-9cfe-49b7-9f3c-8030712a5039",
   "metadata": {},
   "outputs": [
    {
     "data": {
      "text/plain": [
       "4"
      ]
     },
     "execution_count": 9,
     "metadata": {},
     "output_type": "execute_result"
    }
   ],
   "source": [
    "random.choice([1, 2, 3, 4, 5]) # takes a list, returns 1 random element"
   ]
  },
  {
   "cell_type": "code",
   "execution_count": 10,
   "id": "e43b9bd9-08ff-42a8-a57c-90b626e18e41",
   "metadata": {},
   "outputs": [
    {
     "data": {
      "text/plain": [
       "2"
      ]
     },
     "execution_count": 10,
     "metadata": {},
     "output_type": "execute_result"
    }
   ],
   "source": [
    "random.choice(range(5)) # takes a range, returns 1 random element from a range"
   ]
  },
  {
   "cell_type": "code",
   "execution_count": 11,
   "id": "e7e8eaeb-748b-4b7b-9c9e-72e59a7008c2",
   "metadata": {},
   "outputs": [
    {
     "data": {
      "text/plain": [
       "True"
      ]
     },
     "execution_count": 11,
     "metadata": {},
     "output_type": "execute_result"
    }
   ],
   "source": [
    "random.choice(('1', '2', 'b', True, '5')) # takes a tuple, returns 1 random element"
   ]
  },
  {
   "cell_type": "code",
   "execution_count": 12,
   "id": "f8523b4e-ed6b-4a2c-92ef-016bae4b2a5e",
   "metadata": {},
   "outputs": [
    {
     "data": {
      "text/plain": [
       "[5, 2, 3]"
      ]
     },
     "execution_count": 12,
     "metadata": {},
     "output_type": "execute_result"
    }
   ],
   "source": [
    "nums = [1, 2, 3, 4, 5]\n",
    "random.sample(nums, 3)"
   ]
  },
  {
   "cell_type": "code",
   "execution_count": 13,
   "id": "aa21888c-c699-4cb2-84a8-847fe03b9b52",
   "metadata": {},
   "outputs": [
    {
     "data": {
      "text/plain": [
       "[1, 5]"
      ]
     },
     "execution_count": 13,
     "metadata": {},
     "output_type": "execute_result"
    }
   ],
   "source": [
    "nums = (1, True, 5, 'r')\n",
    "random.sample(nums, 2)"
   ]
  },
  {
   "cell_type": "code",
   "execution_count": 14,
   "id": "9d2e8ed8-2218-440c-a1e7-b4aa4b1a978f",
   "metadata": {},
   "outputs": [
    {
     "name": "stderr",
     "output_type": "stream",
     "text": [
      "/tmp/ipykernel_22650/3356747614.py:2: DeprecationWarning: Sampling from a set deprecated\n",
      "since Python 3.9 and will be removed in a subsequent version.\n",
      "  random.sample(nums, 2)\n"
     ]
    },
    {
     "data": {
      "text/plain": [
       "[5, 1]"
      ]
     },
     "execution_count": 14,
     "metadata": {},
     "output_type": "execute_result"
    }
   ],
   "source": [
    "nums = {1, True, 5, 'r'} # can't take a set from 3.9\n",
    "random.sample(nums, 2)"
   ]
  },
  {
   "cell_type": "markdown",
   "id": "3e7a655b-2bd3-4efd-92ee-d79575db9827",
   "metadata": {},
   "source": [
    "## Examples"
   ]
  },
  {
   "cell_type": "markdown",
   "id": "8b35c653-d3e4-4ef2-ba22-3381e4e68f67",
   "metadata": {},
   "source": [
    "1. A program that simulates coin flips"
   ]
  },
  {
   "cell_type": "code",
   "execution_count": 15,
   "id": "b15157b1-db7e-41ca-9070-6efea4d6359a",
   "metadata": {},
   "outputs": [
    {
     "name": "stdin",
     "output_type": "stream",
     "text": [
      " 4\n"
     ]
    },
    {
     "name": "stdout",
     "output_type": "stream",
     "text": [
      "Heads\tHeads\tTails\tHeads\t"
     ]
    }
   ],
   "source": [
    "n = int(input())\n",
    "\n",
    "for i in range(n):\n",
    "    print('Heads' if random.randint(0,1) else 'Tails', end = '\\t')"
   ]
  },
  {
   "cell_type": "markdown",
   "id": "a66aef57-277c-4dfd-bd87-e61863799684",
   "metadata": {},
   "source": [
    "2. A program that returns a 7-digits lottery ticket of with number from 1 to 49 in a sorted view"
   ]
  },
  {
   "cell_type": "code",
   "execution_count": 16,
   "id": "c89b5b2a-d7b8-4d89-9a7d-09c0ed6197f7",
   "metadata": {},
   "outputs": [
    {
     "name": "stdout",
     "output_type": "stream",
     "text": [
      "4 5 13 14 33 37 44\n"
     ]
    }
   ],
   "source": [
    "print(*sorted([random.randrange(1, 50) for _ in range(7)]))"
   ]
  },
  {
   "cell_type": "markdown",
   "id": "171215ab-0f12-4ed9-acea-b74199116796",
   "metadata": {},
   "source": [
    "3. Create a function `generate_ip` that generates an ip-address as *num.num.num.num* where *num* is between 0 and 255"
   ]
  },
  {
   "cell_type": "code",
   "execution_count": 17,
   "id": "e72eca53-6e6e-4ab0-882f-0d7a79137b1c",
   "metadata": {},
   "outputs": [
    {
     "data": {
      "text/plain": [
       "'172.207.44.9'"
      ]
     },
     "execution_count": 17,
     "metadata": {},
     "output_type": "execute_result"
    }
   ],
   "source": [
    "def generate_ip():\n",
    "#   return '.'.join([random.choice([str(i) for i in range(256)]) for _ in range(4)])\n",
    "    return '.'.join([str(random.randrange(0, 256)) for _ in range(4)])\n",
    "generate_ip()"
   ]
  },
  {
   "cell_type": "markdown",
   "id": "4696e025-7845-4de1-a899-9f5b90d092e0",
   "metadata": {},
   "source": [
    "4. A program that shuffles elements in a given matrix"
   ]
  },
  {
   "cell_type": "code",
   "execution_count": 18,
   "id": "f459e946-ef50-49ac-9fa2-8e6bd1e759c4",
   "metadata": {},
   "outputs": [
    {
     "data": {
      "text/plain": [
       "[[13, 16, 15, 14], [2, 4, 3, 1], [12, 10, 11, 9], [8, 7, 6, 5]]"
      ]
     },
     "execution_count": 18,
     "metadata": {},
     "output_type": "execute_result"
    }
   ],
   "source": [
    "matrix = [[1, 2, 3, 4],\n",
    "          [5, 6, 7, 8],\n",
    "          [9, 10, 11, 12],\n",
    "          [13, 14, 15, 16]]\n",
    "\n",
    "for i in matrix:\n",
    "    random.shuffle(i) # shuffle elements in each row\n",
    "random.shuffle(matrix) # shuffle rows\n",
    "\n",
    "matrix"
   ]
  },
  {
   "cell_type": "markdown",
   "id": "55967477-e226-463e-b2ff-c755b4516eaf",
   "metadata": {},
   "source": [
    "# **Bonus!!!**"
   ]
  },
  {
   "cell_type": "markdown",
   "id": "1c970d23-fce7-4189-89d7-5304fc580c11",
   "metadata": {
    "tags": []
   },
   "source": [
    "# **Module `string`**\n",
    "______________________________"
   ]
  },
  {
   "cell_type": "markdown",
   "id": "1a4f2362-2cd8-4963-9cc4-9c26145c81aa",
   "metadata": {},
   "source": [
    "#### There are some useful string constants stored in a standard module `string`"
   ]
  },
  {
   "cell_type": "code",
   "execution_count": 19,
   "id": "ff312c77-08eb-44a2-8596-ccdcd2c37ca7",
   "metadata": {},
   "outputs": [],
   "source": [
    "import string as s"
   ]
  },
  {
   "cell_type": "code",
   "execution_count": 20,
   "id": "1da6bb75-625e-42a2-8c34-e5972ea84647",
   "metadata": {},
   "outputs": [
    {
     "data": {
      "text/plain": [
       "'abcdefghijklmnopqrstuvwxyzABCDEFGHIJKLMNOPQRSTUVWXYZ'"
      ]
     },
     "execution_count": 20,
     "metadata": {},
     "output_type": "execute_result"
    }
   ],
   "source": [
    "s.ascii_letters # returns all latin letters"
   ]
  },
  {
   "cell_type": "code",
   "execution_count": 21,
   "id": "3c482f9f-795d-48d7-a86f-452aec762422",
   "metadata": {},
   "outputs": [
    {
     "data": {
      "text/plain": [
       "'ABCDEFGHIJKLMNOPQRSTUVWXYZ'"
      ]
     },
     "execution_count": 21,
     "metadata": {},
     "output_type": "execute_result"
    }
   ],
   "source": [
    "s.ascii_uppercase # returns all uppercase letters"
   ]
  },
  {
   "cell_type": "code",
   "execution_count": 22,
   "id": "68232550-fb26-483f-807c-823a702b037d",
   "metadata": {},
   "outputs": [
    {
     "data": {
      "text/plain": [
       "'abcdefghijklmnopqrstuvwxyz'"
      ]
     },
     "execution_count": 22,
     "metadata": {},
     "output_type": "execute_result"
    }
   ],
   "source": [
    "s.ascii_lowercase # returns all lowercase letters"
   ]
  },
  {
   "cell_type": "code",
   "execution_count": 23,
   "id": "2153957e-0678-4c56-aa86-941e09c42960",
   "metadata": {},
   "outputs": [
    {
     "data": {
      "text/plain": [
       "'0123456789'"
      ]
     },
     "execution_count": 23,
     "metadata": {},
     "output_type": "execute_result"
    }
   ],
   "source": [
    "s.digits # returns all digits"
   ]
  },
  {
   "cell_type": "code",
   "execution_count": 24,
   "id": "ce0ce9f2-e9a2-4acc-886d-b2aaf4bfab99",
   "metadata": {},
   "outputs": [
    {
     "data": {
      "text/plain": [
       "'0123456789abcdefABCDEF'"
      ]
     },
     "execution_count": 24,
     "metadata": {},
     "output_type": "execute_result"
    }
   ],
   "source": [
    "s.hexdigits"
   ]
  },
  {
   "cell_type": "code",
   "execution_count": 25,
   "id": "442d4405-af70-4dfe-a573-0c34172e0047",
   "metadata": {},
   "outputs": [
    {
     "data": {
      "text/plain": [
       "'01234567'"
      ]
     },
     "execution_count": 25,
     "metadata": {},
     "output_type": "execute_result"
    }
   ],
   "source": [
    "s.octdigits"
   ]
  },
  {
   "cell_type": "code",
   "execution_count": 26,
   "id": "34b47cee-6c42-4c76-be56-5b72d723b983",
   "metadata": {},
   "outputs": [
    {
     "data": {
      "text/plain": [
       "'!\"#$%&\\'()*+,-./:;<=>?@[\\\\]^_`{|}~'"
      ]
     },
     "execution_count": 26,
     "metadata": {},
     "output_type": "execute_result"
    }
   ],
   "source": [
    "s.punctuation"
   ]
  },
  {
   "cell_type": "code",
   "execution_count": 27,
   "id": "7b31dcf3-336e-46f6-a556-5257ee6ff960",
   "metadata": {
    "tags": []
   },
   "outputs": [
    {
     "data": {
      "text/plain": [
       "'0123456789abcdefghijklmnopqrstuvwxyzABCDEFGHIJKLMNOPQRSTUVWXYZ!\"#$%&\\'()*+,-./:;<=>?@[\\\\]^_`{|}~ \\t\\n\\r\\x0b\\x0c'"
      ]
     },
     "execution_count": 27,
     "metadata": {},
     "output_type": "execute_result"
    }
   ],
   "source": [
    "s.printable"
   ]
  },
  {
   "cell_type": "markdown",
   "id": "69b04ebe-a6e9-4e3d-a64c-f348272a6b45",
   "metadata": {},
   "source": [
    "## Examples"
   ]
  },
  {
   "cell_type": "markdown",
   "id": "59ea9b8f-38dc-4df2-b4c3-da9d5b8ed0ae",
   "metadata": {},
   "source": [
    "1. Create a function that generates `n` passwords length `m` each. Password have to include at least 1 digit, 1 uppercase and 1 lowercase and shouldn't include symbols `lI1oO0`"
   ]
  },
  {
   "cell_type": "code",
   "execution_count": 28,
   "id": "1ffd5e02-3cab-4a26-9696-a4001f4343d6",
   "metadata": {},
   "outputs": [
    {
     "name": "stdout",
     "output_type": "stream",
     "text": [
      "pjYG52uB34\n",
      "Ez824fAJ6c\n",
      "382g9kNpLW\n",
      "3Yz9Q4n5Ag\n"
     ]
    }
   ],
   "source": [
    "import random as r, string as s\n",
    "\n",
    "def generate_pswd(length): # function generates 1 password \n",
    "    up = list(set(s.ascii_uppercase) - set('IO'))\n",
    "    lo = list(set(s.ascii_lowercase) - set('lo'))\n",
    "    digs = list(set(s.digits) - set('10'))\n",
    "    \n",
    "    lst = r.sample(up, length//3) + r.sample(lo, length//3) + r.sample(digs, length - 2*length//3)\n",
    "    r.shuffle(lst)\n",
    "    \n",
    "    return ''.join(lst)\n",
    "\n",
    "\n",
    "def generate_pswds(count, length): # function generates count passwords\n",
    "    for i in range(count):\n",
    "        print(generate_pswd(length))\n",
    "\n",
    "n, m = 4, 10\n",
    "generate_pswds(n, m)"
   ]
  },
  {
   "cell_type": "markdown",
   "id": "a36595f8-bff6-400f-8623-7aae2fd87556",
   "metadata": {},
   "source": [
    "2. A function that generates a postal code as `LetterLetterNumber_NumberLetterLetter`, where `Letter` is a capital letter"
   ]
  },
  {
   "cell_type": "code",
   "execution_count": 29,
   "id": "bbb5dc28-b89a-4683-9752-02921470f3d0",
   "metadata": {},
   "outputs": [
    {
     "data": {
      "text/plain": [
       "'TA34_98ZK'"
      ]
     },
     "execution_count": 29,
     "metadata": {},
     "output_type": "execute_result"
    }
   ],
   "source": [
    "def generate_code():\n",
    "    return f'{r.choice(s.ascii_uppercase)}{r.choice(s.ascii_uppercase)}{str(r.randint(0, 99))}_{str(r.randint(0, 99))}{r.choice(s.ascii_uppercase)}{r.choice(s.ascii_uppercase)}'\n",
    "\n",
    "generate_code()"
   ]
  },
  {
   "cell_type": "code",
   "execution_count": null,
   "id": "7a9a8137-9f1d-4540-b87c-62d344657e1d",
   "metadata": {},
   "outputs": [],
   "source": []
  }
 ],
 "metadata": {
  "kernelspec": {
   "display_name": "Python 3 (ipykernel)",
   "language": "python",
   "name": "python3"
  },
  "language_info": {
   "codemirror_mode": {
    "name": "ipython",
    "version": 3
   },
   "file_extension": ".py",
   "mimetype": "text/x-python",
   "name": "python",
   "nbconvert_exporter": "python",
   "pygments_lexer": "ipython3",
   "version": "3.9.12"
  }
 },
 "nbformat": 4,
 "nbformat_minor": 5
}
