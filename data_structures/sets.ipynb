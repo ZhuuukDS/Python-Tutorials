{
 "cells": [
  {
   "cell_type": "markdown",
   "id": "7b3456c3-6846-47e1-b410-98eb1259358d",
   "metadata": {
    "tags": []
   },
   "source": [
    "# **Sets**\n",
    "______________________________"
   ]
  },
  {
   "cell_type": "markdown",
   "id": "32269eb0-5b5e-40d4-9747-42971e59551c",
   "metadata": {},
   "source": [
    "## Contents:\n",
    "- [Set creation](#Set-creation)\n",
    "- [Functions with sets](#Functions-with-sets)\n",
    "- [Operations with sets](#Operations-with-sets---iterating,-unpacking,-sorting,-comparing)\n",
    "- [Set methods and operations](#Set-methods-and-operations)\n",
    "- [Set comprehension](#Set-comprehension)\n",
    "- [Frozenset](#Frozenset)"
   ]
  },
  {
   "cell_type": "markdown",
   "id": "65aea7ef-e9d8-4472-904f-501040f07b56",
   "metadata": {
    "tags": []
   },
   "source": [
    "#### **`Set`** is a data structure that collects data in an unordered, unchangeable, and unindexed way.\n",
    "#### **`sets`**  are used to store multiple items in a single variable, but do not allow duplicate values.\n",
    "#### **`set`** is mutable"
   ]
  },
  {
   "cell_type": "markdown",
   "id": "89eb803c-64b6-468d-9c97-a655aa3a6eb3",
   "metadata": {
    "tags": []
   },
   "source": [
    "## **`Set creation`**"
   ]
  },
  {
   "cell_type": "code",
   "execution_count": 1,
   "id": "6f0ff6f1-567d-4437-bc0d-7c0a9cd000d8",
   "metadata": {},
   "outputs": [],
   "source": [
    "myset0_1 = set()              # empty set 1\n",
    "myset0_2 = set([])            # empty set 2\n",
    "myset0_3 = set('')            # empty set 3\n",
    "myset0_4 = set(())            # empty set 4\n",
    "\n",
    "myset2 = set(range(10))   # a set from a sequence\n",
    "myset3 = set([1,2,3,4,5]) # a set from a list\n",
    "myset4 = set('abcd')      # a set of chars from the string\n",
    "myset5 = set((10, 20, 30, 40))  # a set from the tuple elements\n",
    "myset6 = myset5.copy()          # a set from a set copy\n",
    "\n",
    "myset7 = set()\n",
    "for c in '12345':               # a set of numbers from a string\n",
    "    myset7.add(int(c))"
   ]
  },
  {
   "cell_type": "code",
   "execution_count": 2,
   "id": "29db68fe-2ea9-4f96-ab49-e3bdf9a29e8b",
   "metadata": {},
   "outputs": [
    {
     "name": "stdout",
     "output_type": "stream",
     "text": [
      "{'ccc', 'aaa', 'bbb'}\n",
      "{'c', 'a', ' ', 'b'}\n"
     ]
    }
   ],
   "source": [
    "# a difference between set of symbols from the string from the set of strings\n",
    "set1 = set(['aaa','bbb','ccc'])\n",
    "set2 = set('aaa bbb ccc')\n",
    "\n",
    "print(set1)\n",
    "print(set2)"
   ]
  },
  {
   "cell_type": "markdown",
   "id": "a81e1457-009f-45b5-ae9c-6ebd7b3dc93e",
   "metadata": {},
   "source": [
    "### Sets only include immutable iterated elements"
   ]
  },
  {
   "cell_type": "code",
   "execution_count": 3,
   "id": "f6179f43-9603-4475-8728-92a08dfcbb93",
   "metadata": {},
   "outputs": [
    {
     "name": "stdout",
     "output_type": "stream",
     "text": [
      "{1, 2, (5, 6), 7}\n"
     ]
    }
   ],
   "source": [
    "# s1 = {1, 2, [5, 6], 7} # NOK\n",
    "# s2 = {1, 2, {5, 6}, 7} # NOK\n",
    "s3 = {1, 2, (5, 6), 7}   # OK\n",
    "\n",
    "print(s3)"
   ]
  },
  {
   "cell_type": "markdown",
   "id": "f9ac4c68-2d4e-41cd-a094-000a4aec4df7",
   "metadata": {},
   "source": [
    "### Duplicates removing from the sets"
   ]
  },
  {
   "cell_type": "code",
   "execution_count": 4,
   "id": "254654e0-ea9d-4f76-b17b-6e7838117b9f",
   "metadata": {},
   "outputs": [
    {
     "name": "stdout",
     "output_type": "stream",
     "text": [
      "{'banana', 'apple', 'pear', 'orange'}\n",
      "{1, 2, 3, 4}\n",
      "{'c', 'a', 'b'}\n"
     ]
    }
   ],
   "source": [
    "basket = {'apple', 'orange', 'apple', 'pear', 'orange', 'banana'}\n",
    "numbers = set([1,2,2,3,4])\n",
    "letters = set('aaaaabbbbbccccc')\n",
    "\n",
    "# showing that duplicates have been removed\n",
    "print(basket)\n",
    "print(numbers)\n",
    "print(letters)"
   ]
  },
  {
   "cell_type": "markdown",
   "id": "4c42864e-39be-40b4-930c-57cb7c09d181",
   "metadata": {
    "tags": []
   },
   "source": [
    "## **`Functions with sets`**"
   ]
  },
  {
   "cell_type": "markdown",
   "id": "963285ad-684d-43f4-b582-4e49a0a56dac",
   "metadata": {},
   "source": [
    "#### sets support functions like `len()`, `sum()`, `min()`, `max()`\n",
    "#### sets __do not__ support indexing and slicing\n",
    "#### sets __do not__ support `+` and `*`"
   ]
  },
  {
   "cell_type": "code",
   "execution_count": 5,
   "id": "cc86990e-ef7d-45fd-80c7-945d6c59287f",
   "metadata": {},
   "outputs": [
    {
     "data": {
      "text/plain": [
       "4"
      ]
     },
     "execution_count": 5,
     "metadata": {},
     "output_type": "execute_result"
    }
   ],
   "source": [
    "len(basket) # length of the set - a number of elements in the set"
   ]
  },
  {
   "cell_type": "code",
   "execution_count": 6,
   "id": "85a74ab9-dfbb-423e-8233-ed278cf5a241",
   "metadata": {},
   "outputs": [
    {
     "data": {
      "text/plain": [
       "True"
      ]
     },
     "execution_count": 6,
     "metadata": {},
     "output_type": "execute_result"
    }
   ],
   "source": [
    "'orange' in basket # fast membership testing"
   ]
  },
  {
   "cell_type": "code",
   "execution_count": 7,
   "id": "ba012199-230c-409a-bd17-e993802dfcec",
   "metadata": {},
   "outputs": [
    {
     "data": {
      "text/plain": [
       "True"
      ]
     },
     "execution_count": 7,
     "metadata": {},
     "output_type": "execute_result"
    }
   ],
   "source": [
    "'crabgrass' not in basket"
   ]
  },
  {
   "cell_type": "code",
   "execution_count": 8,
   "id": "2111b09d-2a1c-46ce-bdef-d56d3be53b60",
   "metadata": {},
   "outputs": [
    {
     "name": "stdout",
     "output_type": "stream",
     "text": [
      "9\n",
      "2\n",
      "4\n"
     ]
    }
   ],
   "source": [
    "numbers = {2,2,2,3,3,3,3,4,4,4} # duplicates will be removed\n",
    "\n",
    "print(sum(numbers)) # counts a sum of numbers in the set\n",
    "print(min(numbers))\n",
    "print(max(numbers))"
   ]
  },
  {
   "cell_type": "markdown",
   "id": "4c21e9df-7e77-4d87-88e1-8f9921c22acd",
   "metadata": {
    "tags": []
   },
   "source": [
    "## **`Operations with sets`** - iterating, unpacking, sorting, comparing"
   ]
  },
  {
   "cell_type": "code",
   "execution_count": 9,
   "id": "246b6a6c-e716-4416-ad02-a305d5344efb",
   "metadata": {},
   "outputs": [
    {
     "name": "stdout",
     "output_type": "stream",
     "text": [
      "2\n",
      "3\n",
      "4\n"
     ]
    }
   ],
   "source": [
    "# iterating\n",
    "for num in numbers:\n",
    "    print(num)"
   ]
  },
  {
   "cell_type": "code",
   "execution_count": 10,
   "id": "dffeb304-f2d8-43d2-83b2-5c9339733124",
   "metadata": {},
   "outputs": [
    {
     "name": "stdout",
     "output_type": "stream",
     "text": [
      "2 3 4\n"
     ]
    }
   ],
   "source": [
    "# unpacking\n",
    "print(*numbers)"
   ]
  },
  {
   "cell_type": "code",
   "execution_count": 11,
   "id": "7753ce39-9311-4c50-9311-929189649325",
   "metadata": {},
   "outputs": [
    {
     "name": "stdout",
     "output_type": "stream",
     "text": [
      "4 3 2\n"
     ]
    }
   ],
   "source": [
    "# sorting\n",
    "print(*sorted(numbers, reverse = True)) # reverse is optional"
   ]
  },
  {
   "cell_type": "code",
   "execution_count": 12,
   "id": "336d9f5f-0cbd-4c4c-bf5c-a99512aea420",
   "metadata": {},
   "outputs": [
    {
     "name": "stdout",
     "output_type": "stream",
     "text": [
      "True\n",
      "False\n",
      "True\n"
     ]
    }
   ],
   "source": [
    "# comparing\n",
    "set1 = {1,2,3,3,3,3}\n",
    "set2 = {2,1,3}\n",
    "set3 = {1,2,3,4}\n",
    "\n",
    "print(set1 == set2)\n",
    "print(set1 == set3)\n",
    "print(set1 != set3)"
   ]
  },
  {
   "cell_type": "markdown",
   "id": "b7bc6990-ecb5-4f0d-a84d-a11d3c4ed45c",
   "metadata": {
    "tags": []
   },
   "source": [
    "## **`Set methods and operations`**"
   ]
  },
  {
   "cell_type": "markdown",
   "id": "3ffc15fd-fcbe-4071-8ee6-bd8ba983e174",
   "metadata": {},
   "source": [
    "### Methods that change a set"
   ]
  },
  {
   "cell_type": "markdown",
   "id": "ca26bd29-dca7-4814-85f6-0855d2141861",
   "metadata": {},
   "source": [
    "| method | what it does |\n",
    "| --- | --- |\n",
    "| **`s.add(element)`** | adding new element |\n",
    "|**`s.remove(element)`** | removing an element with an error if not found |\n",
    "|**`s.discard(element)`** | removing an element with no error if not found |\n",
    "|**`set.pop()`** | removing the first element (which is actually random) from the set |\n",
    "| **`s.clear()`** | deleting all elements from the set |"
   ]
  },
  {
   "cell_type": "code",
   "execution_count": 13,
   "id": "05edba02-6a67-48c2-97f6-445208282f83",
   "metadata": {},
   "outputs": [
    {
     "data": {
      "text/plain": [
       "{'apple', 'banana', 'kiwi', 'orange', 'pear'}"
      ]
     },
     "execution_count": 13,
     "metadata": {},
     "output_type": "execute_result"
    }
   ],
   "source": [
    "basket.add('kiwi')\n",
    "basket"
   ]
  },
  {
   "cell_type": "code",
   "execution_count": 14,
   "id": "7b39ddc9-739a-4e3a-ab2a-d4374b344189",
   "metadata": {},
   "outputs": [
    {
     "data": {
      "text/plain": [
       "{'apple', 'banana', 'kiwi', 'orange'}"
      ]
     },
     "execution_count": 14,
     "metadata": {},
     "output_type": "execute_result"
    }
   ],
   "source": [
    "basket.remove('pear')\n",
    "basket"
   ]
  },
  {
   "cell_type": "code",
   "execution_count": 15,
   "id": "e40b8893-3589-4a16-8137-f25b94308156",
   "metadata": {},
   "outputs": [
    {
     "data": {
      "text/plain": [
       "{'apple', 'banana', 'kiwi', 'orange'}"
      ]
     },
     "execution_count": 15,
     "metadata": {},
     "output_type": "execute_result"
    }
   ],
   "source": [
    "basket.discard('pineapple')\n",
    "basket"
   ]
  },
  {
   "cell_type": "code",
   "execution_count": 16,
   "id": "0223137c-0774-4ade-86d3-15e6efb43c79",
   "metadata": {},
   "outputs": [
    {
     "data": {
      "text/plain": [
       "'apple'"
      ]
     },
     "execution_count": 16,
     "metadata": {},
     "output_type": "execute_result"
    }
   ],
   "source": [
    "basket.pop()"
   ]
  },
  {
   "cell_type": "code",
   "execution_count": 17,
   "id": "cfdf372f-f2a7-46ca-a153-066e664c0235",
   "metadata": {},
   "outputs": [
    {
     "data": {
      "text/plain": [
       "{1, 2, 3, 'banana', 'kiwi', 'orange'}"
      ]
     },
     "execution_count": 17,
     "metadata": {},
     "output_type": "execute_result"
    }
   ],
   "source": [
    "basket.update(set1)\n",
    "basket"
   ]
  },
  {
   "cell_type": "code",
   "execution_count": 18,
   "id": "bd71ab68-c58e-45b1-82dd-0cd16033b6e2",
   "metadata": {},
   "outputs": [
    {
     "data": {
      "text/plain": [
       "{1, 2, 3, 'banana', 'kiwi', 'orange'}"
      ]
     },
     "execution_count": 18,
     "metadata": {},
     "output_type": "execute_result"
    }
   ],
   "source": [
    "basket.copy()"
   ]
  },
  {
   "cell_type": "code",
   "execution_count": 19,
   "id": "758dae67-ee9d-4e58-bb0a-5c75c3d99526",
   "metadata": {},
   "outputs": [
    {
     "data": {
      "text/plain": [
       "set()"
      ]
     },
     "execution_count": 19,
     "metadata": {},
     "output_type": "execute_result"
    }
   ],
   "source": [
    "basket.clear()\n",
    "basket"
   ]
  },
  {
   "cell_type": "markdown",
   "id": "5acd2344-9d24-4f72-b46f-fc7c87ef4178",
   "metadata": {},
   "source": [
    "### Operations with 2 or more sets without changing it \n",
    "#### These methods return a new set"
   ]
  },
  {
   "cell_type": "markdown",
   "id": "c79bd1fb-1272-4e84-af13-5c917a46b7f5",
   "metadata": {},
   "source": [
    "| method | description |\n",
    "| --- | --- |\n",
    "| **`set1.union(set2)`** | union of two sets *(set1 \\| set2)* |\n",
    "|**`set1.intersection(set2)`** | intersection of two sets *(set1 & set2)* |\n",
    "|**`set1.difference(set2)`** | difference of two sets *(set1 - set2)* |\n",
    "|**`set1.symmetric_difference(set2)`** | symmetric difference of two sets *(set1 ^ set2)* |"
   ]
  },
  {
   "cell_type": "markdown",
   "id": "5fb5b854-691e-4832-9318-bd1b44b09858",
   "metadata": {
    "tags": []
   },
   "source": [
    "#### Sets union\n",
    "<img src='../pics/sets_union.png' width = 200>"
   ]
  },
  {
   "cell_type": "code",
   "execution_count": 20,
   "id": "17f6a531-108d-417a-aebc-2c49406f434e",
   "metadata": {},
   "outputs": [],
   "source": [
    "myset1 = {1, 2, 3, 4, 5}\n",
    "myset2 = {3, 4, 6, 7, 8}"
   ]
  },
  {
   "cell_type": "code",
   "execution_count": 21,
   "id": "75ca8646-3eed-4938-aee4-551d4e4ceceb",
   "metadata": {},
   "outputs": [
    {
     "data": {
      "text/plain": [
       "{1, 2, 3, 4, 5, 6, 7, 8}"
      ]
     },
     "execution_count": 21,
     "metadata": {},
     "output_type": "execute_result"
    }
   ],
   "source": [
    "myset3 = myset1.union(myset2)\n",
    "# which is equal to\n",
    "myset3 = myset1 | myset2\n",
    "\n",
    "myset3"
   ]
  },
  {
   "cell_type": "markdown",
   "id": "3185e797-0902-4c4e-8b2c-6f45ae99a025",
   "metadata": {},
   "source": [
    "#### Sets intersection\n",
    "<img src='../pics/sets_intersection.png' width = 200>"
   ]
  },
  {
   "cell_type": "code",
   "execution_count": 22,
   "id": "19167990-95a6-49fc-bc3a-71a84ec8d6fa",
   "metadata": {},
   "outputs": [],
   "source": [
    "myset1 = {1, 2, 3, 4, 5}\n",
    "myset2 = {3, 4, 6, 7, 8}"
   ]
  },
  {
   "cell_type": "code",
   "execution_count": 23,
   "id": "c8a3bea8-9fe3-4c64-b2fe-27483a210a39",
   "metadata": {},
   "outputs": [
    {
     "data": {
      "text/plain": [
       "{3, 4}"
      ]
     },
     "execution_count": 23,
     "metadata": {},
     "output_type": "execute_result"
    }
   ],
   "source": [
    "myset3 = myset1.intersection(myset2)\n",
    "# which is equal to\n",
    "myset3 = myset1 & myset2\n",
    "\n",
    "myset3"
   ]
  },
  {
   "cell_type": "markdown",
   "id": "604b9b9e-c7a2-4be7-9ed5-5d63c00819b1",
   "metadata": {},
   "source": [
    "#### Sets difference\n",
    "<img src='../pics/sets_difference.png' width = 200>"
   ]
  },
  {
   "cell_type": "code",
   "execution_count": 24,
   "id": "a47cb170-b623-4e6a-b104-7c0aafa67561",
   "metadata": {},
   "outputs": [],
   "source": [
    "myset1 = {1, 2, 3, 4, 5}\n",
    "myset2 = {3, 4, 6, 7, 8}"
   ]
  },
  {
   "cell_type": "code",
   "execution_count": 25,
   "id": "8a9aabd4-84c7-4edd-a10b-c036ef447207",
   "metadata": {},
   "outputs": [
    {
     "data": {
      "text/plain": [
       "{1, 2, 5}"
      ]
     },
     "execution_count": 25,
     "metadata": {},
     "output_type": "execute_result"
    }
   ],
   "source": [
    "myset3 = myset1.difference(myset2)\n",
    "# which is equal to\n",
    "myset3 = myset1 - myset2\n",
    "\n",
    "myset3"
   ]
  },
  {
   "cell_type": "code",
   "execution_count": 26,
   "id": "635a3f90-6b27-40cb-a0b2-d067fd736cf5",
   "metadata": {},
   "outputs": [
    {
     "data": {
      "text/plain": [
       "{6, 7, 8}"
      ]
     },
     "execution_count": 26,
     "metadata": {},
     "output_type": "execute_result"
    }
   ],
   "source": [
    "myset4 = myset2.difference(myset1)\n",
    "# which is equal to\n",
    "myset4 = myset2 - myset1\n",
    "\n",
    "myset4"
   ]
  },
  {
   "cell_type": "markdown",
   "id": "4393719d-2191-4793-acb1-07ad16af8168",
   "metadata": {},
   "source": [
    "#### Symmetric difference of the sets\n",
    "<img src='../pics/sets_sym_difference.png' width = 200>"
   ]
  },
  {
   "cell_type": "code",
   "execution_count": 27,
   "id": "2df296b7-04f7-492f-8058-4d5b9badfa53",
   "metadata": {},
   "outputs": [],
   "source": [
    "myset1 = {1, 2, 3, 4, 5}\n",
    "myset2 = {3, 4, 6, 7, 8}"
   ]
  },
  {
   "cell_type": "code",
   "execution_count": 28,
   "id": "eeee1c57-374c-4ced-8b35-8c5c866ce830",
   "metadata": {},
   "outputs": [
    {
     "data": {
      "text/plain": [
       "{1, 2, 5, 6, 7, 8}"
      ]
     },
     "execution_count": 28,
     "metadata": {},
     "output_type": "execute_result"
    }
   ],
   "source": [
    "myset3 = myset1.symmetric_difference(myset2)\n",
    "# which is equal to\n",
    "myset3 = myset1 ^ myset2\n",
    "\n",
    "myset3"
   ]
  },
  {
   "cell_type": "code",
   "execution_count": 29,
   "id": "1fd87838-cc67-45b9-9286-896dc3100316",
   "metadata": {
    "tags": []
   },
   "outputs": [
    {
     "data": {
      "text/plain": [
       "True"
      ]
     },
     "execution_count": 29,
     "metadata": {},
     "output_type": "execute_result"
    }
   ],
   "source": [
    "myset1 ^ myset2 == myset2 ^ myset1 # because of symmetry"
   ]
  },
  {
   "cell_type": "markdown",
   "id": "5fa9b56a-b42d-4844-b2d8-31d49a0def2d",
   "metadata": {},
   "source": [
    "#### Methods above can take not only sets as arguments but also another iterated object, however operands can be used only with sets"
   ]
  },
  {
   "cell_type": "markdown",
   "id": "5c598786-a29b-42b2-ae68-c2dd96d61c05",
   "metadata": {},
   "source": [
    "### Corresponding methods that change sets:"
   ]
  },
  {
   "cell_type": "markdown",
   "id": "aa88a6ee-da66-481d-a030-5ac2340be0f8",
   "metadata": {},
   "source": [
    "| method | description |\n",
    "| --- | --- |\n",
    "|**`s.update(another_set, ...)`** | sets union |\n",
    "|**`s.intersection_update(another_set, ...)`** | sets intersection |\n",
    "|**`s.difference_update(another_set, ...)`** | sets difference |\n",
    "|**`s.symmetric_difference_update(another_set)`** | set of elements found in one set, but not found in both |"
   ]
  },
  {
   "cell_type": "markdown",
   "id": "0083f791-35b5-41c6-af7c-cdc4e4a93ca6",
   "metadata": {},
   "source": [
    "### Subsets and Supersets"
   ]
  },
  {
   "cell_type": "markdown",
   "id": "12e4f96b-c781-470f-91ab-14b7144a44b9",
   "metadata": {},
   "source": [
    "| method | what it does |\n",
    "|---|---|\n",
    "|**`set1.issubset(set2)`** or **`set1 <= set2`** | checks if all elements of set1 belong to set2 |\n",
    "|**`set2.issuperset(set1)`** or **`set2 >= set1`** | the same as above - checks if set2 is a superset of set1 |\n",
    "|**`set1.isdisjoint(set2)`** | checks if set1 and set2 don't have common elements (True if no common elements) |"
   ]
  },
  {
   "cell_type": "code",
   "execution_count": 30,
   "id": "bece0132-b3b3-49e5-86e3-a826b02ba74f",
   "metadata": {},
   "outputs": [],
   "source": [
    "set1 = {2, 3}\n",
    "set2 = {1, 2, 3, 4, 5, 6}"
   ]
  },
  {
   "cell_type": "code",
   "execution_count": 31,
   "id": "c468a7d0-ab69-4956-bb95-8afbac1f0f3b",
   "metadata": {},
   "outputs": [
    {
     "data": {
      "text/plain": [
       "True"
      ]
     },
     "execution_count": 31,
     "metadata": {},
     "output_type": "execute_result"
    }
   ],
   "source": [
    "set1.issubset(set2)"
   ]
  },
  {
   "cell_type": "code",
   "execution_count": 32,
   "id": "55518023-2aaf-4260-870e-994434e9ac69",
   "metadata": {},
   "outputs": [
    {
     "data": {
      "text/plain": [
       "True"
      ]
     },
     "execution_count": 32,
     "metadata": {},
     "output_type": "execute_result"
    }
   ],
   "source": [
    "set2.issuperset(set1)"
   ]
  },
  {
   "cell_type": "code",
   "execution_count": 33,
   "id": "084ce815-334a-4f03-ba11-a8186edfb6a6",
   "metadata": {},
   "outputs": [
    {
     "data": {
      "text/plain": [
       "False"
      ]
     },
     "execution_count": 33,
     "metadata": {},
     "output_type": "execute_result"
    }
   ],
   "source": [
    "set1.isdisjoint(set2)"
   ]
  },
  {
   "cell_type": "markdown",
   "id": "71aa2b1e-9f82-4ec9-8242-2e6abb34b983",
   "metadata": {
    "tags": []
   },
   "source": [
    "### Comparison table for methods and operands"
   ]
  },
  {
   "cell_type": "markdown",
   "id": "d88b6328-a6c8-46c4-a3f2-f7f1e624c1bf",
   "metadata": {},
   "source": [
    "| function | description |\n",
    "|---|---|\n",
    "| __`A \\| B`__ <br> __`A.union(B)`__ | returns a new set that is a union of `A` and `B` |\n",
    "| __`A \\|= B`__ <br> __`A.update(B)`__ | adds to `A` all elements from `B` |\n",
    "| __`A & B`__ <br> __`A.intersection(B)`__ | returns a new set that is an intersection of `A` and `B` |\n",
    "| __`A &= B`__ <br> __`A.intersection_update(B)`__ | keeps in `A` only those elements that are in `B` |\n",
    "| __`A - B`__ <br> __`A.difference(B)`__ | returns a difference between `A` and `B` |\n",
    "| __`A -= B`__ <br> __`A.difference_update(B)`__ | removes from `A` those elements that are in `B` |\n",
    "| __`A ^ B`__ <br> __`A.symmetric_difference(B)`__ | returns a symmetric difference between `A` and `B` |\n",
    "| __`A ^= B`__ <br> __`A.symmetric_difference_update(B)`__ | puts in `A` a symmetric difference between `A` and `B` |\n",
    "| __`A <= B`__ <br> __`A.issubset(B)`__ | returns `True` if `A` is a subset of `B` |\n",
    "| __`A >= B`__ <br> __`A.issuperset(B)`__ | returns `True` if `A` is a superset of `B` |\n",
    "| __`A < B`__ | equals to __`A <= B and A != B`__ |\n",
    "| __`A > B`__ | equals to __`A >= B and A != B`__ |\n",
    "\n"
   ]
  },
  {
   "cell_type": "markdown",
   "id": "8f7a049f-ffd9-4b69-90c3-9a0833bfe2a7",
   "metadata": {
    "tags": []
   },
   "source": [
    "## **`Set comprehension`**"
   ]
  },
  {
   "cell_type": "markdown",
   "id": "b9bffb25-20a3-4593-b97b-ab693436f650",
   "metadata": {},
   "source": [
    "The same mechanism as list comprehension is also supported for sets"
   ]
  },
  {
   "cell_type": "code",
   "execution_count": 34,
   "id": "20becb8b-0ca0-40ea-aad4-a7f6bf8f1b9a",
   "metadata": {},
   "outputs": [
    {
     "data": {
      "text/plain": [
       "{1, 2, 3, 4, 5}"
      ]
     },
     "execution_count": 34,
     "metadata": {},
     "output_type": "execute_result"
    }
   ],
   "source": [
    "digits = {int(i) for i in '12345'} # or from the input()\n",
    "digits"
   ]
  },
  {
   "cell_type": "code",
   "execution_count": 35,
   "id": "e88f4a21-2da2-45cf-aacb-85cb9ccb6331",
   "metadata": {},
   "outputs": [
    {
     "data": {
      "text/plain": [
       "{3, 4, 5, 6}"
      ]
     },
     "execution_count": 35,
     "metadata": {},
     "output_type": "execute_result"
    }
   ],
   "source": [
    "digits2 = {int(i) for i in 'abcg345jfyR5634,sd' if i.isdigit()}\n",
    "digits2"
   ]
  },
  {
   "cell_type": "code",
   "execution_count": 36,
   "id": "de4b0668-39c9-464a-96f9-f5c2e7f1e595",
   "metadata": {},
   "outputs": [
    {
     "data": {
      "text/plain": [
       "{'d', 'r'}"
      ]
     },
     "execution_count": 36,
     "metadata": {},
     "output_type": "execute_result"
    }
   ],
   "source": [
    "a = {x for x in 'abracadabra' if x not in 'abc'}\n",
    "a"
   ]
  },
  {
   "cell_type": "markdown",
   "id": "20ec4618-b379-4427-ab9c-353b5f6f63e1",
   "metadata": {
    "tags": []
   },
   "source": [
    "## **`Frozenset`**"
   ]
  },
  {
   "cell_type": "markdown",
   "id": "44f67659-77a2-4dfb-86a4-3171a1fe1e22",
   "metadata": {},
   "source": [
    "#### **`Frozenset`** - is a set that is immutable\n",
    "#### **`Frozensets`** support all the same operations and methods like usual sets do, except those that change the set\n",
    "#### Unlike the usual sets, **`frozensets`** can be the elements of other sets (cause frozensets are immutable)\n",
    "#### **`Frozensets`** can be compared with usual sets (frozenset == set)"
   ]
  },
  {
   "cell_type": "markdown",
   "id": "c3d49cbe-ce66-47ec-8f00-2b6726b9d1e6",
   "metadata": {
    "tags": []
   },
   "source": [
    "### Frozenset creation"
   ]
  },
  {
   "cell_type": "code",
   "execution_count": 37,
   "id": "b77e1f60-969a-4e78-bb8b-62e2a88c88cd",
   "metadata": {},
   "outputs": [],
   "source": [
    "my_frozen_set1 = frozenset({1, 2, 3, 4, 5})                # a frozenset from a set\n",
    "my_frozen_set2 = frozenset([1, 2, 2, 3, 4, 3, 4, 3, 5, 5]) # a frozenset from a list\n",
    "my_frozen_set3 = frozenset('aaaaabbbbcccdddffddd')         # a frozenset from a string"
   ]
  },
  {
   "cell_type": "code",
   "execution_count": 38,
   "id": "0b1828cd-8808-481d-bffb-1099410b8267",
   "metadata": {},
   "outputs": [
    {
     "name": "stdout",
     "output_type": "stream",
     "text": [
      "frozenset({1, 2, 3, 4, 5})\n",
      "frozenset({1, 2, 3, 4, 5})\n",
      "frozenset({'c', 'a', 'f', 'd', 'b'})\n"
     ]
    }
   ],
   "source": [
    "print(my_frozen_set1)\n",
    "print(my_frozen_set2)\n",
    "print(my_frozen_set3)"
   ]
  }
 ],
 "metadata": {
  "kernelspec": {
   "display_name": "Python 3 (ipykernel)",
   "language": "python",
   "name": "python3"
  },
  "language_info": {
   "codemirror_mode": {
    "name": "ipython",
    "version": 3
   },
   "file_extension": ".py",
   "mimetype": "text/x-python",
   "name": "python",
   "nbconvert_exporter": "python",
   "pygments_lexer": "ipython3",
   "version": "3.9.12"
  }
 },
 "nbformat": 4,
 "nbformat_minor": 5
}
