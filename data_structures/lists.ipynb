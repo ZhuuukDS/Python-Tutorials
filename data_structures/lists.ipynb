{
 "cells": [
  {
   "cell_type": "markdown",
   "id": "03c4dd91-16ba-4e7d-8bab-c2f2ea0587a8",
   "metadata": {
    "tags": []
   },
   "source": [
    "# **Lists**\n",
    "______________________________"
   ]
  },
  {
   "cell_type": "markdown",
   "id": "06a3e68f-83d0-43a3-b909-c288882b06e5",
   "metadata": {},
   "source": [
    "## Contents:\n",
    "- [List creation](#List-creation)\n",
    "- [Print a list](#Print-a-list)\n",
    "- [Operations with lists](#Operations-with-lists)\n",
    "- [List functions](#List-functions)\n",
    "- [Indexing and slicing](#Indexing-and-slicing)\n",
    "- [List methods](#List-methods)\n",
    "- [List comprehension](#List-comprehension)\n",
    "- [Lists of lists](#Lists-of-lists)\n",
    "- [Nested lists functions](#Nested-lists-functions)\n",
    "- [Nested list methods](#Nested-list-methods)\n",
    "- [Matrices as lists of lists](#Matrices-as-lists-of-lists)\n",
    "- [Actions with matrices](#Actions-with-matrices)\n",
    "- [Operations under the matrices](#Operations-under-the-matrices)"
   ]
  },
  {
   "cell_type": "markdown",
   "id": "fd3bd33d-2274-4c25-b9db-9557aaacc2ce",
   "metadata": {
    "jp-MarkdownHeadingCollapsed": true,
    "tags": []
   },
   "source": [
    "#### **`list`** is a data structure that collects data as stack\n",
    "#### **`list`** is mutable"
   ]
  },
  {
   "cell_type": "markdown",
   "id": "17332b84-42ba-4473-b491-908452bf4aa9",
   "metadata": {
    "tags": []
   },
   "source": [
    "## **`List creation`**"
   ]
  },
  {
   "cell_type": "code",
   "execution_count": 1,
   "id": "a1af07c8-4299-4d6f-83db-8b5c3b3c17e2",
   "metadata": {},
   "outputs": [],
   "source": [
    "# list creation\n",
    "mylist1 = [] # empty list\n",
    "mylist2 = list() # empty list\n",
    "numbers = [1,2,3,4,5] # create a list with elements (can be other objects as well)\n",
    "numbers = list(range(1, 6)) # the same as above\n",
    "even_numbers = list(range(0, 11, 2))\n",
    "odd_numbers = list(range(1, 12, 2))\n",
    "chars = list('abcd')\n",
    "words = ['this','is','my','list']"
   ]
  },
  {
   "cell_type": "markdown",
   "id": "3a8c5e5f-aad8-4ce9-9ac7-4d9f9f547170",
   "metadata": {
    "tags": []
   },
   "source": [
    "## **`Print a list`**"
   ]
  },
  {
   "cell_type": "code",
   "execution_count": 2,
   "id": "4392d0f0-fb03-48b5-9a6c-c289c2c44e17",
   "metadata": {},
   "outputs": [
    {
     "name": "stdout",
     "output_type": "stream",
     "text": [
      "[1, 2, 3, 4, 5]\n",
      "1 2 3 4 5\n",
      "1 2 3 4 5 "
     ]
    }
   ],
   "source": [
    "# print out list elements\n",
    "print(numbers) # as list\n",
    "print(*numbers) # as unpacked list\n",
    "for i in numbers: # iterating a list\n",
    "    print(i, end = ' ')"
   ]
  },
  {
   "cell_type": "markdown",
   "id": "1a3b0d45-cc1e-4544-973e-be1405502549",
   "metadata": {
    "tags": []
   },
   "source": [
    "## **`Operations with lists`**"
   ]
  },
  {
   "cell_type": "code",
   "execution_count": 3,
   "id": "28e42d85-860b-4dc9-9b67-cb86c2160fca",
   "metadata": {},
   "outputs": [
    {
     "data": {
      "text/plain": [
       "[0, 2, 4, 6, 8, 10, 'this', 'is', 'my', 'list']"
      ]
     },
     "execution_count": 3,
     "metadata": {},
     "output_type": "execute_result"
    }
   ],
   "source": [
    "even_numbers + words # lists summation"
   ]
  },
  {
   "cell_type": "code",
   "execution_count": 4,
   "id": "6a9b9526-33b5-46c8-89e5-14923f7716fe",
   "metadata": {},
   "outputs": [
    {
     "data": {
      "text/plain": [
       "[1, 2, 3, 4, 5, 1, 2, 3, 4, 5, 1, 2, 3, 4, 5]"
      ]
     },
     "execution_count": 4,
     "metadata": {},
     "output_type": "execute_result"
    }
   ],
   "source": [
    "numbers * 3 # list multiplication"
   ]
  },
  {
   "cell_type": "code",
   "execution_count": 5,
   "id": "96c47678-1e04-4ab0-944a-a95c94aa411f",
   "metadata": {},
   "outputs": [],
   "source": [
    "numbers += numbers # changing a list"
   ]
  },
  {
   "cell_type": "code",
   "execution_count": 6,
   "id": "c3da002f-3ac4-40da-8e6a-bd056c7510bf",
   "metadata": {},
   "outputs": [],
   "source": [
    "words *= 3 # changing a list"
   ]
  },
  {
   "cell_type": "code",
   "execution_count": 7,
   "id": "4c59cb00-cef8-4635-8c40-72ec62149f2b",
   "metadata": {},
   "outputs": [
    {
     "data": {
      "text/plain": [
       "[1, 2, 3, 4, 6, 1, 2, 3, 4, 5]"
      ]
     },
     "execution_count": 7,
     "metadata": {},
     "output_type": "execute_result"
    }
   ],
   "source": [
    "numbers[4] = 6 # changing an element in the list by its index\n",
    "numbers"
   ]
  },
  {
   "cell_type": "markdown",
   "id": "ffc33831-d76a-4344-ba14-e2a87acbe7c4",
   "metadata": {
    "tags": []
   },
   "source": [
    "## **`List functions`**"
   ]
  },
  {
   "cell_type": "code",
   "execution_count": 8,
   "id": "79e25ee3-c62d-45da-a614-ce5434b085fd",
   "metadata": {},
   "outputs": [
    {
     "data": {
      "text/plain": [
       "12"
      ]
     },
     "execution_count": 8,
     "metadata": {},
     "output_type": "execute_result"
    }
   ],
   "source": [
    "# main functions\n",
    "len(words) # counts a number of elements in the list"
   ]
  },
  {
   "cell_type": "code",
   "execution_count": 9,
   "id": "455e7fa7-717f-42fb-9f94-c5753814c65f",
   "metadata": {},
   "outputs": [
    {
     "data": {
      "text/plain": [
       "True"
      ]
     },
     "execution_count": 9,
     "metadata": {},
     "output_type": "execute_result"
    }
   ],
   "source": [
    "'is' in words # checks if an element is in the list"
   ]
  },
  {
   "cell_type": "code",
   "execution_count": 10,
   "id": "075d9f4f-114a-4740-b816-058069bbee68",
   "metadata": {},
   "outputs": [
    {
     "data": {
      "text/plain": [
       "31"
      ]
     },
     "execution_count": 10,
     "metadata": {},
     "output_type": "execute_result"
    }
   ],
   "source": [
    "sum(numbers) # calculates a sum of all elements in the list (works with integers and floats, not strings)"
   ]
  },
  {
   "cell_type": "code",
   "execution_count": 11,
   "id": "75a701cc-e352-41df-a434-fb2dabc21cce",
   "metadata": {},
   "outputs": [
    {
     "data": {
      "text/plain": [
       "1"
      ]
     },
     "execution_count": 11,
     "metadata": {},
     "output_type": "execute_result"
    }
   ],
   "source": [
    "min(odd_numbers) # finds a minimum element in the list"
   ]
  },
  {
   "cell_type": "code",
   "execution_count": 12,
   "id": "a8683ea4-24c1-47e5-8af8-c7bdb4013287",
   "metadata": {},
   "outputs": [
    {
     "data": {
      "text/plain": [
       "10"
      ]
     },
     "execution_count": 12,
     "metadata": {},
     "output_type": "execute_result"
    }
   ],
   "source": [
    "max(even_numbers) # finds a maximum element in the list"
   ]
  },
  {
   "cell_type": "code",
   "execution_count": 13,
   "id": "4fd4021e-5b50-4c2d-bcc4-16f5eb00c700",
   "metadata": {},
   "outputs": [],
   "source": [
    "del numbers[:2] # deletes elements from the list by its index or slice"
   ]
  },
  {
   "cell_type": "markdown",
   "id": "52a6f6fc-46c6-49b4-b71f-26d70b45c28b",
   "metadata": {
    "tags": []
   },
   "source": [
    "## **`Indexing and slicing`**"
   ]
  },
  {
   "cell_type": "markdown",
   "id": "e20f5d54-afff-4fc7-bb1a-74eb63dc6341",
   "metadata": {},
   "source": [
    "Lists are mutable, so its elements can be modified by its index"
   ]
  },
  {
   "cell_type": "code",
   "execution_count": 14,
   "id": "6845e2fc-502a-4326-b88e-e5eccf292671",
   "metadata": {},
   "outputs": [],
   "source": [
    "lst = ['sgs', 45, True, 565, 'yes']"
   ]
  },
  {
   "cell_type": "code",
   "execution_count": 15,
   "id": "2296264a-42f1-43fc-b520-5fc15f7da080",
   "metadata": {},
   "outputs": [
    {
     "data": {
      "text/plain": [
       "['no', 45, True, 565, 'yes']"
      ]
     },
     "execution_count": 15,
     "metadata": {},
     "output_type": "execute_result"
    }
   ],
   "source": [
    "lst[0] = 'no'\n",
    "\n",
    "lst"
   ]
  },
  {
   "cell_type": "code",
   "execution_count": 16,
   "id": "962b49ad-b5bd-467b-8f4a-017b44e29dd5",
   "metadata": {},
   "outputs": [
    {
     "data": {
      "text/plain": [
       "[45, True, 565]"
      ]
     },
     "execution_count": 16,
     "metadata": {},
     "output_type": "execute_result"
    }
   ],
   "source": [
    "lst[1:4]"
   ]
  },
  {
   "cell_type": "code",
   "execution_count": 17,
   "id": "c33e0aa2-9d57-4f15-9057-7d9b5f70b57f",
   "metadata": {},
   "outputs": [
    {
     "data": {
      "text/plain": [
       "'yes'"
      ]
     },
     "execution_count": 17,
     "metadata": {},
     "output_type": "execute_result"
    }
   ],
   "source": [
    "lst[-1]"
   ]
  },
  {
   "cell_type": "markdown",
   "id": "8e438d92-f06d-49f0-9687-41a64f30d22f",
   "metadata": {
    "tags": []
   },
   "source": [
    "## **`List methods`**"
   ]
  },
  {
   "cell_type": "markdown",
   "id": "f488cb9e-800f-47c8-ac48-6fbf1094f6a8",
   "metadata": {},
   "source": [
    "List methods always change the list which they apllied to"
   ]
  },
  {
   "cell_type": "markdown",
   "id": "ff3178f4-e99f-419d-91e0-2b57205786a2",
   "metadata": {},
   "source": [
    "| method | what it does |\n",
    "| --- | --- |\n",
    "| __`list_name.append(111)`__| adds an element in the end of the list |\n",
    "|**`list_name.extend('extended')`** | extends a list with elements 'e', 'x', 't', 'e', 'n', 'd', 'e', 'd' |\n",
    "|**`list_name.insert(1, 'A')`** | inserts an element into a list. list.insert(index, value) |\n",
    "|**`list_name.index('is')`** | returns an index (place in the list) of the element |\n",
    "|**`list_name.remove('A')`** | removes an element from the list |\n",
    "|**`list_name.pop(5)`** | takes out an element and copy it in the memory |\n",
    "|**`list_name.count('e')`** | returns an amount of an element in the list |\n",
    "|**`list_name.reverse()`** | inverts an element order in the list |\n",
    "|**`list_name.clear()`** | deletes all the elements from the list |\n",
    "|**`list_name.copy()`** | makes a copy of the list in the memory |\n",
    "|**`list_name.sort()`** | sorts the list in ascending order |"
   ]
  },
  {
   "cell_type": "code",
   "execution_count": 18,
   "id": "8960909f-63e4-46ab-b78e-dc61b83ac6e8",
   "metadata": {},
   "outputs": [
    {
     "data": {
      "text/plain": [
       "[3, 4, 6, 1, 2, 3, 4, 5, 111]"
      ]
     },
     "execution_count": 18,
     "metadata": {},
     "output_type": "execute_result"
    }
   ],
   "source": [
    "numbers.append(111) # adds an element in the end of the list\n",
    "numbers"
   ]
  },
  {
   "cell_type": "code",
   "execution_count": 19,
   "id": "c6d4a925-bc5e-42e9-857c-255e6876a392",
   "metadata": {},
   "outputs": [
    {
     "data": {
      "text/plain": [
       "['this',\n",
       " 'is',\n",
       " 'my',\n",
       " 'list',\n",
       " 'this',\n",
       " 'is',\n",
       " 'my',\n",
       " 'list',\n",
       " 'this',\n",
       " 'is',\n",
       " 'my',\n",
       " 'list',\n",
       " 'e',\n",
       " 'x',\n",
       " 't',\n",
       " 'e',\n",
       " 'n',\n",
       " 'd',\n",
       " 'e',\n",
       " 'd']"
      ]
     },
     "execution_count": 19,
     "metadata": {},
     "output_type": "execute_result"
    }
   ],
   "source": [
    "words.extend('extended') # extends a list with elements 'e', 'x', 't', 'e', 'n', 'd', 'e', 'd' \n",
    "words"
   ]
  },
  {
   "cell_type": "code",
   "execution_count": 20,
   "id": "af3db857-e1de-44f1-ac0f-d12aba656d5f",
   "metadata": {},
   "outputs": [
    {
     "data": {
      "text/plain": [
       "[3, 'INSERTED', 4, 6, 1, 2, 3, 4, 5, 111]"
      ]
     },
     "execution_count": 20,
     "metadata": {},
     "output_type": "execute_result"
    }
   ],
   "source": [
    "numbers.insert(1, 'INSERTED') # inserts an element into a list. list.insert(index, value)\n",
    "numbers"
   ]
  },
  {
   "cell_type": "code",
   "execution_count": 21,
   "id": "7ef1b941-0453-41b7-baa5-6bd665345c1f",
   "metadata": {},
   "outputs": [
    {
     "data": {
      "text/plain": [
       "1"
      ]
     },
     "execution_count": 21,
     "metadata": {},
     "output_type": "execute_result"
    }
   ],
   "source": [
    "words.index('is') # returns an index (place in the list) of the element"
   ]
  },
  {
   "cell_type": "code",
   "execution_count": 22,
   "id": "1fb947b8-03a0-4076-8c63-2c9e6816aee2",
   "metadata": {},
   "outputs": [
    {
     "data": {
      "text/plain": [
       "[3, 4, 6, 1, 2, 3, 4, 5, 111]"
      ]
     },
     "execution_count": 22,
     "metadata": {},
     "output_type": "execute_result"
    }
   ],
   "source": [
    "numbers.remove('INSERTED') # removes an element from the list\n",
    "numbers"
   ]
  },
  {
   "cell_type": "code",
   "execution_count": 23,
   "id": "dfcef5d3-a844-4d2c-bacc-951ecf7eaf2b",
   "metadata": {},
   "outputs": [
    {
     "data": {
      "text/plain": [
       "3"
      ]
     },
     "execution_count": 23,
     "metadata": {},
     "output_type": "execute_result"
    }
   ],
   "source": [
    "numbers.pop(5) # takes out an element and copy it in the memory"
   ]
  },
  {
   "cell_type": "code",
   "execution_count": 24,
   "id": "d57a87ff-55b8-462d-97c9-e6c426f6ac01",
   "metadata": {},
   "outputs": [
    {
     "data": {
      "text/plain": [
       "3"
      ]
     },
     "execution_count": 24,
     "metadata": {},
     "output_type": "execute_result"
    }
   ],
   "source": [
    "words.count('e') # returns an amount of an element in the list"
   ]
  },
  {
   "cell_type": "code",
   "execution_count": 25,
   "id": "f0f300d9-247e-42a5-bb10-2b96b8c7576a",
   "metadata": {},
   "outputs": [
    {
     "data": {
      "text/plain": [
       "[111, 5, 4, 2, 1, 6, 4, 3]"
      ]
     },
     "execution_count": 25,
     "metadata": {},
     "output_type": "execute_result"
    }
   ],
   "source": [
    "numbers.reverse() # inverts an element order in the list\n",
    "numbers"
   ]
  },
  {
   "cell_type": "code",
   "execution_count": 26,
   "id": "fc3e7d4e-ed19-4e8a-8153-f3345835ef27",
   "metadata": {},
   "outputs": [
    {
     "data": {
      "text/plain": [
       "[]"
      ]
     },
     "execution_count": 26,
     "metadata": {},
     "output_type": "execute_result"
    }
   ],
   "source": [
    "words.clear() # deletes all the elements from the list\n",
    "words"
   ]
  },
  {
   "cell_type": "code",
   "execution_count": 27,
   "id": "7b142c6f-807f-4196-ae86-9760a0b6c466",
   "metadata": {},
   "outputs": [
    {
     "data": {
      "text/plain": [
       "[111, 5, 4, 2, 1, 6, 4, 3]"
      ]
     },
     "execution_count": 27,
     "metadata": {},
     "output_type": "execute_result"
    }
   ],
   "source": [
    "numbers.copy() # makes a copy of the list in the memory"
   ]
  },
  {
   "cell_type": "code",
   "execution_count": 28,
   "id": "a8f5859f-88c0-42e8-92f6-cf736cbb2993",
   "metadata": {},
   "outputs": [
    {
     "data": {
      "text/plain": [
       "[1, 2, 3, 4, 4, 5, 6, 111]"
      ]
     },
     "execution_count": 28,
     "metadata": {},
     "output_type": "execute_result"
    }
   ],
   "source": [
    "numbers.sort() # sorts the list in ascending order\n",
    "numbers"
   ]
  },
  {
   "cell_type": "code",
   "execution_count": 29,
   "id": "11b47cc2-980d-4b42-97d0-b3b5197aee33",
   "metadata": {},
   "outputs": [
    {
     "data": {
      "text/plain": [
       "[111, 6, 5, 4, 4, 3, 2, 1]"
      ]
     },
     "execution_count": 29,
     "metadata": {},
     "output_type": "execute_result"
    }
   ],
   "source": [
    "numbers.sort(reverse = True) # sorts the list in descending order\n",
    "numbers"
   ]
  },
  {
   "cell_type": "code",
   "execution_count": 30,
   "id": "0b921baa-b3fb-43a7-b2e4-66129c5b917a",
   "metadata": {},
   "outputs": [
    {
     "data": {
      "text/plain": [
       "['a', 'b', 'c', 'd']"
      ]
     },
     "execution_count": 30,
     "metadata": {},
     "output_type": "execute_result"
    }
   ],
   "source": [
    "chars.sort() # sorts chars and words as well (in lexicograph order)\n",
    "chars"
   ]
  },
  {
   "cell_type": "markdown",
   "id": "a83c2e59-39c5-490d-9ee0-65da3fef8870",
   "metadata": {
    "tags": []
   },
   "source": [
    "## **`List comprehension`**"
   ]
  },
  {
   "cell_type": "markdown",
   "id": "08be0766-a448-4a70-9e05-b63c102bc39e",
   "metadata": {},
   "source": [
    "This is a mechanism to create lists easily"
   ]
  },
  {
   "cell_type": "code",
   "execution_count": 31,
   "id": "ece903b0-04d8-4bc7-b0a9-29727cf20e64",
   "metadata": {},
   "outputs": [
    {
     "data": {
      "text/plain": [
       "[0, 1, 2, 3, 4, 5, 6, 7, 8, 9]"
      ]
     },
     "execution_count": 31,
     "metadata": {},
     "output_type": "execute_result"
    }
   ],
   "source": [
    "[i for i in range(10)] # creates a list of all numbers in the range from 0 to 9"
   ]
  },
  {
   "cell_type": "code",
   "execution_count": 32,
   "id": "041400a9-edb1-413a-a1d6-8115e1c4e1a8",
   "metadata": {},
   "outputs": [
    {
     "data": {
      "text/plain": [
       "[0, 0, 0, 0, 0, 0, 0, 0, 0, 0, 0, 0, 0, 0, 0, 0, 0, 0, 0, 0]"
      ]
     },
     "execution_count": 32,
     "metadata": {},
     "output_type": "execute_result"
    }
   ],
   "source": [
    "[0 for i in range(20)] # creates a list with 20 zeros"
   ]
  },
  {
   "cell_type": "code",
   "execution_count": 33,
   "id": "23a58efd-ec5a-4b7f-89c7-83242ab25a7b",
   "metadata": {},
   "outputs": [
    {
     "data": {
      "text/plain": [
       "[1000, 1728, 2744, 4096, 5832, 8000]"
      ]
     },
     "execution_count": 33,
     "metadata": {},
     "output_type": "execute_result"
    }
   ],
   "source": [
    "[i**3 for i in range(10,21,2)] # creates a list with the cubes of even numbers from 10 to 20"
   ]
  },
  {
   "cell_type": "code",
   "execution_count": 34,
   "id": "20e808ae-8d44-4bab-adbf-397c200bd71b",
   "metadata": {},
   "outputs": [
    {
     "data": {
      "text/plain": [
       "['a', 'b', 'c', 'd', 'e', 'f']"
      ]
     },
     "execution_count": 34,
     "metadata": {},
     "output_type": "execute_result"
    }
   ],
   "source": [
    "[c for c in 'abcdef'] # creates a list with letters from the string (equal to list('abcdef')"
   ]
  },
  {
   "cell_type": "code",
   "execution_count": 35,
   "id": "070acedc-21af-4c72-a396-06e30bbba6ae",
   "metadata": {},
   "outputs": [
    {
     "name": "stdin",
     "output_type": "stream",
     "text": [
      " 2\n",
      " 23\n",
      " 75\n"
     ]
    },
    {
     "data": {
      "text/plain": [
       "['23', '75']"
      ]
     },
     "execution_count": 35,
     "metadata": {},
     "output_type": "execute_result"
    }
   ],
   "source": [
    "# can be used also to get the list from the string inputs\n",
    "[input() for _ in range(int(input()))]"
   ]
  },
  {
   "cell_type": "code",
   "execution_count": 36,
   "id": "01c201c8-e58a-4e04-aabb-d2d7e8bf68d0",
   "metadata": {},
   "outputs": [
    {
     "name": "stdin",
     "output_type": "stream",
     "text": [
      " 2\n",
      " 4\n",
      " 6\n"
     ]
    },
    {
     "data": {
      "text/plain": [
       "[4, 6]"
      ]
     },
     "execution_count": 36,
     "metadata": {},
     "output_type": "execute_result"
    }
   ],
   "source": [
    "# can be used also to get the list from the integer inputs\n",
    "[int(input()) for _ in range(int(input()))]"
   ]
  },
  {
   "cell_type": "code",
   "execution_count": 37,
   "id": "0d738568-e251-4aca-8baf-3d76c99323ad",
   "metadata": {},
   "outputs": [
    {
     "data": {
      "text/plain": [
       "[0, 2, 4, 6, 8]"
      ]
     },
     "execution_count": 37,
     "metadata": {},
     "output_type": "execute_result"
    }
   ],
   "source": [
    "# can be used together with conditions\n",
    "[i for i in range(10) if i % 2 == 0] # a list with even numbers from 0 to 9"
   ]
  },
  {
   "cell_type": "code",
   "execution_count": 38,
   "id": "544b8f92-fbd4-48f5-8800-95c48ceb808f",
   "metadata": {},
   "outputs": [
    {
     "data": {
      "text/plain": [
       "[0, 1, 2, 3, 0, 2, 4, 6, 0, 3, 6, 9, 0, 4, 8, 12]"
      ]
     },
     "execution_count": 38,
     "metadata": {},
     "output_type": "execute_result"
    }
   ],
   "source": [
    "# nested loops\n",
    "[i * j for i in range(1,5) for j in range(4)]"
   ]
  },
  {
   "cell_type": "code",
   "execution_count": 39,
   "id": "b293cdcc-4275-4532-949b-9d451d0639d2",
   "metadata": {},
   "outputs": [
    {
     "data": {
      "text/plain": [
       "['n', 'w', 'i']"
      ]
     },
     "execution_count": 39,
     "metadata": {},
     "output_type": "execute_result"
    }
   ],
   "source": [
    "words = ['one', 'two', 'three', 'four', 'five', 'six']\n",
    "[i[1] for i in words if len(i) == 3] # a list that contains the second letter of the words with length 3"
   ]
  },
  {
   "cell_type": "markdown",
   "id": "f1e92729-01cf-44ad-9c4a-55339822c858",
   "metadata": {
    "tags": []
   },
   "source": [
    "## **`Lists of lists`**"
   ]
  },
  {
   "cell_type": "markdown",
   "id": "37c84769-8871-4c4b-980e-f55f205d6c2d",
   "metadata": {},
   "source": [
    "### Nested list creation"
   ]
  },
  {
   "cell_type": "code",
   "execution_count": 40,
   "id": "f14e5270-313f-4c27-8ef5-6bf74b6043ed",
   "metadata": {},
   "outputs": [
    {
     "data": {
      "text/plain": [
       "[[0, 0, 0, 0, 0], [0, 0, 0, 0, 0], [0, 0, 0, 0, 0]]"
      ]
     },
     "execution_count": 40,
     "metadata": {},
     "output_type": "execute_result"
    }
   ],
   "source": [
    "# 1\n",
    "n, m = 3, 5\n",
    "my_list = []\n",
    "\n",
    "for _ in range(n):\n",
    "    my_list.append([0]*m)\n",
    "\n",
    "my_list"
   ]
  },
  {
   "cell_type": "code",
   "execution_count": 41,
   "id": "76a40603-5b47-4627-8ad6-4ef4d119a8eb",
   "metadata": {},
   "outputs": [
    {
     "data": {
      "text/plain": [
       "[[0, 0, 0, 0, 0], [0, 0, 0, 0, 0], [0, 0, 0, 0, 0]]"
      ]
     },
     "execution_count": 41,
     "metadata": {},
     "output_type": "execute_result"
    }
   ],
   "source": [
    "# 2\n",
    "n, m = 3, 5\n",
    "my_list = [0]*n\n",
    "\n",
    "for i in range(n):\n",
    "    my_list[i] = [0]*m\n",
    "\n",
    "my_list"
   ]
  },
  {
   "cell_type": "code",
   "execution_count": 42,
   "id": "32d3e2b3-9146-4cb8-ab79-e783ea999ee2",
   "metadata": {},
   "outputs": [
    {
     "data": {
      "text/plain": [
       "[[0, 0, 0, 0, 0], [0, 0, 0, 0, 0], [0, 0, 0, 0, 0]]"
      ]
     },
     "execution_count": 42,
     "metadata": {},
     "output_type": "execute_result"
    }
   ],
   "source": [
    "# 3\n",
    "n, m = 3, 5\n",
    "\n",
    "my_list = [[0]*m for _ in range(n)]\n",
    "\n",
    "my_list"
   ]
  },
  {
   "cell_type": "code",
   "execution_count": 43,
   "id": "092d55d3-8bdb-4697-854f-ca3940d6cfb9",
   "metadata": {},
   "outputs": [
    {
     "name": "stdout",
     "output_type": "stream",
     "text": [
      "[[0, 0, 0], [0, 0, 0], [0, 0, 0]]\n",
      "[[5, 0, 0], [0, 0, 0], [0, 0, 0]]\n"
     ]
    }
   ],
   "source": [
    "# 4\n",
    "c = [[0 for i in range(n)] for i in range(n)]\n",
    "print(c)\n",
    "c[0][0] = 5\n",
    "print(c)"
   ]
  },
  {
   "cell_type": "code",
   "execution_count": 44,
   "id": "9f17b33c-5d20-4d81-8a68-cdf1cf18b384",
   "metadata": {},
   "outputs": [
    {
     "name": "stdout",
     "output_type": "stream",
     "text": [
      "[[0, 0, 0], [0, 0, 0], [0, 0, 0]]\n",
      "[[5, 0, 0], [5, 0, 0], [5, 0, 0]]\n"
     ]
    }
   ],
   "source": [
    "# wrong way\n",
    "b = [[0] * n] * n\n",
    "print(b)\n",
    "# because we make a link to a list - n times the same list, so\n",
    "b[0][0] = 5\n",
    "print(b)"
   ]
  },
  {
   "cell_type": "code",
   "execution_count": 45,
   "id": "b18037f0-e1a2-467a-aad8-5c6c2ddc0d97",
   "metadata": {},
   "outputs": [
    {
     "name": "stdin",
     "output_type": "stream",
     "text": [
      " 3 5 7\n",
      " 3 4 78\n",
      " 64 2 78\n"
     ]
    },
    {
     "data": {
      "text/plain": [
       "[[3, 5, 7], [3, 4, 78], [64, 2, 78]]"
      ]
     },
     "execution_count": 45,
     "metadata": {},
     "output_type": "execute_result"
    }
   ],
   "source": [
    "# 5.1 - all elements from the input\n",
    "n = 3 # number of lines\n",
    "my_list = []\n",
    "for _ in range(n):\n",
    "    my_list.append([int(i) for i in input().split()])\n",
    "my_list"
   ]
  },
  {
   "cell_type": "code",
   "execution_count": 46,
   "id": "bfa6659a-64cf-4179-b8dc-565a0c01e686",
   "metadata": {},
   "outputs": [
    {
     "name": "stdin",
     "output_type": "stream",
     "text": [
      " 2\n",
      " 346 47\n",
      " 25 97\n"
     ]
    },
    {
     "name": "stdout",
     "output_type": "stream",
     "text": [
      "[[346, 47], [25, 97]]\n"
     ]
    }
   ],
   "source": [
    "# 5.2 - all elements from the input\n",
    "my_list = [[int(i) for i in input().split()] for j in range(int(input()))]\n",
    "print(my_list)"
   ]
  },
  {
   "cell_type": "markdown",
   "id": "ba160cf9-c281-432e-ac5f-9c9f60c953ad",
   "metadata": {},
   "source": [
    "### Getting elements from the nested lists"
   ]
  },
  {
   "cell_type": "code",
   "execution_count": 47,
   "id": "388ff026-9e9f-401e-8045-153143e66c67",
   "metadata": {},
   "outputs": [],
   "source": [
    "a = [[1,2,3],[4,5,6],[7,8,9]]"
   ]
  },
  {
   "cell_type": "code",
   "execution_count": 48,
   "id": "b24c8de5-45d2-4901-a8b9-67afbd2579b5",
   "metadata": {},
   "outputs": [
    {
     "data": {
      "text/plain": [
       "[4, 5, 6]"
      ]
     },
     "execution_count": 48,
     "metadata": {},
     "output_type": "execute_result"
    }
   ],
   "source": [
    "a[1] # one row (2nd)"
   ]
  },
  {
   "cell_type": "code",
   "execution_count": 49,
   "id": "a6925b5d-b3b0-4065-8db3-64119c0c13b3",
   "metadata": {},
   "outputs": [
    {
     "data": {
      "text/plain": [
       "5"
      ]
     },
     "execution_count": 49,
     "metadata": {},
     "output_type": "execute_result"
    }
   ],
   "source": [
    "a[1][1] # second element in the second row"
   ]
  },
  {
   "cell_type": "code",
   "execution_count": 50,
   "id": "9e187a42-076f-44bd-b589-cb23befb5308",
   "metadata": {},
   "outputs": [
    {
     "data": {
      "text/plain": [
       "2"
      ]
     },
     "execution_count": 50,
     "metadata": {},
     "output_type": "execute_result"
    }
   ],
   "source": [
    "a = [[0, [9,2]], [1, [4,6,3], [5,2,3],8,3]]\n",
    "a[1][2][1]  "
   ]
  },
  {
   "cell_type": "code",
   "execution_count": 51,
   "id": "48d230d3-573e-48ab-a428-a0f0d20e0a1d",
   "metadata": {},
   "outputs": [
    {
     "name": "stdout",
     "output_type": "stream",
     "text": [
      "[0, [9, 2]]\n",
      "[1, [4, 6, 3], [5, 2, 3], 8, 3]\n"
     ]
    }
   ],
   "source": [
    "# getting rows as lists\n",
    "for row in a:\n",
    "    print(row)"
   ]
  },
  {
   "cell_type": "code",
   "execution_count": 52,
   "id": "c6ccdad9-d4e2-4662-acf8-8739be0113d3",
   "metadata": {},
   "outputs": [
    {
     "name": "stdout",
     "output_type": "stream",
     "text": [
      "0 [9, 2] \n",
      "1 [4, 6, 3] [5, 2, 3] 8 3 \n"
     ]
    }
   ],
   "source": [
    "# getting all the elements via indices\n",
    "for i in range(len(a)):\n",
    "    for j in range(len(a[i])):\n",
    "        print(a[i][j], end = ' ')\n",
    "    print()"
   ]
  },
  {
   "cell_type": "code",
   "execution_count": 53,
   "id": "51485b42-1d30-4b8e-a9cd-29afcada0f0f",
   "metadata": {},
   "outputs": [
    {
     "name": "stdout",
     "output_type": "stream",
     "text": [
      "0 [9, 2] \n",
      "1 [4, 6, 3] [5, 2, 3] 8 3 \n"
     ]
    }
   ],
   "source": [
    "# getting all the elements via elements\n",
    "for row in a:\n",
    "    for elem in row:\n",
    "        print(elem, end = ' ')\n",
    "    print()"
   ]
  },
  {
   "cell_type": "markdown",
   "id": "802afce2-baaf-4959-9174-7b92ea37d8b5",
   "metadata": {
    "tags": []
   },
   "source": [
    "## **`Nested lists functions`**"
   ]
  },
  {
   "cell_type": "markdown",
   "id": "1201b77f-5aa6-47e8-829e-5c4a25e278be",
   "metadata": {},
   "source": [
    "### Function *len()*"
   ]
  },
  {
   "cell_type": "code",
   "execution_count": 54,
   "id": "aaf7011a-bcf4-4b0f-9f5d-6612a650ad30",
   "metadata": {},
   "outputs": [
    {
     "data": {
      "text/plain": [
       "5"
      ]
     },
     "execution_count": 54,
     "metadata": {},
     "output_type": "execute_result"
    }
   ],
   "source": [
    "my_list = [[0], [1,2], [3,4,5], [], [10,20,30]]\n",
    "len(my_list) # length = number of lists in the list of lists"
   ]
  },
  {
   "cell_type": "code",
   "execution_count": 55,
   "id": "07c08b5f-7628-4fa8-add5-35ce14689741",
   "metadata": {},
   "outputs": [
    {
     "name": "stdout",
     "output_type": "stream",
     "text": [
      "9\n"
     ]
    }
   ],
   "source": [
    "# if we want to calculate number of all elements \n",
    "total = 0\n",
    "for li in my_list:\n",
    "    total += len(li)\n",
    "print(total)"
   ]
  },
  {
   "cell_type": "markdown",
   "id": "693406a0-2569-4c5a-a8de-af48372a6780",
   "metadata": {},
   "source": [
    "### Functions *max(), min()*"
   ]
  },
  {
   "cell_type": "code",
   "execution_count": 56,
   "id": "c17b26a5-d462-46e4-9876-82f01334bf3a",
   "metadata": {},
   "outputs": [
    {
     "name": "stdout",
     "output_type": "stream",
     "text": [
      "[1, 7, 12, 0, 9, 100]\n",
      "[1, 10]\n",
      "['a']\n",
      "['d', 'p', 'q']\n"
     ]
    }
   ],
   "source": [
    "list1 = [[1,7,12,0,9,100], [1,7,90], [1,10]]\n",
    "list2 = [['a','b'], ['a'], ['d','p','q']] \n",
    "\n",
    "print(min(list1))\n",
    "print(max(list1))\n",
    "print(min(list2))\n",
    "print(max(list2))"
   ]
  },
  {
   "cell_type": "markdown",
   "id": "8b04834a-3c8c-46a2-8cc7-6105f04b5a2e",
   "metadata": {
    "tags": []
   },
   "source": [
    "## **`Nested list methods`**"
   ]
  },
  {
   "cell_type": "markdown",
   "id": "d78d266d-d89b-4d0f-b6c1-dbdfde8322d9",
   "metadata": {},
   "source": [
    "#### Nested list methods are the same as list methods"
   ]
  },
  {
   "cell_type": "markdown",
   "id": "12daf45a-edd8-4ed6-ae9e-1f1c1721fe3f",
   "metadata": {
    "tags": []
   },
   "source": [
    "## **`Matrices as lists of lists`**"
   ]
  },
  {
   "cell_type": "code",
   "execution_count": 57,
   "id": "843bba27-c0b1-43d6-aa3c-3e029ac42c89",
   "metadata": {},
   "outputs": [
    {
     "name": "stdout",
     "output_type": "stream",
     "text": [
      "277 -930 11 0 \n",
      "9 43 6 87 \n",
      "4456 8 290 7 \n"
     ]
    }
   ],
   "source": [
    "# Creating a matrix as a nested list\n",
    "rows, cols = 3, 4\n",
    "matrix = [[277, -930, 11, 0],\n",
    "          [9, 43, 6, 87],\n",
    "          [4456, 8, 290, 7]]\n",
    "\n",
    "for r in range(rows):\n",
    "    for c in range(cols):\n",
    "        print(matrix[r][c], end = ' ')\n",
    "    print()"
   ]
  },
  {
   "cell_type": "markdown",
   "id": "83c17f76-1aef-437f-8b34-0ba2ce9e9065",
   "metadata": {},
   "source": [
    "### We can have a nicier view using string functions **ljust(), rjust()**"
   ]
  },
  {
   "cell_type": "code",
   "execution_count": 58,
   "id": "15b15c0b-526b-4bae-b6f4-bf47c5e7d1be",
   "metadata": {},
   "outputs": [
    {
     "name": "stdout",
     "output_type": "stream",
     "text": [
      "277    -930   11     0      \n",
      "9      43     6      87     \n",
      "4456   8      290    7      \n"
     ]
    }
   ],
   "source": [
    "for r in range(rows):\n",
    "    for c in range(cols):\n",
    "        print(str(matrix[r][c]).ljust(6), end = ' ')\n",
    "    print()"
   ]
  },
  {
   "cell_type": "code",
   "execution_count": 59,
   "id": "1f719bc9-aec4-4fdf-b569-e21a53d02a5e",
   "metadata": {},
   "outputs": [
    {
     "name": "stdout",
     "output_type": "stream",
     "text": [
      "   277   -930     11      0 \n",
      "     9     43      6     87 \n",
      "  4456      8    290      7 \n"
     ]
    }
   ],
   "source": [
    "for r in range(rows):\n",
    "    for c in range(cols):\n",
    "        print(str(matrix[r][c]).rjust(6), end = ' ')\n",
    "    print()"
   ]
  },
  {
   "cell_type": "markdown",
   "id": "64b57840-58e3-4107-b134-c7d04963a238",
   "metadata": {
    "tags": []
   },
   "source": [
    "## **`Actions with matrices`**"
   ]
  },
  {
   "cell_type": "code",
   "execution_count": 60,
   "id": "ce5d045a-14d9-4e40-83c5-13bc53491966",
   "metadata": {},
   "outputs": [
    {
     "name": "stdout",
     "output_type": "stream",
     "text": [
      "42 26 59 18 50 25 10 75\n",
      "15 59 69 58 89 27 74 11\n",
      "69 11 49 66 80 73 84 18\n",
      "25 16 86 39 26 44 26 67\n",
      "95 59 65 67 80 77 85 16\n",
      "63 41 47 84 66 66 18 32\n",
      "80 53 21 10 25 27 17 78\n",
      "13 36 43 59 80 93 81 57\n"
     ]
    }
   ],
   "source": [
    "# let's create a random matrix\n",
    "import random\n",
    "n = 8\n",
    "matrix = [[random.randint(10, 99) for i in range(n)] for j in range(n)]\n",
    "for row in matrix:\n",
    "    print(*row)"
   ]
  },
  {
   "cell_type": "markdown",
   "id": "9936bb94-2b3f-48fa-b58c-a027aa88320a",
   "metadata": {},
   "source": [
    "<img src='../pics/matrix.png' />"
   ]
  },
  {
   "cell_type": "markdown",
   "id": "2dbda23b-ebc7-4e43-b3f2-6de45d9ff4cc",
   "metadata": {
    "tags": []
   },
   "source": [
    "### Main diagonal of a matrix (i == j)"
   ]
  },
  {
   "cell_type": "code",
   "execution_count": 61,
   "id": "3ef32a35-c4ea-4e83-8bea-5476d85e5110",
   "metadata": {},
   "outputs": [
    {
     "name": "stdout",
     "output_type": "stream",
     "text": [
      "42 59 49 39 80 66 17 57 "
     ]
    }
   ],
   "source": [
    "for i in range(n):\n",
    "    print(matrix[i][i], end = ' ')"
   ]
  },
  {
   "cell_type": "markdown",
   "id": "306eaac1-8a5c-42b2-a231-53596209804a",
   "metadata": {
    "tags": []
   },
   "source": [
    "### Second diagonal of a matrix (i == n - j - 1 or j == n - i - 1)"
   ]
  },
  {
   "cell_type": "code",
   "execution_count": 62,
   "id": "67b83071-14bb-421e-9f08-33ea2a171ad7",
   "metadata": {},
   "outputs": [
    {
     "name": "stdout",
     "output_type": "stream",
     "text": [
      "75 74 73 26 67 47 53 13 "
     ]
    }
   ],
   "source": [
    "for i in range(n):\n",
    "    print(matrix[i][n-i-1], end = ' ')"
   ]
  },
  {
   "cell_type": "code",
   "execution_count": 63,
   "id": "beb4da29-4dc9-47d2-9e71-185bf75621da",
   "metadata": {},
   "outputs": [
    {
     "name": "stdout",
     "output_type": "stream",
     "text": [
      "75 74 73 26 67 47 53 13 "
     ]
    }
   ],
   "source": [
    "# using ~i\n",
    "for i in range(n):\n",
    "    print(matrix[i][~i], end = ' ') # where ~i = not i (~i = -i - 1)"
   ]
  },
  {
   "cell_type": "markdown",
   "id": "36eedcf3-07bb-4a98-9357-797a13ce8155",
   "metadata": {
    "tags": []
   },
   "source": [
    "### Sum of elements of the main diagonal"
   ]
  },
  {
   "cell_type": "code",
   "execution_count": 64,
   "id": "38118dc3-567c-4902-a091-5653e5d164d6",
   "metadata": {
    "tags": []
   },
   "outputs": [
    {
     "name": "stdout",
     "output_type": "stream",
     "text": [
      "409\n"
     ]
    }
   ],
   "source": [
    "print(sum([matrix[i][i] for i in range(n)]))"
   ]
  },
  {
   "cell_type": "markdown",
   "id": "2ef76a29-e650-4bf3-a8d8-f18f0299d259",
   "metadata": {
    "tags": []
   },
   "source": [
    "### Max element in the lower left triangle"
   ]
  },
  {
   "cell_type": "code",
   "execution_count": 65,
   "id": "ee9f6556-ef55-4707-be12-40c5b7776a8e",
   "metadata": {},
   "outputs": [
    {
     "name": "stdout",
     "output_type": "stream",
     "text": [
      "95\n"
     ]
    }
   ],
   "source": [
    "print(max(max(matrix[i][:i+1]) for i in range(n)))"
   ]
  },
  {
   "cell_type": "markdown",
   "id": "11f8e5af-7f22-465d-a235-5c1a0159cf45",
   "metadata": {
    "tags": []
   },
   "source": [
    "### Changing the columns number 0 and 1 in the matrix"
   ]
  },
  {
   "cell_type": "code",
   "execution_count": 66,
   "id": "871ee0c0-419e-4542-baeb-d422271d7442",
   "metadata": {},
   "outputs": [
    {
     "name": "stdout",
     "output_type": "stream",
     "text": [
      "26 42 59 18 50 25 10 75\n",
      "59 15 69 58 89 27 74 11\n",
      "11 69 49 66 80 73 84 18\n",
      "16 25 86 39 26 44 26 67\n",
      "59 95 65 67 80 77 85 16\n",
      "41 63 47 84 66 66 18 32\n",
      "53 80 21 10 25 27 17 78\n",
      "36 13 43 59 80 93 81 57\n"
     ]
    }
   ],
   "source": [
    "col1, col2 = 0, 1\n",
    "\n",
    "for i in range(n):\n",
    "    matrix[i][col1], matrix[i][col2] = matrix[i][col2], matrix[i][col1]\n",
    "\n",
    "for row in matrix:\n",
    "    print(*row)"
   ]
  },
  {
   "cell_type": "markdown",
   "id": "0c143fe8-5623-49e5-914c-4fd57e100380",
   "metadata": {
    "tags": []
   },
   "source": [
    "### Check if matrix is symmetric"
   ]
  },
  {
   "cell_type": "code",
   "execution_count": 67,
   "id": "22846719-40b5-450e-9519-582b71b75ff1",
   "metadata": {},
   "outputs": [
    {
     "name": "stdout",
     "output_type": "stream",
     "text": [
      "NO\n"
     ]
    }
   ],
   "source": [
    "print('YES' if all([matrix[i][j] == matrix[j][i] for j in range(n) for i in range(n)]) else 'NO')"
   ]
  },
  {
   "cell_type": "markdown",
   "id": "5ed20afc-f741-40b1-af96-0e7d8b9fa4a9",
   "metadata": {
    "tags": []
   },
   "source": [
    "### Changing elements in the diagonals"
   ]
  },
  {
   "cell_type": "code",
   "execution_count": 68,
   "id": "27f15045-7f14-405e-80b5-67c2b157c256",
   "metadata": {},
   "outputs": [
    {
     "name": "stdout",
     "output_type": "stream",
     "text": [
      "36 42 59 18 50 25 10 57\n",
      "59 80 69 58 89 27 17 11\n",
      "11 69 47 66 80 66 84 18\n",
      "16 25 86 67 80 44 26 67\n",
      "59 95 65 39 26 77 85 16\n",
      "41 63 49 84 66 73 18 32\n",
      "53 15 21 10 25 27 74 78\n",
      "26 13 43 59 80 93 81 75\n"
     ]
    }
   ],
   "source": [
    "for i in range(n):\n",
    "    matrix[i][i], matrix[n-i-1][i] = matrix[n-i-1][i], matrix[i][i]\n",
    "    \n",
    "for row in matrix:\n",
    "    print(*row)"
   ]
  },
  {
   "cell_type": "markdown",
   "id": "1517f24f-fed9-459b-a273-2ac320b5b2c7",
   "metadata": {
    "tags": []
   },
   "source": [
    "### Swapping the rows over the horizontal axis of symmetry"
   ]
  },
  {
   "cell_type": "code",
   "execution_count": 69,
   "id": "ed4ffc55-6025-46c9-b6d1-4e06f240b1bd",
   "metadata": {},
   "outputs": [
    {
     "name": "stdout",
     "output_type": "stream",
     "text": [
      "26 13 43 59 80 93 81 75\n",
      "53 15 21 10 25 27 74 78\n",
      "41 63 49 84 66 73 18 32\n",
      "59 95 65 39 26 77 85 16\n",
      "16 25 86 67 80 44 26 67\n",
      "11 69 47 66 80 66 84 18\n",
      "59 80 69 58 89 27 17 11\n",
      "36 42 59 18 50 25 10 57\n"
     ]
    }
   ],
   "source": [
    "for i in range(n//2):\n",
    "    matrix[i], matrix[n-i-1] = matrix[n-i-1], matrix[i]\n",
    "    \n",
    "for row in matrix:\n",
    "    print(*row)"
   ]
  },
  {
   "cell_type": "markdown",
   "id": "a4e107f0-d02d-4bcc-b004-20ad3c588885",
   "metadata": {
    "tags": []
   },
   "source": [
    "### Rotating matrix by 90 degrees"
   ]
  },
  {
   "cell_type": "code",
   "execution_count": 70,
   "id": "1f4c575f-838b-4765-997e-5384f2eb8665",
   "metadata": {},
   "outputs": [
    {
     "name": "stdout",
     "output_type": "stream",
     "text": [
      "36 59 11 16 59 41 53 26\n",
      "42 80 69 25 95 63 15 13\n",
      "59 69 47 86 65 49 21 43\n",
      "18 58 66 67 39 84 10 59\n",
      "50 89 80 80 26 66 25 80\n",
      "25 27 66 44 77 73 27 93\n",
      "10 17 84 26 85 18 74 81\n",
      "57 11 18 67 16 32 78 75\n"
     ]
    }
   ],
   "source": [
    "for row in zip(*matrix[::-1]):\n",
    "    print(*row)"
   ]
  },
  {
   "cell_type": "markdown",
   "id": "7aba21eb-d8a6-44ea-b8ff-f06f63c12f0a",
   "metadata": {
    "tags": []
   },
   "source": [
    "### Check if matrix is a magic square (matrix n x n with all numbers 1,2,3,...,n**2, so that all sums of rows, cols and diags are equal"
   ]
  },
  {
   "cell_type": "code",
   "execution_count": 71,
   "id": "830b9d0e-bad0-4d88-bc57-2f5a9acba5d2",
   "metadata": {},
   "outputs": [
    {
     "name": "stdout",
     "output_type": "stream",
     "text": [
      "NO\n"
     ]
    }
   ],
   "source": [
    "print(('NO', 'YES')[set(sum(matrix, [])) == set((*range(1, n ** 2 + 1),))   # sequence of integers from 1 to n**2\n",
    "                    and  \n",
    "                    len(set(map(sum, (*a,                              # sum of rows\n",
    "                                  *zip(*a),                            # sum of cols (transponed)\n",
    "                                  [a[i][i] for i in range(n)],         # sum of main diagonal\n",
    "                                  [a[i][~i] for i in range(n)]))       # sum of the 2nd diagonal\n",
    "                       )) == 1])                                       # all are the same"
   ]
  },
  {
   "cell_type": "markdown",
   "id": "641049b4-7736-42d7-b0fa-8bc77a2fe235",
   "metadata": {
    "tags": []
   },
   "source": [
    "### Filling the matrix with '1' on the additional diagonal, with '0' above this diag and '1' below it"
   ]
  },
  {
   "cell_type": "code",
   "execution_count": 72,
   "id": "333b82c7-67f2-45d6-b689-e9468db36630",
   "metadata": {},
   "outputs": [
    {
     "name": "stdin",
     "output_type": "stream",
     "text": [
      " 2\n"
     ]
    },
    {
     "name": "stdout",
     "output_type": "stream",
     "text": [
      "0 1\n",
      "1 2\n"
     ]
    }
   ],
   "source": [
    "n = int(input())\n",
    "\n",
    "b = [[0 if i < n-1-j else 2 if i > n-1-j else 1 for j in range(n)] for i in range(n)]\n",
    "\n",
    "for row in b:\n",
    "    print(*row)\n",
    "\n",
    "# in one line\n",
    "# [print(*[0 if i < n-1-j else 2 if i > n-1-j else 1 for j in range(n)]) for i in range(n)]"
   ]
  },
  {
   "cell_type": "markdown",
   "id": "01080f8c-3040-4758-900b-4fcaf4ffdd27",
   "metadata": {
    "tags": []
   },
   "source": [
    "## **`Operations under the matrices`**"
   ]
  },
  {
   "cell_type": "markdown",
   "id": "ddc229e2-9fd7-47e2-aa30-f1bbcf732869",
   "metadata": {
    "tags": []
   },
   "source": [
    "#### We can **sum** matrices with equal dimensions *(n x m)*. Each element of the result matrix equals the sum of the corresponding elements of the intitial matrices"
   ]
  },
  {
   "cell_type": "markdown",
   "id": "e625c68a-d699-4ba6-b07e-714e4fb949a6",
   "metadata": {},
   "source": [
    "$$C_{n\\times m} = A_{n\\times m} + B_{n\\times m}$$\n",
    "$$c_{ij} = a_{ij} + b_{ij}$$"
   ]
  },
  {
   "cell_type": "markdown",
   "id": "ba6ab858-12ef-42bc-afba-fd0271c1fc9b",
   "metadata": {},
   "source": [
    "#### Properties of matrix summation:"
   ]
  },
  {
   "cell_type": "markdown",
   "id": "92487813-2ec0-45a1-8228-7f0a1f46b126",
   "metadata": {},
   "source": [
    "$$ A + B = B + A $$\n",
    "$$ A + (B + C) = (A + B) + C $$\n",
    "$$ A + 0 = 0 + A = A $$\n",
    "$$ A + (-A) = 0 $$"
   ]
  },
  {
   "cell_type": "code",
   "execution_count": 73,
   "id": "3308a0a2-6c68-4318-9450-9529061d37a9",
   "metadata": {},
   "outputs": [
    {
     "name": "stdout",
     "output_type": "stream",
     "text": [
      "4 4 4 6\n",
      "6 9 8 11\n"
     ]
    }
   ],
   "source": [
    "# matrix A plus matrix B\n",
    "n, m = 2, 4\n",
    "\n",
    "A = [[1, 2, 3, 4], [5, 6, 7, 8]]\n",
    "B = [[3, 2, 1 ,2], [1, 3, 1, 3]]\n",
    "\n",
    "C = [[0]*m for i in range(n)]\n",
    "\n",
    "for i in range(n):\n",
    "    for j in range(m):\n",
    "        C[i][j] = A[i][j]+B[i][j]\n",
    "\n",
    "for row in C:\n",
    "    print(*row)\n",
    "# [print(*i) for i in C]"
   ]
  },
  {
   "cell_type": "markdown",
   "id": "be60a4d3-4683-4a0a-a489-6eccd45c2716",
   "metadata": {
    "tags": []
   },
   "source": [
    "#### We can **multiply** the matrix by a number. In the result matrix each element is the result of multiplying corresponding element by a given number. Dimensions *(n x m)* remain the same. "
   ]
  },
  {
   "cell_type": "markdown",
   "id": "965b7104-40fe-4b82-9461-7ef1348e38a7",
   "metadata": {},
   "source": [
    "$$ B = k\\times A$$"
   ]
  },
  {
   "cell_type": "markdown",
   "id": "fcf9bfd5-bac4-49b5-ab88-7de6dbcd3e01",
   "metadata": {},
   "source": [
    "#### Properties of product of the matrix with a number:"
   ]
  },
  {
   "cell_type": "markdown",
   "id": "85b84d08-4369-4f90-a1b6-08e02d4151c7",
   "metadata": {},
   "source": [
    "$$ 1 \\times A = A $$\n",
    "$$ 0 \\times A = 0 $$\n",
    "$$ k \\times (A + B) = k \\times A + k \\times B $$\n",
    "$$ (k + n) \\times A = k \\times A + n \\times A $$\n",
    "$$ (k \\times n) \\times A = k \\times (A \\times n) $$"
   ]
  },
  {
   "cell_type": "code",
   "execution_count": 74,
   "id": "67d8a537-28de-46fb-8480-703ccbf67432",
   "metadata": {},
   "outputs": [
    {
     "name": "stdout",
     "output_type": "stream",
     "text": [
      "3 6 9 12\n",
      "15 18 21 24\n"
     ]
    }
   ],
   "source": [
    "# matrix A multiplied by k\n",
    "n, m, k = 2, 4, 3\n",
    "\n",
    "A = [[1, 2, 3, 4], [5, 6, 7, 8]]\n",
    "\n",
    "C = [[0]*m for i in range(n)]\n",
    "\n",
    "for i in range(n):\n",
    "    for j in range(m):\n",
    "        C[i][j] = A[i][j]*k\n",
    "\n",
    "for row in C:\n",
    "    print(*row)\n",
    "# [print(*i) for i in C]"
   ]
  },
  {
   "cell_type": "markdown",
   "id": "b8d32ff3-800e-43f2-a896-9f62dc3af724",
   "metadata": {
    "tags": []
   },
   "source": [
    "#### We can calculate a **product** of the two matrices. In the result matrix each element is the sum of the products of the corresponding row elements of the first matrix with column elements of the second matrix."
   ]
  },
  {
   "cell_type": "markdown",
   "id": "37d0ae3c-d138-4b26-9aba-322265883fcf",
   "metadata": {
    "tags": []
   },
   "source": [
    "#### A dot product of two matrices can be calculated only if the number of columns in one matrix is equal to the number of rows in the second matrix."
   ]
  },
  {
   "cell_type": "markdown",
   "id": "ec5a02a1-176e-4275-8edb-437381350eaf",
   "metadata": {},
   "source": [
    "$$ c_{ij} = \\sum_{r=1}^{m} a_{ir} \\cdot b_{rj} = a_{i1} \\cdot b_{1j} + a_{i2} \\cdot b_{2j} + ... + a_{im} \\cdot b_{mj} $$"
   ]
  },
  {
   "cell_type": "markdown",
   "id": "3f2af477-faa2-4164-b7fc-93046ceb603b",
   "metadata": {},
   "source": [
    "#### Properties of product of the matrices:"
   ]
  },
  {
   "cell_type": "markdown",
   "id": "def52763-8727-4939-9718-588bf3784126",
   "metadata": {},
   "source": [
    "$$ (A \\times B) \\times C = A \\times (B \\times C) $$\n",
    "$$ A \\times (B \\times C) = A \\times B + A \\times C, (A + B) \\times C = A \\times C + B \\times C $$\n",
    "$$ (k \\times A) \\times B = k \\times (A \\times B) = A \\times (k \\times B) $$\n",
    "$$ A \\times B \\neq B \\times A $$"
   ]
  },
  {
   "cell_type": "code",
   "execution_count": 75,
   "id": "a0efb3e5-7452-46f1-babd-e8eeafccdda4",
   "metadata": {},
   "outputs": [
    {
     "name": "stdout",
     "output_type": "stream",
     "text": [
      "2 9 2\n",
      "6 19 6\n",
      "1 10 1\n"
     ]
    }
   ],
   "source": [
    "# a product of matrix A and B\n",
    "n, m = 3, 2\n",
    "m, k = 2, 3\n",
    "\n",
    "A = [[2, 5], [6, 7], [1, 8]]\n",
    "B = [[1, 2, 1], [0, 1, 0]]\n",
    "\n",
    "C = [[0]*n for _ in range(k)]\n",
    "\n",
    "for i in range(n):\n",
    "    for j in range(k):\n",
    "        for x in range(m):\n",
    "            C[i][j] += A[i][x] * B[x][j]\n",
    "\n",
    "for row in C:\n",
    "    print(*row)\n",
    "# [print(*i) for i in C]"
   ]
  },
  {
   "cell_type": "code",
   "execution_count": 76,
   "id": "7f3e2c68-7149-473f-9692-c5b59845077f",
   "metadata": {},
   "outputs": [
    {
     "name": "stdout",
     "output_type": "stream",
     "text": [
      "7560 9288 11016\n",
      "17118 21033 24948\n",
      "26676 32778 38880\n"
     ]
    }
   ],
   "source": [
    "# exponentiation of a matrix\n",
    "\n",
    "def matrix_product(A, B):\n",
    "    n = len(A)\n",
    "    C = [[0]*n for _ in range(n)]\n",
    "    for i in range(n):\n",
    "        for j in range(n):\n",
    "            for x in range(n):\n",
    "                C[i][j] += A[i][x] * B[x][j]\n",
    "    return C\n",
    "\n",
    "n = 3\n",
    "A = [[1, 2, 3],[4, 5, 6],[7, 8, 9]]\n",
    "m = 4\n",
    "\n",
    "B = A\n",
    "\n",
    "for i in range(1, m):\n",
    "    B = matrix_product(A, B)\n",
    "\n",
    "for row in B:\n",
    "    print(*row)    \n",
    "\n",
    "# [print(*i) for i in B]\n"
   ]
  }
 ],
 "metadata": {
  "kernelspec": {
   "display_name": "Python 3 (ipykernel)",
   "language": "python",
   "name": "python3"
  },
  "language_info": {
   "codemirror_mode": {
    "name": "ipython",
    "version": 3
   },
   "file_extension": ".py",
   "mimetype": "text/x-python",
   "name": "python",
   "nbconvert_exporter": "python",
   "pygments_lexer": "ipython3",
   "version": "3.9.12"
  }
 },
 "nbformat": 4,
 "nbformat_minor": 5
}
