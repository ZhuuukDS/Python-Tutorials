{
 "cells": [
  {
   "cell_type": "markdown",
   "id": "7b3456c3-6846-47e1-b410-98eb1259358d",
   "metadata": {
    "tags": []
   },
   "source": [
    "# **Dictionaries**\n",
    "______________________________"
   ]
  },
  {
   "cell_type": "markdown",
   "id": "40498454-a8b7-4456-822f-faf1eb18af5a",
   "metadata": {},
   "source": [
    "## Contents:\n",
    "- [Dictionary creation](#Dictionary-creation)\n",
    "- [Getting elements](#Getting-elements)\n",
    "- [Changing elements](#Changing-elements)\n",
    "- [Functions and operators](#Functions-and-operators)\n",
    "- [Dictionary methods](#Dict-methods)\n",
    "- [Nested dictionaries](#Nested-Dictionaries)\n",
    "- [Elements in nested dictionaries](#Getting/changing-elements-from-the-nested-dictionaries)\n",
    "- [Dictionary Comprehension](#Dictionary-Comprehension)\n",
    "- [Examples](#Examples)"
   ]
  },
  {
   "cell_type": "markdown",
   "id": "65aea7ef-e9d8-4472-904f-501040f07b56",
   "metadata": {
    "jp-MarkdownHeadingCollapsed": true,
    "tags": []
   },
   "source": [
    "#### **`dictionary`** - a data structure that is used to store data values in ***key: value*** pairs as a hash table\n",
    "#### **`dictionary`** - a collection which is ordered (from Python 3.6), mutable and do not allow duplicates of keys\n",
    "#### **`dictionary`** indexed by its keys\n",
    "#### **`values`** can be of any type and can be of different type even in the same dictionary\n",
    "#### **`keys`** are unique and immutable, so any immutable type object can be a key: \n",
    " - number\n",
    " - string\n",
    " - bool\n",
    " - tuple\n",
    " - frozenset\n",
    " <br>\n",
    " ***but not lists, sets, dicts etc***"
   ]
  },
  {
   "cell_type": "markdown",
   "id": "2b32026b-e63b-415e-8e1f-877f1a1b6e01",
   "metadata": {
    "tags": []
   },
   "source": [
    "## **`Dictionary creation`**"
   ]
  },
  {
   "cell_type": "code",
   "execution_count": 1,
   "id": "6f0ff6f1-567d-4437-bc0d-7c0a9cd000d8",
   "metadata": {},
   "outputs": [
    {
     "data": {
      "text/plain": [
       "({}, {})"
      ]
     },
     "execution_count": 1,
     "metadata": {},
     "output_type": "execute_result"
    }
   ],
   "source": [
    "a = {} # empty dictionary\n",
    "b = dict() # empty dictionary\n",
    "a, b"
   ]
  },
  {
   "cell_type": "code",
   "execution_count": 2,
   "id": "33dc4444-2113-493f-8c6b-45b231202f16",
   "metadata": {},
   "outputs": [
    {
     "data": {
      "text/plain": [
       "{'name': 'Alex', 'age': 30, 'job': 'data analyst'}"
      ]
     },
     "execution_count": 2,
     "metadata": {},
     "output_type": "execute_result"
    }
   ],
   "source": [
    "info1 = dict(name = 'Alex', age = 30, job = 'data analyst')\n",
    "info1"
   ]
  },
  {
   "cell_type": "code",
   "execution_count": 3,
   "id": "dda6dbf1-1934-49c5-b907-7d6f54c4ee47",
   "metadata": {},
   "outputs": [
    {
     "data": {
      "text/plain": [
       "{'name': 'Alex', 'age': 30, 'job': 'data analyst'}"
      ]
     },
     "execution_count": 3,
     "metadata": {},
     "output_type": "execute_result"
    }
   ],
   "source": [
    "# dict from a list of tuples\n",
    "info2 = dict([('name', 'Alex'), ('age', 30), ('job', 'data analyst')])\n",
    "info2"
   ]
  },
  {
   "cell_type": "code",
   "execution_count": 4,
   "id": "6fed785e-6ef4-4a61-8e40-958730703f6a",
   "metadata": {},
   "outputs": [
    {
     "data": {
      "text/plain": [
       "{'name': 'Alex', 'age': 30, 'job': 'data analyst'}"
      ]
     },
     "execution_count": 4,
     "metadata": {},
     "output_type": "execute_result"
    }
   ],
   "source": [
    "# dict from a tuple of lists\n",
    "info3 = dict((['name', 'Alex'], ['age', 30], ['job', 'data analyst']))\n",
    "info3"
   ]
  },
  {
   "cell_type": "code",
   "execution_count": 5,
   "id": "48c8ad59-2b46-4270-a449-06033e51b3ab",
   "metadata": {},
   "outputs": [
    {
     "data": {
      "text/plain": [
       "{'name': 'Alex', 'age': 30, 'job': 'data analyst'}"
      ]
     },
     "execution_count": 5,
     "metadata": {},
     "output_type": "execute_result"
    }
   ],
   "source": [
    "# dict from 2 lists using zip\n",
    "keys = ['name', 'age', 'job']\n",
    "values = ['Alex', 30, 'data analyst']\n",
    "info4 = dict(zip(keys, values))\n",
    "info4             "
   ]
  },
  {
   "cell_type": "code",
   "execution_count": 6,
   "id": "0c18bb82-0859-45a8-a482-685807f99f7d",
   "metadata": {},
   "outputs": [
    {
     "data": {
      "text/plain": [
       "{'C': 14, 'A': 12, 'T': 9, 'G': 18}"
      ]
     },
     "execution_count": 6,
     "metadata": {},
     "output_type": "execute_result"
    }
   ],
   "source": [
    "d = {'C':14, 'A':12, 'T':9, 'G':18} # dict with keys - letters and values - numbers\n",
    "d"
   ]
  },
  {
   "cell_type": "code",
   "execution_count": 7,
   "id": "5a54b993-4221-44b6-a6db-cd5634bad642",
   "metadata": {},
   "outputs": [
    {
     "data": {
      "text/plain": [
       "{'a': None, 'b': None}"
      ]
     },
     "execution_count": 7,
     "metadata": {},
     "output_type": "execute_result"
    }
   ],
   "source": [
    "e = dict.fromkeys(['a', 'b']) # dict with keys 'a' and 'b' with None values\n",
    "e"
   ]
  },
  {
   "cell_type": "code",
   "execution_count": 8,
   "id": "d1001dff-156a-40ee-888b-eadc5c37e632",
   "metadata": {},
   "outputs": [
    {
     "data": {
      "text/plain": [
       "{'a': 100, 'b': 100}"
      ]
     },
     "execution_count": 8,
     "metadata": {},
     "output_type": "execute_result"
    }
   ],
   "source": [
    "h = dict.fromkeys(['a', 'b'], 100) # dict with keys 'a' and 'b' with 100 as values\n",
    "h"
   ]
  },
  {
   "cell_type": "code",
   "execution_count": 9,
   "id": "14e2d852-e827-4b27-b8c5-35565e977fe3",
   "metadata": {},
   "outputs": [
    {
     "data": {
      "text/plain": [
       "{0: 0, 1: 1, 2: 4, 3: 9, 4: 16, 5: 25, 6: 36}"
      ]
     },
     "execution_count": 9,
     "metadata": {},
     "output_type": "execute_result"
    }
   ],
   "source": [
    "g = {a: a ** 2 for a in range(7)} # dict with numbers [0,7) as keys and squared numbers as values\n",
    "g"
   ]
  },
  {
   "cell_type": "markdown",
   "id": "3abfce87-9dc6-4b5e-a9e4-1b4598a1de75",
   "metadata": {
    "tags": []
   },
   "source": [
    "## **`Getting elements`**"
   ]
  },
  {
   "cell_type": "code",
   "execution_count": 10,
   "id": "2576edd3-128f-43fb-915f-aee35fd0ca44",
   "metadata": {},
   "outputs": [
    {
     "name": "stdout",
     "output_type": "stream",
     "text": [
      "{'name': 'Alex', 'age': 30, 'job': 'data analyst'}\n"
     ]
    }
   ],
   "source": [
    "print(info2)"
   ]
  },
  {
   "cell_type": "code",
   "execution_count": 11,
   "id": "d2fe9c80-ffcf-44e3-8b2a-58a03bc6b440",
   "metadata": {},
   "outputs": [
    {
     "data": {
      "text/plain": [
       "'Alex'"
      ]
     },
     "execution_count": 11,
     "metadata": {},
     "output_type": "execute_result"
    }
   ],
   "source": [
    "info2['name']"
   ]
  },
  {
   "cell_type": "code",
   "execution_count": 12,
   "id": "7ef201e8-798f-4b1b-8523-e6da053afc0e",
   "metadata": {},
   "outputs": [
    {
     "name": "stdout",
     "output_type": "stream",
     "text": [
      "C A T G "
     ]
    }
   ],
   "source": [
    "for key in d: \n",
    "    print(key, end = ' ') # iterating by key"
   ]
  },
  {
   "cell_type": "code",
   "execution_count": 13,
   "id": "a79e4823-24b6-4632-b978-036a8db4561b",
   "metadata": {},
   "outputs": [
    {
     "name": "stdout",
     "output_type": "stream",
     "text": [
      "C A T G "
     ]
    }
   ],
   "source": [
    "for key in d.keys(): \n",
    "    print(key, end = ' ') # the same but using function keys()"
   ]
  },
  {
   "cell_type": "code",
   "execution_count": 14,
   "id": "2fe17e4d-ad0e-4b88-ae71-7434b6366d31",
   "metadata": {},
   "outputs": [
    {
     "name": "stdout",
     "output_type": "stream",
     "text": [
      "C A T G\n"
     ]
    }
   ],
   "source": [
    "print(*d) # unpacking a dictionary"
   ]
  },
  {
   "cell_type": "code",
   "execution_count": 15,
   "id": "9393331f-4bd4-4e33-a7ce-0ba6d9000014",
   "metadata": {},
   "outputs": [
    {
     "name": "stdout",
     "output_type": "stream",
     "text": [
      "14 12 9 18 "
     ]
    }
   ],
   "source": [
    "for key in d:\n",
    "    print(d[key], end = ' ') # printing values"
   ]
  },
  {
   "cell_type": "code",
   "execution_count": 16,
   "id": "c3f01864-5536-4f22-97df-4ac56f872432",
   "metadata": {},
   "outputs": [
    {
     "name": "stdout",
     "output_type": "stream",
     "text": [
      "14 12 9 18 "
     ]
    }
   ],
   "source": [
    "for value in d.values(): \n",
    "    print(value, end = ' ') # iterating by value"
   ]
  },
  {
   "cell_type": "code",
   "execution_count": 17,
   "id": "74987e15-103a-45ad-b2c7-6e9920ae24a9",
   "metadata": {},
   "outputs": [
    {
     "name": "stdout",
     "output_type": "stream",
     "text": [
      "C - 14; A - 12; T - 9; G - 18; "
     ]
    }
   ],
   "source": [
    "for key, value in d.items(): \n",
    "    print(key, '-', value, end = '; ') # iterating by both key and value"
   ]
  },
  {
   "cell_type": "code",
   "execution_count": 18,
   "id": "dba698d1-37cd-4144-a262-4838778a1e1f",
   "metadata": {},
   "outputs": [
    {
     "data": {
      "text/plain": [
       "12"
      ]
     },
     "execution_count": 18,
     "metadata": {},
     "output_type": "execute_result"
    }
   ],
   "source": [
    "d['A'] # get value by its key"
   ]
  },
  {
   "cell_type": "code",
   "execution_count": 19,
   "id": "3a90ee42-9ce7-49ef-a775-9c91570239a3",
   "metadata": {},
   "outputs": [
    {
     "data": {
      "text/plain": [
       "12"
      ]
     },
     "execution_count": 19,
     "metadata": {},
     "output_type": "execute_result"
    }
   ],
   "source": [
    "d.get('A') # get value by its key using function get(), returns None if no value"
   ]
  },
  {
   "cell_type": "markdown",
   "id": "cea3524b-cfc5-40ed-b388-c7a74dad941a",
   "metadata": {
    "tags": []
   },
   "source": [
    "## **`Changing elements`**"
   ]
  },
  {
   "cell_type": "code",
   "execution_count": 20,
   "id": "e2424d9a-0179-4c34-9239-64093465c7df",
   "metadata": {},
   "outputs": [
    {
     "data": {
      "text/plain": [
       "{'C': 0, 'A': 12, 'T': 9, 'G': 18}"
      ]
     },
     "execution_count": 20,
     "metadata": {},
     "output_type": "execute_result"
    }
   ],
   "source": [
    "d['C'] = 0 # assigning a new value to a key\n",
    "d"
   ]
  },
  {
   "cell_type": "code",
   "execution_count": 21,
   "id": "c123738c-9a68-4c29-a8d6-092cd95a8d84",
   "metadata": {},
   "outputs": [
    {
     "data": {
      "text/plain": [
       "{'C': 0, 'A': 12, 'T': 9, 'G': 18, 'F': 100}"
      ]
     },
     "execution_count": 21,
     "metadata": {},
     "output_type": "execute_result"
    }
   ],
   "source": [
    "d['F'] = 100 # adding a new pair key:value\n",
    "d"
   ]
  },
  {
   "cell_type": "code",
   "execution_count": 22,
   "id": "8118f6bb-6f6c-403e-bf1f-e602d1a4c04d",
   "metadata": {},
   "outputs": [
    {
     "data": {
      "text/plain": [
       "{'C': 0, 'A': 12, 'T': 9, 'G': 18, 'F': (100, 101)}"
      ]
     },
     "execution_count": 22,
     "metadata": {},
     "output_type": "execute_result"
    }
   ],
   "source": [
    "d['F'] = (d['F'], 101) # adding a new additional value to a key\n",
    "d"
   ]
  },
  {
   "cell_type": "code",
   "execution_count": 23,
   "id": "aace9b6c-177d-4c8e-b66c-f96832def427",
   "metadata": {
    "tags": []
   },
   "outputs": [
    {
     "data": {
      "text/plain": [
       "{'C': 0, 'A': 12, 'T': 9, 'G': 18}"
      ]
     },
     "execution_count": 23,
     "metadata": {},
     "output_type": "execute_result"
    }
   ],
   "source": [
    "del d['F'] # delete a pair key:value\n",
    "d"
   ]
  },
  {
   "cell_type": "markdown",
   "id": "8fd2012e-117f-44f6-b264-270c9603760b",
   "metadata": {
    "tags": []
   },
   "source": [
    "## **`Functions and operators`**"
   ]
  },
  {
   "cell_type": "markdown",
   "id": "fa529405-d169-40f5-9dca-3345f82f5867",
   "metadata": {},
   "source": [
    "__main functions and operators used with dictionaries__"
   ]
  },
  {
   "cell_type": "markdown",
   "id": "398f2086-8f85-4c66-bde8-f70590a64aaa",
   "metadata": {},
   "source": [
    "**len()** - returns number of elements (keys) in the dict <br>\n",
    "**[not] in** - checks if a dict contains a key or not (works faster than with lists)<br>\n",
    "**sum()** - counts a sum of keys in dict if keys are numbers<br>\n",
    "**min(), max()** - returns min and max keys<br>\n",
    "**sorted()** - returns a sorted list of keys<br>\n",
    "\n",
    "indexes and slices **don't work** with dicts\n",
    "operations of + and * **unavailable** for dicts"
   ]
  },
  {
   "cell_type": "markdown",
   "id": "661773e1-9a1d-42ef-9eb8-f674d70d2521",
   "metadata": {
    "tags": []
   },
   "source": [
    "## **`Dict methods`**"
   ]
  },
  {
   "cell_type": "markdown",
   "id": "94a66257-44c2-4678-9e71-41ac22a608a0",
   "metadata": {},
   "source": [
    "#### Dict methods items(), keys(), values() return special lists like dict_items, dict_keys, dict_values"
   ]
  },
  {
   "cell_type": "markdown",
   "id": "5f341f40-9171-4cd1-bc40-e26861385cb6",
   "metadata": {
    "tags": []
   },
   "source": [
    "#### __main dict methods:__"
   ]
  },
  {
   "cell_type": "markdown",
   "id": "48863723-08f3-452b-95be-0dee2c019d09",
   "metadata": {
    "jupyter": {
     "outputs_hidden": true
    },
    "tags": []
   },
   "source": [
    "| method | what it does |\n",
    "| --- | --- |\n",
    "| __`dict.keys()`__ | returns keys |\n",
    "| **`dict.values()`** | returns values |\n",
    "|**`dict.items()`** | returns pairs key:values |\n",
    "|__`dict.get(key [, default])`__ | returns value of a key, if not found returns default (None by default) |\n",
    "|__`dict.setdefault(key [, default])`__| returns a value. If not found creates a new key with default value (None by default) |\n",
    "|__`dict.fromkeys(seq [, value])`__ | creates a dict with keys from seq and value (None by default) |\n",
    "|**`dict.update([another_dict])`** | updates a dict adding pairs key:values from another_dict. Current keys update. Returns None (not the new dict) |\n",
    "|**`dict.copy()`** | returns a copy of a dict |\n",
    "|**`dict.pop(key [, default])`** | removes a key and returns its value. If not found returns default or Error |\n",
    "|**`dict.popitem()`** | removes and returns a last added key:value pair. If dict is empty returns KeyError |\n",
    "|**`dict.clear()`** | deletes everything from the dict |\n",
    "|**`del dict[key]`** | deletes a key from a dict |"
   ]
  },
  {
   "cell_type": "markdown",
   "id": "453318b2-2406-4654-85a5-5084e93b9f77",
   "metadata": {
    "tags": []
   },
   "source": [
    "## **`Nested Dictionaries`**"
   ]
  },
  {
   "cell_type": "markdown",
   "id": "3aed4ac8-9507-4098-9750-e156f9faa033",
   "metadata": {},
   "source": [
    "__Nested dict__ is a dict where the values of the keys are also dicts"
   ]
  },
  {
   "cell_type": "code",
   "execution_count": 24,
   "id": "f6923a58-98e0-4c0f-ae2a-f770e33f8ae1",
   "metadata": {},
   "outputs": [
    {
     "data": {
      "text/plain": [
       "{'emp1': {'name': 'John', 'job': 'Teacher'},\n",
       " 'emp2': {'name': 'Pete', 'job': 'Developer'},\n",
       " 'emp3': {'name': 'Adam', 'job': 'Tester'}}"
      ]
     },
     "execution_count": 24,
     "metadata": {},
     "output_type": "execute_result"
    }
   ],
   "source": [
    "info1 = {'emp1': {'name': 'John', 'job': 'Teacher'},\n",
    "        'emp2': {'name': 'Pete', 'job': 'Developer'},\n",
    "        'emp3': {'name': 'Adam', 'job': 'Tester'}}\n",
    "info1"
   ]
  },
  {
   "cell_type": "code",
   "execution_count": 25,
   "id": "cace34ce-f5cc-4389-9a21-01de6686fa0a",
   "metadata": {},
   "outputs": [
    {
     "data": {
      "text/plain": [
       "{'emp1': {'name': 'John', 'job': 'Teacher'},\n",
       " 'emp2': {'name': 'Pete', 'job': 'Developer'},\n",
       " 'emp3': {'name': 'Adam', 'job': 'Tester'}}"
      ]
     },
     "execution_count": 25,
     "metadata": {},
     "output_type": "execute_result"
    }
   ],
   "source": [
    "info2 = dict(emp1 = {'name': 'John', 'job': 'Teacher'},\n",
    "            emp2 = {'name': 'Pete', 'job': 'Developer'},\n",
    "            emp3 = {'name': 'Adam', 'job': 'Tester'})\n",
    "info2"
   ]
  },
  {
   "cell_type": "code",
   "execution_count": 26,
   "id": "851d8020-d89d-49ce-beb9-eae433c4fc42",
   "metadata": {},
   "outputs": [
    {
     "data": {
      "text/plain": [
       "{'emp1': {'name': 'Timur', 'job': 'Teacher'},\n",
       " 'emp2': {'name': 'Ruslan', 'job': 'Developer'},\n",
       " 'emp3': {'name': 'Rustam', 'job': 'Tester'}}"
      ]
     },
     "execution_count": 26,
     "metadata": {},
     "output_type": "execute_result"
    }
   ],
   "source": [
    "ids = ['emp1', 'emp2', 'emp3']\n",
    "\n",
    "emp_info = [{'name': 'Timur', 'job': 'Teacher'},\n",
    "            {'name': 'Ruslan', 'job': 'Developer'},\n",
    "            {'name': 'Rustam', 'job': 'Tester'}]\n",
    "\n",
    "info3 = dict(zip(ids, emp_info))\n",
    "info3"
   ]
  },
  {
   "cell_type": "markdown",
   "id": "739b7bf7-559f-45f1-bcf4-738b654956be",
   "metadata": {
    "tags": []
   },
   "source": [
    "## **`Getting/changing elements from the nested dictionaries`**"
   ]
  },
  {
   "cell_type": "code",
   "execution_count": 27,
   "id": "8daad9a3-f246-4c17-a492-85050b9b07d0",
   "metadata": {},
   "outputs": [
    {
     "data": {
      "text/plain": [
       "'Pete'"
      ]
     },
     "execution_count": 27,
     "metadata": {},
     "output_type": "execute_result"
    }
   ],
   "source": [
    "info1['emp2']['name']"
   ]
  },
  {
   "cell_type": "code",
   "execution_count": 28,
   "id": "e886299c-2e26-4388-9610-1bb25e6aa356",
   "metadata": {},
   "outputs": [
    {
     "data": {
      "text/plain": [
       "{'name': 'John', 'job': 'Manager'}"
      ]
     },
     "execution_count": 28,
     "metadata": {},
     "output_type": "execute_result"
    }
   ],
   "source": [
    "info2['emp1']['job'] = 'Manager'\n",
    "\n",
    "info2['emp1']"
   ]
  },
  {
   "cell_type": "markdown",
   "id": "a562e8e8-ccba-4690-8746-78813adaf767",
   "metadata": {},
   "source": [
    "__Iteration__"
   ]
  },
  {
   "cell_type": "code",
   "execution_count": 29,
   "id": "48f3674b-0f70-41b8-8a5d-bd01fdf0efa5",
   "metadata": {},
   "outputs": [
    {
     "name": "stdout",
     "output_type": "stream",
     "text": [
      "emp1\n",
      "name: John\n",
      "job: Teacher\n",
      "emp2\n",
      "name: Pete\n",
      "job: Developer\n",
      "emp3\n",
      "name: Adam\n",
      "job: Tester\n"
     ]
    }
   ],
   "source": [
    "for emp in info1:\n",
    "    print(emp)\n",
    "    for key in info1[emp]:\n",
    "        print(key + ':', info1[emp][key])\n",
    "        "
   ]
  },
  {
   "cell_type": "code",
   "execution_count": 30,
   "id": "f7b86bc2-67a4-42d9-92b4-d205fceaf77a",
   "metadata": {},
   "outputs": [
    {
     "name": "stdout",
     "output_type": "stream",
     "text": [
      "emp1\n",
      "name: John\n",
      "job: Teacher\n",
      "emp2\n",
      "name: Pete\n",
      "job: Developer\n",
      "emp3\n",
      "name: Adam\n",
      "job: Tester\n"
     ]
    }
   ],
   "source": [
    "# another way using items()\n",
    "for emp, inf in info1.items():\n",
    "    print(emp)\n",
    "    for key in inf:\n",
    "        print(key + ':', inf[key])"
   ]
  },
  {
   "cell_type": "markdown",
   "id": "e8ddfbc4-ddbf-4104-8efd-2e5d6d89ae50",
   "metadata": {
    "tags": []
   },
   "source": [
    "## **`Dictionary Comprehension`**"
   ]
  },
  {
   "cell_type": "markdown",
   "id": "e9240e04-c097-4076-95d2-eeaaa3016628",
   "metadata": {},
   "source": [
    "__Dictionaries can be generated as like lists comprehension__"
   ]
  },
  {
   "cell_type": "raw",
   "id": "16508d1c-6b9c-4c33-9544-37782c565e0d",
   "metadata": {},
   "source": [
    "{<key>: <value> for <variable> in <sequence>}"
   ]
  },
  {
   "cell_type": "markdown",
   "id": "996d312e-7417-4b50-b3d6-a53f945200fe",
   "metadata": {},
   "source": [
    "__Examples:__"
   ]
  },
  {
   "cell_type": "code",
   "execution_count": 31,
   "id": "c1b29bee-7a57-4819-99fa-08fd30be2ca9",
   "metadata": {},
   "outputs": [
    {
     "data": {
      "text/plain": [
       "{0: 0, 1: 1, 2: 4, 3: 9, 4: 16, 5: 25, 6: 36, 7: 49, 8: 64, 9: 81}"
      ]
     },
     "execution_count": 31,
     "metadata": {},
     "output_type": "execute_result"
    }
   ],
   "source": [
    "# sequence is a range of numbers from 0 to 9\n",
    "squares = {i: i**2 for i in range(10)}\n",
    "\n",
    "squares"
   ]
  },
  {
   "cell_type": "code",
   "execution_count": 32,
   "id": "c70eda5d-5f89-43ae-81ab-49f2043b155d",
   "metadata": {},
   "outputs": [
    {
     "data": {
      "text/plain": [
       "{'O': 'ooo', 'R': 'rrr', 'A': 'aaa', 'N': 'nnn', 'G': 'ggg', 'E': 'eee'}"
      ]
     },
     "execution_count": 32,
     "metadata": {},
     "output_type": "execute_result"
    }
   ],
   "source": [
    "# iterating for an element from the string\n",
    "dct = {c: c.lower()*3 for c in 'ORANGE'}\n",
    "\n",
    "dct"
   ]
  },
  {
   "cell_type": "markdown",
   "id": "ac6854fb-9206-49cd-a536-b20d9dc37b3e",
   "metadata": {},
   "source": [
    "__Taking elements from a dict with a given list of keys__"
   ]
  },
  {
   "cell_type": "code",
   "execution_count": 33,
   "id": "251ab970-c6c1-455c-8065-c52a1ed2f3d0",
   "metadata": {},
   "outputs": [
    {
     "data": {
      "text/plain": [
       "{0: 'A', 2: 'C', 5: 'F'}"
      ]
     },
     "execution_count": 33,
     "metadata": {},
     "output_type": "execute_result"
    }
   ],
   "source": [
    "dict1 = {0: 'A', 1: 'B', 2: 'C', 3: 'D', 4: 'E', 5: 'F'}\n",
    "selected_keys = [0, 2, 5]\n",
    "\n",
    "dict2 = {k: dict1[k] for k in selected_keys}\n",
    "\n",
    "dict2"
   ]
  },
  {
   "cell_type": "markdown",
   "id": "a943e327-2e32-4c1f-bcc3-0b5a04b1be69",
   "metadata": {},
   "source": [
    "__Using conditions in dict comprehension__"
   ]
  },
  {
   "cell_type": "code",
   "execution_count": 34,
   "id": "8c94a66c-0de0-49f3-a55f-959d0df62466",
   "metadata": {},
   "outputs": [
    {
     "data": {
      "text/plain": [
       "{0: 0, 2: 4, 4: 16, 6: 36, 8: 64}"
      ]
     },
     "execution_count": 34,
     "metadata": {},
     "output_type": "execute_result"
    }
   ],
   "source": [
    "# a dict with squares of only even numbers from 0 to 9\n",
    "squares2 = {i: i**2 for i in range(10) if i % 2 == 0}\n",
    "\n",
    "squares2"
   ]
  },
  {
   "cell_type": "markdown",
   "id": "23e1911a-9bcd-4340-ba05-897c7e96181d",
   "metadata": {},
   "source": [
    "__Dict comprehension of the nested dicts__"
   ]
  },
  {
   "cell_type": "code",
   "execution_count": 35,
   "id": "12839269-77c5-4ac7-a83f-5468bd4c9ecb",
   "metadata": {},
   "outputs": [
    {
     "data": {
      "text/plain": [
       "{0: {0: 0},\n",
       " 1: {0: 0, 1: 1},\n",
       " 2: {0: 0, 1: 1, 2: 4},\n",
       " 3: {0: 0, 1: 1, 2: 4, 3: 9},\n",
       " 4: {0: 0, 1: 1, 2: 4, 3: 9, 4: 16}}"
      ]
     },
     "execution_count": 35,
     "metadata": {},
     "output_type": "execute_result"
    }
   ],
   "source": [
    "squares3 = {i: {j: j**2 for j in range(i + 1)} for i in range(5)}\n",
    "\n",
    "squares3\n"
   ]
  },
  {
   "cell_type": "markdown",
   "id": "ecef72b2-4adc-4b5e-82b1-d132bcd98854",
   "metadata": {
    "tags": []
   },
   "source": [
    "## **`Examples`**"
   ]
  },
  {
   "cell_type": "markdown",
   "id": "e7a800f5-638e-4b89-bdb1-570e8b3f5564",
   "metadata": {},
   "source": [
    "__Create a dictionary `result` where the key is a position of a number from the list `numbers` and value is the square of this number__"
   ]
  },
  {
   "cell_type": "code",
   "execution_count": 36,
   "id": "f1d532a8-6101-451c-a167-e60cb5d69fec",
   "metadata": {},
   "outputs": [],
   "source": [
    "numbers = [34, 10, -4, 6, 10, 23, -90, 100, 21, -35, -95, 1, 36, -38]\n",
    "\n",
    "result = {pos: numbers[pos]**2 for pos in range(len(numbers)) }"
   ]
  },
  {
   "cell_type": "markdown",
   "id": "6685ab78-00fc-41ff-b9ff-04b41c0d2a9b",
   "metadata": {},
   "source": [
    "**Create a dictionary `result` consisting of all elements of the given dictionary `colors` except those with *None* values**"
   ]
  },
  {
   "cell_type": "code",
   "execution_count": 37,
   "id": "845f7e61-11c1-4a22-a582-217f677cb9d1",
   "metadata": {},
   "outputs": [],
   "source": [
    "colors = {'c1': 'Red', 'c2': 'Grey', 'c3': None, 'c4': 'Green', \n",
    "          'c5': 'Yellow', 'c6': 'Pink', 'c7': 'Orange', 'c8': None, \n",
    "          'c9': 'White', 'c10': 'Black', 'c11': 'Violet', 'c12': 'Gold', \n",
    "          'c13': None, 'c14': 'Amber', 'c15': 'Azure', 'c16': 'Beige', \n",
    "          'c17': 'Bronze', 'c18': None, 'c19': 'Lilac', 'c20': 'Pearl', \n",
    "          'c21': None, 'c22': 'Sand', 'c23': None}\n",
    "\n",
    "result = {key: value for key, value in colors.items() if colors[key] != None}"
   ]
  },
  {
   "cell_type": "markdown",
   "id": "0774d42b-44d9-4b08-8426-919331f3cb4f",
   "metadata": {},
   "source": [
    "__Create a dictionary `result` consisting of all elements of the given dictionary `months` but with keys, values swapped__"
   ]
  },
  {
   "cell_type": "code",
   "execution_count": 38,
   "id": "75b5802d-9183-465b-96b8-895f21af6978",
   "metadata": {},
   "outputs": [],
   "source": [
    "months = {1: 'January', 2: 'February', 3: 'March', 4: 'April', 5: 'May', \n",
    "          6: 'June', 7: 'July', 8: 'August', 9: 'September', 10: 'October', \n",
    "          11: 'November', 12: 'December'}\n",
    "\n",
    "result = {v:k for k,v in months.items()}"
   ]
  },
  {
   "cell_type": "markdown",
   "id": "28aa0bac-b715-444d-be58-0e23174d031c",
   "metadata": {},
   "source": [
    "__Given a string `s` of pairs nummber:word separated by a space. Create a dictionary `result` where keys are numbers from `s` and values are words__"
   ]
  },
  {
   "cell_type": "code",
   "execution_count": 39,
   "id": "bcd24f0f-8ed8-420a-8fea-500b423839cc",
   "metadata": {},
   "outputs": [],
   "source": [
    "s = '1:men 2:kind 90:number 0:sun 34:book 56:mountain 87:wood 54:car 3:island 88:power 7:box 17:star 101:ice'\n",
    "\n",
    "result = {int(i): j for i, j in [i.split(':') for i in s.split()]}"
   ]
  },
  {
   "cell_type": "markdown",
   "id": "490df879-adc1-4579-9448-8cab766104c7",
   "metadata": {},
   "source": [
    "__Create a dictionary `result` where keys are numbers in a range from 1 to 100 and value is ascending sorted list of all its divisors starting from 1__"
   ]
  },
  {
   "cell_type": "code",
   "execution_count": 40,
   "id": "8d6c929d-310b-4e4c-9d1e-14c4bbfafe23",
   "metadata": {
    "tags": []
   },
   "outputs": [],
   "source": [
    "result = {i: [j for j in range(1, i+1) if i % j == 0] for i in range(1,101)}"
   ]
  },
  {
   "cell_type": "markdown",
   "id": "d702bca7-c1ef-4094-b74f-e5caacaa7110",
   "metadata": {},
   "source": [
    "__Create a nested dictionary `result` with keys from the list `student_id` and values as a dictionary with names from `student_names` as keys and values from `student_grades`__"
   ]
  },
  {
   "cell_type": "code",
   "execution_count": 41,
   "id": "6cbfd116-0c8f-4c5c-a33f-2dc7444be961",
   "metadata": {},
   "outputs": [
    {
     "data": {
      "text/plain": [
       "{'S001': {'Camila Rodriguez': 86},\n",
       " 'S002': {'Juan Cruz': 98},\n",
       " 'S003': {'Dan Richards': 89},\n",
       " 'S004': {'Sam Boyle': 92},\n",
       " 'S005': {'Batista Cesare': 45},\n",
       " 'S006': {'Francesco Totti': 67},\n",
       " 'S007': {'Khalid Hussain': 89},\n",
       " 'S008': {'Ethan Hawke': 90},\n",
       " 'S009': {'David Bowman': 100},\n",
       " 'S010': {'James Milner': 98},\n",
       " 'S011': {'Michael Owen': 10},\n",
       " 'S012': {'Gary Oldman': 96},\n",
       " 'S013': {'Tom Hardy': 93}}"
      ]
     },
     "execution_count": 41,
     "metadata": {},
     "output_type": "execute_result"
    }
   ],
   "source": [
    "student_ids = ['S001', 'S002', 'S003', 'S004', 'S005', 'S006', 'S007', 'S008', 'S009', 'S010', 'S011', 'S012', 'S013'] \n",
    "student_names = ['Camila Rodriguez', 'Juan Cruz', 'Dan Richards', 'Sam Boyle', 'Batista Cesare', 'Francesco Totti', 'Khalid Hussain', 'Ethan Hawke', 'David Bowman', 'James Milner', 'Michael Owen', 'Gary Oldman', 'Tom Hardy'] \n",
    "student_grades = [86, 98, 89, 92, 45, 67, 89, 90, 100, 98, 10, 96, 93]\n",
    "\n",
    "result = {x: {y:z} for x, y, z in zip(student_ids, student_names, student_grades)}\n",
    "result"
   ]
  },
  {
   "cell_type": "markdown",
   "id": "ad29c97c-3093-428c-a771-8d004a558816",
   "metadata": {},
   "source": [
    "__Given a string with words separated by space. Write a program that determines for each word the ordinal number of its occurrence in the text (case sensitive). For the first occurrence of the word, print 1, for the second occurrence of the same word - 2, and so on.__"
   ]
  },
  {
   "cell_type": "code",
   "execution_count": 42,
   "id": "12ae00d8-f10e-45cc-8a6c-e6ad3b9dde13",
   "metadata": {},
   "outputs": [
    {
     "name": "stdout",
     "output_type": "stream",
     "text": [
      "1 1 2 1 2 2 "
     ]
    }
   ],
   "source": [
    "s = 'Ashes to Ashes dust to dust'\n",
    "\n",
    "d = {}\n",
    "for i in s.split(' '):\n",
    "    d[i] = d.get(i, 0) + 1\n",
    "    print(d[i], end = ' ')"
   ]
  }
 ],
 "metadata": {
  "kernelspec": {
   "display_name": "Python 3 (ipykernel)",
   "language": "python",
   "name": "python3"
  },
  "language_info": {
   "codemirror_mode": {
    "name": "ipython",
    "version": 3
   },
   "file_extension": ".py",
   "mimetype": "text/x-python",
   "name": "python",
   "nbconvert_exporter": "python",
   "pygments_lexer": "ipython3",
   "version": "3.9.12"
  }
 },
 "nbformat": 4,
 "nbformat_minor": 5
}
