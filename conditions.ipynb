{
 "cells": [
  {
   "cell_type": "markdown",
   "id": "052bfa63-ce5a-4584-b51f-a5b99f11451f",
   "metadata": {
    "tags": []
   },
   "source": [
    "# **Conditions**\n",
    "______________________________"
   ]
  },
  {
   "cell_type": "markdown",
   "id": "ff780a4c-0bc4-4521-8506-f5d2aa170f9d",
   "metadata": {
    "tags": []
   },
   "source": [
    "### **Conditional operators**"
   ]
  },
  {
   "cell_type": "markdown",
   "id": "61fc9a1c-51ae-4600-8baa-aff0ca40142e",
   "metadata": {
    "tags": []
   },
   "source": [
    "#### ***`if, elif, else`***"
   ]
  },
  {
   "cell_type": "code",
   "execution_count": 1,
   "id": "22b6cfb9-e526-489f-a8ad-c675a9f4c2be",
   "metadata": {},
   "outputs": [
    {
     "name": "stdin",
     "output_type": "stream",
     "text": [
      "What programming language we learn now? C\n"
     ]
    },
    {
     "name": "stdout",
     "output_type": "stream",
     "text": [
      "That's not C\n"
     ]
    }
   ],
   "source": [
    "# using if, elif, else\n",
    "answer = input('What programming language we learn now?')\n",
    "\n",
    "if answer == 'Python': # if it's true, then\n",
    "    print(\"That's right! It's Python\")\n",
    "elif answer == 'C':\n",
    "    print(\"That's not C\")\n",
    "else: # if not, then\n",
    "    print(\"No, you are wrong\")"
   ]
  },
  {
   "cell_type": "markdown",
   "id": "583421c7-6969-4eb0-8487-4427d23d7a88",
   "metadata": {
    "tags": []
   },
   "source": [
    "### **Comparison Operators**"
   ]
  },
  {
   "cell_type": "markdown",
   "id": "750ec180-7a62-4eb8-bad4-5afed6dbd596",
   "metadata": {},
   "source": [
    "| expression | Description |\n",
    "|----------|-------------|\n",
    "| if x > 7 | if x greater than 7 | \n",
    "| if x < 7 | if x less than 7 |\n",
    "| if x >= 7 | if x greater than or equal to 7 |\n",
    "| if x <= 7 | if x less than or equal to 7 |\n",
    "| if x == 7 | if x equal to 7 |\n",
    "| if x != 7 | if x not equal to 7 |"
   ]
  },
  {
   "cell_type": "markdown",
   "id": "59a31019-4baa-4d39-982b-1ce199111a11",
   "metadata": {
    "tags": []
   },
   "source": [
    "### **Comparison Chains**"
   ]
  },
  {
   "cell_type": "code",
   "execution_count": 2,
   "id": "56e58693-70bd-4edb-b199-edfd3d3e9043",
   "metadata": {},
   "outputs": [
    {
     "name": "stdin",
     "output_type": "stream",
     "text": [
      " 6\n"
     ]
    },
    {
     "name": "stdout",
     "output_type": "stream",
     "text": [
      "You're a child\n"
     ]
    }
   ],
   "source": [
    "# In Python we can join the comparison operators in chains\n",
    "age = int(input())\n",
    "if 3 <= age <= 6:\n",
    "    print(\"You're a child\")"
   ]
  },
  {
   "cell_type": "code",
   "execution_count": 3,
   "id": "54954a8d-7313-4c11-b02b-7ac6089bcf6a",
   "metadata": {},
   "outputs": [
    {
     "name": "stdout",
     "output_type": "stream",
     "text": [
      "the numbers are not equal\n"
     ]
    }
   ],
   "source": [
    "# so, we can compare several variables in one chain\n",
    "a, b, c = 1, 1, 2\n",
    "if a == b == c:\n",
    "    print(\"the numbers are equal\")\n",
    "else:\n",
    "    print(\"the numbers are not equal\")"
   ]
  },
  {
   "cell_type": "markdown",
   "id": "efb22d8b-8ad2-464e-bd6d-87dd19330a76",
   "metadata": {
    "tags": []
   },
   "source": [
    "### **Nested ternary operator**"
   ]
  },
  {
   "cell_type": "markdown",
   "id": "adc9dfe9-5580-4785-b42a-a6aaec11a8ac",
   "metadata": {},
   "source": [
    "    <action_1> if <condition_1> else <action_2>"
   ]
  },
  {
   "cell_type": "markdown",
   "id": "26c65168-24ab-423d-a846-58cd08a0424d",
   "metadata": {},
   "source": [
    "    <action_1> if <condition_1> else <action_2> if <condition_2> else <action_3>"
   ]
  },
  {
   "cell_type": "code",
   "execution_count": 4,
   "id": "beaa76dc-73bb-4578-ab6e-006804076bac",
   "metadata": {},
   "outputs": [],
   "source": [
    "is_nice = True\n",
    "state = \"nice\" if is_nice else \"not nice\""
   ]
  },
  {
   "cell_type": "code",
   "execution_count": 5,
   "id": "3ce820f3-375f-40c8-ba75-bc0da6b51298",
   "metadata": {},
   "outputs": [
    {
     "name": "stdout",
     "output_type": "stream",
     "text": [
      "2\n"
     ]
    }
   ],
   "source": [
    "condition = True\n",
    "print(2 if condition else 1)"
   ]
  },
  {
   "cell_type": "code",
   "execution_count": 6,
   "id": "0c734a00-7383-45d6-811a-c5519fabd732",
   "metadata": {},
   "outputs": [
    {
     "name": "stdin",
     "output_type": "stream",
     "text": [
      " 5\n"
     ]
    },
    {
     "name": "stdout",
     "output_type": "stream",
     "text": [
      "you're a child\n"
     ]
    }
   ],
   "source": [
    "age = int(input())\n",
    "print(\"you're a baby\") if 0 <= age <= 3 else print(\"you're a child\") if 3 < age <= 12 else print(\"you're a teenager\")"
   ]
  }
 ],
 "metadata": {
  "kernelspec": {
   "display_name": "Python 3 (ipykernel)",
   "language": "python",
   "name": "python3"
  },
  "language_info": {
   "codemirror_mode": {
    "name": "ipython",
    "version": 3
   },
   "file_extension": ".py",
   "mimetype": "text/x-python",
   "name": "python",
   "nbconvert_exporter": "python",
   "pygments_lexer": "ipython3",
   "version": "3.8.12"
  }
 },
 "nbformat": 4,
 "nbformat_minor": 5
}
