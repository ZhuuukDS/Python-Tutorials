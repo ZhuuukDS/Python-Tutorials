{
 "cells": [
  {
   "cell_type": "markdown",
   "id": "e478b0a7-084e-42ed-8206-ce1dba50be29",
   "metadata": {
    "tags": []
   },
   "source": [
    "# **Functions**\n",
    "______________________________"
   ]
  },
  {
   "cell_type": "markdown",
   "id": "d6143c2b-6e01-4649-8d28-abcd966eec44",
   "metadata": {},
   "source": [
    "## Contents:\n",
    "- [Functions without parameters](#Functions-without-parameters)\n",
    "- [Functions with parameters](#Functions-with-parameters)\n",
    "- [Local and global variables](#Local-and-global-variables)\n",
    "- [Returning functions](#Returning-functions)\n",
    "- [Positional arguments](#Positional-arguments)\n",
    "- [Keyword arguments](#Keyword-arguments)\n",
    "- [Default arguments](#Default-arguments)\n",
    "- [\\*args](#Variable-number-of-positional-arguments)\n",
    "- [\\*\\*kwargs](#Variable-number-of-keyword-arguments-as-a-dictionary)\n",
    "- [Correct order of arguments](#Correct-order-of-all-type-of-arguments)\n",
    "- [Functions as objects](#Functions-as-objects)\n",
    "- [Functions as arguments for other functions](#Functions-as-arguments-for-other-functions)\n",
    "- [Functions as return values of other functions](#Functions-as-return-values-of-other-functions)\n",
    "- [map(), filter(), reduce()](#Standard-functions-map(),-filter(),-reduce())\n",
    "- [BONUS!!! Module operator](#Module-operator)\n",
    "- [Anonymous functions | lambda](#Anonymous-function,-lambda)\n",
    "- [any(), all(), zip(), enumerate()](#Standard-functions-any(),-all(),-zip(),-enumerate())\n",
    "- [Problems](#Problems)"
   ]
  },
  {
   "cell_type": "markdown",
   "id": "3a7ea1db-5563-4ba9-83ad-036c0d963626",
   "metadata": {
    "tags": []
   },
   "source": [
    "## **`Functions without parameters`**"
   ]
  },
  {
   "cell_type": "markdown",
   "id": "36209135-6649-493a-9e0e-b339d9f8e163",
   "metadata": {
    "tags": []
   },
   "source": [
    "    def <function_name>():\n",
    "        <block_of_code>"
   ]
  },
  {
   "cell_type": "code",
   "execution_count": 1,
   "id": "4ed9f4ca-8b32-4f52-8e53-8cf5056e9b1c",
   "metadata": {},
   "outputs": [
    {
     "name": "stdout",
     "output_type": "stream",
     "text": [
      "My name is Bond\n",
      "James Bond\n"
     ]
    }
   ],
   "source": [
    "# declare function\n",
    "def print_message():\n",
    "    print('My name is Bond')\n",
    "    print('James Bond')\n",
    "\n",
    "# call function\n",
    "print_message()"
   ]
  },
  {
   "cell_type": "code",
   "execution_count": 2,
   "id": "9fd9c531-001f-43a1-9695-7732eb8207d3",
   "metadata": {},
   "outputs": [],
   "source": [
    "# empty function\n",
    "def do_nothing():\n",
    "    pass"
   ]
  },
  {
   "cell_type": "markdown",
   "id": "3ed7fd59-9f48-48db-ae35-53b2c0e00c1c",
   "metadata": {
    "tags": []
   },
   "source": [
    "## **`Functions with parameters`**"
   ]
  },
  {
   "cell_type": "markdown",
   "id": "c2c25768-c4e0-4906-92f9-0c76f9fe5ef7",
   "metadata": {
    "tags": []
   },
   "source": [
    "    def <function_name>(<parameters>):\n",
    "        <block_of_code>"
   ]
  },
  {
   "cell_type": "markdown",
   "id": "a4b1eeeb-f443-4b78-82f1-73dcedb46e23",
   "metadata": {},
   "source": [
    "#### **Names** inside the function = **parameters**\n",
    "#### **Values** of those parameters = **arguments**"
   ]
  },
  {
   "cell_type": "code",
   "execution_count": 3,
   "id": "29804d24-1010-43d4-b82c-718d4de66e38",
   "metadata": {},
   "outputs": [],
   "source": [
    "# function that takes 2 numbers as parameters (width and height) and draws a figure\n",
    "def draw_box(height, width):\n",
    "    for i in range(height):\n",
    "        print('*' * width)"
   ]
  },
  {
   "cell_type": "code",
   "execution_count": 4,
   "id": "e4ffaaa6-b3ee-4dcd-9e36-a83a2ceaf2cb",
   "metadata": {},
   "outputs": [
    {
     "name": "stdout",
     "output_type": "stream",
     "text": [
      "*************************************\n",
      "*************************************\n",
      "*************************************\n",
      "*************************************\n"
     ]
    }
   ],
   "source": [
    "# calling this function with direct numbers as arguments\n",
    "draw_box(4, 37)"
   ]
  },
  {
   "cell_type": "code",
   "execution_count": 5,
   "id": "6740cee2-333a-48d3-82a6-4ff358168b97",
   "metadata": {},
   "outputs": [
    {
     "name": "stdout",
     "output_type": "stream",
     "text": [
      "*************************************\n",
      "*************************************\n",
      "*************************************\n",
      "*************************************\n"
     ]
    }
   ],
   "source": [
    "# calling this function with parametric variables as arguments\n",
    "w = 4\n",
    "h = 37\n",
    "draw_box(w, h)"
   ]
  },
  {
   "cell_type": "code",
   "execution_count": 6,
   "id": "6892af20-62ac-4398-ad68-406506ab228c",
   "metadata": {},
   "outputs": [
    {
     "name": "stdout",
     "output_type": "stream",
     "text": [
      "HelloHelloHelloHello\n"
     ]
    }
   ],
   "source": [
    "# can put any object in function as a parameter\n",
    "\n",
    "# determine variables\n",
    "txt = 'Hello'\n",
    "n = 4\n",
    "\n",
    "# declare a function\n",
    "def print_text(text, number):\n",
    "    print(txt * n)\n",
    "\n",
    "# calling a function with variables as parameters\n",
    "print_text(txt, n)"
   ]
  },
  {
   "cell_type": "markdown",
   "id": "0fed70b9-8189-4d45-b51e-5b0f204faa14",
   "metadata": {
    "tags": []
   },
   "source": [
    "## **`Local and global variables`**"
   ]
  },
  {
   "cell_type": "markdown",
   "id": "93f7cf3b-cb47-4c92-8d74-a68b8903755f",
   "metadata": {},
   "source": [
    "**`local variable`** - variables declared in a function and are available only inside this function"
   ]
  },
  {
   "cell_type": "code",
   "execution_count": 7,
   "id": "d76ea83e-d0c9-4e93-9b57-3e8141b8052f",
   "metadata": {},
   "outputs": [],
   "source": [
    "# declare a function with local variable BIRDS\n",
    "def print_texas():\n",
    "    birds = 5000\n",
    "    print(f'There are {birds} bird species in Texas') \n",
    "\n",
    "# try to declare another function with variable declared in print_texas() function\n",
    "def print_california():\n",
    "    print(f'There are {birds} bird species in California')"
   ]
  },
  {
   "cell_type": "code",
   "execution_count": 8,
   "id": "7f67462e-baad-4ba8-a8f0-373c28e0530f",
   "metadata": {},
   "outputs": [
    {
     "name": "stdout",
     "output_type": "stream",
     "text": [
      "There are 5000 bird species in Texas\n"
     ]
    }
   ],
   "source": [
    "# call print_texas() function - OK\n",
    "print_texas()"
   ]
  },
  {
   "cell_type": "code",
   "execution_count": 9,
   "id": "6a2adc13-e90d-44c9-86be-0f5d86a5e334",
   "metadata": {},
   "outputs": [],
   "source": [
    "# call print_california() function - NOK"
   ]
  },
  {
   "cell_type": "code",
   "execution_count": 10,
   "id": "11dbb70f-1964-481c-9474-390217e887d0",
   "metadata": {},
   "outputs": [],
   "source": [
    "# because the local variable are closed for another functions,\n",
    "# it is possible to use the same name for different local variables\n",
    "def print_texas():\n",
    "    birds = 5000\n",
    "    print(f'There are {birds} bird species in Texas') \n",
    "    \n",
    "def print_california():\n",
    "    birds = 7000\n",
    "    print(f'There are {birds} bird species in California')"
   ]
  },
  {
   "cell_type": "code",
   "execution_count": 11,
   "id": "a882b040-70aa-4de0-a8f4-306c4f389515",
   "metadata": {},
   "outputs": [
    {
     "name": "stdout",
     "output_type": "stream",
     "text": [
      "There are 5000 bird species in Texas\n",
      "There are 7000 bird species in California\n"
     ]
    }
   ],
   "source": [
    "# both functions work well\n",
    "print_texas()\n",
    "print_california()"
   ]
  },
  {
   "cell_type": "markdown",
   "id": "abe06eab-78f2-4e62-8400-0825e8bc9224",
   "metadata": {},
   "source": [
    "**`global variable`** - variables declared in a main program and are available for all functions. Try to avoid global variables!"
   ]
  },
  {
   "cell_type": "code",
   "execution_count": 12,
   "id": "8c0bff97-9991-4fcd-af53-c4b89bcef929",
   "metadata": {},
   "outputs": [],
   "source": [
    "# BIRDS is a global variable and used in both functions below\n",
    "birds = 6000\n",
    "\n",
    "def print_texas():\n",
    "    print(f'There are {birds} bird species in Texas') \n",
    "    \n",
    "def print_california():\n",
    "    print(f'There are {birds} bird species in California')"
   ]
  },
  {
   "cell_type": "code",
   "execution_count": 13,
   "id": "ece38039-2625-424e-9bde-f3385a4b8351",
   "metadata": {},
   "outputs": [
    {
     "name": "stdout",
     "output_type": "stream",
     "text": [
      "There are 6000 bird species in Texas\n",
      "There are 6000 bird species in California\n"
     ]
    }
   ],
   "source": [
    "# both functions work well\n",
    "print_texas()\n",
    "print_california()"
   ]
  },
  {
   "cell_type": "markdown",
   "id": "05d3460a-e6e4-47e8-b9d0-2e0b7e973978",
   "metadata": {},
   "source": [
    "**`operator global`** - makes a variable global although it is declared inside a function."
   ]
  },
  {
   "cell_type": "code",
   "execution_count": 14,
   "id": "25068702-b68d-4a96-8509-846734dbf9f5",
   "metadata": {},
   "outputs": [],
   "source": [
    "# making BIRDS variable global\n",
    "\n",
    "def print_texas():\n",
    "    global birds\n",
    "    birds = 7000\n",
    "    print(f'There are {birds} bird species in Texas') \n",
    "    \n",
    "def print_california():\n",
    "    print(f'There are {birds} bird species in California')"
   ]
  },
  {
   "cell_type": "code",
   "execution_count": 15,
   "id": "d0adff01-53f2-43aa-827e-b94941ab1df1",
   "metadata": {},
   "outputs": [
    {
     "name": "stdout",
     "output_type": "stream",
     "text": [
      "There are 7000 bird species in Texas\n",
      "There are 7000 bird species in California\n"
     ]
    }
   ],
   "source": [
    "# both functions work well\n",
    "print_texas()\n",
    "print_california()"
   ]
  },
  {
   "cell_type": "markdown",
   "id": "d2a2198a-6988-4c20-a0a4-61fa55283330",
   "metadata": {
    "tags": []
   },
   "source": [
    "## **`Returning functions`**"
   ]
  },
  {
   "cell_type": "markdown",
   "id": "657f287f-5d1f-4ad6-9699-364f7b3b7baa",
   "metadata": {},
   "source": [
    "#### `returning function` - function that returns a value of its result"
   ]
  },
  {
   "cell_type": "markdown",
   "id": "724a4822-edc0-4838-8275-d57848d12bd5",
   "metadata": {
    "tags": []
   },
   "source": [
    "    def <function_name>():\n",
    "        <block_of_code>\n",
    "        return <what_should_be_returned>"
   ]
  },
  {
   "cell_type": "markdown",
   "id": "ee15e3e9-3d72-40d2-874e-08bb9a9bac6d",
   "metadata": {},
   "source": [
    "#### examples of `returning functions:`"
   ]
  },
  {
   "cell_type": "markdown",
   "id": "b44017bc-defd-45f2-a800-a4ff6ac54f65",
   "metadata": {},
   "source": [
    "    int()\n",
    "    float()\n",
    "    range()\n",
    "    abs()\n",
    "    len()"
   ]
  },
  {
   "cell_type": "code",
   "execution_count": 16,
   "id": "07910a45-e6fb-43de-8c0b-f4b95392934d",
   "metadata": {},
   "outputs": [
    {
     "name": "stdin",
     "output_type": "stream",
     "text": [
      "Input temperature in Fars:  120\n"
     ]
    },
    {
     "data": {
      "text/plain": [
       "49"
      ]
     },
     "execution_count": 16,
     "metadata": {},
     "output_type": "execute_result"
    }
   ],
   "source": [
    "# function that converts Fars to Cels:\n",
    "def convert_to_celsius(temp):\n",
    "    result = round((5 / 9) * (temp - 32))\n",
    "    return result \n",
    "# can be easier without variable 'result' with just 'return round((5 / 9) * (temp - 32))'\n",
    "\n",
    "# main program using function above\n",
    "temp = float(input('Input temperature in Fars: '))\n",
    "convert_to_celsius(temp)"
   ]
  },
  {
   "cell_type": "code",
   "execution_count": 17,
   "id": "969bd27a-4968-485a-8c8f-5c6efb10a195",
   "metadata": {},
   "outputs": [],
   "source": [
    "# function to find a hypotenuse of a triangle with given catets\n",
    "def compute_hypotenuse(a, b):\n",
    "    c = (a ** 2 + b ** 2) ** 0.5\n",
    "    return c\n",
    "\n",
    "# function to find a distance between 2 points with given coordinates\n",
    "def get_distance(x1, y1, x2, y2):\n",
    "    return compute_hypotenuse(x1 - x2, y1 - y2)"
   ]
  },
  {
   "cell_type": "markdown",
   "id": "dd9b81a6-4a82-4a25-b6bd-5cedc60c590a",
   "metadata": {},
   "source": [
    "**`predicate`** - function that returns True or False"
   ]
  },
  {
   "cell_type": "code",
   "execution_count": 18,
   "id": "ce4b11f7-6532-4b60-bb40-fcadca710a2d",
   "metadata": {},
   "outputs": [],
   "source": [
    "# boolean function \n",
    "def is_even(number):\n",
    "    if number % 2 == 0:\n",
    "        return True\n",
    "    else:\n",
    "        return False"
   ]
  },
  {
   "cell_type": "code",
   "execution_count": 19,
   "id": "675572e8-37c2-4e05-926f-89bbd2625934",
   "metadata": {},
   "outputs": [
    {
     "name": "stdin",
     "output_type": "stream",
     "text": [
      " 5\n"
     ]
    },
    {
     "name": "stdout",
     "output_type": "stream",
     "text": [
      "This number is odd\n"
     ]
    }
   ],
   "source": [
    "# a code using boolean function\n",
    "number = int(input())\n",
    "if is_even(number): # if function is_even() returns True\n",
    "    print('This number is even')\n",
    "else: # if function is_even() returns False\n",
    "    print('This number is odd')"
   ]
  },
  {
   "cell_type": "markdown",
   "id": "3f383d08-1214-48cc-814f-fcce1dbf3f8f",
   "metadata": {},
   "source": [
    "#### `returning functions` can return more than one value"
   ]
  },
  {
   "cell_type": "code",
   "execution_count": 20,
   "id": "4ad29093-d917-4dc2-b740-4323847d516a",
   "metadata": {},
   "outputs": [],
   "source": [
    "# function that returns coordinates of a point on the section which is in the middle of this section\n",
    "def get_middle_point(x1, y1, x2, y2):\n",
    "    return (x1+x2)/2, (y1+y2)/2 # result is a tuple of values"
   ]
  },
  {
   "cell_type": "code",
   "execution_count": 21,
   "id": "65b37053-5769-4d9a-8ab1-83436ac36a01",
   "metadata": {
    "tags": []
   },
   "outputs": [
    {
     "data": {
      "text/plain": [
       "(5.0, 5.0)"
      ]
     },
     "execution_count": 21,
     "metadata": {},
     "output_type": "execute_result"
    }
   ],
   "source": [
    "get_middle_point(0, 0, 10, 10)"
   ]
  },
  {
   "cell_type": "markdown",
   "id": "b9a25857-9d24-4820-ad87-c0c866e9d9de",
   "metadata": {},
   "source": [
    "#### **`handling exceptions`**"
   ]
  },
  {
   "cell_type": "markdown",
   "id": "c83e0402-0985-4977-8ca0-a9dd40762f5e",
   "metadata": {},
   "source": [
    "    try: ... except:"
   ]
  },
  {
   "cell_type": "markdown",
   "id": "cab1f083-0be1-4b23-b534-6e4397516d49",
   "metadata": {},
   "source": [
    "Put operators that may result an error in block `try`. Then put operators in block `except` that run in case of error in `try`."
   ]
  },
  {
   "cell_type": "code",
   "execution_count": 22,
   "id": "e43bc17c-6c83-4f6e-86d1-feaa9e78264d",
   "metadata": {},
   "outputs": [],
   "source": [
    "def f_x(x):\n",
    "    try:\n",
    "        y = 1 / (x + 1) + x / (x - 3) # in this equation, there might be a division by zero\n",
    "    except:\n",
    "        y = 'division by zero detected' # in case of division by zero, we conclude that y is infinite\n",
    "    return y    "
   ]
  },
  {
   "cell_type": "code",
   "execution_count": 23,
   "id": "551f9955-d77e-427b-af33-18f866ef1d87",
   "metadata": {},
   "outputs": [
    {
     "name": "stdin",
     "output_type": "stream",
     "text": [
      " -1\n"
     ]
    },
    {
     "data": {
      "text/plain": [
       "'division by zero detected'"
      ]
     },
     "execution_count": 23,
     "metadata": {},
     "output_type": "execute_result"
    }
   ],
   "source": [
    "t = float(input()) # if we input -1, there's a division be zero error\n",
    "y = f_x(t)\n",
    "y"
   ]
  },
  {
   "cell_type": "markdown",
   "id": "097677a9-2cb9-4c96-ab47-5a7270482d1c",
   "metadata": {
    "tags": []
   },
   "source": [
    "## **`Positional arguments`**"
   ]
  },
  {
   "cell_type": "markdown",
   "id": "e56a21b9-e7e3-42ab-8abe-7ac8c5440bbc",
   "metadata": {
    "tags": []
   },
   "source": [
    "### A `positional argument` is an argument whose position matters in a function call ###"
   ]
  },
  {
   "cell_type": "code",
   "execution_count": 24,
   "id": "13b55ed6-6e07-4d6f-9f73-3eff408b7cd7",
   "metadata": {},
   "outputs": [
    {
     "data": {
      "text/plain": [
       "2"
      ]
     },
     "execution_count": 24,
     "metadata": {},
     "output_type": "execute_result"
    }
   ],
   "source": [
    "def diff(x, y):\n",
    "    return x - y\n",
    "\n",
    "diff(5, 3) # no need to name arguments, as first position arg is x, second is y"
   ]
  },
  {
   "cell_type": "markdown",
   "id": "07730de9-ff23-424b-875e-075df3b73c8d",
   "metadata": {
    "tags": []
   },
   "source": [
    "## **`Keyword arguments`**"
   ]
  },
  {
   "cell_type": "markdown",
   "id": "3b28be56-151e-4391-92a3-96cfaabbc995",
   "metadata": {},
   "source": [
    "### `Keyword` arguments (or named arguments) are values that, when passed into a function, are identifiable by specific parameter names. "
   ]
  },
  {
   "cell_type": "code",
   "execution_count": 25,
   "id": "b3443a23-1b1b-4cf3-94de-adeb3371bee3",
   "metadata": {},
   "outputs": [
    {
     "data": {
      "text/plain": [
       "2"
      ]
     },
     "execution_count": 25,
     "metadata": {},
     "output_type": "execute_result"
    }
   ],
   "source": [
    "diff(y=3, x=5) # arguments are named"
   ]
  },
  {
   "cell_type": "markdown",
   "id": "5f19fadd-34c3-4dfe-bdc9-1202ef181e47",
   "metadata": {},
   "source": [
    "#### It is recommended to use `keyword` arguments when there are more than 3 arguments in function"
   ]
  },
  {
   "cell_type": "markdown",
   "id": "22abeac5-ce8e-4148-8c46-a4584232ec62",
   "metadata": {},
   "source": [
    "#### It is possible to combine `positional` and `keyword` arguments, but `positional` arguments should always come first (before `keyword` arguments)"
   ]
  },
  {
   "cell_type": "code",
   "execution_count": 26,
   "id": "9f0e5e98-bddb-4545-8c5a-789215a7408f",
   "metadata": {},
   "outputs": [
    {
     "data": {
      "text/plain": [
       "2"
      ]
     },
     "execution_count": 26,
     "metadata": {},
     "output_type": "execute_result"
    }
   ],
   "source": [
    "diff(5, y=3)"
   ]
  },
  {
   "cell_type": "markdown",
   "id": "8541a110-ce91-4935-8a45-68c07570ed28",
   "metadata": {
    "tags": []
   },
   "source": [
    "## **`Default arguments`**"
   ]
  },
  {
   "cell_type": "markdown",
   "id": "244670eb-5058-4094-ae13-8fba68e594ec",
   "metadata": {},
   "source": [
    "### `Default` arguments that have default values. If the function is called without the argument, the argument gets its default value"
   ]
  },
  {
   "cell_type": "code",
   "execution_count": 27,
   "id": "193ef173-7cba-412d-b340-030bed46ab93",
   "metadata": {},
   "outputs": [
    {
     "name": "stdout",
     "output_type": "stream",
     "text": [
      "Hello\n"
     ]
    }
   ],
   "source": [
    "# example of a well-known function with default argument\n",
    "print('Hello') # we do not specify what will be after Hello, but on default it is '\\n'"
   ]
  },
  {
   "cell_type": "markdown",
   "id": "9874bb68-dbfa-4b8c-ad55-52408497d0ee",
   "metadata": {},
   "source": [
    "#### We can change default values by directly changing it in a function call"
   ]
  },
  {
   "cell_type": "code",
   "execution_count": 28,
   "id": "25458362-58d8-442c-9793-0ec2c9b9082e",
   "metadata": {},
   "outputs": [
    {
     "name": "stdout",
     "output_type": "stream",
     "text": [
      "Hello!"
     ]
    }
   ],
   "source": [
    "print('Hello', end='!') # we change default value for argument 'end' from '\\n' to '!'"
   ]
  },
  {
   "cell_type": "markdown",
   "id": "73fce560-0a39-493e-8580-74f4bcca854a",
   "metadata": {},
   "source": [
    "#### A good practice to define deafult value to `None`. It helps while dealing with mutable data types as a default value of an argument"
   ]
  },
  {
   "cell_type": "code",
   "execution_count": 29,
   "id": "25a6f56b-5f55-47b1-8cdd-145026954042",
   "metadata": {},
   "outputs": [],
   "source": [
    "# create a function that appends a new element\n",
    "def append(elt, seq=[]):\n",
    "    seq.append(elt)\n",
    "    return seq"
   ]
  },
  {
   "cell_type": "markdown",
   "id": "ff15e3c5-bec0-43e1-b63c-96595607fab0",
   "metadata": {},
   "source": [
    "#### It works well when we put both arguments into a function:"
   ]
  },
  {
   "cell_type": "code",
   "execution_count": 30,
   "id": "6ed7c4d1-8068-44f7-868d-d27b46bb3788",
   "metadata": {},
   "outputs": [
    {
     "name": "stdout",
     "output_type": "stream",
     "text": [
      "[1, 2, 3, 10]\n",
      "[1, 5]\n"
     ]
    }
   ],
   "source": [
    "print(append(10, [1, 2, 3]))\n",
    "print(append(5, [1]))"
   ]
  },
  {
   "cell_type": "markdown",
   "id": "61f3fee2-c6aa-4ea7-acf9-2d278c40deef",
   "metadata": {},
   "source": [
    "#### But when we skip the second argument (which is deafult) we face with unexpected result:"
   ]
  },
  {
   "cell_type": "code",
   "execution_count": 31,
   "id": "19709274-15b2-45c1-a1d4-0694ca577f99",
   "metadata": {},
   "outputs": [
    {
     "name": "stdout",
     "output_type": "stream",
     "text": [
      "[10]\n",
      "[10, 5]\n",
      "[10, 5, 22]\n"
     ]
    }
   ],
   "source": [
    "print(append(10))\n",
    "print(append(5))\n",
    "print(append(22))"
   ]
  },
  {
   "cell_type": "markdown",
   "id": "a91f58b3-091e-4329-ae53-c176fa7e1989",
   "metadata": {},
   "source": [
    "#### To fix it we use `None` as a value for `default` arguments:"
   ]
  },
  {
   "cell_type": "code",
   "execution_count": 32,
   "id": "512a9928-c4ad-407c-9e9a-25c1906fc4aa",
   "metadata": {},
   "outputs": [],
   "source": [
    "def append(elt, seq=None):\n",
    "    if seq is None:\n",
    "        seq = []\n",
    "    seq.append(elt)\n",
    "    return seq"
   ]
  },
  {
   "cell_type": "code",
   "execution_count": 33,
   "id": "40744ed6-e603-40fe-aa21-74e9d377849a",
   "metadata": {},
   "outputs": [
    {
     "name": "stdout",
     "output_type": "stream",
     "text": [
      "[10]\n",
      "[5]\n",
      "[22]\n"
     ]
    }
   ],
   "source": [
    "print(append(10))\n",
    "print(append(5))\n",
    "print(append(22))"
   ]
  },
  {
   "cell_type": "markdown",
   "id": "f7dfad7a-f967-46e4-ad13-773adb6f6cd1",
   "metadata": {},
   "source": [
    "### Good Example"
   ]
  },
  {
   "cell_type": "markdown",
   "id": "66d88455-a4c7-4809-9b39-2fe526e477c5",
   "metadata": {},
   "source": [
    "Create a function that returns a matrix with the following rules:\n",
    "* `matrix()` - should return a 1x1 matrix with only one zero value\n",
    "* `matrix(3)` - should return a 3x3 matrix with zeros\n",
    "* `matrix(3, 4, 9)` - should return a 3x4 matrix with nines"
   ]
  },
  {
   "cell_type": "code",
   "execution_count": 34,
   "id": "c69f1574-5a66-4012-886f-8912d681b3ea",
   "metadata": {},
   "outputs": [],
   "source": [
    "def matrix(n=1, m=None, value=0):\n",
    "    if m is None:\n",
    "        m = n\n",
    "    if n == 1:\n",
    "        m = n\n",
    "    return [[value]*m for _ in range(n)]"
   ]
  },
  {
   "cell_type": "markdown",
   "id": "f3ebcdfa-66cf-4f7d-8971-fc848b1947b1",
   "metadata": {
    "tags": []
   },
   "source": [
    "## **`Variable number of positional arguments`**"
   ]
  },
  {
   "cell_type": "markdown",
   "id": "e4322321-e09d-406c-ad49-156bd0be7b55",
   "metadata": {},
   "source": [
    "#### A function `print()` for example can take any number of values and print all of them"
   ]
  },
  {
   "cell_type": "markdown",
   "id": "7d0f08d5-9dae-45a3-91d7-abbe436a81ae",
   "metadata": {},
   "source": [
    "#### The same can be implemented in any function using parameter `*args`"
   ]
  },
  {
   "cell_type": "markdown",
   "id": "156f8983-6dd4-4ecb-ab4c-fbc8874729f6",
   "metadata": {},
   "source": [
    "#### `*args` are `positional` arguments"
   ]
  },
  {
   "cell_type": "code",
   "execution_count": 35,
   "id": "96862416-3c1c-4643-9db6-b0ccd71989ab",
   "metadata": {},
   "outputs": [],
   "source": [
    "def func(*args): # *args takes all arguments given into a func as a tuple\n",
    "    print(type(args))\n",
    "    print(args)"
   ]
  },
  {
   "cell_type": "code",
   "execution_count": 36,
   "id": "155968f8-8212-4db9-a2b9-a4a4f6d96126",
   "metadata": {},
   "outputs": [
    {
     "name": "stdout",
     "output_type": "stream",
     "text": [
      "<class 'tuple'>\n",
      "('a', 2, True)\n"
     ]
    }
   ],
   "source": [
    "func('a', 2, True)"
   ]
  },
  {
   "cell_type": "markdown",
   "id": "61c26e37-ee85-4827-867e-2318a62f634a",
   "metadata": {},
   "source": [
    "#### Parameter `*args` can be used only once and should be placed at the end"
   ]
  },
  {
   "cell_type": "code",
   "execution_count": 37,
   "id": "ed45feb7-ce5b-4179-a710-a4217ac6a7ec",
   "metadata": {},
   "outputs": [],
   "source": [
    "def func2(num, *args):\n",
    "    print(num)\n",
    "    print(args)"
   ]
  },
  {
   "cell_type": "code",
   "execution_count": 38,
   "id": "c73a6f1a-98ff-45b1-b6e1-e44abf4c4883",
   "metadata": {},
   "outputs": [
    {
     "name": "stdout",
     "output_type": "stream",
     "text": [
      "17\n",
      "('d', [1, 2], True, 23)\n"
     ]
    }
   ],
   "source": [
    "func2(17, 'd', [1, 2], True, 23)"
   ]
  },
  {
   "cell_type": "markdown",
   "id": "8986d18a-640c-4325-947b-1bff404d1e8b",
   "metadata": {
    "tags": []
   },
   "source": [
    "### **`Positional arguments as lists and tuples`**"
   ]
  },
  {
   "cell_type": "markdown",
   "id": "5e961c25-5106-453c-8e45-7544ab4aa6ee",
   "metadata": {},
   "source": [
    "#### Sometimes we want to form a list (tuple) of arguments and then place it in a function"
   ]
  },
  {
   "cell_type": "markdown",
   "id": "1854831e-011d-411c-bf1f-4e3d16e637b1",
   "metadata": {},
   "source": [
    "#### In these cases we can put an unpacked list or tuple into a function as an argument:"
   ]
  },
  {
   "cell_type": "code",
   "execution_count": 39,
   "id": "f0ffd990-6664-43b3-87b0-622f836b7b6b",
   "metadata": {},
   "outputs": [
    {
     "name": "stdout",
     "output_type": "stream",
     "text": [
      "<class 'tuple'>\n",
      "(1, 2, 3, 4)\n"
     ]
    }
   ],
   "source": [
    "func(*[1, 2, 3, 4])"
   ]
  },
  {
   "cell_type": "markdown",
   "id": "8ce93084-aac0-4a9f-ab74-75f2648c2696",
   "metadata": {},
   "source": [
    "#### Recall that the standard function `sum()` takes only one argument and returns the sum of its elements. That can be not convenient sometimes, so an enhanced `my_sum()` function can be created:"
   ]
  },
  {
   "cell_type": "code",
   "execution_count": 40,
   "id": "b9e8b80a-bbe4-482c-a237-648ff66dff5f",
   "metadata": {},
   "outputs": [],
   "source": [
    "def my_sum(*args):\n",
    "    return sum(args)"
   ]
  },
  {
   "cell_type": "markdown",
   "id": "afbb9b79-56a8-4502-b08e-fc8f2dcffbed",
   "metadata": {},
   "source": [
    "Now we can put as many arguments to calculate their sum as we need:"
   ]
  },
  {
   "cell_type": "code",
   "execution_count": 41,
   "id": "4faa1156-01a6-405c-bd02-bc0cd7105811",
   "metadata": {
    "tags": []
   },
   "outputs": [
    {
     "data": {
      "text/plain": [
       "400"
      ]
     },
     "execution_count": 41,
     "metadata": {},
     "output_type": "execute_result"
    }
   ],
   "source": [
    "my_sum(1, 2, *[3, 4, 10], 100, *(200, 80))"
   ]
  },
  {
   "cell_type": "markdown",
   "id": "25592430-efef-4b6f-99b2-594e28d609f3",
   "metadata": {
    "tags": []
   },
   "source": [
    "## **`Variable number of keyword arguments as a dictionary`**"
   ]
  },
  {
   "cell_type": "markdown",
   "id": "e3a1eae5-67fc-4dbf-a123-81d495b3f397",
   "metadata": {},
   "source": [
    "#### The same approach as for `positional` arguments using `*args`, we have with variable number of `keyword` arguments using `**kwargs`"
   ]
  },
  {
   "cell_type": "markdown",
   "id": "b4dfdbb9-703c-4453-ab6f-095ad9daff66",
   "metadata": {},
   "source": [
    "#### `**kwargs` parameter should be placed at the very end - after all `positional` and `keyword` arguments "
   ]
  },
  {
   "cell_type": "code",
   "execution_count": 42,
   "id": "3974f434-acd6-4f3b-ba1e-0765c90a0e3d",
   "metadata": {},
   "outputs": [],
   "source": [
    "def my_func3(**kwargs):\n",
    "    print(type(kwargs))\n",
    "    print(kwargs)"
   ]
  },
  {
   "cell_type": "code",
   "execution_count": 43,
   "id": "be881b9e-6dea-4e14-b09e-8677060e52f7",
   "metadata": {},
   "outputs": [
    {
     "name": "stdout",
     "output_type": "stream",
     "text": [
      "<class 'dict'>\n",
      "{'a': 1, 'b': 2}\n"
     ]
    }
   ],
   "source": [
    "my_func3(a=1, b=2) # returns a dictionary"
   ]
  },
  {
   "cell_type": "markdown",
   "id": "a51a1b21-bbce-4923-bdd2-5a8ce5a18086",
   "metadata": {
    "tags": []
   },
   "source": [
    "### **`Keyword arguments as dictionaries`**"
   ]
  },
  {
   "cell_type": "markdown",
   "id": "e63bdc32-e660-4557-bafd-0a163eabeaff",
   "metadata": {},
   "source": [
    "#### We can put `keyword` arguments into a function as a dictionary of variable number of values:"
   ]
  },
  {
   "cell_type": "code",
   "execution_count": 44,
   "id": "88464af1-a62a-4e2a-a67f-b632d8ac968e",
   "metadata": {},
   "outputs": [],
   "source": [
    "info = {'name':'Tom', 'age':'30', 'job':'designer'}"
   ]
  },
  {
   "cell_type": "code",
   "execution_count": 45,
   "id": "38e1de05-8851-41bd-a3d8-6d28fe1e415a",
   "metadata": {},
   "outputs": [
    {
     "name": "stdout",
     "output_type": "stream",
     "text": [
      "<class 'dict'>\n",
      "{'name': 'Tom', 'age': '30', 'job': 'designer'}\n"
     ]
    }
   ],
   "source": [
    "my_func3(**info)"
   ]
  },
  {
   "cell_type": "markdown",
   "id": "c94095db-c3ec-480b-90b4-d0621e3979b6",
   "metadata": {
    "tags": []
   },
   "source": [
    "## **`Correct order of all type of arguments`**"
   ]
  },
  {
   "cell_type": "markdown",
   "id": "e3f90c4c-5717-4c10-95a3-e19997b168cf",
   "metadata": {},
   "source": [
    "#### `positional` - `*args` - `keyword` - `**kwargs`"
   ]
  },
  {
   "cell_type": "code",
   "execution_count": 46,
   "id": "50c9b342-8572-4e48-964b-3423ba2b6404",
   "metadata": {},
   "outputs": [],
   "source": [
    "def my_func4(a, b, *args, name='Tom', age='30', **kwargs):\n",
    "    print(a, b)\n",
    "    print(args)\n",
    "    print(name, age)\n",
    "    print(kwargs)"
   ]
  },
  {
   "cell_type": "code",
   "execution_count": 47,
   "id": "cae1f8f6-47df-45e9-a1af-41a917662990",
   "metadata": {},
   "outputs": [
    {
     "name": "stdout",
     "output_type": "stream",
     "text": [
      "1 2\n",
      "(3, 4, 5, 6)\n",
      "John 28\n",
      "{'job': 'Teacher', 'language': 'English'}\n"
     ]
    }
   ],
   "source": [
    "my_func4(1, 2, 3, 4, 5, 6, name='John', age=28, job='Teacher', language='English')"
   ]
  },
  {
   "cell_type": "code",
   "execution_count": 48,
   "id": "c5b26d18-c34c-43a2-b5cf-85c50311cdf5",
   "metadata": {},
   "outputs": [
    {
     "name": "stdout",
     "output_type": "stream",
     "text": [
      "1 2\n",
      "()\n",
      "Tom 30\n",
      "{}\n"
     ]
    }
   ],
   "source": [
    "my_func4(1, 2) # put only 2 required positional arguments 'a' and 'b'"
   ]
  },
  {
   "cell_type": "markdown",
   "id": "a390a938-3019-4808-a8ef-ce763d4fd450",
   "metadata": {
    "tags": []
   },
   "source": [
    "### Examples"
   ]
  },
  {
   "cell_type": "markdown",
   "id": "bb71067b-ceb2-427f-b787-fc1817c5f97b",
   "metadata": {
    "tags": []
   },
   "source": [
    "1. Create a function that takes any number of different type arguments and returns a mean of all integers and floats"
   ]
  },
  {
   "cell_type": "code",
   "execution_count": 49,
   "id": "796152b5-3416-4afb-8052-a4e87462744d",
   "metadata": {},
   "outputs": [],
   "source": [
    "def mean(*args):\n",
    "    lst = [i for i in args if type(i) in (int, float)]\n",
    "    return sum(lst)/len(lst) if lst else 0 # returns mean if lst is not empty (otherwise division by zero error)"
   ]
  },
  {
   "cell_type": "code",
   "execution_count": 50,
   "id": "1667fea4-d8c7-44b8-a2ac-40a38c949a46",
   "metadata": {},
   "outputs": [
    {
     "data": {
      "text/plain": [
       "3.0"
      ]
     },
     "execution_count": 50,
     "metadata": {},
     "output_type": "execute_result"
    }
   ],
   "source": [
    "mean('a', 2, 4.0, True, [2, 3])"
   ]
  },
  {
   "cell_type": "markdown",
   "id": "720096d0-e4db-4521-a7ce-471071698554",
   "metadata": {
    "tags": []
   },
   "source": [
    "2. Create a function that takes any number of names (at least one) as string arguments and returns a greeting like 'Hello, Tom!' if only 1 name and 'Hello, Tom and John and Mark!' if 3 names "
   ]
  },
  {
   "cell_type": "code",
   "execution_count": 51,
   "id": "10389862-2613-4a92-84c5-2b6d611e0614",
   "metadata": {},
   "outputs": [],
   "source": [
    "def greetings(name, *args):\n",
    "    return f'Hello, {\" and \".join([name, *args])}!'"
   ]
  },
  {
   "cell_type": "code",
   "execution_count": 52,
   "id": "ed7694d1-1ef2-4d85-a6c6-99c1f445dc0a",
   "metadata": {},
   "outputs": [
    {
     "data": {
      "text/plain": [
       "'Hello, Tom!'"
      ]
     },
     "execution_count": 52,
     "metadata": {},
     "output_type": "execute_result"
    }
   ],
   "source": [
    "greetings('Tom')"
   ]
  },
  {
   "cell_type": "code",
   "execution_count": 53,
   "id": "9f5ad5ba-f174-4cd5-8e19-d792f1472b03",
   "metadata": {},
   "outputs": [
    {
     "data": {
      "text/plain": [
       "'Hello, Tom and John and Mark!'"
      ]
     },
     "execution_count": 53,
     "metadata": {},
     "output_type": "execute_result"
    }
   ],
   "source": [
    "greetings('Tom', 'John', 'Mark')"
   ]
  },
  {
   "cell_type": "markdown",
   "id": "12086054-94d5-4201-aa96-cf76acc69977",
   "metadata": {
    "tags": []
   },
   "source": [
    "## **`Functions as objects`**"
   ]
  },
  {
   "cell_type": "markdown",
   "id": "2d709ad8-2de4-4883-b3bc-74e87967b094",
   "metadata": {},
   "source": [
    "#### `Functions` in python are objects:"
   ]
  },
  {
   "cell_type": "code",
   "execution_count": 54,
   "id": "390885ea-7cc0-41ae-b503-c4be5a5e0c0d",
   "metadata": {},
   "outputs": [
    {
     "name": "stdout",
     "output_type": "stream",
     "text": [
      "<class 'builtin_function_or_method'>\n",
      "<class 'builtin_function_or_method'>\n",
      "<class 'builtin_function_or_method'>\n"
     ]
    }
   ],
   "source": [
    "print(type(print))\n",
    "print(type(sum))\n",
    "print(type(abs))"
   ]
  },
  {
   "cell_type": "code",
   "execution_count": 55,
   "id": "692a5ed5-460e-4c55-a7dc-f60a741223a4",
   "metadata": {},
   "outputs": [
    {
     "name": "stdout",
     "output_type": "stream",
     "text": [
      "<class 'function'>\n"
     ]
    }
   ],
   "source": [
    "def hello():\n",
    "    print('Hello')\n",
    "\n",
    "print(type(hello))"
   ]
  },
  {
   "cell_type": "markdown",
   "id": "5716c053-c0cd-4f72-baf9-6c80e00a7919",
   "metadata": {},
   "source": [
    "#### So, we can work with `functions` like with objects:"
   ]
  },
  {
   "cell_type": "code",
   "execution_count": 56,
   "id": "53ee6828-9bac-47b7-9832-6c92f17074c4",
   "metadata": {},
   "outputs": [
    {
     "name": "stdout",
     "output_type": "stream",
     "text": [
      "Hello\n"
     ]
    }
   ],
   "source": [
    "func = hello # function `hello()` can be saved to a variable \n",
    "func()"
   ]
  },
  {
   "cell_type": "code",
   "execution_count": 57,
   "id": "f00c387d-ab1a-4840-985b-052ab8a9556d",
   "metadata": {},
   "outputs": [
    {
     "name": "stdout",
     "output_type": "stream",
     "text": [
      "Pascal\n"
     ]
    }
   ],
   "source": [
    "writeln = print # rename function `print()` to writeln()\n",
    "writeln('Pascal')"
   ]
  },
  {
   "cell_type": "markdown",
   "id": "92503ecb-9092-4ef1-aff2-a237bcd5cb24",
   "metadata": {},
   "source": [
    "#### If we have a number of `functions` and we want to run one of them based on its name from the input, we can do the following:"
   ]
  },
  {
   "cell_type": "code",
   "execution_count": 58,
   "id": "a9f3b901-14ec-433b-a12b-ce8bb737ff5c",
   "metadata": {},
   "outputs": [
    {
     "name": "stdin",
     "output_type": "stream",
     "text": [
      " cube\n"
     ]
    },
    {
     "data": {
      "text/plain": [
       "27"
      ]
     },
     "execution_count": 58,
     "metadata": {},
     "output_type": "execute_result"
    }
   ],
   "source": [
    "# first define the functions we need\n",
    "def square(x=1):\n",
    "    return x**2\n",
    "\n",
    "def cube(x=1):\n",
    "    return x**3\n",
    "\n",
    "def summ(x=1, y=1):\n",
    "    return x + y\n",
    "\n",
    "def stop():\n",
    "    pass\n",
    "\n",
    "# put the functions in a dictionary with their names as keys\n",
    "commands = {'square': square, 'cube': cube, 'sum': summ, 'stop': stop}\n",
    "\n",
    "# ask what function is needed\n",
    "command = input()\n",
    "\n",
    "# call a required function\n",
    "commands[command](3)"
   ]
  },
  {
   "cell_type": "markdown",
   "id": "046e2f02-2843-4fcd-8a08-cb82c40ac291",
   "metadata": {
    "tags": []
   },
   "source": [
    "## **`Functions as arguments for other functions`**"
   ]
  },
  {
   "cell_type": "markdown",
   "id": "0267c808-79be-4119-9918-e7386c2b8226",
   "metadata": {},
   "source": [
    "#### As `functions` are objects, we can use them as arguments for other `functions`"
   ]
  },
  {
   "cell_type": "code",
   "execution_count": 59,
   "id": "9ac25768-2e64-4b19-bff3-4772e18e2a8f",
   "metadata": {},
   "outputs": [],
   "source": [
    "# first define our functions\n",
    "def square(x):\n",
    "    return x**2\n",
    "\n",
    "def make_sum(x, y):\n",
    "    return x + y**2"
   ]
  },
  {
   "cell_type": "code",
   "execution_count": 60,
   "id": "2118bac2-45d8-4826-960c-6e4fdfcce6c0",
   "metadata": {},
   "outputs": [
    {
     "data": {
      "text/plain": [
       "13"
      ]
     },
     "execution_count": 60,
     "metadata": {},
     "output_type": "execute_result"
    }
   ],
   "source": [
    "# we can put a function `square` as argument for a function `make_sum`\n",
    "make_sum(square(2), 3)"
   ]
  },
  {
   "cell_type": "markdown",
   "id": "cced002f-46d0-4273-ac2a-fb053d38f93d",
   "metadata": {},
   "source": [
    "#### Standard `functions` can also use standard `functions` as arguments"
   ]
  },
  {
   "cell_type": "markdown",
   "id": "ec478f42-6347-4bd7-9f85-81049fa215c4",
   "metadata": {},
   "source": [
    "#### Functions **`min()`, `max()` and `sorted()`** can take a function as an argument to compare elements by this argument"
   ]
  },
  {
   "cell_type": "code",
   "execution_count": 61,
   "id": "76627ca7-7667-4598-b06f-c4b805961803",
   "metadata": {},
   "outputs": [],
   "source": [
    "# let's have a list of numbers\n",
    "nums = [10, -7, 8, -100, -50, 32, 87, -117, 110]"
   ]
  },
  {
   "cell_type": "code",
   "execution_count": 62,
   "id": "f9629ee8-6a9b-4a2c-a558-7afafc7b21a0",
   "metadata": {},
   "outputs": [
    {
     "data": {
      "text/plain": [
       "-117"
      ]
     },
     "execution_count": 62,
     "metadata": {},
     "output_type": "execute_result"
    }
   ],
   "source": [
    "# what if we want to find a number which is maximum by its absolute value\n",
    "max(nums, key=abs)"
   ]
  },
  {
   "cell_type": "code",
   "execution_count": 63,
   "id": "0642aa05-7245-46c0-9824-f77780fbe331",
   "metadata": {},
   "outputs": [
    {
     "data": {
      "text/plain": [
       "-7"
      ]
     },
     "execution_count": 63,
     "metadata": {},
     "output_type": "execute_result"
    }
   ],
   "source": [
    "# or minimum by its absolute value\n",
    "min(nums, key=abs)"
   ]
  },
  {
   "cell_type": "code",
   "execution_count": 64,
   "id": "833d3d57-004a-4fe8-979e-ea6dc8c0c636",
   "metadata": {},
   "outputs": [
    {
     "data": {
      "text/plain": [
       "[-7, 8, 10, 32, -50, 87, -100, 110, -117]"
      ]
     },
     "execution_count": 64,
     "metadata": {},
     "output_type": "execute_result"
    }
   ],
   "source": [
    "# or want to sort numbers by their absolute values\n",
    "sorted(nums, key=abs)"
   ]
  },
  {
   "cell_type": "code",
   "execution_count": 65,
   "id": "5ea4cd1f-5931-4f10-a2d9-25e38e67b13d",
   "metadata": {},
   "outputs": [],
   "source": [
    "# let's have a list of numbers in pairs as tuples\n",
    "pairs = [(1, -1),(2, 3),(-10, 15),(10, 9),(1, 5), (2, -4)]"
   ]
  },
  {
   "cell_type": "code",
   "execution_count": 66,
   "id": "71485c60-4e3b-4c72-b321-385e8b011e9d",
   "metadata": {},
   "outputs": [
    {
     "data": {
      "text/plain": [
       "[(-10, 15), (1, -1), (1, 5), (2, -4), (2, 3), (10, 9)]"
      ]
     },
     "execution_count": 66,
     "metadata": {},
     "output_type": "execute_result"
    }
   ],
   "source": [
    "# if we want to sort them by their first number and then the second, we use standard sorted()\n",
    "sorted(pairs)"
   ]
  },
  {
   "cell_type": "code",
   "execution_count": 67,
   "id": "0c0bbe9c-aa0e-43db-b112-ef2b640982d3",
   "metadata": {},
   "outputs": [
    {
     "name": "stdout",
     "output_type": "stream",
     "text": [
      "[(2, -4), (1, -1), (2, 3), (1, 5), (10, 9), (-10, 15)]\n",
      "[(2, -4), (1, -1), (2, 3), (-10, 15), (1, 5), (10, 9)]\n"
     ]
    }
   ],
   "source": [
    "# but if we want to sort pairs by the second number or by its sum\n",
    "# we need first to create comparator functions\n",
    "def compare_by_second_number(x):\n",
    "    return x[1]\n",
    "\n",
    "def compare_by_sum(x):\n",
    "    return x[0] + x[1]\n",
    "\n",
    "# let's sort `pairs` by the second number\n",
    "print(sorted(pairs, key=compare_by_second_number))\n",
    "\n",
    "# and by its sum\n",
    "print(sorted(pairs, key=compare_by_sum))"
   ]
  },
  {
   "cell_type": "markdown",
   "id": "5cd9a4c5-5580-4b34-a059-51968a78127e",
   "metadata": {
    "tags": []
   },
   "source": [
    "## **`Functions as return values of other functions`**"
   ]
  },
  {
   "cell_type": "markdown",
   "id": "3e322245-5191-4e1b-8fb8-c11dbff23039",
   "metadata": {},
   "source": [
    "#### `Functions` may be the result of other `functions`"
   ]
  },
  {
   "cell_type": "code",
   "execution_count": 68,
   "id": "e50424b6-2980-444b-b6b5-d3b657b8d6c9",
   "metadata": {},
   "outputs": [],
   "source": [
    "def generator():\n",
    "    def hello():\n",
    "        print('Hi!')\n",
    "    return hello"
   ]
  },
  {
   "cell_type": "markdown",
   "id": "b1b3427d-fca6-4974-92dd-b5a4436f8292",
   "metadata": {},
   "source": [
    "#### The result of `generator()` can be saved in a variable and then use it:"
   ]
  },
  {
   "cell_type": "code",
   "execution_count": 69,
   "id": "04cbee73-19ef-4657-b600-18aad1eb2fa8",
   "metadata": {},
   "outputs": [
    {
     "name": "stdout",
     "output_type": "stream",
     "text": [
      "Hi!\n"
     ]
    }
   ],
   "source": [
    "func = generator()\n",
    "func()"
   ]
  },
  {
   "cell_type": "markdown",
   "id": "cad61a37-cff5-46b5-be68-5a7777f08f7c",
   "metadata": {},
   "source": [
    "#### So, `functions` can be defined inside another `functions`"
   ]
  },
  {
   "cell_type": "code",
   "execution_count": 70,
   "id": "8bf5817b-4cc0-4c65-b771-c40aac014c93",
   "metadata": {},
   "outputs": [],
   "source": [
    "def generator_square_polynom(a, b, c):\n",
    "    def square_polynom(x):\n",
    "        return a*x**2 + b*x + c\n",
    "    return square_polynom"
   ]
  },
  {
   "cell_type": "code",
   "execution_count": 71,
   "id": "479517d9-504a-4da9-bd93-e841b55111f8",
   "metadata": {},
   "outputs": [
    {
     "data": {
      "text/plain": [
       "16"
      ]
     },
     "execution_count": 71,
     "metadata": {},
     "output_type": "execute_result"
    }
   ],
   "source": [
    "f = generator_square_polynom(a=1, b=2, c=1)\n",
    "f(3) # `3` is an `x` in `square_polynom`"
   ]
  },
  {
   "cell_type": "markdown",
   "id": "19db0151-d065-49aa-9fa0-b2b6e59e8292",
   "metadata": {
    "tags": []
   },
   "source": [
    "## **`Standard functions map(), filter(), reduce()`**"
   ]
  },
  {
   "cell_type": "markdown",
   "id": "d94c7c87-81c7-45ff-b023-1cd681cc679b",
   "metadata": {},
   "source": [
    "#### `map()`, `filter()`, `reduce()` are good examples of higher order functions"
   ]
  },
  {
   "cell_type": "markdown",
   "id": "c9abd106-4580-4984-a9f1-8d007db6f141",
   "metadata": {},
   "source": [
    "### **Standard function `map()`**"
   ]
  },
  {
   "cell_type": "markdown",
   "id": "f3b4e4d0-9a9a-4cfa-bd59-917a9b5ee38a",
   "metadata": {
    "tags": []
   },
   "source": [
    "#### `map(func, *iterables)` "
   ]
  },
  {
   "cell_type": "markdown",
   "id": "c65502d1-0f6f-4033-9905-689fdaf23e7a",
   "metadata": {},
   "source": [
    "#### `map()` is a function that works as an iterator to return a result after applying a function to every item of an iterable (tuple, lists, etc.)"
   ]
  },
  {
   "cell_type": "markdown",
   "id": "79ce2f93-1a25-43d0-8da9-91e985edd8ba",
   "metadata": {},
   "source": [
    "#### `map()` is used when you want to apply a single transformation function to all the iterable elements. The iterable and function are passed as arguments to the map in Python."
   ]
  },
  {
   "cell_type": "markdown",
   "id": "424fd41d-2155-48c3-afdc-7bacbc7f194f",
   "metadata": {},
   "source": [
    "#### `map()` returns an iterable object that can be converted further"
   ]
  },
  {
   "cell_type": "markdown",
   "id": "bda7dda6-9b80-4216-a17d-b8465d0fb205",
   "metadata": {},
   "source": [
    "<p>"
   ]
  },
  {
   "cell_type": "markdown",
   "id": "0ff51ecb-6b28-495d-ba9a-758799840526",
   "metadata": {},
   "source": [
    "If we have a list of numbers as string values:"
   ]
  },
  {
   "cell_type": "code",
   "execution_count": 72,
   "id": "37826112-5eca-4c95-ba53-3e3a994b5ec8",
   "metadata": {},
   "outputs": [],
   "source": [
    "lst = ['1','2','3','4','5']"
   ]
  },
  {
   "cell_type": "markdown",
   "id": "0f3bde53-683e-49c4-91b9-07383ee28269",
   "metadata": {},
   "source": [
    "then if if we want to convert each value to an integer, we can do either this:"
   ]
  },
  {
   "cell_type": "code",
   "execution_count": 73,
   "id": "871b499f-3aea-477f-9b7b-76c0b175ca51",
   "metadata": {},
   "outputs": [],
   "source": [
    "n1 = [int(i) for i in lst]"
   ]
  },
  {
   "cell_type": "markdown",
   "id": "cfb90a4a-0013-407a-b615-a5591315a3d7",
   "metadata": {},
   "source": [
    "or that:"
   ]
  },
  {
   "cell_type": "code",
   "execution_count": 74,
   "id": "9e9760cd-7d80-45ff-8109-03d329492ba9",
   "metadata": {},
   "outputs": [],
   "source": [
    "n2 = list(map(int, lst)) # as `map()` returns iteratable object, we convert it into a list"
   ]
  },
  {
   "cell_type": "markdown",
   "id": "32573d6e-82e9-4d3b-b10e-cda0373ce9c4",
   "metadata": {},
   "source": [
    "The result would be the same"
   ]
  },
  {
   "cell_type": "code",
   "execution_count": 75,
   "id": "4c1bf6fa-02c1-4d06-9fab-18ec731da5d1",
   "metadata": {},
   "outputs": [
    {
     "name": "stdout",
     "output_type": "stream",
     "text": [
      "[1, 2, 3, 4, 5]\n",
      "[1, 2, 3, 4, 5]\n",
      "True\n"
     ]
    }
   ],
   "source": [
    "print(n1)\n",
    "print(n2)\n",
    "print(n1 == n2)"
   ]
  },
  {
   "cell_type": "markdown",
   "id": "ab8fd7cf-88a0-4839-a043-62f4cb484876",
   "metadata": {},
   "source": [
    "#### Any `function` can be placed as an argument to `map()` function"
   ]
  },
  {
   "cell_type": "code",
   "execution_count": 76,
   "id": "c983654a-3096-45e5-916f-df25688dadec",
   "metadata": {},
   "outputs": [
    {
     "data": {
      "text/plain": [
       "[2, 3, 4, 5, 6]"
      ]
     },
     "execution_count": 76,
     "metadata": {},
     "output_type": "execute_result"
    }
   ],
   "source": [
    "def inc(num):\n",
    "    return num + 1\n",
    "\n",
    "list(map(inc, n1))"
   ]
  },
  {
   "cell_type": "markdown",
   "id": "cf1fb809-1ba9-46c7-ada6-3406a37dd7a1",
   "metadata": {},
   "source": [
    "#### We can put string methods as an argument for `map()`"
   ]
  },
  {
   "cell_type": "code",
   "execution_count": 77,
   "id": "3a742218-e951-4cbf-be49-5c888c35b793",
   "metadata": {},
   "outputs": [
    {
     "data": {
      "text/plain": [
       "['Tom', 'John', 'Mark']"
      ]
     },
     "execution_count": 77,
     "metadata": {},
     "output_type": "execute_result"
    }
   ],
   "source": [
    "names = ['tom', 'john', 'mark']\n",
    "\n",
    "list(map(str.capitalize, names))"
   ]
  },
  {
   "cell_type": "markdown",
   "id": "cae20cb8-feda-4329-8ae0-27699155def4",
   "metadata": {},
   "source": [
    "#### `map()` can take more than one sequences"
   ]
  },
  {
   "cell_type": "markdown",
   "id": "3e110165-1bae-4299-8606-a925d87f55a6",
   "metadata": {},
   "source": [
    "#### In this case `func` will take several elements from the equal places of the sequences"
   ]
  },
  {
   "cell_type": "code",
   "execution_count": 78,
   "id": "b66bc5cc-62cc-45c3-ac1c-066c85afece3",
   "metadata": {},
   "outputs": [
    {
     "data": {
      "text/plain": [
       "[111, 222, 333, 444, 555]"
      ]
     },
     "execution_count": 78,
     "metadata": {},
     "output_type": "execute_result"
    }
   ],
   "source": [
    "def func(elt1, elt2, elt3):\n",
    "    return elt1 + elt2 + elt3\n",
    "\n",
    "nums1 = [1, 2, 3, 4, 5]\n",
    "nums2 = [10, 20, 30, 40, 50]\n",
    "nums3 = [100, 200, 300, 400, 500]\n",
    "\n",
    "list(map(func, nums1, nums2, nums3))"
   ]
  },
  {
   "cell_type": "markdown",
   "id": "a7650271-b85a-4a8b-bf57-0d49a3d9e498",
   "metadata": {},
   "source": [
    "#### If there are different number of values in sequences, then min amount is a limit"
   ]
  },
  {
   "cell_type": "code",
   "execution_count": 79,
   "id": "b9de8568-9d5f-4e0f-b1ba-a5e4b4cb2bd7",
   "metadata": {},
   "outputs": [
    {
     "data": {
      "text/plain": [
       "[111, 222]"
      ]
     },
     "execution_count": 79,
     "metadata": {},
     "output_type": "execute_result"
    }
   ],
   "source": [
    "nums4 = [1, 2, 3, 4]\n",
    "nums5 = [10, 20]\n",
    "nums6 = [100, 200, 300, 400, 500]\n",
    "\n",
    "list(map(func, nums4, nums5, nums6))"
   ]
  },
  {
   "cell_type": "markdown",
   "id": "9dee4937-98e7-421a-8a71-12a99ab6a7cb",
   "metadata": {},
   "source": [
    "#### All type data types may be a sequence in `map()`"
   ]
  },
  {
   "cell_type": "code",
   "execution_count": 80,
   "id": "586d00ab-34aa-4954-a5cf-92687f1b0336",
   "metadata": {},
   "outputs": [
    {
     "data": {
      "text/plain": [
       "[3.57, 5.23, 7.63, 8.24, 2.65]"
      ]
     },
     "execution_count": 80,
     "metadata": {},
     "output_type": "execute_result"
    }
   ],
   "source": [
    "floats = [3.56773, 5.232, 7.63221, 8.2423, 2.645]\n",
    "\n",
    "list(map(round, floats, [2]*len(floats))) # round is a func that takes each argument from \n",
    "# the sequence [[2], [2], [2], [2], [2]] and works on each value of `floats`"
   ]
  },
  {
   "cell_type": "code",
   "execution_count": 81,
   "id": "5347fa30-e951-4c71-af40-7f5aa529f309",
   "metadata": {},
   "outputs": [
    {
     "data": {
      "text/plain": [
       "[3.1, 3.14, 3.142, 3.1416, 3.14159, 3.141593]"
      ]
     },
     "execution_count": 81,
     "metadata": {},
     "output_type": "execute_result"
    }
   ],
   "source": [
    "from math import pi\n",
    "\n",
    "pis = [pi]*6\n",
    "list(map(round, pis, range(1, 7)))"
   ]
  },
  {
   "cell_type": "markdown",
   "id": "0aeb221b-0e88-43a2-ab90-9ccc5f4ac969",
   "metadata": {
    "tags": []
   },
   "source": [
    "### **Standard function `filter()`**"
   ]
  },
  {
   "cell_type": "markdown",
   "id": "f9214848-3a42-4cc5-bb11-b81e69225182",
   "metadata": {},
   "source": [
    "#### `filter(func, iterables)` "
   ]
  },
  {
   "cell_type": "markdown",
   "id": "40efbd97-6d9b-49fb-be05-f0a9d72127b6",
   "metadata": {},
   "source": [
    "#### `filter()` filters the given sequence with the help of a function that tests each element in the sequence to be true or not."
   ]
  },
  {
   "cell_type": "markdown",
   "id": "271685a2-618b-4bac-9c0c-2eeeaf897f8b",
   "metadata": {},
   "source": [
    "#### `filter()` returns an iterable object that can be converted further"
   ]
  },
  {
   "cell_type": "markdown",
   "id": "4de1e655-bad8-4dc5-a565-b58696989db0",
   "metadata": {},
   "source": [
    "#### `func` in `filter()` is a function that returns `True` or `False`"
   ]
  },
  {
   "cell_type": "code",
   "execution_count": 82,
   "id": "b15ae090-628a-4af4-8e79-54642f0cf6b0",
   "metadata": {},
   "outputs": [
    {
     "data": {
      "text/plain": [
       "[34, 6, 1]"
      ]
     },
     "execution_count": 82,
     "metadata": {},
     "output_type": "execute_result"
    }
   ],
   "source": [
    "def func(elt):\n",
    "    return elt > 0 # returns True if elt > 0, else False\n",
    "\n",
    "# we have a list of numbers\n",
    "nums = [-1, 0, 34, -233, 6, 1]\n",
    "\n",
    "# let's sort out only positive values\n",
    "list(filter(func, nums))"
   ]
  },
  {
   "cell_type": "markdown",
   "id": "675efcf3-9789-43f9-9caa-86a1a1bf36d2",
   "metadata": {},
   "source": [
    "#### We can put `None` as a func to check if element from the sequence is not 0 or empty"
   ]
  },
  {
   "cell_type": "code",
   "execution_count": 83,
   "id": "a9e5e763-b942-4cc7-b527-c828356f47b7",
   "metadata": {
    "tags": []
   },
   "outputs": [
    {
     "data": {
      "text/plain": [
       "[1, 10, [1, 2, 3]]"
      ]
     },
     "execution_count": 83,
     "metadata": {},
     "output_type": "execute_result"
    }
   ],
   "source": [
    "list(filter(None, [1, 0, 10, '', None, [], [1, 2,3], ()]))"
   ]
  },
  {
   "cell_type": "markdown",
   "id": "f1b699ea-9811-4448-b3be-805a4981834b",
   "metadata": {},
   "source": [
    "#### We can put string method as a func to filter elements"
   ]
  },
  {
   "cell_type": "code",
   "execution_count": 84,
   "id": "6e05b5b4-70f3-42ef-8e63-1d235e0939cb",
   "metadata": {},
   "outputs": [
    {
     "data": {
      "text/plain": [
       "['x', 'y', 'a']"
      ]
     },
     "execution_count": 84,
     "metadata": {},
     "output_type": "execute_result"
    }
   ],
   "source": [
    "chars = ['x', 'y', '2', '3', 'a']\n",
    "\n",
    "# filter only letters\n",
    "list(filter(str.isalpha, chars))"
   ]
  },
  {
   "cell_type": "markdown",
   "id": "ea959ad3-d7b2-4781-b7ef-f0441b1bf300",
   "metadata": {},
   "source": [
    "#### Standard functions, `map()` and `filter()` can be used alltogether to create a filtering-transforming chain"
   ]
  },
  {
   "cell_type": "code",
   "execution_count": 85,
   "id": "d440267c-8a4e-4e0b-814f-1aac9a35956e",
   "metadata": {},
   "outputs": [
    {
     "data": {
      "text/plain": [
       "6713"
      ]
     },
     "execution_count": 85,
     "metadata": {},
     "output_type": "execute_result"
    }
   ],
   "source": [
    "# create a code that calculates the sum of squares of 2-digit numbers that are divisible by 7 without a remainder \n",
    "\n",
    "numbers = [77, 293, 28, 242, 213, 285, 71, 286, 144, 276, 61, 298, 280, 214, 156, 227, 51, -4, -8]\n",
    "\n",
    "# function for filtering the numbers\n",
    "def nums(x):\n",
    "    return 9 < x < 100 and x % 7 == 0\n",
    "\n",
    "# function to transform numbers\n",
    "def square(x):\n",
    "    return x**2\n",
    "\n",
    "# print out result\n",
    "sum(map(square, filter(nums, numbers)))"
   ]
  },
  {
   "cell_type": "markdown",
   "id": "e29983a0-6288-4798-8185-fdfcb484da53",
   "metadata": {
    "tags": []
   },
   "source": [
    "### **Function `reduce()`**"
   ]
  },
  {
   "cell_type": "markdown",
   "id": "2c48633f-6d68-48b1-8a8d-ac6abf91d300",
   "metadata": {},
   "source": [
    "#### `reduce()` is not a standard function. It is located in module `functools`"
   ]
  },
  {
   "cell_type": "markdown",
   "id": "60f0c563-c8e5-434b-a32c-750d921e2e05",
   "metadata": {},
   "source": [
    "#### `reduce()` is a function that implements a mathematical technique called folding or reduction"
   ]
  },
  {
   "cell_type": "markdown",
   "id": "c7e51ad4-f299-4e3b-9942-9eff7f18dbb2",
   "metadata": {},
   "source": [
    "#### `reduce()` is useful when you need to apply a function to an iterable and reduce it to a single cumulative value"
   ]
  },
  {
   "cell_type": "markdown",
   "id": "f468482d-4a89-4990-b903-ee2a1068671a",
   "metadata": {},
   "source": [
    "#### `reduce()` performs a rolling-computation by taking a function and an iterable as arguments and returns the final computed value."
   ]
  },
  {
   "cell_type": "markdown",
   "id": "3c460109-bd3e-411b-b335-f8e43d4ac251",
   "metadata": {},
   "source": [
    "#### `reduce(func, iterable, initializer=None)` "
   ]
  },
  {
   "cell_type": "code",
   "execution_count": 86,
   "id": "a1047c14-a2ad-4a3c-aab0-09f2b136a20f",
   "metadata": {},
   "outputs": [
    {
     "name": "stdout",
     "output_type": "stream",
     "text": [
      "10\n",
      "1200\n"
     ]
    }
   ],
   "source": [
    "from functools import reduce\n",
    "\n",
    "def add(a, b):\n",
    "    return a + b\n",
    "\n",
    "def mult(a, b):\n",
    "    return a*b\n",
    "\n",
    "print(reduce(add, [1, 2, 3, 4], 0)) # where `0` is a starting point, can be skipped in this example\n",
    "print(reduce(mult, [1, 2, 3, 4, 5], 10)) # where `10` is a starting point"
   ]
  },
  {
   "cell_type": "markdown",
   "id": "45a96f23-3213-41bf-ab06-48308efd7129",
   "metadata": {
    "tags": []
   },
   "source": [
    "## **Module `operator`**"
   ]
  },
  {
   "cell_type": "markdown",
   "id": "38b4fb3c-c0fb-4e09-815a-201278169a00",
   "metadata": {},
   "source": [
    "#### In order to have standard math functions, that can be used in `map()`, `filter()` and `reduce()` we can import them from the module `operator`"
   ]
  },
  {
   "cell_type": "code",
   "execution_count": 87,
   "id": "8f56ed03-b828-4b51-b866-787c1b8101bc",
   "metadata": {},
   "outputs": [],
   "source": [
    "from operator import *"
   ]
  },
  {
   "cell_type": "markdown",
   "id": "6b2f70ff-19c2-4b2f-ba6c-f4e550a85fa8",
   "metadata": {},
   "source": [
    "#### A short list of math functions in `operator`:"
   ]
  },
  {
   "cell_type": "markdown",
   "id": "8eaf3993-d8a4-43b9-9e2f-1c32bc598b55",
   "metadata": {},
   "source": [
    "| Operation | Syntax | Function |\n",
    "| --- |--- |--- |\n",
    "| addition | `a + b` | `add(a, b)` |\n",
    "| containment test | `obj in seq` | `contains(seq, obj)` |\n",
    "| division | `a / b` | `truediv(a, b)` |\n",
    "| division | `a // b` |`floordiv(a, b)` |\n",
    "| exponentiation | `a ** b` | `pow(a, b)` |\n",
    "| modulo | `a % b` | `mod(a, b)` |\n",
    "| multiplication | `a * b` | `mul(a, b)` |\n",
    "| negation | `-a` | `neg(a)` |\n",
    "| substraction | `a - b` | `sub(a, b)` |\n",
    "| ordering | `a < b` | `lt(a, b)` |\n",
    "| ordering | `a <= b` | `le(a, b)` |\n",
    "| ordering | `a > b` | `gt(a, b)` |\n",
    "| ordering | `a >= b` | `ge(a, b)` |\n",
    "| equality | `a == b` | `eq(a, b)` |\n",
    "| difference | `a != b` | `ne(a, b)` |"
   ]
  },
  {
   "cell_type": "code",
   "execution_count": 89,
   "id": "7f084b7c-73db-4c03-93b9-9b19b1bc2a7a",
   "metadata": {},
   "outputs": [
    {
     "name": "stdout",
     "output_type": "stream",
     "text": [
      "-1 -2 6 4 -3 -9 0 6 1\n",
      "Testing shows the presence, not the absence of bugs\n"
     ]
    }
   ],
   "source": [
    "words = ['Testing ', 'shows ', 'the ', 'presence', ', ', 'not ', 'the ', 'absence ', 'of ', 'bugs']\n",
    "numbers = [1, 2, -6, -4, 3, 9, 0, -6, -1]\n",
    "\n",
    "# print out numbers with the opposite sign\n",
    "print(*(map(neg, numbers)))\n",
    "\n",
    "# concatenation of strings from the list of strings\n",
    "print(reduce(add, words))"
   ]
  },
  {
   "cell_type": "markdown",
   "id": "6ba0471c-8f46-43b2-b71b-fb5404e83af1",
   "metadata": {
    "tags": []
   },
   "source": [
    "## **`Anonymous function, lambda`**"
   ]
  },
  {
   "cell_type": "markdown",
   "id": "725ded4a-0f79-4c39-a925-dffe28152c7e",
   "metadata": {},
   "source": [
    "#### An `anonymous function` is a function that is defined without a name"
   ]
  },
  {
   "cell_type": "markdown",
   "id": "98e72def-78e9-498c-99f2-9e75e732f17b",
   "metadata": {},
   "source": [
    "#### While normal functions are defined using the `def` keyword, `anonymous functions` are defined using the `lambda` keyword"
   ]
  },
  {
   "cell_type": "markdown",
   "id": "e23072d2-cfb9-4dc9-9218-ad458ec3558c",
   "metadata": {},
   "source": [
    "#### `Anonymous functions` are also called `lambda` functions"
   ]
  },
  {
   "cell_type": "markdown",
   "id": "cc225285-295b-47ea-aa08-fb1b6f4b8357",
   "metadata": {},
   "source": [
    "#### Usually `lambda` functions are short and used once"
   ]
  },
  {
   "cell_type": "markdown",
   "id": "03a4ebbb-bb17-4787-939a-0725e0c6b587",
   "metadata": {},
   "source": [
    "#### `lambda <parameters> : <value_operation>` "
   ]
  },
  {
   "cell_type": "code",
   "execution_count": 92,
   "id": "7f4b7326-ff1e-417b-865d-0b23b5e546f7",
   "metadata": {},
   "outputs": [],
   "source": [
    "# These two examples are equal:\n",
    "\n",
    "def square(x):     # define standard function\n",
    "    return x**2\n",
    "\n",
    "lmb = lambda x: x**2     # define lambda function and save it variable `lmb`"
   ]
  },
  {
   "cell_type": "code",
   "execution_count": 94,
   "id": "af7c7cdf-7a2e-4464-8333-d58c695e1413",
   "metadata": {},
   "outputs": [
    {
     "name": "stdout",
     "output_type": "stream",
     "text": [
      "9\n",
      "9\n"
     ]
    }
   ],
   "source": [
    "# result of these functions is the same\n",
    "print(square(3))\n",
    "print(lmb(3))"
   ]
  },
  {
   "cell_type": "markdown",
   "id": "56824f7d-0203-447d-9858-7b12eae5a4d5",
   "metadata": {},
   "source": [
    "### **Single use of a function**"
   ]
  },
  {
   "cell_type": "markdown",
   "id": "ac2862b9-0e1b-4a4a-abd9-cad16eb0ea11",
   "metadata": {},
   "source": [
    "#### Previously described a way to sort pairs of numbers by the second number or by the sum of numbers can be simplified using `lambda` function"
   ]
  },
  {
   "cell_type": "code",
   "execution_count": 96,
   "id": "f2086cc4-0186-4103-bedf-78f3d693b72b",
   "metadata": {},
   "outputs": [
    {
     "name": "stdout",
     "output_type": "stream",
     "text": [
      "[(2, -4), (1, -1), (2, 3), (1, 5), (10, 9), (-10, 15), (7, 18)]\n",
      "[(2, -4), (1, -1), (2, 3), (-10, 15), (1, 5), (10, 9), (7, 18)]\n"
     ]
    }
   ],
   "source": [
    "points = [(1, -1), (2, 3), (-10, 15), (10, 9), (7, 18), (1, 5), (2, -4)]\n",
    "\n",
    "print(sorted(points, key=lambda x: x[1])) # sorting by the second number\n",
    "print(sorted(points, key=lambda x: x[0] + x[1])) # sorting by the sum of numbers"
   ]
  },
  {
   "cell_type": "markdown",
   "id": "4604d65a-2cf2-4143-b744-90b3960c3da8",
   "metadata": {},
   "source": [
    "### **Taking `lambda` function as an argument to another function**"
   ]
  },
  {
   "cell_type": "code",
   "execution_count": 100,
   "id": "26666f1a-432a-4bd1-b48e-05a9947bb5fd",
   "metadata": {},
   "outputs": [
    {
     "name": "stdout",
     "output_type": "stream",
     "text": [
      "[2, 3, 4, 5, 6, 7]\n",
      "[2, 4, 6, 8, 10, 12]\n",
      "[1, 4, 9, 16, 25, 36]\n"
     ]
    }
   ],
   "source": [
    "# lambda function with 1 parameter\n",
    "numbers = [1, 2, 3, 4, 5, 6]\n",
    "\n",
    "print(list(map(lambda x: x+1, numbers)))\n",
    "print(list(map(lambda x: x*2, numbers)))\n",
    "print(list(map(lambda x: x**2, numbers)))"
   ]
  },
  {
   "cell_type": "code",
   "execution_count": 101,
   "id": "026ecd2a-c6ef-41e4-97eb-dc2d7f8710e4",
   "metadata": {},
   "outputs": [
    {
     "name": "stdout",
     "output_type": "stream",
     "text": [
      "['aaa', 'bb', 'c', 'dddd', 'eeeee']\n"
     ]
    }
   ],
   "source": [
    "# lambda function with 2 parameters\n",
    "strings = ['a', 'b', 'c', 'd', 'e']\n",
    "numbers = [3, 2, 1, 4, 5]\n",
    "\n",
    "print(list(map(lambda x, y: x*y, strings, numbers)))"
   ]
  },
  {
   "cell_type": "code",
   "execution_count": 103,
   "id": "03681f60-4be0-491d-983d-149978021a82",
   "metadata": {},
   "outputs": [],
   "source": [
    "# lambda function in filter() function\n",
    "numbers = [-1, 2, -3, 4, 0, -20, 10, 30, -40, 50, 100, 90]\n",
    "\n",
    "positive_numbers = list(filter(lambda x: x > 0, numbers))\n",
    "large_numbers = list(filter(lambda x: x > 50, numbers))\n",
    "even_numbers = list(filter(lambda x: x % 2 == 0, numbers))\n",
    "\n",
    "# with strings\n",
    "words = ['python', 'stepik', 'beegeek', 'iq-option']\n",
    "\n",
    "long_words = list(filter(lambda w: len(w) > 6, words))    #  слова длиною больше 6 символов\n",
    "words_with_e = list(filter(lambda w: 'e' in w, words))      #  слова содержащие букву e"
   ]
  },
  {
   "cell_type": "code",
   "execution_count": 112,
   "id": "2b80fe2b-12be-4c1c-b1f1-fd5bcc6cb745",
   "metadata": {},
   "outputs": [
    {
     "name": "stdout",
     "output_type": "stream",
     "text": [
      "21\n",
      "720\n",
      "Everyone loves python loves c++ loves rust loves java\n"
     ]
    }
   ],
   "source": [
    "# lambda function in reduce() function\n",
    "words = ['python', 'c++', 'rust', 'java']\n",
    "numbers = [1, 2, 3, 4, 5, 6]\n",
    "\n",
    "print(reduce(lambda x, y: x + y, numbers))         # sum of numbers\n",
    "print(reduce(lambda x, y: x * y, numbers))         # product of numbers\n",
    "print(reduce(lambda x, y: x + ' loves ' + y, words, 'Everyone')) # sentence"
   ]
  },
  {
   "cell_type": "markdown",
   "id": "2a5855c4-7c9a-4a77-af22-3e622c3fa141",
   "metadata": {},
   "source": [
    "### **Returning a `lambda` function as the result of another function**"
   ]
  },
  {
   "cell_type": "code",
   "execution_count": 114,
   "id": "021df20f-7ab6-41c3-8a60-6cf5266a1bde",
   "metadata": {},
   "outputs": [],
   "source": [
    "# previously mentioned code\n",
    "def generator_square_polynom(a, b, c):\n",
    "    def square_polynom(x):\n",
    "        return a*x**2 + b*x + c\n",
    "    return square_polynom\n",
    "\n",
    "# is equal to:\n",
    "def generator_square_polynom(a, b, c):\n",
    "    return lambda x: a*x**2 + b*x + c"
   ]
  },
  {
   "cell_type": "code",
   "execution_count": 123,
   "id": "10f52d2d-6b8b-44c3-9029-8c74b935d749",
   "metadata": {},
   "outputs": [
    {
     "name": "stdout",
     "output_type": "stream",
     "text": [
      "19\n"
     ]
    }
   ],
   "source": [
    "# example\n",
    "high_ord_func = lambda x, func: x + func(x)\n",
    "\n",
    "result = high_ord_func(2, lambda x: x * x) + high_ord_func(5, lambda x: x + 3)\n",
    "\n",
    "print(result)"
   ]
  },
  {
   "cell_type": "markdown",
   "id": "43eb451f-78d2-451c-a7d3-a4a2bd66e385",
   "metadata": {},
   "source": [
    "### **Operators `if - else` in a `lambda` function**"
   ]
  },
  {
   "cell_type": "markdown",
   "id": "304d31bc-e376-40e2-9702-6ac5131c2a05",
   "metadata": {},
   "source": [
    "#### `Ternary conditional operator` can be used in `lambda` functions"
   ]
  },
  {
   "cell_type": "markdown",
   "id": "040f5dc6-6b98-47e1-9a7d-f7abbd2f6104",
   "metadata": {},
   "source": [
    "__value1__ `if` __condition__ `else` __value2__"
   ]
  },
  {
   "cell_type": "code",
   "execution_count": 115,
   "id": "5e90304e-6917-42a9-a6cc-ff9e877f54a0",
   "metadata": {},
   "outputs": [
    {
     "data": {
      "text/plain": [
       "['even', 'even', 'odd', 'even', 'odd', 'even', 'odd', 'even']"
      ]
     },
     "execution_count": 115,
     "metadata": {},
     "output_type": "execute_result"
    }
   ],
   "source": [
    "numbers = [-2, 0, 1, 2, 17, 4, 5, 6]\n",
    "\n",
    "list(map(lambda x: 'even' if x % 2 == 0 else 'odd', numbers))"
   ]
  },
  {
   "cell_type": "markdown",
   "id": "a36ea307-605a-4124-874a-485b27d33fd8",
   "metadata": {},
   "source": [
    "### **Passing arguments to a `lambda` function**"
   ]
  },
  {
   "cell_type": "markdown",
   "id": "de995e02-9fb1-4735-81e6-939a145e1c25",
   "metadata": {},
   "source": [
    "#### As like normal functions, `lambda` functions support all types of arguments:\n",
    "* position arguments\n",
    "* keyword arguments\n",
    "* default arguments\n",
    "* variable list of position arguments (*args)\n",
    "* variable list of keyword arguments (**kwargs)\n",
    "* required arguments (*)"
   ]
  },
  {
   "cell_type": "code",
   "execution_count": 117,
   "id": "dcf54822-7c66-4bb5-95d0-cc3e0e2c35a0",
   "metadata": {},
   "outputs": [
    {
     "name": "stdout",
     "output_type": "stream",
     "text": [
      "6\n",
      "6\n",
      "6\n",
      "15\n",
      "6\n",
      "1\n",
      "6\n"
     ]
    }
   ],
   "source": [
    "f1 = lambda x, y, z: x + y + z\n",
    "f2 = lambda x, y, z=3: x + y + z\n",
    "f3 = lambda *args: sum(args)\n",
    "f4 = lambda **kwargs: sum(kwargs.values())\n",
    "f5 = lambda x, *, y=0, z=0: x + y + z\n",
    "\n",
    "print(f1(1, 2, 3))\n",
    "print(f2(1, 2))\n",
    "print(f2(1, y=2))\n",
    "print(f3(1, 2, 3, 4, 5))\n",
    "print(f4(one=1, two=2, three=3))\n",
    "print(f5(1))\n",
    "print(f5(1, y=2, z=3))"
   ]
  },
  {
   "cell_type": "markdown",
   "id": "014f9bea-5409-4818-901f-658d677e56bb",
   "metadata": {},
   "source": [
    "### **`lambda` function as expressions**"
   ]
  },
  {
   "cell_type": "markdown",
   "id": "05153858-b4cb-4a1f-8f07-7e1690be5464",
   "metadata": {},
   "source": [
    "#### `lambda` function can be called immediately:"
   ]
  },
  {
   "cell_type": "code",
   "execution_count": 119,
   "id": "f8b337e6-fe4e-4221-b7a0-41d9d30b8c5b",
   "metadata": {},
   "outputs": [
    {
     "name": "stdout",
     "output_type": "stream",
     "text": [
      "15\n",
      "53\n"
     ]
    }
   ],
   "source": [
    "print((lambda х, у: х + у)(5, 10)) # 5 + 10 | lambda takes `5` and `10` as its parameters `x` and `y`\n",
    "print(1 + (lambda x: x*5)(10) + 2) # 1 + 50 + 2 | lambda takes `10` as its parameter `x`"
   ]
  },
  {
   "cell_type": "code",
   "execution_count": 124,
   "id": "f64b8cf4-cda7-495f-90e3-5e152a6f2b75",
   "metadata": {},
   "outputs": [
    {
     "data": {
      "text/plain": [
       "24840"
      ]
     },
     "execution_count": 124,
     "metadata": {},
     "output_type": "execute_result"
    }
   ],
   "source": [
    "4*6*9*23*5"
   ]
  },
  {
   "cell_type": "markdown",
   "id": "5e7b7ef0-c28c-4669-8e78-c7c403987a74",
   "metadata": {
    "tags": []
   },
   "source": [
    "### Example of using `map()`, `filter()` and `reduce()` with `lambda` functions:"
   ]
  },
  {
   "cell_type": "markdown",
   "id": "083404a3-d817-4498-b2cc-d3d7050c735b",
   "metadata": {},
   "source": [
    "A program that prints a list of `primary` cities with a population greater than 10,000,000 in alphabetically sorted order in the following format: `Cities: city, city2, ... `"
   ]
  },
  {
   "cell_type": "code",
   "execution_count": 133,
   "id": "a93231cb-fd6f-4cbd-8094-e4be0d23d0d1",
   "metadata": {},
   "outputs": [
    {
     "name": "stdout",
     "output_type": "stream",
     "text": [
      "Cities: Beijing, Buenos Aires, Cairo, Dhaka, Manila, Mexico City, Moscow, Tokyo\n"
     ]
    }
   ],
   "source": [
    "from functools import reduce\n",
    "\n",
    "data = [['Tokyo', 35676000, 'primary'],\n",
    "        ['New York', 19354922, 'nan'],\n",
    "        ['Mexico City', 19028000, 'primary'],\n",
    "        ['Mumbai', 18978000, 'admin'],\n",
    "        ['Sao Paulo', 18845000, 'admin'],\n",
    "        ['Delhi', 15926000, 'admin'],\n",
    "        ['Shanghai', 14987000, 'admin'],\n",
    "        ['Kolkata', 14787000, 'admin'],\n",
    "        ['Los Angeles', 12815475, 'nan'],\n",
    "        ['Dhaka', 12797394, 'primary'],\n",
    "        ['Buenos Aires', 12795000, 'primary'],\n",
    "        ['Karachi', 12130000, 'admin'],\n",
    "        ['Cairo', 11893000, 'primary'],\n",
    "        ['Rio de Janeiro', 11748000, 'admin'],\n",
    "        ['Osaka', 11294000, 'admin'],\n",
    "        ['Beijing', 11106000, 'primary'],\n",
    "        ['Manila', 11100000, 'primary'],\n",
    "        ['Moscow', 10452000, 'primary'],\n",
    "        ['Istanbul', 10061000, 'admin'],\n",
    "        ['Paris', 9904000, 'primary']]\n",
    "\n",
    "data_filtering = filter(lambda x: x[1] > 10000000 and x[2] == 'primary', data)\n",
    "cities_list = list(map(lambda x: x[0], data_filtering))\n",
    "\n",
    "print('Cities: ' + reduce(lambda x, y: ', '.join((x, y)), sorted(cities_list)))"
   ]
  },
  {
   "cell_type": "markdown",
   "id": "c699fee6-5f03-450e-8786-8b223fc9b4bd",
   "metadata": {
    "tags": []
   },
   "source": [
    "## **`Standard functions any(), all(), zip(), enumerate()`**"
   ]
  },
  {
   "cell_type": "markdown",
   "id": "b5bb0e70-b31d-478d-ac9e-e9010cda7d7c",
   "metadata": {},
   "source": [
    "### **Functions `all()`, `any()`**"
   ]
  },
  {
   "cell_type": "markdown",
   "id": "e8594bad-fadc-4781-ae43-61eb961a996f",
   "metadata": {},
   "source": [
    "#### **`all()`** returns True, if all the elements of the iterable object are True, and False otherwise"
   ]
  },
  {
   "cell_type": "markdown",
   "id": "373b8b84-902e-4179-b916-0930d4ec695f",
   "metadata": {},
   "source": [
    "#### Recall what is False in Python:\n",
    "* constants None and False\n",
    "* any numeric type nulls: 0, 0.0, 0j, Decimal(0), Fraction(0, 1)\n",
    "* empty collections: '', (), [], {}, set(), range(0)"
   ]
  },
  {
   "cell_type": "code",
   "execution_count": 6,
   "id": "d42c2f57-7ef9-4b47-b4ca-a5a64e7e0059",
   "metadata": {},
   "outputs": [
    {
     "name": "stdout",
     "output_type": "stream",
     "text": [
      "True\n",
      "False\n",
      "True\n",
      "False\n",
      "False\n",
      "False\n",
      "False\n",
      "False\n",
      "True\n"
     ]
    }
   ],
   "source": [
    "print(all([True, True, True]))\n",
    "print(all([True, True, False]))\n",
    "print(all([1, 2, 3]))   \n",
    "print(all([1, 2, 3, 0, 5]))\n",
    "print(all([True, 0, 1]))\n",
    "print(all(('', 'red', 'green')))\n",
    "print(all({0j, 3+4j}))\n",
    "print(all({0: 'Zero', 1: 'One', 2: 'Two'}))\n",
    "print(all({'Zero': 0, 'One': 1, 'Two': 2}))"
   ]
  },
  {
   "cell_type": "code",
   "execution_count": 3,
   "id": "fc1b8f20-b241-4017-9c4d-8c43c5f5e662",
   "metadata": {},
   "outputs": [
    {
     "name": "stdout",
     "output_type": "stream",
     "text": [
      "True\n",
      "True\n",
      "True\n",
      "False\n"
     ]
    }
   ],
   "source": [
    "# but:\n",
    "print(all([]))      \n",
    "print(all(()))      \n",
    "print(all(''))      \n",
    "print(all([[], []]))"
   ]
  },
  {
   "cell_type": "markdown",
   "id": "ae6e7586-848f-4ed8-888f-3cff7d7b1739",
   "metadata": {},
   "source": [
    "#### **`all()`** returns True, if at least one element of the iterable object is True, and False otherwise"
   ]
  },
  {
   "cell_type": "code",
   "execution_count": 7,
   "id": "827a42f8-661f-4d61-bcf4-7007fb489507",
   "metadata": {},
   "outputs": [
    {
     "name": "stdout",
     "output_type": "stream",
     "text": [
      "True\n",
      "False\n",
      "False\n",
      "True\n",
      "True\n",
      "True\n",
      "True\n",
      "False\n",
      "True\n"
     ]
    }
   ],
   "source": [
    "print(any([False, True, False]))\n",
    "print(any([False, False, False]))\n",
    "print(any([0, 0, 0]))\n",
    "print(any([0, 1, 0]))\n",
    "print(any([False, 0, 1]))\n",
    "print(any(['', [], 'green']))\n",
    "print(any({0j, 3+4j, 0.0}))\n",
    "print(any({0: 'Zero'}))\n",
    "print(any({'Zero': 0, 'One': 1}))"
   ]
  },
  {
   "cell_type": "code",
   "execution_count": 8,
   "id": "827b7bb0-a825-408f-91fd-8e2e20cbb616",
   "metadata": {},
   "outputs": [
    {
     "name": "stdout",
     "output_type": "stream",
     "text": [
      "False\n",
      "False\n",
      "False\n",
      "False\n"
     ]
    }
   ],
   "source": [
    "# but\n",
    "print(any([]))\n",
    "print(any(()))\n",
    "print(any(''))\n",
    "print(any([[], []])) "
   ]
  },
  {
   "cell_type": "markdown",
   "id": "e1cf35f2-ae2d-42ac-b3a8-bdbda401bf9e",
   "metadata": {
    "jp-MarkdownHeadingCollapsed": true,
    "tags": []
   },
   "source": [
    "### **Functions `all()`, `any()` together with `map()` function**"
   ]
  },
  {
   "cell_type": "code",
   "execution_count": 11,
   "id": "3ea7a38b-3682-4779-b31b-cc6444e8e602",
   "metadata": {},
   "outputs": [
    {
     "name": "stdout",
     "output_type": "stream",
     "text": [
      "At least one number is less than or equal 10\n"
     ]
    }
   ],
   "source": [
    "numbers = [17, 90, 78, 56, 231, 45, 5, 89, 91, 11, 19]\n",
    "\n",
    "# lambda returns True if number > 10 else False for each number in the list\n",
    "# and then all() returns True if all elements are True else False\n",
    "\n",
    "result = all(map(lambda x: x > 10, numbers))\n",
    "\n",
    "print('All numbers greater than 10' if result else 'At least one number is less than or equal 10')"
   ]
  },
  {
   "cell_type": "code",
   "execution_count": 14,
   "id": "5b53aa26-5bc3-4d97-94af-fa344806fa25",
   "metadata": {},
   "outputs": [
    {
     "name": "stdout",
     "output_type": "stream",
     "text": [
      "At least one number is even\n"
     ]
    }
   ],
   "source": [
    "numbers2 = [17, 91, 78, 55, 231, 45, 5, 89, 99, 11, 19]\n",
    "\n",
    "result = any(map(lambda x: x % 2 == 0, numbers2))\n",
    "\n",
    "print('At least one number is even' if result else 'All numbers are odd')"
   ]
  },
  {
   "cell_type": "markdown",
   "id": "8b3719bf-53c4-429f-b449-56637a314d14",
   "metadata": {},
   "source": [
    "### **Function `enumerate()`**"
   ]
  },
  {
   "cell_type": "markdown",
   "id": "e45412a7-f7bc-4825-9d65-1c322466a3e1",
   "metadata": {},
   "source": [
    "#### **`enumerate()`** returns a tuple with an index of the element and an element itself from the iterable object"
   ]
  },
  {
   "cell_type": "markdown",
   "id": "9ebdf2ec-bfb2-48e3-9ca7-20714c25267e",
   "metadata": {},
   "source": [
    "`enumerate(iterable, start)`, where start is a starting value of index and is 0 by default"
   ]
  },
  {
   "cell_type": "code",
   "execution_count": 21,
   "id": "dda60477-ba45-400b-b3c0-e5016f1713b1",
   "metadata": {},
   "outputs": [
    {
     "name": "stdout",
     "output_type": "stream",
     "text": [
      "0 red\n",
      "1 green\n",
      "2 blue\n",
      "(100, 'red') (101, 'green') (102, 'blue')\n"
     ]
    }
   ],
   "source": [
    "colors = ['red', 'green', 'blue']\n",
    "\n",
    "for index, color in enumerate(colors):\n",
    "    print(index, color)\n",
    "    \n",
    "print(*enumerate(colors, 100))"
   ]
  },
  {
   "cell_type": "markdown",
   "id": "22538c20-19ee-487c-8196-0d1d5714953a",
   "metadata": {},
   "source": [
    "### **Function `zip()`**"
   ]
  },
  {
   "cell_type": "markdown",
   "id": "726aa210-0349-4fbb-899c-e643ece55855",
   "metadata": {},
   "source": [
    "#### **`zip()`** pairs elements from each of the passed sequencies in a tuple"
   ]
  },
  {
   "cell_type": "markdown",
   "id": "ee1c483a-ae18-4240-a308-9e18784494a8",
   "metadata": {},
   "source": [
    "#### **`zip()`** can aggregate elements from two or more iterables"
   ]
  },
  {
   "cell_type": "markdown",
   "id": "8f9e5f8b-39d9-474e-b9c8-989b8961416a",
   "metadata": {},
   "source": [
    "#### If the passed iterators have different lengths, the iterator with the least items decides the length of the resulting iterator"
   ]
  },
  {
   "cell_type": "code",
   "execution_count": 24,
   "id": "bec409cb-8a8f-4243-a22c-12d8ffe0a99d",
   "metadata": {},
   "outputs": [
    {
     "name": "stdout",
     "output_type": "stream",
     "text": [
      "(1, 'one', 'I')\n",
      "(2, 'two', 'II')\n",
      "(3, 'three', 'III')\n"
     ]
    }
   ],
   "source": [
    "numbers = [1, 2, 3]\n",
    "words = ['one', 'two', 'three']\n",
    "romans = ['I', 'II', 'III']\n",
    "\n",
    "print(*zip(numbers, words, romans), sep='\\n')"
   ]
  },
  {
   "cell_type": "markdown",
   "id": "cd4e5d6d-9f20-466b-895e-f0a8309769e5",
   "metadata": {},
   "source": [
    "#### **`zip()`** is helpful for creating dictionaries from the lists"
   ]
  },
  {
   "cell_type": "code",
   "execution_count": 28,
   "id": "29fac63e-5f44-48a3-af5a-bd25503aecd8",
   "metadata": {},
   "outputs": [
    {
     "data": {
      "text/plain": [
       "{'name': 'Tom', 'age': 28, 'gender': 'male'}"
      ]
     },
     "execution_count": 28,
     "metadata": {},
     "output_type": "execute_result"
    }
   ],
   "source": [
    "keys = ['name', 'age', 'gender']\n",
    "values = ['Tom', 28, 'male']\n",
    "\n",
    "dict(zip(keys, values))"
   ]
  },
  {
   "cell_type": "markdown",
   "id": "e0fc934d-ac66-43c3-9bd5-06f67f042a93",
   "metadata": {},
   "source": [
    "#### **`zip()`** is helpful for parallel iteration over several collections at once"
   ]
  },
  {
   "cell_type": "code",
   "execution_count": 37,
   "id": "507b10f8-99f4-4c70-8575-6cc610e6689e",
   "metadata": {},
   "outputs": [
    {
     "name": "stdout",
     "output_type": "stream",
     "text": [
      "Tom 28\n",
      "John 21\n",
      "Mark 19\n",
      "('Tom', 28) ('John', 21) ('Mark', 19)\n"
     ]
    }
   ],
   "source": [
    "name = ['Tom', 'John', 'Mark']\n",
    "age = [28, 21, 19]\n",
    "\n",
    "for x, y in zip(name, age):\n",
    "    print(x, y)\n",
    "    \n",
    "print(*[(x, y) for x, y in zip(name, age)])"
   ]
  },
  {
   "cell_type": "markdown",
   "id": "0ea3bf77-681f-4dfc-a982-10a8165dbe74",
   "metadata": {},
   "source": [
    "#### **`zip()`** and **`enumerate()`** can be used together"
   ]
  },
  {
   "cell_type": "code",
   "execution_count": 40,
   "id": "13b310ef-43c3-4578-8b71-bbf40a4e6053",
   "metadata": {},
   "outputs": [
    {
     "name": "stdout",
     "output_type": "stream",
     "text": [
      "0 a1 b1\n",
      "1 a2 b2\n",
      "2 a3 b3\n",
      "(0, ('a1', 'b1')) (1, ('a2', 'b2')) (2, ('a3', 'b3'))\n"
     ]
    }
   ],
   "source": [
    "list1 = ['a1', 'a2', 'a3']\n",
    "list2 = ['b1', 'b2', 'b3']\n",
    "\n",
    "for index, (item1, item2) in enumerate(zip(list1, list2)):\n",
    "    print(index, item1, item2)\n",
    "    \n",
    "print(*enumerate(zip(list1, list2)))"
   ]
  },
  {
   "cell_type": "markdown",
   "id": "0577def0-a57d-479e-9756-ba9d34c4e508",
   "metadata": {
    "tags": []
   },
   "source": [
    "## **Problems**"
   ]
  },
  {
   "cell_type": "markdown",
   "id": "4138b947-f89f-45ad-bae9-78daea60caf4",
   "metadata": {},
   "source": [
    "1. Based on values from 3 lists, return an information for each country in the following way: `<capital> is the capital of <country>, population equal <population> people.`"
   ]
  },
  {
   "cell_type": "code",
   "execution_count": 51,
   "id": "a2e2cf5c-64a7-44a4-9494-04301fd4c020",
   "metadata": {},
   "outputs": [
    {
     "name": "stdout",
     "output_type": "stream",
     "text": [
      "Moscow is the capital of Russia, population equal 145934462 people.\n",
      "Washington is the capital of USA, population equal 331002651 people.\n",
      "London is the capital of UK, population equal 80345321 people.\n",
      "Berlin is the capital of Germany, population equal 67886011 people.\n",
      "Paris is the capital of France, population equal 65273511 people.\n",
      "Delhi is the capital of India, population equal 1380004385 people.\n"
     ]
    }
   ],
   "source": [
    "countries = ['Russia', 'USA', 'UK', 'Germany', 'France', 'India']\n",
    "capitals = ['Moscow', 'Washington', 'London', 'Berlin', 'Paris', 'Delhi']\n",
    "population = [145_934_462, 331_002_651, 80_345_321, 67_886_011, 65_273_511, 1_380_004_385]\n",
    "\n",
    "for capital, country, population in zip(capitals, countries, population):\n",
    "    print(f'{capital} is the capital of {country}, population equal {population} people.')"
   ]
  },
  {
   "cell_type": "markdown",
   "id": "1ec8b96b-dff8-42f1-9a48-4860e08f9aa1",
   "metadata": {},
   "source": [
    "2. You are given 3 lines of text with numbers - abscissas (x), ordinates (y) and applicates (z) coordinates of the points. Create a program that checks if all the points are on or inside the circle with the center in (0, 0) and radius = 2"
   ]
  },
  {
   "cell_type": "code",
   "execution_count": 58,
   "id": "36b132ae-01c1-43b7-92d7-9fd8bc40805e",
   "metadata": {},
   "outputs": [
    {
     "name": "stdout",
     "output_type": "stream",
     "text": [
      "True\n"
     ]
    }
   ],
   "source": [
    "#abscissas = [float(i) for i in input().split()]\n",
    "#ordinates = [float(i) for i in input().split()]\n",
    "#applicates = [float(i) for i in input().split()]\n",
    "\n",
    "abscissas = [float(i) for i in [0.637, -0.411, -0.247, 1.658, 0.061]]\n",
    "ordinates = [float(i) for i in [-0.78, -1.374, 0.762, 0.306, -0.614]]\n",
    "applicates = [float(i) for i in (-1.317, -0.444, -0.572, -0.341, 0.295)]\n",
    "\n",
    "print(all(map(lambda x: x[0]**2 + x[1]**2 + x[2]**2 <= 4, zip(abscissas, ordinates, applicates))))"
   ]
  },
  {
   "cell_type": "markdown",
   "id": "0890c0cb-7c8d-4ce3-a7d5-d0148ffc4e87",
   "metadata": {},
   "source": [
    "3. Create a program that checks if a password is a good one. (Good password has length > 7, include at least 1 digit, 1 uppercase letter and 1 lowercase letter)"
   ]
  },
  {
   "cell_type": "code",
   "execution_count": 60,
   "id": "d151ae43-b589-42e2-ac67-b8ce513038af",
   "metadata": {},
   "outputs": [
    {
     "name": "stdout",
     "output_type": "stream",
     "text": [
      "YES\n"
     ]
    }
   ],
   "source": [
    "pwd = 'abcABC9'\n",
    "\n",
    "check_len = len(pwd) >= 7\n",
    "check_digit = any(map(lambda x: x.isdigit(), pwd))\n",
    "check_upper = any(map(lambda x: x.isupper(), pwd))\n",
    "check_lower = any(map(lambda x: x.islower(), pwd))\n",
    "\n",
    "res = all([check_len, check_digit, check_upper, check_lower])\n",
    "\n",
    "print('YES' if res else 'NO')"
   ]
  },
  {
   "cell_type": "markdown",
   "id": "7ca563cf-47a7-4165-9d8c-71d73eb6749b",
   "metadata": {},
   "source": [
    "4. You're given 2 numbers `a` and `b`. Create a program that returns all integer number(s) between `a` and `b` [a, b], that are divisible by all of its digits"
   ]
  },
  {
   "cell_type": "code",
   "execution_count": 61,
   "id": "0e27db1f-65da-4cfb-8600-b4dd62c69412",
   "metadata": {},
   "outputs": [
    {
     "name": "stdout",
     "output_type": "stream",
     "text": [
      "55 66 77 88 99 111 112 115 122 124 126 128 132 135 144\n"
     ]
    }
   ],
   "source": [
    "a = 50\n",
    "b = 150\n",
    "\n",
    "lst = range(a, b+1)\n",
    "\n",
    "def check(num):\n",
    "    return all(map(lambda x: int(x) and num % int(x) == 0, str(num)))\n",
    "\n",
    "print(*list(filter(check, lst)))"
   ]
  }
 ],
 "metadata": {
  "kernelspec": {
   "display_name": "Python 3 (ipykernel)",
   "language": "python",
   "name": "python3"
  },
  "language_info": {
   "codemirror_mode": {
    "name": "ipython",
    "version": 3
   },
   "file_extension": ".py",
   "mimetype": "text/x-python",
   "name": "python",
   "nbconvert_exporter": "python",
   "pygments_lexer": "ipython3",
   "version": "3.9.12"
  }
 },
 "nbformat": 4,
 "nbformat_minor": 5
}
