{
 "cells": [
  {
   "cell_type": "markdown",
   "id": "e478b0a7-084e-42ed-8206-ce1dba50be29",
   "metadata": {
    "tags": []
   },
   "source": [
    "# **Strings**\n",
    "______________________________"
   ]
  },
  {
   "cell_type": "markdown",
   "id": "3a7ea1db-5563-4ba9-83ad-036c0d963626",
   "metadata": {
    "tags": []
   },
   "source": [
    "## **`String data type`**"
   ]
  },
  {
   "cell_type": "markdown",
   "id": "4ae614fd-7357-45de-920c-b9f2714658a1",
   "metadata": {
    "tags": []
   },
   "source": [
    "***`str`*** - string data type for strings, text lines, symbols, etc"
   ]
  },
  {
   "cell_type": "markdown",
   "id": "b8388b62-d384-49ce-bb62-326f8ad5b967",
   "metadata": {
    "tags": []
   },
   "source": [
    "***`str()`*** - converts an argument to string type <br>\n",
    "***`len()`*** - returns a length of a string (counts all symbols, including spaces)"
   ]
  },
  {
   "cell_type": "code",
   "execution_count": 1,
   "id": "185da4d0-9944-4aa4-b927-ebda73ebf852",
   "metadata": {
    "tags": []
   },
   "outputs": [],
   "source": [
    "s1 = '' # empty string, but still a string\n",
    "s2 = ' ' # a string that consists of only a space symbol\n",
    "s3 = 'Python rocks!' # a string in between ''\n",
    "s4 = \"Python rocks!\" # a string in between \"\"\n",
    "s5 = 'ab' + 'bc' # string concatenation\n",
    "s6 = s5 + s2 + '!!' # string concatenation\n",
    "s7 = 'ah' * 5 # string multiplication\n",
    "s8 = '-' * 56 # symbol repetition\n",
    "\n",
    "# we cannot multiply a string to a string\n",
    "\n",
    "# we can use ''' for long texts\n",
    "s9 = '''Python is an interpreted, high-level, general-purpose programming language.\n",
    "Created by Guido van Rossum and first released in 1991, Python design \n",
    "philosophy emphasizes code readability with its notable use of significant whitespace.'''"
   ]
  },
  {
   "cell_type": "markdown",
   "id": "c4562392-ea6c-4bb2-96d4-70acf7f5a889",
   "metadata": {
    "tags": []
   },
   "source": [
    "***`in, not in`*** - operators that checks whether one string is a substring of another one"
   ]
  },
  {
   "cell_type": "code",
   "execution_count": 2,
   "id": "1610226c-1a54-40e4-a8e5-e59db2886db8",
   "metadata": {},
   "outputs": [
    {
     "name": "stdin",
     "output_type": "stream",
     "text": [
      " hjvkhu.bbuohgbu\n"
     ]
    },
    {
     "name": "stdout",
     "output_type": "stream",
     "text": [
      "a dot in the string\n"
     ]
    }
   ],
   "source": [
    "print('no dot in the string') if '.' not in str(input()) else print('a dot in the string')"
   ]
  },
  {
   "cell_type": "markdown",
   "id": "aee5bf61-d3da-4dc7-ac70-b5561d2874df",
   "metadata": {
    "tags": []
   },
   "source": [
    "## **`String indexing`**"
   ]
  },
  {
   "cell_type": "code",
   "execution_count": 3,
   "id": "e8ff992f-6ed0-4e8e-be30-8d344342834a",
   "metadata": {},
   "outputs": [
    {
     "name": "stdout",
     "output_type": "stream",
     "text": [
      "P\n",
      "y\n",
      "t h o n\n"
     ]
    }
   ],
   "source": [
    "# access to the symbol in the string by its number\n",
    "\n",
    "s = 'Python' \n",
    "print(s[0]) # print out first element(letter) in the string\n",
    "print(s[1]) # print out second element(letter)\n",
    "print(s[2], s[3], s[4], s[5]) # print out the rest of the symbols"
   ]
  },
  {
   "cell_type": "code",
   "execution_count": 4,
   "id": "5ae3aacb-6b2e-4935-b009-6053311e1ca3",
   "metadata": {},
   "outputs": [
    {
     "name": "stdout",
     "output_type": "stream",
     "text": [
      "P\n",
      "y\n",
      "t h o n\n"
     ]
    }
   ],
   "source": [
    "# access to the symbol in the string by its number (the same but with negative indexes)\n",
    "\n",
    "s = 'Python' \n",
    "print(s[-6]) # print out first element(letter) in the string\n",
    "print(s[-5]) # print out second element(letter)\n",
    "print(s[-4], s[-3], s[-2], s[-1]) # print out the rest of the symbols"
   ]
  },
  {
   "cell_type": "code",
   "execution_count": 5,
   "id": "23449388-d52d-4647-a6aa-1b0ed7abfe36",
   "metadata": {},
   "outputs": [
    {
     "name": "stdout",
     "output_type": "stream",
     "text": [
      "P\n",
      "y\n",
      "t h o n\n"
     ]
    }
   ],
   "source": [
    "# access to the symbol in the string by its number (the same but using the length of the string)\n",
    "\n",
    "s = 'Python' \n",
    "print(s[-len(s)]) # print out first element(letter) in the string\n",
    "print(s[-len(s)+1]) # print out second element(letter)\n",
    "print(s[-len(s)+2], s[len(s)-3], s[len(s)-2], s[len(s)-1]) # print out the rest of the symbols"
   ]
  },
  {
   "cell_type": "markdown",
   "id": "3c0b88fe-f8ea-4dae-98b0-ddd9e2cf7203",
   "metadata": {
    "tags": []
   },
   "source": [
    "## **`String iteration`**"
   ]
  },
  {
   "cell_type": "code",
   "execution_count": 6,
   "id": "a8874e21-b6c3-45c5-b629-908208a4d794",
   "metadata": {},
   "outputs": [
    {
     "name": "stdout",
     "output_type": "stream",
     "text": [
      "P y t h o n "
     ]
    }
   ],
   "source": [
    "# iterating by index\n",
    "s = 'Python'\n",
    "for i in range(len(s)):\n",
    "    print(s[i], end = ' ')"
   ]
  },
  {
   "cell_type": "code",
   "execution_count": 7,
   "id": "993feefa-a903-42a9-ba84-39c3d7b95ada",
   "metadata": {},
   "outputs": [
    {
     "name": "stdout",
     "output_type": "stream",
     "text": [
      "P y t h o n "
     ]
    }
   ],
   "source": [
    "# iterating without index\n",
    "s = 'Python'\n",
    "for c in s:\n",
    "    print(c, end = ' ')"
   ]
  },
  {
   "cell_type": "code",
   "execution_count": 8,
   "id": "dc5ff72e-f119-4c96-a820-963fb5568149",
   "metadata": {},
   "outputs": [
    {
     "name": "stdout",
     "output_type": "stream",
     "text": [
      "nohtyP"
     ]
    }
   ],
   "source": [
    "# iterating in reverse\n",
    "s = 'Python'\n",
    "for i in range(len(s)-1, -1, -1):\n",
    "    print(s[i], end = '')"
   ]
  },
  {
   "cell_type": "code",
   "execution_count": 9,
   "id": "53194526-4b0a-466e-82cc-c01423d3917a",
   "metadata": {},
   "outputs": [
    {
     "name": "stdin",
     "output_type": "stream",
     "text": [
      " 101\n"
     ]
    },
    {
     "name": "stdout",
     "output_type": "stream",
     "text": [
      "1100101\n"
     ]
    }
   ],
   "source": [
    "# decimal to binary\n",
    "decimal = int(input())\n",
    "binary = ''\n",
    "while decimal > 0:\n",
    "    binary = str(decimal % 2) + binary\n",
    "    decimal //= 2\n",
    "print(binary)"
   ]
  },
  {
   "cell_type": "markdown",
   "id": "8e782efc-52e3-488a-8a4d-4560ae2572cc",
   "metadata": {
    "tags": []
   },
   "source": [
    "## **`String slicing`**"
   ]
  },
  {
   "cell_type": "code",
   "execution_count": 10,
   "id": "27e6d170-fb01-40f0-aecd-302b33ec18bc",
   "metadata": {},
   "outputs": [],
   "source": [
    "s = 'abcdefghij'"
   ]
  },
  {
   "cell_type": "markdown",
   "id": "b3dc610b-db84-436a-95c3-34888d700fb0",
   "metadata": {},
   "source": [
    "<img src=\"pics/string_slicing.png\" width = 450, height = 200, align = 'left' />"
   ]
  },
  {
   "cell_type": "code",
   "execution_count": 11,
   "id": "276bff04-de3c-44ea-bdbc-9f206937dc52",
   "metadata": {},
   "outputs": [
    {
     "data": {
      "text/plain": [
       "'cde'"
      ]
     },
     "execution_count": 11,
     "metadata": {},
     "output_type": "execute_result"
    }
   ],
   "source": [
    "s[2:5] # equal to s[-8:-5]"
   ]
  },
  {
   "cell_type": "markdown",
   "id": "e8f8d44e-4512-483b-92a0-01eebfe41c03",
   "metadata": {},
   "source": [
    "<img src=\"pics/string_slicing1.png\" width = 450, height = 200, align = 'left' />"
   ]
  },
  {
   "cell_type": "code",
   "execution_count": 12,
   "id": "dacea839-a8b1-4da7-8c7f-17d2c5b52140",
   "metadata": {},
   "outputs": [
    {
     "data": {
      "text/plain": [
       "'abcdef'"
      ]
     },
     "execution_count": 12,
     "metadata": {},
     "output_type": "execute_result"
    }
   ],
   "source": [
    "s[0:6] # equal to s[-10:-4]"
   ]
  },
  {
   "cell_type": "markdown",
   "id": "f07b4613-468a-44e4-8c3d-12f5de20c613",
   "metadata": {},
   "source": [
    "<img src=\"pics/string_slicing2.png\" width = 450, height = 200, align = 'left' />"
   ]
  },
  {
   "cell_type": "code",
   "execution_count": 13,
   "id": "e7d5ac6a-d978-44b5-b63f-afd36cb7d371",
   "metadata": {},
   "outputs": [
    {
     "data": {
      "text/plain": [
       "'cdefg'"
      ]
     },
     "execution_count": 13,
     "metadata": {},
     "output_type": "execute_result"
    }
   ],
   "source": [
    "s[2:7] # equal to s[-8:-3]"
   ]
  },
  {
   "cell_type": "markdown",
   "id": "1e33f72b-92ec-4981-8c7c-a99cf6eceb88",
   "metadata": {},
   "source": [
    "<img src=\"pics/string_slicing3.png\" width = 450, height = 200, align = 'left' />"
   ]
  },
  {
   "cell_type": "code",
   "execution_count": 14,
   "id": "f1d147ee-3b85-4690-8766-4d89f0006394",
   "metadata": {},
   "outputs": [
    {
     "data": {
      "text/plain": [
       "'cdefghij'"
      ]
     },
     "execution_count": 14,
     "metadata": {},
     "output_type": "execute_result"
    }
   ],
   "source": [
    "s[2:] # s[-8:]"
   ]
  },
  {
   "cell_type": "markdown",
   "id": "a8ed4821-0564-4e40-a405-6588447b843f",
   "metadata": {},
   "source": [
    "<img src=\"pics/string_slicing6.png\" width = 450, height = 200, align = 'left' />"
   ]
  },
  {
   "cell_type": "code",
   "execution_count": 15,
   "id": "4b3b9d98-120b-4e8c-bb10-fc0e2ef48c52",
   "metadata": {},
   "outputs": [
    {
     "data": {
      "text/plain": [
       "'abcdefg'"
      ]
     },
     "execution_count": 15,
     "metadata": {},
     "output_type": "execute_result"
    }
   ],
   "source": [
    "s[:7] # s[:-3]"
   ]
  },
  {
   "cell_type": "markdown",
   "id": "f63a125b-c715-4a73-bd7d-075eeedb27e0",
   "metadata": {},
   "source": [
    "<img src=\"pics/string_slicing7.png\" width = 450, height = 200, align = 'left' />"
   ]
  },
  {
   "cell_type": "code",
   "execution_count": 16,
   "id": "953757a3-f633-46a0-88b6-348809a72ef7",
   "metadata": {},
   "outputs": [
    {
     "data": {
      "text/plain": [
       "'abcdefghij'"
      ]
     },
     "execution_count": 16,
     "metadata": {},
     "output_type": "execute_result"
    }
   ],
   "source": [
    "s[:]"
   ]
  },
  {
   "cell_type": "code",
   "execution_count": 17,
   "id": "2c4fca27-408e-4a9e-a6aa-17de5ecd8f3c",
   "metadata": {},
   "outputs": [
    {
     "data": {
      "text/plain": [
       "'bdf'"
      ]
     },
     "execution_count": 17,
     "metadata": {},
     "output_type": "execute_result"
    }
   ],
   "source": [
    "s[1:7:2] # with step 2"
   ]
  },
  {
   "cell_type": "markdown",
   "id": "b434b11c-7fcd-48af-8846-9e17374d65c5",
   "metadata": {},
   "source": [
    "<img src=\"pics/string_slicing8.png\" width = 450, height = 200, align = 'left' />"
   ]
  },
  {
   "cell_type": "code",
   "execution_count": 18,
   "id": "98a9f4f3-50d5-4051-8572-b1503becd6f9",
   "metadata": {},
   "outputs": [
    {
     "data": {
      "text/plain": [
       "'jihgfedcba'"
      ]
     },
     "execution_count": 18,
     "metadata": {},
     "output_type": "execute_result"
    }
   ],
   "source": [
    "s[::-1] # reverse order"
   ]
  },
  {
   "cell_type": "code",
   "execution_count": 19,
   "id": "a34c467c-ca53-4673-ad18-77756d1f93cd",
   "metadata": {},
   "outputs": [
    {
     "data": {
      "text/plain": [
       "'dfhj'"
      ]
     },
     "execution_count": 19,
     "metadata": {},
     "output_type": "execute_result"
    }
   ],
   "source": [
    "s[3::2] # from 3rd to end with step 2"
   ]
  },
  {
   "cell_type": "code",
   "execution_count": 20,
   "id": "4f66c162-a338-40dc-830c-ca5a4de6c9c0",
   "metadata": {},
   "outputs": [
    {
     "data": {
      "text/plain": [
       "'adg'"
      ]
     },
     "execution_count": 20,
     "metadata": {},
     "output_type": "execute_result"
    }
   ],
   "source": [
    "s[:7:3] # from the begining till 7th with step 3"
   ]
  },
  {
   "cell_type": "code",
   "execution_count": 21,
   "id": "6063b8e5-56b9-4285-b1e5-01ef2e724c40",
   "metadata": {},
   "outputs": [
    {
     "data": {
      "text/plain": [
       "'acegi'"
      ]
     },
     "execution_count": 21,
     "metadata": {},
     "output_type": "execute_result"
    }
   ],
   "source": [
    "s[::2] # every 2nd symbol"
   ]
  },
  {
   "cell_type": "code",
   "execution_count": 22,
   "id": "a71cde46-fb8d-45d1-beea-b5f161f89bd7",
   "metadata": {},
   "outputs": [
    {
     "data": {
      "text/plain": [
       "'jhfdb'"
      ]
     },
     "execution_count": 22,
     "metadata": {},
     "output_type": "execute_result"
    }
   ],
   "source": [
    "s[::-2] # every 2nd in reverse order"
   ]
  },
  {
   "cell_type": "code",
   "execution_count": 23,
   "id": "b2538c25-bb73-4506-9935-7c8a21b0240b",
   "metadata": {},
   "outputs": [
    {
     "data": {
      "text/plain": [
       "'ij'"
      ]
     },
     "execution_count": 23,
     "metadata": {},
     "output_type": "execute_result"
    }
   ],
   "source": [
    "s[-2:] # last 2 symbols"
   ]
  },
  {
   "cell_type": "markdown",
   "id": "96f7ae94-d42f-49f5-926d-4fc3782ff080",
   "metadata": {
    "tags": []
   },
   "source": [
    "## **`Changing a symbol`**"
   ]
  },
  {
   "cell_type": "markdown",
   "id": "1c6482f7-5a71-4d9a-8ba7-32a30dd9edbe",
   "metadata": {},
   "source": [
    "strings are unchangeable, so we can't use s[4] = 'X'. Instead we have to create a new string:"
   ]
  },
  {
   "cell_type": "code",
   "execution_count": 24,
   "id": "18c95d70-95a6-4ba6-aeff-a7d3b00ce28c",
   "metadata": {},
   "outputs": [],
   "source": [
    "new_s = s[:4] + 'X' + s[5:]"
   ]
  },
  {
   "cell_type": "code",
   "execution_count": 25,
   "id": "0deeca3a-c67d-4748-9031-6f52a8116122",
   "metadata": {
    "tags": []
   },
   "outputs": [
    {
     "data": {
      "text/plain": [
       "'abcdXfghij'"
      ]
     },
     "execution_count": 25,
     "metadata": {},
     "output_type": "execute_result"
    }
   ],
   "source": [
    "new_s"
   ]
  },
  {
   "cell_type": "markdown",
   "id": "75bd3ab6-2903-4e3f-a0ef-6f23ccfb3832",
   "metadata": {
    "tags": []
   },
   "source": [
    "## **`String methods`**"
   ]
  },
  {
   "cell_type": "markdown",
   "id": "5a684205-8c26-4b7d-a498-2df0b1b69007",
   "metadata": {},
   "source": [
    "    object_name.method_name(parameters)"
   ]
  },
  {
   "cell_type": "code",
   "execution_count": 26,
   "id": "f77a320b-e7cd-4f2b-91b8-47b5eefb74b2",
   "metadata": {},
   "outputs": [],
   "source": [
    "# All string methods\n",
    "\n",
    "# s.capitalize() # returns a string making the first letter in upper case and all others in lower case\n",
    "# s.swapcase() # return a string swapping the case of all its letters\n",
    "# s.title() # returns a string changing the first letter of each word to upper case\n",
    "# s.lower() # returns a string with all letters in lower case\n",
    "# s.upper() # returns a string in with all letters in upper case\n",
    "# s.count('oo', 4, 28) # counts how many times the substring found in the string\n",
    "# s.startswith('foo') # checks if the string starts with a substring\n",
    "# s.endswith('goo') # checks if the string ends with a substring\n",
    "# s.find('goo') # returns an index of a substring first occurrence in a string. Returns -1 if not found\n",
    "# s.rfind('goo') # the same as s.find but strats to find the substring from the end of the string\n",
    "# s.index('goo') # the same as s.find(), but returns a fault if substring is not found\n",
    "# s.rindex('goo') # the same as s.rfind(), but returns a fault if substring is not found\n",
    "# s.strip() # returns a string with removed spaces in the begining and in the end\n",
    "# s.lstrip() # removes spaces only from the begining of the string\n",
    "# s.rstrip() # removes spaces only from the end of the string\n",
    "# s.replace('foo','###') # replaces substrings with a new one\n",
    "# s.isalnum() # checks if a string contains only letters and numbers\n",
    "# s.isalpha() # checks if a string contains only letters\n",
    "# s.isdigit() # checks if a string contains only digits\n",
    "# s.islower() # checks if all symbols in the string are in lower case\n",
    "# s.isupper() # checks if all symbols in the string are in upper case\n",
    "# s.isspace() # # checks if a string consists of only spaces\n",
    "# s.split() # splits the string by ' ' on default\n",
    "# ' '.join(list_of_strings) # joins all the elements of the list into a string (opposite to split())\n",
    "# s.ljust(n) # left alignment with n symbols\n",
    "# s.rjust(n) # right alignment with n symbols"
   ]
  },
  {
   "cell_type": "markdown",
   "id": "0e0184f5-9e91-4480-b316-b0fd06da6014",
   "metadata": {},
   "source": [
    "#### **`case conversion methods`**\n",
    "These methods don't change the string. Use s = s.method_name() for changing"
   ]
  },
  {
   "cell_type": "code",
   "execution_count": 27,
   "id": "c8d3fd71-ecf8-4663-9e91-7b7649e1b98e",
   "metadata": {},
   "outputs": [],
   "source": [
    "s = 'fo0 BaR BAZ quX'"
   ]
  },
  {
   "cell_type": "code",
   "execution_count": 28,
   "id": "aeeea463-8000-451d-8c54-3ce6b66bc307",
   "metadata": {},
   "outputs": [
    {
     "data": {
      "text/plain": [
       "'Fo0 bar baz qux'"
      ]
     },
     "execution_count": 28,
     "metadata": {},
     "output_type": "execute_result"
    }
   ],
   "source": [
    "s.capitalize() # returns a string making the first letter in upper case and all others in lower case"
   ]
  },
  {
   "cell_type": "code",
   "execution_count": 29,
   "id": "72fdc60a-4c4a-472f-8dad-dbaca2ac1a59",
   "metadata": {},
   "outputs": [
    {
     "data": {
      "text/plain": [
       "'FO0 bAr baz QUx'"
      ]
     },
     "execution_count": 29,
     "metadata": {},
     "output_type": "execute_result"
    }
   ],
   "source": [
    "s.swapcase() # return a string swapping the case of all its letters"
   ]
  },
  {
   "cell_type": "code",
   "execution_count": 30,
   "id": "bbeb3f8c-2560-4fd2-9b7d-73e1c17ecc15",
   "metadata": {},
   "outputs": [
    {
     "data": {
      "text/plain": [
       "'Fo0 Bar Baz Qux'"
      ]
     },
     "execution_count": 30,
     "metadata": {},
     "output_type": "execute_result"
    }
   ],
   "source": [
    "s.title() # returns a string changing the first letter of each word to upper case"
   ]
  },
  {
   "cell_type": "code",
   "execution_count": 31,
   "id": "117d133f-a911-4803-a5fc-d92beb82e477",
   "metadata": {},
   "outputs": [
    {
     "data": {
      "text/plain": [
       "'fo0 bar baz qux'"
      ]
     },
     "execution_count": 31,
     "metadata": {},
     "output_type": "execute_result"
    }
   ],
   "source": [
    "s.lower() # returns a string with all letters in lower case"
   ]
  },
  {
   "cell_type": "code",
   "execution_count": 32,
   "id": "cb1dce97-2cb5-4021-9fbc-567a85145d68",
   "metadata": {},
   "outputs": [
    {
     "data": {
      "text/plain": [
       "'FO0 BAR BAZ QUX'"
      ]
     },
     "execution_count": 32,
     "metadata": {},
     "output_type": "execute_result"
    }
   ],
   "source": [
    "s.upper() # returns a string in with all letters in upper case"
   ]
  },
  {
   "cell_type": "markdown",
   "id": "1de024d3-fb5b-443f-80e0-9a52ef444163",
   "metadata": {},
   "source": [
    "#### **`search and replace methods`**\n",
    "These methods have parameters [start], [end]"
   ]
  },
  {
   "cell_type": "code",
   "execution_count": 33,
   "id": "14b4932e-b94f-4bef-b527-e2ce65932667",
   "metadata": {},
   "outputs": [],
   "source": [
    "s = 'foo goo foo baz goo foo quz'"
   ]
  },
  {
   "cell_type": "code",
   "execution_count": 34,
   "id": "6a721957-aad8-4544-8c16-ed60cb37cb8c",
   "metadata": {},
   "outputs": [
    {
     "data": {
      "text/plain": [
       "4"
      ]
     },
     "execution_count": 34,
     "metadata": {},
     "output_type": "execute_result"
    }
   ],
   "source": [
    "s.count('oo', 4, 28) # counts how many times the substring found in the string"
   ]
  },
  {
   "cell_type": "code",
   "execution_count": 35,
   "id": "8e706fac-4652-42b6-a728-8cfb46a0f385",
   "metadata": {},
   "outputs": [
    {
     "data": {
      "text/plain": [
       "True"
      ]
     },
     "execution_count": 35,
     "metadata": {},
     "output_type": "execute_result"
    }
   ],
   "source": [
    "s.startswith('foo') # checks if the string starts with a substring"
   ]
  },
  {
   "cell_type": "code",
   "execution_count": 36,
   "id": "7af93e17-f6b4-4122-ad31-ef7a8688315d",
   "metadata": {},
   "outputs": [
    {
     "data": {
      "text/plain": [
       "False"
      ]
     },
     "execution_count": 36,
     "metadata": {},
     "output_type": "execute_result"
    }
   ],
   "source": [
    "s.endswith('goo') # checks if the string ends with a substring"
   ]
  },
  {
   "cell_type": "code",
   "execution_count": 37,
   "id": "cac95fce-bfb8-4dd2-8c06-43ca975afa89",
   "metadata": {},
   "outputs": [
    {
     "data": {
      "text/plain": [
       "4"
      ]
     },
     "execution_count": 37,
     "metadata": {},
     "output_type": "execute_result"
    }
   ],
   "source": [
    "s.find('goo') # returns an index of a substring first occurrence in a string. Returns -1 if not found"
   ]
  },
  {
   "cell_type": "code",
   "execution_count": 38,
   "id": "3446980e-2406-4b0f-9ef1-57b21726e9e1",
   "metadata": {},
   "outputs": [
    {
     "data": {
      "text/plain": [
       "16"
      ]
     },
     "execution_count": 38,
     "metadata": {},
     "output_type": "execute_result"
    }
   ],
   "source": [
    "s.rfind('goo') # the same as s.find but strats to find the substring from the end of the string"
   ]
  },
  {
   "cell_type": "code",
   "execution_count": 39,
   "id": "cbe46783-49d1-4d72-b1b7-b6fa3fe4d7c9",
   "metadata": {},
   "outputs": [
    {
     "data": {
      "text/plain": [
       "4"
      ]
     },
     "execution_count": 39,
     "metadata": {},
     "output_type": "execute_result"
    }
   ],
   "source": [
    "s.index('goo') # the same as s.find(), but returns a fault if substring is not found"
   ]
  },
  {
   "cell_type": "code",
   "execution_count": 40,
   "id": "5d5f879d-829b-4907-93f0-ac44b2efd608",
   "metadata": {},
   "outputs": [
    {
     "data": {
      "text/plain": [
       "16"
      ]
     },
     "execution_count": 40,
     "metadata": {},
     "output_type": "execute_result"
    }
   ],
   "source": [
    "s.rindex('goo') # the same as s.rfind(), but returns a fault if substring is not found"
   ]
  },
  {
   "cell_type": "code",
   "execution_count": 41,
   "id": "fe091feb-5a28-48db-b269-701512660135",
   "metadata": {},
   "outputs": [
    {
     "data": {
      "text/plain": [
       "'foo goo foo baz goo foo quz'"
      ]
     },
     "execution_count": 41,
     "metadata": {},
     "output_type": "execute_result"
    }
   ],
   "source": [
    "s.strip() # returns a string with removed spaces in the begining and in the end"
   ]
  },
  {
   "cell_type": "code",
   "execution_count": 42,
   "id": "cdcd0f8e-a476-4812-bae1-b2acaad8a235",
   "metadata": {},
   "outputs": [
    {
     "data": {
      "text/plain": [
       "'foo goo foo baz goo foo quz'"
      ]
     },
     "execution_count": 42,
     "metadata": {},
     "output_type": "execute_result"
    }
   ],
   "source": [
    "s.lstrip() # removes spaces only from the begining of the string"
   ]
  },
  {
   "cell_type": "code",
   "execution_count": 43,
   "id": "969d5f8e-d102-47b2-8e6c-22ef3f05837b",
   "metadata": {},
   "outputs": [
    {
     "data": {
      "text/plain": [
       "'foo goo foo baz goo foo quz'"
      ]
     },
     "execution_count": 43,
     "metadata": {},
     "output_type": "execute_result"
    }
   ],
   "source": [
    "s.rstrip() # removes spaces only from the end of the string"
   ]
  },
  {
   "cell_type": "code",
   "execution_count": 44,
   "id": "39f0edbd-d341-459d-aaea-d0da7f3dec95",
   "metadata": {},
   "outputs": [
    {
     "data": {
      "text/plain": [
       "'### goo ### baz goo ### quz'"
      ]
     },
     "execution_count": 44,
     "metadata": {},
     "output_type": "execute_result"
    }
   ],
   "source": [
    "s.replace('foo','###') # replaces substrings with a new one"
   ]
  },
  {
   "cell_type": "code",
   "execution_count": 45,
   "id": "1a249ce1-7ed9-43f3-be9e-1cbd95f6974a",
   "metadata": {},
   "outputs": [
    {
     "name": "stdout",
     "output_type": "stream",
     "text": [
      "    aa\n",
      "     b\n",
      " esfgs\n",
      "   ert\n"
     ]
    }
   ],
   "source": [
    "string = ('aa', 'b', 'esfgs', 'ert')\n",
    "for i in string:\n",
    "    print(i.rjust(6))"
   ]
  },
  {
   "cell_type": "markdown",
   "id": "366e1b65-2ae8-44c0-aba9-209bf741355c",
   "metadata": {},
   "source": [
    "#### **`symbol classification methods`**\n",
    "These methods classify a string based on the symbols in it"
   ]
  },
  {
   "cell_type": "code",
   "execution_count": 46,
   "id": "5f6d5a3c-7619-4dc0-ad76-bf71e7aad435",
   "metadata": {},
   "outputs": [],
   "source": [
    "s1 = 'abc123'\n",
    "s2 = 'ABCabc'\n",
    "s3 = ''\n",
    "s4 = '123424'\n",
    "s5 = 'ABDGD'\n",
    "s6 = '   '"
   ]
  },
  {
   "cell_type": "code",
   "execution_count": 47,
   "id": "81789a86-2cd6-49ff-a9d2-3785e1c0d47f",
   "metadata": {},
   "outputs": [
    {
     "data": {
      "text/plain": [
       "True"
      ]
     },
     "execution_count": 47,
     "metadata": {},
     "output_type": "execute_result"
    }
   ],
   "source": [
    "s1.isalnum() # checks if a string contains only letters and numbers"
   ]
  },
  {
   "cell_type": "code",
   "execution_count": 48,
   "id": "e5117b33-5d88-43fe-89bf-ab2159bf966b",
   "metadata": {},
   "outputs": [
    {
     "data": {
      "text/plain": [
       "False"
      ]
     },
     "execution_count": 48,
     "metadata": {},
     "output_type": "execute_result"
    }
   ],
   "source": [
    "s1.isalpha() # checks if a string contains only letters"
   ]
  },
  {
   "cell_type": "code",
   "execution_count": 49,
   "id": "ee828e82-e83f-462c-b805-6c579d3b91b4",
   "metadata": {},
   "outputs": [
    {
     "data": {
      "text/plain": [
       "True"
      ]
     },
     "execution_count": 49,
     "metadata": {},
     "output_type": "execute_result"
    }
   ],
   "source": [
    "s4.isdigit() # checks if a string contains only digits"
   ]
  },
  {
   "cell_type": "code",
   "execution_count": 50,
   "id": "925dffd4-d1e7-482f-a878-b98a47be880e",
   "metadata": {},
   "outputs": [
    {
     "data": {
      "text/plain": [
       "False"
      ]
     },
     "execution_count": 50,
     "metadata": {},
     "output_type": "execute_result"
    }
   ],
   "source": [
    "s2.islower() # checks if all symbols in the string are in lower case"
   ]
  },
  {
   "cell_type": "code",
   "execution_count": 51,
   "id": "099807d7-7cb7-46f8-ab4e-094aa927169e",
   "metadata": {},
   "outputs": [
    {
     "data": {
      "text/plain": [
       "True"
      ]
     },
     "execution_count": 51,
     "metadata": {},
     "output_type": "execute_result"
    }
   ],
   "source": [
    "s5.isupper() # checks if all symbols in the string are in upper case"
   ]
  },
  {
   "cell_type": "code",
   "execution_count": 52,
   "id": "08d89fd5-1d59-4f1f-a54a-2e26c1bea220",
   "metadata": {
    "tags": []
   },
   "outputs": [
    {
     "data": {
      "text/plain": [
       "True"
      ]
     },
     "execution_count": 52,
     "metadata": {},
     "output_type": "execute_result"
    }
   ],
   "source": [
    "s6.isspace() # # checks if a string consists of only spaces"
   ]
  },
  {
   "cell_type": "markdown",
   "id": "8648b35c-35b4-408a-bc4f-80d8ddb3d757",
   "metadata": {},
   "source": [
    "#### **`additional methods`**\n",
    "Two important string methods for string modification"
   ]
  },
  {
   "cell_type": "code",
   "execution_count": 53,
   "id": "a54d2979-8c05-48ff-8d10-eed8dfe7d04a",
   "metadata": {},
   "outputs": [],
   "source": [
    "line = 'Python is the best language'"
   ]
  },
  {
   "cell_type": "code",
   "execution_count": 54,
   "id": "caa3a49c-28a2-4625-8adf-bdca1609ea1d",
   "metadata": {},
   "outputs": [
    {
     "data": {
      "text/plain": [
       "['Python', 'is', 'the', 'best', 'language']"
      ]
     },
     "execution_count": 54,
     "metadata": {},
     "output_type": "execute_result"
    }
   ],
   "source": [
    "line.split() # splits the string by ' ' on default"
   ]
  },
  {
   "cell_type": "code",
   "execution_count": 55,
   "id": "39c7ca96-ead2-4d28-bf09-2361de50761c",
   "metadata": {},
   "outputs": [
    {
     "name": "stdin",
     "output_type": "stream",
     "text": [
      " jhj jhg hgy fg\n"
     ]
    },
    {
     "data": {
      "text/plain": [
       "['jhj', 'jhg', 'hgy', 'fg']"
      ]
     },
     "execution_count": 55,
     "metadata": {},
     "output_type": "execute_result"
    }
   ],
   "source": [
    "input().split() # takes the string from the input and split it in words returning a list of words"
   ]
  },
  {
   "cell_type": "code",
   "execution_count": 56,
   "id": "3cbe4a46-ad8d-40de-a680-3a10585f0717",
   "metadata": {},
   "outputs": [
    {
     "data": {
      "text/plain": [
       "['192', '168', '1', '24']"
      ]
     },
     "execution_count": 56,
     "metadata": {},
     "output_type": "execute_result"
    }
   ],
   "source": [
    "ip = '192.168.1.24'\n",
    "ip.split('.') # split by a parameter '.'"
   ]
  },
  {
   "cell_type": "code",
   "execution_count": 57,
   "id": "5853fb8c-34e5-4d17-8e2d-efad747d74b8",
   "metadata": {},
   "outputs": [
    {
     "data": {
      "text/plain": [
       "'Python is the best language'"
      ]
     },
     "execution_count": 57,
     "metadata": {},
     "output_type": "execute_result"
    }
   ],
   "source": [
    "' '.join(line.split()) # joins all the elements of the list into a string (opposite to split())"
   ]
  },
  {
   "cell_type": "code",
   "execution_count": 58,
   "id": "a2a7df2b-c8a1-4f6c-87e9-298a21e9c5a6",
   "metadata": {},
   "outputs": [
    {
     "data": {
      "text/plain": [
       "'192:168:1:24'"
      ]
     },
     "execution_count": 58,
     "metadata": {},
     "output_type": "execute_result"
    }
   ],
   "source": [
    "ip_list = ip.split('.')\n",
    "':'.join(ip_list)"
   ]
  },
  {
   "cell_type": "markdown",
   "id": "4a013ec3-ed95-4636-b96c-3032b7b4665f",
   "metadata": {
    "tags": []
   },
   "source": [
    "## **`String format`**\n",
    "How to combine strings from other objects"
   ]
  },
  {
   "cell_type": "code",
   "execution_count": 59,
   "id": "ac28a8bc-5254-4dfa-8576-ecb06722777d",
   "metadata": {},
   "outputs": [],
   "source": [
    "age = 27\n",
    "name = 'Alex'"
   ]
  },
  {
   "cell_type": "code",
   "execution_count": 60,
   "id": "2e4f27b7-5704-4f85-a5db-182246d699b0",
   "metadata": {},
   "outputs": [
    {
     "name": "stdout",
     "output_type": "stream",
     "text": [
      "My name is Alex, I am 27\n"
     ]
    }
   ],
   "source": [
    "# simple way of string format (actually difficult)\n",
    "print('My name is ' + name + ', I am ' + str(age))"
   ]
  },
  {
   "cell_type": "code",
   "execution_count": 61,
   "id": "e3da7872-bae6-4018-ba57-7ee01e9486b1",
   "metadata": {},
   "outputs": [
    {
     "name": "stdout",
     "output_type": "stream",
     "text": [
      "My name is Alex, I am 27\n"
     ]
    }
   ],
   "source": [
    "# string format using .format\n",
    "print('My name is {}, I am {}'.format(name, age))"
   ]
  },
  {
   "cell_type": "markdown",
   "id": "d21fcefc-6557-42dd-9d6e-f69c60245351",
   "metadata": {},
   "source": [
    "f-strings replace previous methods nowadays"
   ]
  },
  {
   "cell_type": "code",
   "execution_count": 62,
   "id": "77804de2-afb3-4d63-8246-3ffec41127de",
   "metadata": {},
   "outputs": [
    {
     "name": "stdout",
     "output_type": "stream",
     "text": [
      "My name is Alex, I am 27\n"
     ]
    }
   ],
   "source": [
    "# string format using f-strings (from Python 3.6)\n",
    "print(f'My name is {name}, I am {age}')"
   ]
  },
  {
   "cell_type": "code",
   "execution_count": 63,
   "id": "b724bb9e-5467-4550-b18e-2f1940ff134f",
   "metadata": {},
   "outputs": [
    {
     "name": "stdout",
     "output_type": "stream",
     "text": [
      "|  x   |\n"
     ]
    }
   ],
   "source": [
    "print(f'|{\"x\":^6s}|') # ^6s means six spaces size of the field for 'x' symbol (for strings)"
   ]
  },
  {
   "cell_type": "code",
   "execution_count": 64,
   "id": "de9a6ee8-a547-4473-ba9b-12f305adcad6",
   "metadata": {},
   "outputs": [
    {
     "name": "stdout",
     "output_type": "stream",
     "text": [
      "|     6|\n"
     ]
    }
   ],
   "source": [
    "z = 6\n",
    "print(f'|{z:6d}|') # the same for integers"
   ]
  },
  {
   "cell_type": "code",
   "execution_count": 65,
   "id": "ccbd0a1e-83e0-42e5-90f8-fd4d464ad64b",
   "metadata": {},
   "outputs": [
    {
     "name": "stdout",
     "output_type": "stream",
     "text": [
      "|  0.3000|\n"
     ]
    }
   ],
   "source": [
    "y = 0.3\n",
    "print(f'|{y:8.4f}|') # 8.3f - means: 8 for number of digits of y, 4 for number of digits after ',', f for float number "
   ]
  },
  {
   "cell_type": "markdown",
   "id": "7c4d83d9-8645-4d52-9481-87c15d0bfc8e",
   "metadata": {
    "tags": []
   },
   "source": [
    "## **`ASCII table`**\n",
    "A table with symbols and their ASCII codes"
   ]
  },
  {
   "cell_type": "markdown",
   "id": "3381d63f-7bb2-4ef1-baf4-0471126c696d",
   "metadata": {},
   "source": [
    "<img src='pics/ascii.jpg' width = 700, height = 400, align = 'left' />"
   ]
  },
  {
   "cell_type": "markdown",
   "id": "056e4c64-6f30-4521-9bf2-065b8e1b8e69",
   "metadata": {
    "tags": []
   },
   "source": [
    "### **`string functions`**\n",
    "Functions related to symbols and their ASCII-codes"
   ]
  },
  {
   "cell_type": "code",
   "execution_count": 66,
   "id": "b3926c00-fa5b-41f3-8630-91d32734f052",
   "metadata": {},
   "outputs": [
    {
     "data": {
      "text/plain": [
       "65"
      ]
     },
     "execution_count": 66,
     "metadata": {},
     "output_type": "execute_result"
    }
   ],
   "source": [
    "ord('A') # returns a decimal ASCII code of the symbol"
   ]
  },
  {
   "cell_type": "code",
   "execution_count": 67,
   "id": "74826453-f4e6-459e-846c-de677cd09fe0",
   "metadata": {},
   "outputs": [
    {
     "data": {
      "text/plain": [
       "'A'"
      ]
     },
     "execution_count": 67,
     "metadata": {},
     "output_type": "execute_result"
    }
   ],
   "source": [
    "chr(65) # returns a symbol by its ASCII code"
   ]
  },
  {
   "cell_type": "code",
   "execution_count": 68,
   "id": "8a6718f3-9a8c-4259-a66d-c49103a28b00",
   "metadata": {},
   "outputs": [
    {
     "name": "stdout",
     "output_type": "stream",
     "text": [
      "A B C D E F G H I J K L M N O P Q R S T U V W X Y Z "
     ]
    }
   ],
   "source": [
    "# can use these function together\n",
    "# print all EN capital letters\n",
    "for i in range(26):\n",
    "    print(chr(ord('A') + i), end = ' ')"
   ]
  },
  {
   "cell_type": "code",
   "execution_count": 69,
   "id": "163e22bb-eda4-4ffb-ab61-b67d6e4bbec8",
   "metadata": {},
   "outputs": [
    {
     "name": "stdin",
     "output_type": "stream",
     "text": [
      " 5\n",
      " ophjijfd\n"
     ]
    },
    {
     "name": "stdout",
     "output_type": "stream",
     "text": [
      "jkcedeay"
     ]
    }
   ],
   "source": [
    "# Caesar cipher\n",
    "n, s = int(input()), input() # input a shift and a text to code\n",
    "for i in s:\n",
    "    h = ord(i) - n\n",
    "    if h < 97:\n",
    "        print(chr(122-(96-h)), end = '')\n",
    "    else:\n",
    "        print(chr(h), end = '')"
   ]
  },
  {
   "cell_type": "code",
   "execution_count": null,
   "id": "0a810b87-5696-43c7-b522-d0b2c34560ce",
   "metadata": {},
   "outputs": [],
   "source": []
  }
 ],
 "metadata": {
  "kernelspec": {
   "display_name": "Python 3 (ipykernel)",
   "language": "python",
   "name": "python3"
  },
  "language_info": {
   "codemirror_mode": {
    "name": "ipython",
    "version": 3
   },
   "file_extension": ".py",
   "mimetype": "text/x-python",
   "name": "python",
   "nbconvert_exporter": "python",
   "pygments_lexer": "ipython3",
   "version": "3.8.12"
  }
 },
 "nbformat": 4,
 "nbformat_minor": 5
}
