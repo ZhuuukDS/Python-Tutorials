{
 "cells": [
  {
   "cell_type": "markdown",
   "id": "03c4dd91-16ba-4e7d-8bab-c2f2ea0587a8",
   "metadata": {
    "tags": []
   },
   "source": [
    "# **Tuples**\n",
    "______________________________"
   ]
  },
  {
   "cell_type": "markdown",
   "id": "fd3bd33d-2274-4c25-b9db-9557aaacc2ce",
   "metadata": {
    "tags": []
   },
   "source": [
    "#### **`tuple`** is an immutable data structure that can collects all types of data"
   ]
  },
  {
   "cell_type": "markdown",
   "id": "17332b84-42ba-4473-b491-908452bf4aa9",
   "metadata": {
    "tags": []
   },
   "source": [
    "## **`Tuple creation`**"
   ]
  },
  {
   "cell_type": "code",
   "execution_count": 1,
   "id": "a1af07c8-4299-4d6f-83db-8b5c3b3c17e2",
   "metadata": {},
   "outputs": [
    {
     "data": {
      "text/plain": [
       "(1, 2, 3, 4)"
      ]
     },
     "execution_count": 1,
     "metadata": {},
     "output_type": "execute_result"
    }
   ],
   "source": [
    "empty_tuple = ()                                      # tuple with no elements\n",
    "one_element_tuple = (1,)                              # tuple of just 1 element (a comma is necessary)\n",
    "point = (1.5, 6.0)                                    # tuple of 2 floats\n",
    "names = ('Timur', 'Ruslan', 'Roman')                  # tuple of 3 strings\n",
    "info = ('Timur', 'Guev', 28, 170, 60, False)          # tuple of 6 different types of data\n",
    "nested_tuple = (('one', 'two'), ['three', 'four'])    # tuple of tuple and list (nested tuple)\n",
    "tuple(list((1,2,3,4)))                                # tuple from a list using a function tuple()"
   ]
  },
  {
   "cell_type": "markdown",
   "id": "3a8c5e5f-aad8-4ce9-9ac7-4d9f9f547170",
   "metadata": {
    "tags": []
   },
   "source": [
    "## **`Properties and advantages of tuples:`**\n",
    "1. faster than lists\n",
    "2. safer than list as immutable\n",
    "3. unchangeable\n",
    "4. usually store elements of different data type"
   ]
  },
  {
   "cell_type": "markdown",
   "id": "cf3fb2d0-437b-445b-ba7e-4229883dd12f",
   "metadata": {},
   "source": [
    "#### Although tuples are immutable, we can change the list as an element of a tuple."
   ]
  },
  {
   "cell_type": "code",
   "execution_count": 2,
   "id": "4392d0f0-fb03-48b5-9a6c-c289c2c44e17",
   "metadata": {},
   "outputs": [
    {
     "name": "stdout",
     "output_type": "stream",
     "text": [
      "(1, 'python', [1, 2, 3])\n",
      "(1, 'python', [100, 2, 3, 17])\n"
     ]
    }
   ],
   "source": [
    "my_tuple = (1, 'python', [1, 2, 3])\n",
    "print(my_tuple)\n",
    "my_tuple[2][0] = 100\n",
    "my_tuple[2].append(17)\n",
    "print(my_tuple)"
   ]
  },
  {
   "cell_type": "markdown",
   "id": "be7593f5-ed44-44fa-8480-d7b4ba5d74f2",
   "metadata": {},
   "source": [
    "#### Another way to change a tuple is to convert it to a list first, then change, then turn back to the tuple"
   ]
  },
  {
   "cell_type": "code",
   "execution_count": 3,
   "id": "82a2ae95-ffca-4d37-9870-af6baf0dccbf",
   "metadata": {},
   "outputs": [
    {
     "name": "stdout",
     "output_type": "stream",
     "text": [
      "('Leo Tolstoy', 1827)\n",
      "('Leo Tolstoy', 1828)\n"
     ]
    }
   ],
   "source": [
    "writer = ('Leo Tolstoy', 1827)\n",
    "print(writer)\n",
    "a = list(writer)\n",
    "a[1] = 1828\n",
    "writer = tuple(a)\n",
    "print(writer)"
   ]
  },
  {
   "cell_type": "markdown",
   "id": "1a3b0d45-cc1e-4544-973e-be1405502549",
   "metadata": {
    "tags": []
   },
   "source": [
    "## **`Features of tuples, functions and methods`**"
   ]
  },
  {
   "cell_type": "markdown",
   "id": "64cbbbe0-61ec-4099-8f13-39fbb76a72bb",
   "metadata": {},
   "source": [
    "#### Tuples support the same operations as lists, except those that change its elements:\n",
    "- indexing\n",
    "- methods like `index()`, `count()`\n",
    "- functions like `len()`, `sum()`, `min()`, `max()`\n",
    "- slicing `my_tuple[::-1]`\n",
    "- opeators `in`, `not in`\n",
    "- concatenation `+` and multiplication `*`"
   ]
  },
  {
   "cell_type": "code",
   "execution_count": 4,
   "id": "79e25ee3-c62d-45da-a614-ce5434b085fd",
   "metadata": {},
   "outputs": [],
   "source": [
    "numbers = (1,2,3,4,5,6)"
   ]
  },
  {
   "cell_type": "code",
   "execution_count": 5,
   "id": "455e7fa7-717f-42fb-9f94-c5753814c65f",
   "metadata": {},
   "outputs": [
    {
     "data": {
      "text/plain": [
       "6"
      ]
     },
     "execution_count": 5,
     "metadata": {},
     "output_type": "execute_result"
    }
   ],
   "source": [
    "# len()\n",
    "len(numbers)"
   ]
  },
  {
   "cell_type": "code",
   "execution_count": 6,
   "id": "075d9f4f-114a-4740-b816-058069bbee68",
   "metadata": {},
   "outputs": [
    {
     "data": {
      "text/plain": [
       "True"
      ]
     },
     "execution_count": 6,
     "metadata": {},
     "output_type": "execute_result"
    }
   ],
   "source": [
    "# in\n",
    "2 in numbers"
   ]
  },
  {
   "cell_type": "code",
   "execution_count": 7,
   "id": "75a701cc-e352-41df-a434-fb2dabc21cce",
   "metadata": {},
   "outputs": [
    {
     "data": {
      "text/plain": [
       "False"
      ]
     },
     "execution_count": 7,
     "metadata": {},
     "output_type": "execute_result"
    }
   ],
   "source": [
    "# not in\n",
    "5 not in numbers"
   ]
  },
  {
   "cell_type": "code",
   "execution_count": 8,
   "id": "a8683ea4-24c1-47e5-8af8-c7bdb4013287",
   "metadata": {},
   "outputs": [
    {
     "data": {
      "text/plain": [
       "6"
      ]
     },
     "execution_count": 8,
     "metadata": {},
     "output_type": "execute_result"
    }
   ],
   "source": [
    "# indexing\n",
    "numbers[-1]"
   ]
  },
  {
   "cell_type": "code",
   "execution_count": 9,
   "id": "4fd4021e-5b50-4c2d-bcc4-16f5eb00c700",
   "metadata": {},
   "outputs": [
    {
     "data": {
      "text/plain": [
       "(2, 3)"
      ]
     },
     "execution_count": 9,
     "metadata": {},
     "output_type": "execute_result"
    }
   ],
   "source": [
    "# slicing\n",
    "numbers[1:3]"
   ]
  },
  {
   "cell_type": "code",
   "execution_count": 10,
   "id": "4c07d5f9-7bc9-4d2f-a4c9-e2a0d0a49326",
   "metadata": {},
   "outputs": [
    {
     "data": {
      "text/plain": [
       "(1, 2, 3, 4, 5, 6, 7, 8, 9, 10)"
      ]
     },
     "execution_count": 10,
     "metadata": {},
     "output_type": "execute_result"
    }
   ],
   "source": [
    "# `+`\n",
    "numbers + (7, 8, 9, 10)"
   ]
  },
  {
   "cell_type": "code",
   "execution_count": 11,
   "id": "6f9b854c-1f3f-438a-ae49-363fe343191a",
   "metadata": {},
   "outputs": [
    {
     "data": {
      "text/plain": [
       "(1, 2, 3, 4, 5, 6, 1, 2, 3, 4, 5, 6, 1, 2, 3, 4, 5, 6)"
      ]
     },
     "execution_count": 11,
     "metadata": {},
     "output_type": "execute_result"
    }
   ],
   "source": [
    "# `*`\n",
    "numbers*3"
   ]
  },
  {
   "cell_type": "code",
   "execution_count": 12,
   "id": "23b28770-d665-4a13-b767-f7d719843f81",
   "metadata": {},
   "outputs": [
    {
     "name": "stdout",
     "output_type": "stream",
     "text": [
      "(1, 2, 3, 4, 7, 8)\n",
      "(7, 8, 7, 8, 7, 8, 7, 8, 7, 8)\n"
     ]
    }
   ],
   "source": [
    "# `+=`, `*=`\n",
    "a = (1, 2, 3, 4)\n",
    "b = (7, 8)\n",
    "a += b\n",
    "b *= 5\n",
    "print(a, b, sep = '\\n')"
   ]
  },
  {
   "cell_type": "code",
   "execution_count": 13,
   "id": "e47daedd-24d0-41d5-835a-3dfae064bbd3",
   "metadata": {},
   "outputs": [
    {
     "data": {
      "text/plain": [
       "21"
      ]
     },
     "execution_count": 13,
     "metadata": {},
     "output_type": "execute_result"
    }
   ],
   "source": [
    "# sum()\n",
    "sum(numbers)"
   ]
  },
  {
   "cell_type": "code",
   "execution_count": 14,
   "id": "24f2706e-b1c7-41d6-a77e-02cd4a103d06",
   "metadata": {},
   "outputs": [
    {
     "data": {
      "text/plain": [
       "1"
      ]
     },
     "execution_count": 14,
     "metadata": {},
     "output_type": "execute_result"
    }
   ],
   "source": [
    "# min()\n",
    "min(numbers)"
   ]
  },
  {
   "cell_type": "code",
   "execution_count": 15,
   "id": "b3fc7808-d4ff-4e63-8c0d-e28de59bbe3a",
   "metadata": {},
   "outputs": [
    {
     "data": {
      "text/plain": [
       "6"
      ]
     },
     "execution_count": 15,
     "metadata": {},
     "output_type": "execute_result"
    }
   ],
   "source": [
    "# max()\n",
    "max(numbers)"
   ]
  },
  {
   "cell_type": "code",
   "execution_count": 16,
   "id": "e4ee519e-edc3-4350-a8fc-6f39f46fa3da",
   "metadata": {},
   "outputs": [
    {
     "data": {
      "text/plain": [
       "0"
      ]
     },
     "execution_count": 16,
     "metadata": {},
     "output_type": "execute_result"
    }
   ],
   "source": [
    "# index()\n",
    "numbers.index(1)"
   ]
  },
  {
   "cell_type": "code",
   "execution_count": 17,
   "id": "2d044410-a1dc-4c9d-a42c-c380779ddf51",
   "metadata": {},
   "outputs": [
    {
     "data": {
      "text/plain": [
       "1"
      ]
     },
     "execution_count": 17,
     "metadata": {},
     "output_type": "execute_result"
    }
   ],
   "source": [
    "# count()\n",
    "numbers.count(1)"
   ]
  },
  {
   "cell_type": "code",
   "execution_count": 18,
   "id": "ed0db95f-c0f8-4f09-bda8-fd69c41efb4d",
   "metadata": {},
   "outputs": [
    {
     "data": {
      "text/plain": [
       "9"
      ]
     },
     "execution_count": 18,
     "metadata": {},
     "output_type": "execute_result"
    }
   ],
   "source": [
    "# indexing nested tuples\n",
    "nums = (1, 2, (4, (6, 7, 8, 9)), 10, 11)\n",
    "nums[2][1][3]"
   ]
  },
  {
   "cell_type": "markdown",
   "id": "52a6f6fc-46c6-49b4-b71f-26d70b45c28b",
   "metadata": {
    "tags": []
   },
   "source": [
    "## **`Operations with tuples` - iterating, unpacking, comparing, sorting, converting**"
   ]
  },
  {
   "cell_type": "markdown",
   "id": "4b96d568-0c35-485b-a39d-2af9f5a8241f",
   "metadata": {},
   "source": [
    "### Iterating"
   ]
  },
  {
   "cell_type": "code",
   "execution_count": 19,
   "id": "196452f0-7dc2-438e-9f8b-497730e5de7a",
   "metadata": {},
   "outputs": [
    {
     "name": "stdout",
     "output_type": "stream",
     "text": [
      "1 2 3 4 5 6 "
     ]
    }
   ],
   "source": [
    "# 1\n",
    "for i in range(len(numbers)):\n",
    "    print(numbers[i], end = ' ')"
   ]
  },
  {
   "cell_type": "code",
   "execution_count": 20,
   "id": "8f80eb54-18af-470e-95df-6ba8e21e1103",
   "metadata": {},
   "outputs": [
    {
     "name": "stdout",
     "output_type": "stream",
     "text": [
      "1 2 3 4 5 6 "
     ]
    }
   ],
   "source": [
    "# 2\n",
    "for i in numbers:\n",
    "    print(i, end = ' ')"
   ]
  },
  {
   "cell_type": "code",
   "execution_count": 21,
   "id": "5abf85be-b4cc-4579-8174-65a40f54ea59",
   "metadata": {},
   "outputs": [
    {
     "name": "stdout",
     "output_type": "stream",
     "text": [
      "1 2 3 4 5 6\n"
     ]
    }
   ],
   "source": [
    "# 3\n",
    "print(*numbers)"
   ]
  },
  {
   "cell_type": "markdown",
   "id": "23e66a73-95b2-4005-9c0f-32bb296849a9",
   "metadata": {},
   "source": [
    "### Comparing"
   ]
  },
  {
   "cell_type": "code",
   "execution_count": 22,
   "id": "8f2bfb9d-bb7d-47a6-93fb-5ec200bfe8ca",
   "metadata": {},
   "outputs": [
    {
     "name": "stdout",
     "output_type": "stream",
     "text": [
      "True\n",
      "True\n",
      "False\n",
      "True\n",
      "False\n"
     ]
    }
   ],
   "source": [
    "print((1, 8) == (1, 8))\n",
    "print((1, 8) != (1, 10))\n",
    "print((1, 9) < (1, 2))\n",
    "print((2, 5) < (6,))\n",
    "print(('a', 'bc') > ('a', 'de'))"
   ]
  },
  {
   "cell_type": "markdown",
   "id": "fa4250a9-21a6-4d34-a150-d945ca32b24b",
   "metadata": {},
   "source": [
    "### Sorting"
   ]
  },
  {
   "cell_type": "code",
   "execution_count": 23,
   "id": "8ce5bc93-7be6-45a6-810b-f07946a9b27b",
   "metadata": {},
   "outputs": [
    {
     "name": "stdout",
     "output_type": "stream",
     "text": [
      "(34, 1, 8, 67, 5, 9, 0, 23)\n",
      "(0, 1, 5, 8, 9, 23, 34, 67)\n"
     ]
    }
   ],
   "source": [
    "not_sorted_tuple = (34, 1, 8, 67, 5, 9, 0, 23)\n",
    "print(not_sorted_tuple)\n",
    "\n",
    "sorted_tuple = tuple(sorted(not_sorted_tuple))\n",
    "print(sorted_tuple)"
   ]
  },
  {
   "cell_type": "markdown",
   "id": "7456affd-b493-4874-9d2a-d40d41806c9a",
   "metadata": {},
   "source": [
    "or"
   ]
  },
  {
   "cell_type": "code",
   "execution_count": 24,
   "id": "5c1f5854-7ee2-45ae-b823-4812717d018e",
   "metadata": {},
   "outputs": [
    {
     "name": "stdout",
     "output_type": "stream",
     "text": [
      "('aa', 'bb', 'cc', 'dd')\n"
     ]
    }
   ],
   "source": [
    "not_sorted_tuple = ('cc', 'aa', 'dd', 'bb')\n",
    "tmp = list(not_sorted_tuple)\n",
    "tmp.sort()\n",
    "\n",
    "sorted_tuple = tuple(tmp)\n",
    "print(sorted_tuple)"
   ]
  },
  {
   "cell_type": "markdown",
   "id": "2a9bfa50-0935-4987-aa93-9ef16f2b4d24",
   "metadata": {},
   "source": [
    "### Converting"
   ]
  },
  {
   "cell_type": "code",
   "execution_count": 25,
   "id": "35ce19a5-f69a-42a0-bef0-05537f051573",
   "metadata": {},
   "outputs": [
    {
     "data": {
      "text/plain": [
       "[1, 2, 3, 4, 5]"
      ]
     },
     "execution_count": 25,
     "metadata": {},
     "output_type": "execute_result"
    }
   ],
   "source": [
    "# to a list and back\n",
    "tuple1 = (1, 2, 3, 4, 5)\n",
    "list1 = list(tuple1)\n",
    "list1"
   ]
  },
  {
   "cell_type": "code",
   "execution_count": 26,
   "id": "f245da62-4f14-4d4e-bf60-bfb6b9f5b235",
   "metadata": {},
   "outputs": [
    {
     "data": {
      "text/plain": [
       "(1, 17.8, 'Python')"
      ]
     },
     "execution_count": 26,
     "metadata": {},
     "output_type": "execute_result"
    }
   ],
   "source": [
    "# list to a tuple\n",
    "list1 = [1, 17.8, 'Python']\n",
    "tuple1 = tuple(list1)\n",
    "tuple1"
   ]
  },
  {
   "cell_type": "code",
   "execution_count": 27,
   "id": "24f14b11-f897-47c6-89a1-b4687cff5a15",
   "metadata": {},
   "outputs": [
    {
     "name": "stdout",
     "output_type": "stream",
     "text": [
      "DoReMiFaSolLaSi\n",
      "Do.Re.Mi.Fa.Sol.La.Si\n"
     ]
    }
   ],
   "source": [
    "# tuple into a string\n",
    "notes = ('Do', 'Re', 'Mi', 'Fa', 'Sol', 'La', 'Si')\n",
    "string1 = ''.join(notes)\n",
    "string2 = '.'.join(notes)\n",
    "\n",
    "print(string1)\n",
    "print(string2)"
   ]
  },
  {
   "cell_type": "code",
   "execution_count": 28,
   "id": "4c1d99bc-5f78-4d15-b82c-cf02d8197856",
   "metadata": {
    "tags": []
   },
   "outputs": [
    {
     "data": {
      "text/plain": [
       "('a', 'b', 'c', 'd', 'e', 'f', 'g', 'h', 'i', 'j', 'k', 'l')"
      ]
     },
     "execution_count": 28,
     "metadata": {},
     "output_type": "execute_result"
    }
   ],
   "source": [
    "# string into a tuple\n",
    "letters = 'abcdefghijkl'\n",
    "tpl = tuple(letters)\n",
    "tpl"
   ]
  },
  {
   "cell_type": "markdown",
   "id": "56373ca3-df2e-4b8b-9ffb-56d7872af37c",
   "metadata": {},
   "source": [
    "### Unpacking"
   ]
  },
  {
   "cell_type": "code",
   "execution_count": 29,
   "id": "b7c95983-dc69-487a-9a4c-b08db07e45b2",
   "metadata": {},
   "outputs": [],
   "source": [
    "colors = ('red', 'green', 'blue')\n",
    "a,b,c = colors"
   ]
  },
  {
   "cell_type": "code",
   "execution_count": 30,
   "id": "482d4238-a0be-4455-a5ef-d13cb6e366b7",
   "metadata": {},
   "outputs": [
    {
     "name": "stdout",
     "output_type": "stream",
     "text": [
      "red\n",
      "green\n",
      "blue\n"
     ]
    }
   ],
   "source": [
    "print(a)\n",
    "print(b)\n",
    "print(c)"
   ]
  },
  {
   "cell_type": "markdown",
   "id": "7c6018b7-2ecf-4e66-9c14-7627a10faf7c",
   "metadata": {},
   "source": [
    "#### If we don't need all the elements in the tuple in variables we can use _"
   ]
  },
  {
   "cell_type": "code",
   "execution_count": 31,
   "id": "294eb3f6-2a21-4a87-beab-ceda460398e6",
   "metadata": {},
   "outputs": [],
   "source": [
    "a, b, _ = colors"
   ]
  },
  {
   "cell_type": "markdown",
   "id": "f089aefb-6352-4b49-96fb-ea59ee466948",
   "metadata": {},
   "source": [
    "#### There should be the same number of variables as the number of elements in the tuple or we can use tailing"
   ]
  },
  {
   "cell_type": "code",
   "execution_count": 32,
   "id": "7ee72a37-4aad-4dc5-bdec-b239f8e65e64",
   "metadata": {},
   "outputs": [],
   "source": [
    "a, b, *tail = 1, 2, 3, 4, 5, 6"
   ]
  },
  {
   "cell_type": "code",
   "execution_count": 33,
   "id": "2d16f97f-c922-4145-8fb3-47dee2802177",
   "metadata": {},
   "outputs": [
    {
     "name": "stdout",
     "output_type": "stream",
     "text": [
      "1\n",
      "2\n",
      "[3, 4, 5, 6]\n"
     ]
    }
   ],
   "source": [
    "print(a)\n",
    "print(b)\n",
    "print(tail) # always returns a list (even if it contains None)"
   ]
  },
  {
   "cell_type": "code",
   "execution_count": 34,
   "id": "00a4bd45-43c2-4d63-9b65-d0c2c84ef36f",
   "metadata": {},
   "outputs": [],
   "source": [
    "a, b, *tail = 1, 2"
   ]
  },
  {
   "cell_type": "code",
   "execution_count": 35,
   "id": "6faf1bd3-1edc-4d2b-8977-095e802a59c9",
   "metadata": {},
   "outputs": [
    {
     "name": "stdout",
     "output_type": "stream",
     "text": [
      "1\n",
      "2\n",
      "[]\n"
     ]
    }
   ],
   "source": [
    "print(a)\n",
    "print(b)\n",
    "print(tail) # always returns a list (even if it contains None)"
   ]
  },
  {
   "cell_type": "markdown",
   "id": "591d89e6-e4f4-4e78-82ec-3b9f09806dd5",
   "metadata": {},
   "source": [
    "#### Tail can be also in the beggining or even in the middle"
   ]
  },
  {
   "cell_type": "code",
   "execution_count": 36,
   "id": "bcbd1919-37b8-4a17-85c9-b0f599202c5b",
   "metadata": {},
   "outputs": [],
   "source": [
    "*t, a, b = 1, 2, 3"
   ]
  },
  {
   "cell_type": "code",
   "execution_count": 37,
   "id": "cc19fffa-ae50-4118-942a-2cfab04b7d03",
   "metadata": {},
   "outputs": [
    {
     "name": "stdout",
     "output_type": "stream",
     "text": [
      "[1]\n",
      "2\n",
      "3\n"
     ]
    }
   ],
   "source": [
    "print(t) # always returns a list (even if it contains None)\n",
    "print(a)\n",
    "print(b)"
   ]
  },
  {
   "cell_type": "code",
   "execution_count": 38,
   "id": "aa9c4a36-64da-4ebc-9d13-f0776001a3ac",
   "metadata": {},
   "outputs": [],
   "source": [
    "a, *t, b = 1, 2, 3"
   ]
  },
  {
   "cell_type": "code",
   "execution_count": 39,
   "id": "61905a29-2d5e-49d6-af84-d2e2953b6b1a",
   "metadata": {},
   "outputs": [
    {
     "name": "stdout",
     "output_type": "stream",
     "text": [
      "1\n",
      "[2]\n",
      "3\n"
     ]
    }
   ],
   "source": [
    "print(a)\n",
    "print(t) # always returns a list (even if it contains None)\n",
    "print(b)"
   ]
  },
  {
   "cell_type": "code",
   "execution_count": 40,
   "id": "b71490e0-ba85-44ff-9423-7a6db67606e1",
   "metadata": {},
   "outputs": [],
   "source": [
    "a, *t, b = 1, 2"
   ]
  },
  {
   "cell_type": "code",
   "execution_count": 41,
   "id": "b27dcf6e-883e-457b-ada4-3791a25437c9",
   "metadata": {},
   "outputs": [
    {
     "name": "stdout",
     "output_type": "stream",
     "text": [
      "1\n",
      "[]\n",
      "2\n"
     ]
    }
   ],
   "source": [
    "print(a)\n",
    "print(t) # always returns a list (even if it contains None)\n",
    "print(b)"
   ]
  },
  {
   "cell_type": "code",
   "execution_count": 42,
   "id": "d226d0c1-68df-454f-8ad2-45a44d6112ed",
   "metadata": {},
   "outputs": [
    {
     "name": "stdout",
     "output_type": "stream",
     "text": [
      "Freddie\n",
      "['Bohemian Rhapsody', 'Killer Queen', 'Love of my life']\n",
      "Mercury\n"
     ]
    }
   ],
   "source": [
    "singer = ('Freddie', 'Bohemian Rhapsody', 'Killer Queen', 'Love of my life', 'Mercury')\n",
    "\n",
    "name, *songs, surname = singer\n",
    "\n",
    "print(name)\n",
    "print(songs)\n",
    "print(surname)"
   ]
  },
  {
   "cell_type": "markdown",
   "id": "12feb6f5-2b0b-4fe3-a0c0-8120baf7bf2b",
   "metadata": {},
   "source": [
    "#### Unpacking is used not only in tuples, but we also can unpack all sequences"
   ]
  },
  {
   "cell_type": "code",
   "execution_count": 43,
   "id": "bc484b57-3fc7-4eb6-917e-2b048a251963",
   "metadata": {},
   "outputs": [
    {
     "name": "stdout",
     "output_type": "stream",
     "text": [
      "Leo\n",
      "Tolstoy\n",
      "m a t h\n",
      "b 200\n"
     ]
    }
   ],
   "source": [
    "full_name = ['Leo', 'Tolstoy']\n",
    "name, surname = full_name    # list unpacking\n",
    "print(name)\n",
    "print(surname)\n",
    "\n",
    "a, b, c, d = 'math'    # unpacking a string\n",
    "print(a, b, c, d, sep = ' ')\n",
    "\n",
    "points = [('a', 100), ('b', 200), ('c', 300)]\n",
    "letter, value = points[1]    # unpacking a list of tuples\n",
    "print(letter, value, sep = ' ')"
   ]
  }
 ],
 "metadata": {
  "kernelspec": {
   "display_name": "Python 3 (ipykernel)",
   "language": "python",
   "name": "python3"
  },
  "language_info": {
   "codemirror_mode": {
    "name": "ipython",
    "version": 3
   },
   "file_extension": ".py",
   "mimetype": "text/x-python",
   "name": "python",
   "nbconvert_exporter": "python",
   "pygments_lexer": "ipython3",
   "version": "3.8.12"
  }
 },
 "nbformat": 4,
 "nbformat_minor": 5
}
