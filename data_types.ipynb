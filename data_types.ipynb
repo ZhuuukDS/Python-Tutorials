{
 "cells": [
  {
   "cell_type": "markdown",
   "id": "47ed267e-4067-4b16-8612-7a8b24cddac8",
   "metadata": {
    "tags": []
   },
   "source": [
    "# **Data types**\n",
    "______________________________"
   ]
  },
  {
   "cell_type": "markdown",
   "id": "0f9bf428-ac20-40f7-b32a-fc7c9f1e4e09",
   "metadata": {},
   "source": [
    "## Contents:\n",
    "- [Numeric data types](#Numeric-data-types)\n",
    "- [Boolean data type](#Boolean-data-type)\n",
    "- [NoneType data type](#NoneType-data-type)\n",
    "- [Dictionary data type](#Dictionary-data-type)\n",
    "- [Set data type](#Set-data-type)\n",
    "- [String data type](#String-data-type)\n",
    "- [List data type](#List-data-type)\n",
    "- [Tuple data type](#Tuple-data-type)"
   ]
  },
  {
   "cell_type": "markdown",
   "id": "c7f7d72f-f77c-470d-b6f4-a63cac230c9e",
   "metadata": {},
   "source": [
    "<img src='pics/data_types.png' width = 600 height = 400/>"
   ]
  },
  {
   "cell_type": "markdown",
   "id": "3d2a7862-b05a-4e31-aceb-3565a895c0b7",
   "metadata": {
    "tags": []
   },
   "source": [
    "## **`Numeric data types`**"
   ]
  },
  {
   "cell_type": "markdown",
   "id": "58e274b0-a121-443d-9945-999681bfe1c1",
   "metadata": {},
   "source": [
    "1. `int` - integer numbers\n",
    "2. `float` - floating point numbers\n",
    "3. `complex` - complex numbers (more info [here](modules/complex.ipynb))\n",
    "4. `decimal` – decimal number for high-precision calculations (more info [here](modules/decimal.ipynb))\n",
    "5. `fraction` – simple fractions with numerator and denominator (more info [here](modules/fraction.ipynb))"
   ]
  },
  {
   "cell_type": "markdown",
   "id": "8dd9497e-6bc2-4dec-bf47-35bbecbce5ed",
   "metadata": {
    "tags": []
   },
   "source": [
    "### **Useful functions**"
   ]
  },
  {
   "cell_type": "markdown",
   "id": "3726e08c-ee9b-494e-9d51-8d334c08c512",
   "metadata": {},
   "source": [
    "| function | what it does |\n",
    "| --- | --- |\n",
    "| __`int(number, base=10)`__ | number converted to to integer if possible (base=10 by default) |\n",
    "| __`float(number)`__ | number converted to floating point if possible |\n",
    "| __`complex(re, im)`__ | creates a complex number with real part `re`, imaginary part `im`. `im` defaults to zero | \n",
    "| __`type(object)`__ | returns a data type of an object |\n",
    "| __`min()`__ | returns minimum among the given numbers (takes any number of arguments) |\n",
    "| __`max()`__ | returns maximum among the given numbers (takes any number of arguments) |\n",
    "| __`abs`__ | returns the absolute value of the given number (takes single argument) |"
   ]
  },
  {
   "cell_type": "markdown",
   "id": "9ab17a97-3fac-4ddb-8449-5ef0147b7b57",
   "metadata": {
    "tags": []
   },
   "source": [
    "## **`Boolean data type`**"
   ]
  },
  {
   "cell_type": "markdown",
   "id": "b2faf609-b91d-4e33-9481-c223c6f259a6",
   "metadata": {
    "tags": []
   },
   "source": [
    "***`True`*** - something is true (2 = 2) <br>\n",
    "***`False`*** - something is not true (2 = 3)"
   ]
  },
  {
   "cell_type": "code",
   "execution_count": 1,
   "id": "e9056d36-c74c-4e8a-b279-bbc9f7bb4c2c",
   "metadata": {},
   "outputs": [
    {
     "name": "stdout",
     "output_type": "stream",
     "text": [
      "True\n",
      "False\n",
      "False\n"
     ]
    }
   ],
   "source": [
    "print(17 > 7)\n",
    "print(17 == 7)\n",
    "print(17 < 7)"
   ]
  },
  {
   "cell_type": "markdown",
   "id": "8177d5a7-455a-4896-83e7-7d49ab3d7573",
   "metadata": {
    "tags": []
   },
   "source": [
    "### **Logical operators**"
   ]
  },
  {
   "cell_type": "markdown",
   "id": "150a4457-e96f-4724-98fc-529a1d44066d",
   "metadata": {
    "tags": []
   },
   "source": [
    "#### ***`and`***, ***`or`***, ***`not`***"
   ]
  },
  {
   "cell_type": "markdown",
   "id": "997d93a1-b2ce-4b61-98e5-196476909b40",
   "metadata": {},
   "source": [
    "| a | b | a AND b | a OR b | NOT a | NOT b |\n",
    "|---|---|---|---|---|---|\n",
    "| **False** | **False** | False | False | True | True|\n",
    "| **False** | **True** | False | True | True | False |\n",
    "| **True** | **False** | False | True | False | True |\n",
    "| **True** | **True** | True | True | False |False |"
   ]
  },
  {
   "cell_type": "code",
   "execution_count": 2,
   "id": "1d53957d-98d1-41f4-b975-397a00a06f98",
   "metadata": {},
   "outputs": [
    {
     "name": "stdout",
     "output_type": "stream",
     "text": [
      "a and b is False\n",
      "a or b is True\n",
      "not a is False\n"
     ]
    }
   ],
   "source": [
    "a, b = True, False\n",
    "\n",
    "print('a and b is', a and b)\n",
    "print('a or b is', a or b)\n",
    "print('not a is', not a)"
   ]
  },
  {
   "cell_type": "markdown",
   "id": "e7945264-4735-4a2f-9a41-22bb5940e519",
   "metadata": {
    "tags": []
   },
   "source": [
    "### **Boolean values as numbers**"
   ]
  },
  {
   "cell_type": "code",
   "execution_count": 3,
   "id": "29bc1884-c35a-4779-b785-c6e89c3b573d",
   "metadata": {},
   "outputs": [
    {
     "name": "stdout",
     "output_type": "stream",
     "text": [
      "True\n",
      "True\n"
     ]
    }
   ],
   "source": [
    "print(True == 1)\n",
    "print(False == 0)"
   ]
  },
  {
   "cell_type": "code",
   "execution_count": 4,
   "id": "d9eef2e8-d39e-4bdd-8da2-971bad20235c",
   "metadata": {},
   "outputs": [
    {
     "name": "stdout",
     "output_type": "stream",
     "text": [
      "3\n",
      "1.0\n"
     ]
    }
   ],
   "source": [
    "print(True + True + True - False)\n",
    "print(True + (False / True))"
   ]
  },
  {
   "cell_type": "code",
   "execution_count": 5,
   "id": "a6ed6b85-0bb9-4a3d-bb7d-46dc18ada909",
   "metadata": {},
   "outputs": [
    {
     "name": "stdout",
     "output_type": "stream",
     "text": [
      "5\n"
     ]
    }
   ],
   "source": [
    "numbers = [1, 2, 3, 4, 5, 8, 10, 12, 15, 17]\n",
    "res = 0\n",
    "\n",
    "for num in numbers:\n",
    "    res += (num % 2 == 0)\n",
    "print(res)"
   ]
  },
  {
   "cell_type": "code",
   "execution_count": 6,
   "id": "f12a4975-ea47-402f-8a4a-3517f04c2fff",
   "metadata": {},
   "outputs": [
    {
     "name": "stdout",
     "output_type": "stream",
     "text": [
      "True\n"
     ]
    }
   ],
   "source": [
    "flag = True\n",
    "\n",
    "if flag: print('True')\n",
    "if not flag: print('False')"
   ]
  },
  {
   "cell_type": "markdown",
   "id": "aaa21e8a-5203-4899-970c-f8ca170c24b8",
   "metadata": {
    "tags": []
   },
   "source": [
    "### **Useful functions**"
   ]
  },
  {
   "cell_type": "markdown",
   "id": "ea16083e-a020-4aa4-9f27-6e95d943b19b",
   "metadata": {},
   "source": [
    "***`isinstance(data, type)`*** - checks if `data` is of that `type`"
   ]
  },
  {
   "cell_type": "markdown",
   "id": "c9887bf5-de98-4a62-b081-ba2538b0bff5",
   "metadata": {},
   "source": [
    "***`bool()`*** - returns **True** or **False** depending on the argument: <br>\n",
    "<br>\n",
    "**strings**: empty string — False, non-empty string — True <br>\n",
    "**numbers**: zero — False, any non-zero number including less than zero — True <br>\n",
    "**lists**: empty list — False, non-empty list — True"
   ]
  },
  {
   "cell_type": "code",
   "execution_count": 7,
   "id": "20a70bc1-2b0d-45a6-b9d3-3a94403efc90",
   "metadata": {},
   "outputs": [
    {
     "name": "stdout",
     "output_type": "stream",
     "text": [
      "True\n",
      "True\n",
      "False\n",
      "False\n",
      "False\n",
      "False\n"
     ]
    }
   ],
   "source": [
    "print(bool(17)) # non-zero number\n",
    "print(bool(['apple', 'cherry'])) # non-empty list\n",
    "print(bool()) # None\n",
    "print(bool('')) # empty string\n",
    "print(bool(0)) # zero\n",
    "print(bool([])) # empty list"
   ]
  },
  {
   "cell_type": "code",
   "execution_count": 8,
   "id": "daca3e90-0c0a-4114-82d6-4de0e571367e",
   "metadata": {},
   "outputs": [
    {
     "name": "stdout",
     "output_type": "stream",
     "text": [
      "True\n",
      "True\n",
      "True\n",
      "True\n",
      "True\n",
      "False\n",
      "False\n"
     ]
    }
   ],
   "source": [
    "print(isinstance(3, int))\n",
    "print(isinstance(3.5, float))\n",
    "print(isinstance('Beegeek', str))\n",
    "print(isinstance([1, 2, 3], list))\n",
    "print(isinstance(True, bool))\n",
    "print(isinstance(3.5, int))\n",
    "print(isinstance('Beegeek', float))"
   ]
  },
  {
   "cell_type": "markdown",
   "id": "ba0caa24-f640-4b32-866e-dd64360c6d93",
   "metadata": {
    "tags": []
   },
   "source": [
    "## **`NoneType data type`**"
   ]
  },
  {
   "cell_type": "markdown",
   "id": "3fefb1bc-ba2d-4c67-b384-5444ddae78af",
   "metadata": {},
   "source": [
    "***`None`*** is nothing, but it is not '0' or 'False'"
   ]
  },
  {
   "cell_type": "code",
   "execution_count": 4,
   "id": "82308599-4928-4098-8f2f-4eb9b2f44391",
   "metadata": {},
   "outputs": [
    {
     "data": {
      "text/plain": [
       "NoneType"
      ]
     },
     "execution_count": 4,
     "metadata": {},
     "output_type": "execute_result"
    }
   ],
   "source": [
    "var = None\n",
    "type(var)"
   ]
  },
  {
   "cell_type": "code",
   "execution_count": 5,
   "id": "8204c818-4baa-40b5-aab6-dcfe53bdb00e",
   "metadata": {},
   "outputs": [
    {
     "name": "stdout",
     "output_type": "stream",
     "text": [
      "Yes, 'var' is None\n"
     ]
    }
   ],
   "source": [
    "if var is None: print('Yes, \\'var\\' is None')"
   ]
  },
  {
   "cell_type": "code",
   "execution_count": 6,
   "id": "fab9f8be-4c50-4e92-a7ad-eeebba1c53e6",
   "metadata": {},
   "outputs": [
    {
     "data": {
      "text/plain": [
       "False"
      ]
     },
     "execution_count": 6,
     "metadata": {},
     "output_type": "execute_result"
    }
   ],
   "source": [
    "var == 0"
   ]
  },
  {
   "cell_type": "code",
   "execution_count": 7,
   "id": "a7441e37-fd06-4ead-94fa-f81bc94969d5",
   "metadata": {},
   "outputs": [
    {
     "data": {
      "text/plain": [
       "False"
      ]
     },
     "execution_count": 7,
     "metadata": {},
     "output_type": "execute_result"
    }
   ],
   "source": [
    "var == False"
   ]
  },
  {
   "cell_type": "markdown",
   "id": "63fd0c2a-e45a-4ac3-b0f0-123ce89b456a",
   "metadata": {
    "tags": []
   },
   "source": [
    "## **`Dictionary data type`**"
   ]
  },
  {
   "cell_type": "markdown",
   "id": "3cb51139-572d-442d-ac05-e6d17d3ef244",
   "metadata": {
    "tags": []
   },
   "source": [
    "check **[dictionaries.ipynb](data_structures/dictionaries.ipynb)** for info"
   ]
  },
  {
   "cell_type": "markdown",
   "id": "2ccd2c57-5ef4-4e18-b1ea-30f69e224a03",
   "metadata": {
    "tags": []
   },
   "source": [
    "## **`Set data type`**"
   ]
  },
  {
   "cell_type": "markdown",
   "id": "645aa31f-ca5d-45be-952b-9506245fff84",
   "metadata": {
    "tags": []
   },
   "source": [
    "check **[sets.ipynb](data_structures/sets.ipynb)** for info"
   ]
  },
  {
   "cell_type": "markdown",
   "id": "ef11109e-8657-442e-abae-ea63f92d67d2",
   "metadata": {
    "tags": []
   },
   "source": [
    "## **`String data type`**"
   ]
  },
  {
   "cell_type": "markdown",
   "id": "25ee132e-d0c8-4733-baba-ff6754eb97b5",
   "metadata": {
    "tags": []
   },
   "source": [
    "check **[strings.ipynb](data_structures/strings.ipynb)** for info"
   ]
  },
  {
   "cell_type": "markdown",
   "id": "008b97d3-37b1-459d-bec4-c9cde43009ce",
   "metadata": {
    "tags": []
   },
   "source": [
    "## **`List data type`**"
   ]
  },
  {
   "cell_type": "markdown",
   "id": "260b0160-12db-4a89-8aa3-c7f3757e4e67",
   "metadata": {
    "tags": []
   },
   "source": [
    "check **[lists.ipynb](data_structures/lists.ipynb)** for info"
   ]
  },
  {
   "cell_type": "markdown",
   "id": "a88f6d78-0437-43f0-88e2-64af79ca0d1e",
   "metadata": {
    "tags": []
   },
   "source": [
    "## **`Tuple data type`**"
   ]
  },
  {
   "cell_type": "markdown",
   "id": "1ca02d50-73b3-4f11-9801-d4e5c98cb1b1",
   "metadata": {
    "tags": []
   },
   "source": [
    "check **[tuples.ipynb](data_structures/tuples.ipynb)** for info"
   ]
  }
 ],
 "metadata": {
  "kernelspec": {
   "display_name": "Python 3 (ipykernel)",
   "language": "python",
   "name": "python3"
  },
  "language_info": {
   "codemirror_mode": {
    "name": "ipython",
    "version": 3
   },
   "file_extension": ".py",
   "mimetype": "text/x-python",
   "name": "python",
   "nbconvert_exporter": "python",
   "pygments_lexer": "ipython3",
   "version": "3.9.12"
  }
 },
 "nbformat": 4,
 "nbformat_minor": 5
}
