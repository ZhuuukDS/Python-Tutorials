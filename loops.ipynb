{
 "cells": [
  {
   "cell_type": "markdown",
   "id": "47ed267e-4067-4b16-8612-7a8b24cddac8",
   "metadata": {
    "tags": []
   },
   "source": [
    "# **FOR, WHILE**\n",
    "______________________________"
   ]
  },
  {
   "cell_type": "markdown",
   "id": "91e24673-4052-4889-a855-11823ca8f1c3",
   "metadata": {
    "tags": []
   },
   "source": [
    "## **`for`** - *counting loop*"
   ]
  },
  {
   "cell_type": "markdown",
   "id": "cfd08238-8a79-41fe-b4ea-285b869fece9",
   "metadata": {
    "tags": []
   },
   "source": [
    " #### **for** *\<variable_name\>* **in range(** *\<number_of_repetition\>* **):** *\<block_of_code\>*"
   ]
  },
  {
   "cell_type": "code",
   "execution_count": 1,
   "id": "d6dbb7fd-8af3-4520-b6ed-1b1f3c86fd02",
   "metadata": {},
   "outputs": [
    {
     "name": "stdout",
     "output_type": "stream",
     "text": [
      "Hello, world\n",
      "Hello, world\n",
      "Hello, world\n",
      "Hello, world\n",
      "Hello, world\n"
     ]
    }
   ],
   "source": [
    "# prints the line 5 times\n",
    "\n",
    "for i in range(5):\n",
    "    print(\"Hello, world\")"
   ]
  },
  {
   "cell_type": "code",
   "execution_count": 2,
   "id": "9838b089-467c-4601-8952-94a60d2e6e5a",
   "metadata": {},
   "outputs": [
    {
     "name": "stdin",
     "output_type": "stream",
     "text": [
      " ejgnej\n",
      " 4\n"
     ]
    },
    {
     "name": "stdout",
     "output_type": "stream",
     "text": [
      "ejgnej\n",
      "ejgnej\n",
      "ejgnej\n",
      "ejgnej\n"
     ]
    }
   ],
   "source": [
    "# input from the keyboard a line (s) and how many times to print the line (n)\n",
    "\n",
    "s = input()\n",
    "for _ in range(int(input())):\n",
    "    print(s)"
   ]
  },
  {
   "cell_type": "code",
   "execution_count": 9,
   "id": "40a49d18-6f9f-426d-afa3-03ff49a4a625",
   "metadata": {},
   "outputs": [
    {
     "name": "stdout",
     "output_type": "stream",
     "text": [
      "0 = indice, 1 = count\n",
      "1 = indice, 2 = count\n",
      "2 = indice, 3 = count\n",
      "3 = indice, 4 = count\n"
     ]
    }
   ],
   "source": [
    "# number of repetition in range(n) starts with 0 and ends in n-1\n",
    "\n",
    "for i in range(4):\n",
    "    print(i, '= indice,', i + 1, '= count')"
   ]
  },
  {
   "cell_type": "code",
   "execution_count": 10,
   "id": "54471b50-aef9-4d97-b9ac-61c96ceeb52c",
   "metadata": {},
   "outputs": [
    {
     "name": "stdout",
     "output_type": "stream",
     "text": [
      "The square of number  0 is  0\n",
      "The square of number  1 is  1\n",
      "The square of number  2 is  4\n",
      "The square of number  3 is  9\n",
      "The square of number  4 is  16\n",
      "The square of number  5 is  25\n"
     ]
    }
   ],
   "source": [
    "# can use indices for formulas in the loop:\n",
    "\n",
    "for i in range(6):\n",
    "    print('The square of number ',i, 'is ', i**2)"
   ]
  },
  {
   "cell_type": "code",
   "execution_count": 11,
   "id": "3be9fd70-0a0c-4150-a446-a66e73a5730a",
   "metadata": {},
   "outputs": [
    {
     "name": "stdout",
     "output_type": "stream",
     "text": [
      "1\n",
      "3\n",
      "5\n",
      "7\n",
      "9\n"
     ]
    }
   ],
   "source": [
    "# range() has 3 parameters: \n",
    "# 1. starting point\n",
    "# 2. end point\n",
    "# 3. step\n",
    "\n",
    "for i in range(1, 10, 2):\n",
    "    print(i)"
   ]
  },
  {
   "cell_type": "code",
   "execution_count": 14,
   "id": "9da9de6c-e31e-4faa-9e9f-6fe5ce33a3f6",
   "metadata": {},
   "outputs": [
    {
     "name": "stdout",
     "output_type": "stream",
     "text": [
      "5\n",
      "4\n",
      "3\n",
      "2\n"
     ]
    }
   ],
   "source": [
    "# with range() we can run a reverse sequence\n",
    "\n",
    "for i in range(5, 1, -1):\n",
    "    print(i)"
   ]
  },
  {
   "cell_type": "code",
   "execution_count": 15,
   "id": "9901d5f0-3f58-407b-b4da-4fc6af2bf4cf",
   "metadata": {},
   "outputs": [
    {
     "name": "stdout",
     "output_type": "stream",
     "text": [
      "1361015"
     ]
    }
   ],
   "source": [
    "total = 0\n",
    "for i in range(1,6):\n",
    "    total += i\n",
    "    print(total, end='')"
   ]
  },
  {
   "cell_type": "markdown",
   "id": "905e989b-ad7f-40ed-85ee-a1570cf669e4",
   "metadata": {
    "tags": []
   },
   "source": [
    "## **`while`** - *conditional loop*"
   ]
  },
  {
   "cell_type": "markdown",
   "id": "63bd38f3-d4a9-4415-a03c-b2170a09b6fc",
   "metadata": {
    "tags": []
   },
   "source": [
    " #### **while** *\\<something_is_True_or_condition>* **:** *\\<block_of_code\\>*"
   ]
  },
  {
   "cell_type": "code",
   "execution_count": 18,
   "id": "a61d6fa4-61c8-4b79-b50c-b799aebf8f87",
   "metadata": {},
   "outputs": [
    {
     "name": "stdout",
     "output_type": "stream",
     "text": [
      "0 Hello\n",
      "1 Hello\n",
      "2 Hello\n",
      "3 Hello\n",
      "4 Hello\n"
     ]
    }
   ],
   "source": [
    "# simple conditional loop with WHILE\n",
    "\n",
    "i = 0 # initializing variable i\n",
    "while i < 5: # while i is less than 5, do the following...\n",
    "    print(i, 'Hello') # ... print variable and the string 'Hello'\n",
    "    i += 1 # increment variable i, otherwise it will be always equal to 0 and we'll face with infinite loop "
   ]
  },
  {
   "cell_type": "markdown",
   "id": "8945862f-73c9-41e1-b449-340976066de5",
   "metadata": {
    "tags": []
   },
   "source": [
    "#### *we can replace **while**-loop with **for**-loop, when we know exactly how many iterations we need. In other cases we use **while***"
   ]
  },
  {
   "cell_type": "code",
   "execution_count": 25,
   "id": "30558840-1ad3-40de-9648-1ac9e1977bde",
   "metadata": {},
   "outputs": [
    {
     "name": "stdout",
     "output_type": "stream",
     "text": [
      "0 1 2 3 4 0 1 2 3 4 "
     ]
    }
   ],
   "source": [
    "# the result is the same\n",
    "\n",
    "# use for\n",
    "for i in range(5):\n",
    "    print(i, end = ' ')\n",
    "\n",
    "# use while\n",
    "i = 0\n",
    "while i < 5:\n",
    "    print(i, end = ' ')\n",
    "    i += 1"
   ]
  },
  {
   "cell_type": "code",
   "execution_count": 24,
   "id": "add305e3-1e66-4ca5-9044-5203ed0f9362",
   "metadata": {},
   "outputs": [
    {
     "name": "stdin",
     "output_type": "stream",
     "text": [
      " -1\n"
     ]
    }
   ],
   "source": [
    "# this code takes the number from the input and prints out the squared number until you input -1 \n",
    "# loop until a stop-value\n",
    "num = int(input())\n",
    "while num != -1:\n",
    "    print('your squared number is ', num * num)\n",
    "    num = int(input())"
   ]
  },
  {
   "cell_type": "code",
   "execution_count": 28,
   "id": "66761ad6-6507-477c-8dcf-723ccaa567da",
   "metadata": {},
   "outputs": [
    {
     "name": "stdin",
     "output_type": "stream",
     "text": [
      " 123456\n"
     ]
    },
    {
     "name": "stdout",
     "output_type": "stream",
     "text": [
      "654321"
     ]
    }
   ],
   "source": [
    "# print out digits of the number in reverse order\n",
    "\n",
    "num = int(input())\n",
    "while num != 0:\n",
    "    print(num % 10, end = '')\n",
    "    num = num // 10"
   ]
  },
  {
   "cell_type": "markdown",
   "id": "8d7eb765-173b-45a5-8697-7439b51fe119",
   "metadata": {
    "tags": []
   },
   "source": [
    "# **BREAK, CONTINUE, ELSE**\n",
    "______________________________"
   ]
  },
  {
   "cell_type": "markdown",
   "id": "a0fc9aec-45cc-45a5-ad98-7a2e722a7dca",
   "metadata": {
    "tags": []
   },
   "source": [
    "## **`break`** - *interruption of the loop*"
   ]
  },
  {
   "cell_type": "markdown",
   "id": "0c7154b1-197b-44c9-b936-07c4f24ace08",
   "metadata": {
    "tags": []
   },
   "source": [
    " #### operator **break** prematurely aborts the while- or for- loop (even before the end-point)"
   ]
  },
  {
   "cell_type": "code",
   "execution_count": 34,
   "id": "5bbeced8-e5df-427c-bdb5-16160aa08cbd",
   "metadata": {},
   "outputs": [
    {
     "name": "stdin",
     "output_type": "stream",
     "text": [
      " 14\n"
     ]
    },
    {
     "name": "stdout",
     "output_type": "stream",
     "text": [
      "the number is not prime\n"
     ]
    }
   ],
   "source": [
    "# check if the input number is prime\n",
    "\n",
    "num = int(input()) \n",
    "for i in range(2, num): # iterating dividers from 2 to num-1\n",
    "    if num % i == 0: # if we find at least 1 divider (other than 1 or num)...\n",
    "        print('the number is not prime') # ...we conclude that this number is not prime and...\n",
    "        break # ...break the loop as we don't longer need to seek for another divider"
   ]
  },
  {
   "cell_type": "code",
   "execution_count": 40,
   "id": "eed2c7d9-f2ab-4bc2-b694-d9e4fbc56d28",
   "metadata": {},
   "outputs": [
    {
     "name": "stdin",
     "output_type": "stream",
     "text": [
      " 135715616\n"
     ]
    },
    {
     "name": "stdout",
     "output_type": "stream",
     "text": [
      "135715616 contains a digit 7\n"
     ]
    }
   ],
   "source": [
    "# we can use while together with signal labels\n",
    "\n",
    "# check if a number has at least one 7 in its digits\n",
    "num = int(input()) \n",
    "number = num # we need to save initial number\n",
    "\n",
    "flag = False # assume that it has not 7 in it\n",
    "while num != 0: # iterate until the number is positive\n",
    "    last_digit = num % 10 # take the last digit and...\n",
    "    if last_digit == 7: # ...if it is 7, then...\n",
    "        flag = True # ...we change the flag to True and...\n",
    "        break # ...interrupt the loop as we don't need to iterate further (we already found a 7)\n",
    "    num //= 10 # remove the last digit from the num\n",
    "print(number, 'contains a digit 7') if flag else print(number, 'doesn\\'t contain a digit 7')"
   ]
  },
  {
   "cell_type": "markdown",
   "id": "1c1f1f2e-5984-4b51-9257-d05689fb8a04",
   "metadata": {
    "tags": []
   },
   "source": [
    " #### sometimes it is convenient to use infinite **while**-loop with conditions and **break** operator(s)"
   ]
  },
  {
   "cell_type": "code",
   "execution_count": null,
   "id": "1cce9a6d-fd6d-4fa8-87cf-2ae694f37562",
   "metadata": {},
   "outputs": [],
   "source": [
    "while True:\n",
    "    if (condition_1): # first condition to stop the loop\n",
    "        break\n",
    "    elif (condition_2): # second condition to stop the loop\n",
    "        break\n",
    "    elif (condition_3): # third condition to stop the loop\n",
    "        break\n",
    "    else break # may use as much conditions as you need"
   ]
  },
  {
   "cell_type": "markdown",
   "id": "66f63139-86d9-414e-b83b-58702e8ff373",
   "metadata": {
    "tags": []
   },
   "source": [
    "## **`continue`** - *proceed with the loop*"
   ]
  },
  {
   "cell_type": "markdown",
   "id": "bbc19727-2557-4600-83c6-679a40cc18f8",
   "metadata": {
    "tags": []
   },
   "source": [
    " #### if something happens in the loop that we don't need, we can continue with further iterations using **continue**"
   ]
  },
  {
   "cell_type": "code",
   "execution_count": 41,
   "id": "cb447411-b085-430d-abab-85fc0634fd4c",
   "metadata": {},
   "outputs": [
    {
     "name": "stdout",
     "output_type": "stream",
     "text": [
      "9 8 7 6 5 4 3 1 0 "
     ]
    }
   ],
   "source": [
    "# print all numbers starting from n-1 to 0 EXCEPT 2\n",
    "\n",
    "n = 10 # initial number\n",
    "while n > 0: # until it becomes 0\n",
    "    n -= 1 # decrement the number n\n",
    "    if n == 2: # main condition for exception\n",
    "        continue # just skip the 2 (don't print it) and proceed with the loop\n",
    "    print(n, end = ' ') # print the number"
   ]
  },
  {
   "cell_type": "markdown",
   "id": "da794706-7603-46f2-a570-9878410ae0cd",
   "metadata": {
    "tags": []
   },
   "source": [
    "## **`else`** - *a special block in loops*"
   ]
  },
  {
   "cell_type": "markdown",
   "id": "8431bb8c-597f-4113-8084-cfa3c6ad42ed",
   "metadata": {
    "tags": []
   },
   "source": [
    " #### the block after **else** will run only when the loop ends in a right manner (without **break**)"
   ]
  },
  {
   "cell_type": "code",
   "execution_count": 52,
   "id": "aa1083dc-4694-48f6-8021-dd01832feb84",
   "metadata": {},
   "outputs": [
    {
     "name": "stdout",
     "output_type": "stream",
     "text": [
      "4\n",
      "3\n",
      "2\n",
      "1\n",
      "0\n",
      "loop finished\n"
     ]
    }
   ],
   "source": [
    "# the code after 'else' runs\n",
    "\n",
    "n = 5\n",
    "while n > 0:\n",
    "    n -= 1\n",
    "    print(n)\n",
    "else:\n",
    "    print('loop finished')"
   ]
  },
  {
   "cell_type": "code",
   "execution_count": 53,
   "id": "f793e406-6aef-40b4-ac77-bf35ff96db5f",
   "metadata": {},
   "outputs": [
    {
     "name": "stdout",
     "output_type": "stream",
     "text": [
      "4\n",
      "3\n",
      "2\n"
     ]
    }
   ],
   "source": [
    "# the code after 'else' does not run\n",
    "\n",
    "n = 5\n",
    "while n > 0:\n",
    "    n -= 1\n",
    "    print(n)\n",
    "    if n == 2:\n",
    "        break\n",
    "else:\n",
    "    print('loop finished')"
   ]
  },
  {
   "cell_type": "code",
   "execution_count": 62,
   "id": "9ac4a590-bd01-4ed1-8247-9048b6e77f60",
   "metadata": {},
   "outputs": [
    {
     "name": "stdin",
     "output_type": "stream",
     "text": [
      " 1864867354387\n"
     ]
    },
    {
     "name": "stdout",
     "output_type": "stream",
     "text": [
      "number 1864867354387 contains 7\n"
     ]
    }
   ],
   "source": [
    "# check if a number contains a digit 7\n",
    "\n",
    "n = int(input())\n",
    "while n != 0:\n",
    "    last = n % 10\n",
    "    if last == 7:\n",
    "        print(f'number {n} contains 7')\n",
    "        break\n",
    "    n //= 10\n",
    "else:\n",
    "    print('the number doesn\\'t contain 7')"
   ]
  },
  {
   "cell_type": "markdown",
   "id": "352c4396-b0de-4004-8e8b-4b05d2936a56",
   "metadata": {
    "tags": []
   },
   "source": [
    "## **`nested loops`** - *a loop in the loop*"
   ]
  },
  {
   "cell_type": "markdown",
   "id": "b906d98b-94c1-4db4-ad3b-703abfacd95d",
   "metadata": {
    "tags": []
   },
   "source": [
    "    for <var_name_1> in range(<number_of_repetition_1>):\n",
    "        for <var_name_2> in range(<number_of_repetition_2>):\n",
    "            for <var_name_3> in range(<number_of_repetition_3>):\n",
    "                ...\n",
    "                ...\n",
    "                ...\n",
    "                    <block_of_code>"
   ]
  },
  {
   "cell_type": "code",
   "execution_count": 66,
   "id": "746612e2-b476-494e-b537-a7b9cf23dbbe",
   "metadata": {},
   "outputs": [
    {
     "name": "stdout",
     "output_type": "stream",
     "text": [
      "0:0:0\n",
      "0:0:1\n",
      "0:1:0\n",
      "0:1:1\n",
      "1:0:0\n",
      "1:0:1\n",
      "1:1:0\n",
      "1:1:1\n"
     ]
    }
   ],
   "source": [
    "# clocks\n",
    "# don't run as it takes 24x60x60 = 86400 iterations\n",
    "for hours in range(24):\n",
    "    for minutes in range(60):\n",
    "        for seconds in range(60):\n",
    "            print(f'{hours}:{minutes}:{seconds}')\n",
    "    "
   ]
  },
  {
   "cell_type": "code",
   "execution_count": 71,
   "id": "06529c0b-ed41-4e66-bedd-9f0a3b3a8bbf",
   "metadata": {},
   "outputs": [
    {
     "name": "stdout",
     "output_type": "stream",
     "text": [
      "*\n",
      "**\n",
      "***\n",
      "****\n",
      "*****\n",
      "******\n"
     ]
    }
   ],
   "source": [
    "for i in range(6):\n",
    "    for j in range(i + 1):\n",
    "        print('*', end = '')\n",
    "    print()\n",
    "    "
   ]
  },
  {
   "cell_type": "code",
   "execution_count": 75,
   "id": "27fdfb02-3fc0-4a49-b9e6-6987d1dfc26f",
   "metadata": {},
   "outputs": [
    {
     "name": "stdin",
     "output_type": "stream",
     "text": [
      " 5\n"
     ]
    },
    {
     "name": "stdout",
     "output_type": "stream",
     "text": [
      "1+\n",
      "2++\n",
      "3++\n",
      "4+++\n",
      "5++\n"
     ]
    }
   ],
   "source": [
    "# print out numbers from 1 to n with symbol(s) + showing the number of dividers for these numbers\n",
    "\n",
    "n = int(input())\n",
    "for i in range(1, n + 1):\n",
    "    s = 0\n",
    "    for j in range(1, i + 1):\n",
    "        if i % j == 0:\n",
    "            s += 1\n",
    "    print(i, '+'*s, sep = '') "
   ]
  },
  {
   "cell_type": "code",
   "execution_count": null,
   "id": "00f5d491-afde-4db5-9c45-579f238c69b7",
   "metadata": {},
   "outputs": [],
   "source": []
  }
 ],
 "metadata": {
  "kernelspec": {
   "display_name": "Python 3 (ipykernel)",
   "language": "python",
   "name": "python3"
  },
  "language_info": {
   "codemirror_mode": {
    "name": "ipython",
    "version": 3
   },
   "file_extension": ".py",
   "mimetype": "text/x-python",
   "name": "python",
   "nbconvert_exporter": "python",
   "pygments_lexer": "ipython3",
   "version": "3.8.12"
  }
 },
 "nbformat": 4,
 "nbformat_minor": 5
}
