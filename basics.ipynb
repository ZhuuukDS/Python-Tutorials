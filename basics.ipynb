{
 "cells": [
  {
   "cell_type": "markdown",
   "id": "47ed267e-4067-4b16-8612-7a8b24cddac8",
   "metadata": {
    "tags": []
   },
   "source": [
    "# **Python basics**\n",
    "______________________________"
   ]
  },
  {
   "cell_type": "markdown",
   "id": "fe2038ed-b52f-44f3-8669-a0a9bf9dfa83",
   "metadata": {},
   "source": [
    "## Contents:\n",
    "- [Input-Output](#Input-output)\n",
    "- [Working with numbers](#Working-with-numbers)\n",
    "- [Logical operators](#Logical-operators)"
   ]
  },
  {
   "cell_type": "markdown",
   "id": "91e24673-4052-4889-a855-11823ca8f1c3",
   "metadata": {
    "tags": []
   },
   "source": [
    "## **`Input-output`**"
   ]
  },
  {
   "cell_type": "markdown",
   "id": "cfd08238-8a79-41fe-b4ea-285b869fece9",
   "metadata": {
    "tags": []
   },
   "source": [
    " #### ***`print()`***, ***`input()`***"
   ]
  },
  {
   "cell_type": "code",
   "execution_count": 1,
   "id": "d6dbb7fd-8af3-4520-b6ed-1b1f3c86fd02",
   "metadata": {},
   "outputs": [
    {
     "name": "stdout",
     "output_type": "stream",
     "text": [
      "Hello, world\n",
      "Hello, world\n",
      "Hello, world\n",
      "Hello, 'world'\n"
     ]
    }
   ],
   "source": [
    "# output on the screen (stdout) - command print()\n",
    "\n",
    "print(\"Hello, world\")\n",
    "print('Hello, world')\n",
    "print('Hello,','world')\n",
    "print('Hello, \\'world\\'')"
   ]
  },
  {
   "cell_type": "code",
   "execution_count": 2,
   "id": "9838b089-467c-4601-8952-94a60d2e6e5a",
   "metadata": {},
   "outputs": [
    {
     "name": "stdin",
     "output_type": "stream",
     "text": [
      "What's your name? Alex\n"
     ]
    },
    {
     "name": "stdout",
     "output_type": "stream",
     "text": [
      "Hi,  Alex\n"
     ]
    }
   ],
   "source": [
    "# input from the keyboard (stdin)- command input()\n",
    "\n",
    "name = input('What\\'s your name?')\n",
    "print('Hi, ', name)"
   ]
  },
  {
   "cell_type": "code",
   "execution_count": 3,
   "id": "40a49d18-6f9f-426d-afa3-03ff49a4a625",
   "metadata": {},
   "outputs": [
    {
     "name": "stdin",
     "output_type": "stream",
     "text": [
      "What's your name? Dave\n"
     ]
    },
    {
     "name": "stdout",
     "output_type": "stream",
     "text": [
      "Hi,  Dave\n"
     ]
    }
   ],
   "source": [
    "# input() in print() to avoid a variable\n",
    "\n",
    "print(\"Hi, \", input(\"What's your name?\"))"
   ]
  },
  {
   "cell_type": "markdown",
   "id": "30f6863b-59cb-4a42-8c47-19610f8c9040",
   "metadata": {
    "tags": []
   },
   "source": [
    "  #### ***`sep`***, ***`end`***"
   ]
  },
  {
   "cell_type": "code",
   "execution_count": 4,
   "id": "9901d5f0-3f58-407b-b4da-4fc6af2bf4cf",
   "metadata": {},
   "outputs": [
    {
     "name": "stdout",
     "output_type": "stream",
     "text": [
      "a b c\n",
      "a*b*c\n",
      "a|||b|||c\n"
     ]
    }
   ],
   "source": [
    "# use a parameter to change a separator between printed symbols - sep\n",
    "# by default sep=' ' - a space\n",
    "\n",
    "print('a','b','c')\n",
    "print('a','b','c', sep='*')\n",
    "print('a','b','c', sep='|||')"
   ]
  },
  {
   "cell_type": "code",
   "execution_count": 5,
   "id": "d0da0d12-251a-4aa9-a5bd-279466ae49e4",
   "metadata": {},
   "outputs": [
    {
     "name": "stdout",
     "output_type": "stream",
     "text": [
      "a b c@a b c###"
     ]
    }
   ],
   "source": [
    "# use a parameter to change the ending of a line - end\n",
    "# by default end='\\n' - next line (enter)\n",
    "\n",
    "print('a', 'b', 'c', end='@')\n",
    "print('a', 'b', 'c', end='###')"
   ]
  },
  {
   "cell_type": "code",
   "execution_count": 6,
   "id": "de0032bd-6259-484d-940a-8424cba83130",
   "metadata": {},
   "outputs": [
    {
     "name": "stdout",
     "output_type": "stream",
     "text": [
      "a*b*c@a###b###cfinisha+b+c="
     ]
    }
   ],
   "source": [
    "# sep and end can used together\n",
    "\n",
    "print('a', 'b', 'c', sep='*', end='@')\n",
    "print('a', 'b', 'c', sep='###', end='finish')\n",
    "print('a', 'b', 'c', sep='+', end='=')\n"
   ]
  },
  {
   "cell_type": "code",
   "execution_count": 7,
   "id": "9f4ba329-1a76-40ff-b234-b127f4dda673",
   "metadata": {},
   "outputs": [
    {
     "name": "stdout",
     "output_type": "stream",
     "text": [
      "abcabc"
     ]
    }
   ],
   "source": [
    "# to remove all additional symbols use sep='', end=''\n",
    "\n",
    "print('a', 'b', 'c', sep='', end='')\n",
    "print('a', 'b', 'c', sep='', end='')"
   ]
  },
  {
   "cell_type": "markdown",
   "id": "d35a1423-de22-4515-8172-efeff6da1cbf",
   "metadata": {
    "tags": []
   },
   "source": [
    "## **`Working with numbers`**"
   ]
  },
  {
   "cell_type": "code",
   "execution_count": 8,
   "id": "8b947378-affb-4c54-b658-e50cb4e267ab",
   "metadata": {},
   "outputs": [
    {
     "name": "stdout",
     "output_type": "stream",
     "text": [
      "18\n"
     ]
    },
    {
     "name": "stdin",
     "output_type": "stream",
     "text": [
      " 3\n"
     ]
    },
    {
     "name": "stdout",
     "output_type": "stream",
     "text": [
      "3\n",
      "19 6\n"
     ]
    }
   ],
   "source": [
    "num1 = 7 # num1 - an integer\n",
    "num2 = 11 # num2 - an integer\n",
    "num3 = num1 + num2 # num3 - an integer\n",
    "print(num3)\n",
    "num4 = int(input()) # num4 - an integer, int() transforms string to integer if it is possible\n",
    "print(num4)\n",
    "print(num3 + 1, num4 * 2)"
   ]
  },
  {
   "cell_type": "markdown",
   "id": "585b8f3a-3679-40c0-a45b-38c725c2447d",
   "metadata": {
    "tags": []
   },
   "source": [
    "#### **Numeric functions**"
   ]
  },
  {
   "cell_type": "markdown",
   "id": "d2ea9841-f9ee-416f-8c77-e802d28b4dcd",
   "metadata": {
    "tags": []
   },
   "source": [
    "***`min()`*** - returns minimum among the given numbers (takes any number of arguments) <br>\n",
    "***`max()`*** - returns maximum among the given numbers (takes any number of arguments) <br>\n",
    "***`abs()`*** - returns the absolute value of the given number (takes single argument)"
   ]
  },
  {
   "cell_type": "markdown",
   "id": "ba7fc9ff-b4ec-437f-add5-5e2fe35f8dec",
   "metadata": {
    "tags": []
   },
   "source": [
    "#### ***Basic operations***"
   ]
  },
  {
   "cell_type": "markdown",
   "id": "f6f2c109-ea43-488e-9e3a-6bffd116fc3d",
   "metadata": {},
   "source": [
    "| Operator | Description | Example |\n",
    "|----------|-------------|---------|\n",
    "| + | addition | 2 + 3 = 5 | \n",
    "| - | subtraction | 5 - 3 = 2 |\n",
    "| * | multiplication | 2 * 3 = 6 |\n",
    "| / | division | 6 / 3 = 2 |\n",
    "| % | modulus | 5 % 2 = 1 |\n",
    "| ** | exponentiation | 2 ** 3 = 8 |\n",
    "| // | floor division | 5 // 2 = 2 |\n"
   ]
  },
  {
   "cell_type": "markdown",
   "id": "4e0e177e-bb20-487e-a03c-5597d18e9e3a",
   "metadata": {
    "tags": []
   },
   "source": [
    "#### ***Getting digits from an n-digit number***"
   ]
  },
  {
   "cell_type": "markdown",
   "id": "ca466eb0-0977-4c47-94ba-d9dd9a4bcfc4",
   "metadata": {},
   "source": [
    "> last digit : $ (N \\,\\, \\% \\,\\, 10^1)\\,\\,//\\,\\,10^0 $ <br>\n",
    "> penultimate digit: $ (N \\,\\,\\% \\,\\,10^2)\\,\\,//\\,\\,10^1 $ <br>\n",
    "> pre-penultimate digit: $(N\\,\\, \\%\\,\\, 10^3)\\,\\,//\\,\\,10^2 $ <br>\n",
    "> ..... <br>\n",
    "> second digit: $ (N\\,\\, \\%\\,\\, 10^{n-1})\\,\\,//\\,\\,10^{n-2} $ <br>\n",
    "> first digit: $ (N\\,\\, \\%\\,\\, 10^n)\\,\\,//\\,\\,10^{n-1} $ <br>"
   ]
  },
  {
   "cell_type": "markdown",
   "id": "18e229c8-77e8-4c78-9894-5e1faf62e9b6",
   "metadata": {
    "tags": []
   },
   "source": [
    "#### ***% and // can be useful to solve some numeric problems***"
   ]
  },
  {
   "cell_type": "code",
   "execution_count": 9,
   "id": "04fc4d93-5883-42ef-8809-ae2cca212cc2",
   "metadata": {},
   "outputs": [
    {
     "name": "stdin",
     "output_type": "stream",
     "text": [
      "Input a 2-digit number:  45\n"
     ]
    },
    {
     "name": "stdout",
     "output_type": "stream",
     "text": [
      "Number of tens = 4\n",
      "Number of units = 5\n"
     ]
    }
   ],
   "source": [
    "# Problem 1\n",
    "# Make a code that calculates number of tens and units in 2-digit number\n",
    "\n",
    "num = int(input('Input a 2-digit number: '))\n",
    "last_digit = num % 10\n",
    "first_digit = num // 10\n",
    "print('Number of tens =', first_digit)\n",
    "print('Number of units =', last_digit)"
   ]
  },
  {
   "cell_type": "code",
   "execution_count": 10,
   "id": "1936aadb-f74a-4afd-806b-4516d1388036",
   "metadata": {},
   "outputs": [
    {
     "name": "stdin",
     "output_type": "stream",
     "text": [
      "Input a 2-digit number:  45\n"
     ]
    },
    {
     "name": "stdout",
     "output_type": "stream",
     "text": [
      "Sum of the digits = 9\n"
     ]
    }
   ],
   "source": [
    "# Problem 2\n",
    "# Make a code that counts the sum of digits of a 2-digit number\n",
    "\n",
    "num = int(input('Input a 2-digit number: '))\n",
    "last_digit = num % 10\n",
    "first_digit = num // 10\n",
    "print('Sum of the digits =', last_digit + first_digit)"
   ]
  },
  {
   "cell_type": "code",
   "execution_count": 11,
   "id": "b5ebbfd7-6497-4aeb-a40e-661b0e743a9e",
   "metadata": {},
   "outputs": [
    {
     "name": "stdin",
     "output_type": "stream",
     "text": [
      "Input a 2-digit number:  45\n"
     ]
    },
    {
     "name": "stdout",
     "output_type": "stream",
     "text": [
      "The number is  54\n"
     ]
    }
   ],
   "source": [
    "# Problem 3\n",
    "# Create a program that prints out a number, produced by re-arranging the digits of a 2-digit number\n",
    "\n",
    "num = int(input('Input a 2-digit number: '))\n",
    "last_digit = num % 10\n",
    "first_digit = num // 10\n",
    "print('The number is ', last_digit * 10 + first_digit)"
   ]
  },
  {
   "cell_type": "code",
   "execution_count": 12,
   "id": "d29b7873-a8c2-40b8-a5ce-f88bf9dbe583",
   "metadata": {},
   "outputs": [
    {
     "name": "stdin",
     "output_type": "stream",
     "text": [
      "Input a 3-digit number:  45\n"
     ]
    },
    {
     "name": "stdout",
     "output_type": "stream",
     "text": [
      "0,4,5\n"
     ]
    }
   ],
   "source": [
    "# Problem 4\n",
    "# Create a program that prints out a row of digits of a 3-digit inputed number\n",
    "\n",
    "num = int(input('Input a 3-digit number: '))\n",
    "digit3 = num % 10\n",
    "digit2 = (num // 10) % 10\n",
    "digit1 = num // 100\n",
    "print(digit1, digit2, digit3, sep=',')"
   ]
  },
  {
   "cell_type": "code",
   "execution_count": 13,
   "id": "33a0772f-2dc7-4e4a-9ae4-19c20ec8d3a0",
   "metadata": {},
   "outputs": [
    {
     "name": "stdin",
     "output_type": "stream",
     "text": [
      " 25\n"
     ]
    },
    {
     "name": "stdout",
     "output_type": "stream",
     "text": [
      "-3.8888888888888893\n"
     ]
    }
   ],
   "source": [
    "# Celsius to Farhengeits\n",
    "\n",
    "print(5 / 9 * (float(input()) - 32))"
   ]
  },
  {
   "cell_type": "markdown",
   "id": "575b79ca-a9cb-47bc-9ee5-e298c19f1197",
   "metadata": {
    "tags": []
   },
   "source": [
    "## **`Logical operators`**"
   ]
  },
  {
   "cell_type": "markdown",
   "id": "c43d33f3-b537-4030-9d54-edd17d79331a",
   "metadata": {
    "tags": []
   },
   "source": [
    "#### ***`and`***, ***`or`***, ***`not`***"
   ]
  },
  {
   "cell_type": "markdown",
   "id": "ca8056aa-1ea6-4c24-8ae8-58e436cb0da1",
   "metadata": {},
   "source": [
    "| a | b | a AND b | a OR b | NOT a | NOT b |\n",
    "|---|---|---|---|---|---|\n",
    "| **False** | **False** | False | False | True | True|\n",
    "| **False** | **True** | False | True | True | False |\n",
    "| **True** | **False** | False | True | False | True |\n",
    "| **True** | **True** | True | True | False |False |"
   ]
  }
 ],
 "metadata": {
  "kernelspec": {
   "display_name": "Python 3 (ipykernel)",
   "language": "python",
   "name": "python3"
  },
  "language_info": {
   "codemirror_mode": {
    "name": "ipython",
    "version": 3
   },
   "file_extension": ".py",
   "mimetype": "text/x-python",
   "name": "python",
   "nbconvert_exporter": "python",
   "pygments_lexer": "ipython3",
   "version": "3.9.7"
  }
 },
 "nbformat": 4,
 "nbformat_minor": 5
}
